{
 "cells": [
  {
   "cell_type": "markdown",
   "id": "24740e77",
   "metadata": {},
   "source": [
    "# Data Preparation\n",
    "- Data set Los Angeles 2019"
   ]
  },
  {
   "cell_type": "code",
   "execution_count": 1,
   "id": "333c3fc3",
   "metadata": {},
   "outputs": [],
   "source": [
    "import pandas as pd\n",
    "import numpy as np"
   ]
  },
  {
   "cell_type": "code",
   "execution_count": 2,
   "id": "51c1511d",
   "metadata": {
    "scrolled": true
   },
   "outputs": [],
   "source": [
    "# import data set\n",
    "df_la = pd.read_csv(\"la_2019.csv\", parse_dates=[\"start_time\",\"end_time\"], low_memory=False)"
   ]
  },
  {
   "cell_type": "code",
   "execution_count": 3,
   "id": "bfda6837",
   "metadata": {},
   "outputs": [
    {
     "data": {
      "text/html": [
       "<div>\n",
       "<style scoped>\n",
       "    .dataframe tbody tr th:only-of-type {\n",
       "        vertical-align: middle;\n",
       "    }\n",
       "\n",
       "    .dataframe tbody tr th {\n",
       "        vertical-align: top;\n",
       "    }\n",
       "\n",
       "    .dataframe thead th {\n",
       "        text-align: right;\n",
       "    }\n",
       "</style>\n",
       "<table border=\"1\" class=\"dataframe\">\n",
       "  <thead>\n",
       "    <tr style=\"text-align: right;\">\n",
       "      <th></th>\n",
       "      <th>start_time</th>\n",
       "      <th>end_time</th>\n",
       "      <th>start_station_id</th>\n",
       "      <th>end_station_id</th>\n",
       "      <th>bike_id</th>\n",
       "      <th>user_type</th>\n",
       "      <th>start_station_name</th>\n",
       "      <th>end_station_name</th>\n",
       "    </tr>\n",
       "  </thead>\n",
       "  <tbody>\n",
       "    <tr>\n",
       "      <th>0</th>\n",
       "      <td>2019-01-01 00:07:00</td>\n",
       "      <td>2019-01-01 00:14:00</td>\n",
       "      <td>3046</td>\n",
       "      <td>3051</td>\n",
       "      <td>06468</td>\n",
       "      <td>Walk-up</td>\n",
       "      <td>2nd &amp; Hill</td>\n",
       "      <td>7th &amp; Broadway</td>\n",
       "    </tr>\n",
       "    <tr>\n",
       "      <th>1</th>\n",
       "      <td>2019-01-01 00:08:00</td>\n",
       "      <td>2019-01-01 00:14:00</td>\n",
       "      <td>3046</td>\n",
       "      <td>3051</td>\n",
       "      <td>12311</td>\n",
       "      <td>Walk-up</td>\n",
       "      <td>2nd &amp; Hill</td>\n",
       "      <td>7th &amp; Broadway</td>\n",
       "    </tr>\n",
       "    <tr>\n",
       "      <th>2</th>\n",
       "      <td>2019-01-01 00:18:00</td>\n",
       "      <td>2019-01-01 00:50:00</td>\n",
       "      <td>3030</td>\n",
       "      <td>3075</td>\n",
       "      <td>05992</td>\n",
       "      <td>Walk-up</td>\n",
       "      <td>Main &amp; 1st</td>\n",
       "      <td>Broadway &amp; 9th</td>\n",
       "    </tr>\n",
       "  </tbody>\n",
       "</table>\n",
       "</div>"
      ],
      "text/plain": [
       "           start_time            end_time  start_station_id  end_station_id  \\\n",
       "0 2019-01-01 00:07:00 2019-01-01 00:14:00              3046            3051   \n",
       "1 2019-01-01 00:08:00 2019-01-01 00:14:00              3046            3051   \n",
       "2 2019-01-01 00:18:00 2019-01-01 00:50:00              3030            3075   \n",
       "\n",
       "  bike_id user_type start_station_name end_station_name  \n",
       "0   06468   Walk-up         2nd & Hill   7th & Broadway  \n",
       "1   12311   Walk-up         2nd & Hill   7th & Broadway  \n",
       "2   05992   Walk-up         Main & 1st   Broadway & 9th  "
      ]
     },
     "execution_count": 3,
     "metadata": {},
     "output_type": "execute_result"
    }
   ],
   "source": [
    "# data overview\n",
    "df_la.head(3)"
   ]
  },
  {
   "cell_type": "code",
   "execution_count": 4,
   "id": "bfe14a97",
   "metadata": {},
   "outputs": [
    {
     "name": "stdout",
     "output_type": "stream",
     "text": [
      "start_time            290342\n",
      "end_time              290342\n",
      "start_station_id      290342\n",
      "end_station_id        290342\n",
      "bike_id               290342\n",
      "user_type             290342\n",
      "start_station_name    290342\n",
      "end_station_name      290342\n",
      "dtype: int64\n",
      "<class 'pandas.core.frame.DataFrame'>\n",
      "RangeIndex: 290342 entries, 0 to 290341\n",
      "Data columns (total 8 columns):\n",
      " #   Column              Non-Null Count   Dtype         \n",
      "---  ------              --------------   -----         \n",
      " 0   start_time          290342 non-null  datetime64[ns]\n",
      " 1   end_time            290342 non-null  datetime64[ns]\n",
      " 2   start_station_id    290342 non-null  int64         \n",
      " 3   end_station_id      290342 non-null  int64         \n",
      " 4   bike_id             290342 non-null  object        \n",
      " 5   user_type           290342 non-null  object        \n",
      " 6   start_station_name  290342 non-null  object        \n",
      " 7   end_station_name    290342 non-null  object        \n",
      "dtypes: datetime64[ns](2), int64(2), object(4)\n",
      "memory usage: 17.7+ MB\n",
      "None\n"
     ]
    }
   ],
   "source": [
    "print(df_la.count())\n",
    "print(df_la.info())"
   ]
  },
  {
   "cell_type": "markdown",
   "id": "91fad06f",
   "metadata": {},
   "source": [
    "The Los Angeles data set includes bike rental data for the period 01/01/2019 to 12/31/2019. It includes start and end station name of each trip and the user type. The data set has 290.342 entries."
   ]
  },
  {
   "cell_type": "markdown",
   "id": "bdf506da",
   "metadata": {},
   "source": [
    "### Clean the data set"
   ]
  },
  {
   "cell_type": "code",
   "execution_count": 5,
   "id": "e5f0ba96",
   "metadata": {},
   "outputs": [
    {
     "data": {
      "text/html": [
       "<div>\n",
       "<style scoped>\n",
       "    .dataframe tbody tr th:only-of-type {\n",
       "        vertical-align: middle;\n",
       "    }\n",
       "\n",
       "    .dataframe tbody tr th {\n",
       "        vertical-align: top;\n",
       "    }\n",
       "\n",
       "    .dataframe thead th {\n",
       "        text-align: right;\n",
       "    }\n",
       "</style>\n",
       "<table border=\"1\" class=\"dataframe\">\n",
       "  <thead>\n",
       "    <tr style=\"text-align: right;\">\n",
       "      <th></th>\n",
       "      <th>start_time</th>\n",
       "      <th>end_time</th>\n",
       "      <th>start_station_id</th>\n",
       "      <th>end_station_id</th>\n",
       "      <th>bike_id</th>\n",
       "      <th>user_type</th>\n",
       "      <th>start_station_name</th>\n",
       "      <th>end_station_name</th>\n",
       "    </tr>\n",
       "  </thead>\n",
       "  <tbody>\n",
       "    <tr>\n",
       "      <th>0</th>\n",
       "      <td>False</td>\n",
       "      <td>False</td>\n",
       "      <td>False</td>\n",
       "      <td>False</td>\n",
       "      <td>False</td>\n",
       "      <td>False</td>\n",
       "      <td>False</td>\n",
       "      <td>False</td>\n",
       "    </tr>\n",
       "    <tr>\n",
       "      <th>1</th>\n",
       "      <td>False</td>\n",
       "      <td>False</td>\n",
       "      <td>False</td>\n",
       "      <td>False</td>\n",
       "      <td>False</td>\n",
       "      <td>False</td>\n",
       "      <td>False</td>\n",
       "      <td>False</td>\n",
       "    </tr>\n",
       "    <tr>\n",
       "      <th>2</th>\n",
       "      <td>False</td>\n",
       "      <td>False</td>\n",
       "      <td>False</td>\n",
       "      <td>False</td>\n",
       "      <td>False</td>\n",
       "      <td>False</td>\n",
       "      <td>False</td>\n",
       "      <td>False</td>\n",
       "    </tr>\n",
       "    <tr>\n",
       "      <th>3</th>\n",
       "      <td>False</td>\n",
       "      <td>False</td>\n",
       "      <td>False</td>\n",
       "      <td>False</td>\n",
       "      <td>False</td>\n",
       "      <td>False</td>\n",
       "      <td>False</td>\n",
       "      <td>False</td>\n",
       "    </tr>\n",
       "    <tr>\n",
       "      <th>4</th>\n",
       "      <td>False</td>\n",
       "      <td>False</td>\n",
       "      <td>False</td>\n",
       "      <td>False</td>\n",
       "      <td>False</td>\n",
       "      <td>False</td>\n",
       "      <td>False</td>\n",
       "      <td>False</td>\n",
       "    </tr>\n",
       "    <tr>\n",
       "      <th>...</th>\n",
       "      <td>...</td>\n",
       "      <td>...</td>\n",
       "      <td>...</td>\n",
       "      <td>...</td>\n",
       "      <td>...</td>\n",
       "      <td>...</td>\n",
       "      <td>...</td>\n",
       "      <td>...</td>\n",
       "    </tr>\n",
       "    <tr>\n",
       "      <th>290337</th>\n",
       "      <td>False</td>\n",
       "      <td>False</td>\n",
       "      <td>False</td>\n",
       "      <td>False</td>\n",
       "      <td>False</td>\n",
       "      <td>False</td>\n",
       "      <td>False</td>\n",
       "      <td>False</td>\n",
       "    </tr>\n",
       "    <tr>\n",
       "      <th>290338</th>\n",
       "      <td>False</td>\n",
       "      <td>False</td>\n",
       "      <td>False</td>\n",
       "      <td>False</td>\n",
       "      <td>False</td>\n",
       "      <td>False</td>\n",
       "      <td>False</td>\n",
       "      <td>False</td>\n",
       "    </tr>\n",
       "    <tr>\n",
       "      <th>290339</th>\n",
       "      <td>False</td>\n",
       "      <td>False</td>\n",
       "      <td>False</td>\n",
       "      <td>False</td>\n",
       "      <td>False</td>\n",
       "      <td>False</td>\n",
       "      <td>False</td>\n",
       "      <td>False</td>\n",
       "    </tr>\n",
       "    <tr>\n",
       "      <th>290340</th>\n",
       "      <td>False</td>\n",
       "      <td>False</td>\n",
       "      <td>False</td>\n",
       "      <td>False</td>\n",
       "      <td>False</td>\n",
       "      <td>False</td>\n",
       "      <td>False</td>\n",
       "      <td>False</td>\n",
       "    </tr>\n",
       "    <tr>\n",
       "      <th>290341</th>\n",
       "      <td>False</td>\n",
       "      <td>False</td>\n",
       "      <td>False</td>\n",
       "      <td>False</td>\n",
       "      <td>False</td>\n",
       "      <td>False</td>\n",
       "      <td>False</td>\n",
       "      <td>False</td>\n",
       "    </tr>\n",
       "  </tbody>\n",
       "</table>\n",
       "<p>290342 rows × 8 columns</p>\n",
       "</div>"
      ],
      "text/plain": [
       "        start_time  end_time  start_station_id  end_station_id  bike_id  \\\n",
       "0            False     False             False           False    False   \n",
       "1            False     False             False           False    False   \n",
       "2            False     False             False           False    False   \n",
       "3            False     False             False           False    False   \n",
       "4            False     False             False           False    False   \n",
       "...            ...       ...               ...             ...      ...   \n",
       "290337       False     False             False           False    False   \n",
       "290338       False     False             False           False    False   \n",
       "290339       False     False             False           False    False   \n",
       "290340       False     False             False           False    False   \n",
       "290341       False     False             False           False    False   \n",
       "\n",
       "        user_type  start_station_name  end_station_name  \n",
       "0           False               False             False  \n",
       "1           False               False             False  \n",
       "2           False               False             False  \n",
       "3           False               False             False  \n",
       "4           False               False             False  \n",
       "...           ...                 ...               ...  \n",
       "290337      False               False             False  \n",
       "290338      False               False             False  \n",
       "290339      False               False             False  \n",
       "290340      False               False             False  \n",
       "290341      False               False             False  \n",
       "\n",
       "[290342 rows x 8 columns]"
      ]
     },
     "execution_count": 5,
     "metadata": {},
     "output_type": "execute_result"
    }
   ],
   "source": [
    "# check if there are null values\n",
    "df_la.isnull()"
   ]
  },
  {
   "cell_type": "code",
   "execution_count": 6,
   "id": "eea83651",
   "metadata": {},
   "outputs": [],
   "source": [
    "# drop rows which contain missing values\n",
    "df_la.dropna(axis=0, inplace=True)"
   ]
  },
  {
   "cell_type": "code",
   "execution_count": 7,
   "id": "e79c7482",
   "metadata": {},
   "outputs": [
    {
     "data": {
      "text/plain": [
       "290342"
      ]
     },
     "execution_count": 7,
     "metadata": {},
     "output_type": "execute_result"
    }
   ],
   "source": [
    "df_la[\"bike_id\"].size"
   ]
  },
  {
   "cell_type": "code",
   "execution_count": 8,
   "id": "39a37855",
   "metadata": {},
   "outputs": [],
   "source": [
    "# add the duration of the trip\n",
    "df_la[\"duration\"] = (df_la[\"end_time\"] - df_la[\"start_time\"]).astype(\"timedelta64[m]\")"
   ]
  },
  {
   "cell_type": "code",
   "execution_count": 9,
   "id": "7beafdbf",
   "metadata": {},
   "outputs": [],
   "source": [
    "# remove data with same start and end station, that are shorter or equal to one minute\n",
    "df_la = df_la[~((df_la[\"start_station_name\"] == df_la[\"end_station_name\"]) & (df_la[\"duration\"] <= 1.0))]"
   ]
  },
  {
   "cell_type": "code",
   "execution_count": 10,
   "id": "6de80d11",
   "metadata": {},
   "outputs": [
    {
     "data": {
      "text/plain": [
       "284417"
      ]
     },
     "execution_count": 10,
     "metadata": {},
     "output_type": "execute_result"
    }
   ],
   "source": [
    "df_la[\"bike_id\"].size"
   ]
  },
  {
   "cell_type": "code",
   "execution_count": 11,
   "id": "7651bf2c",
   "metadata": {},
   "outputs": [],
   "source": [
    "# remove data with same start and end station, that are longer or equal to 24h\n",
    "df_la = df_la[ ~ (df_la[\"duration\"] >= 1440.0) ]"
   ]
  },
  {
   "cell_type": "code",
   "execution_count": 12,
   "id": "a4afbd7c",
   "metadata": {},
   "outputs": [
    {
     "data": {
      "text/plain": [
       "283135"
      ]
     },
     "execution_count": 12,
     "metadata": {},
     "output_type": "execute_result"
    }
   ],
   "source": [
    "df_la[\"bike_id\"].size"
   ]
  },
  {
   "cell_type": "code",
   "execution_count": 13,
   "id": "0f0bd4ee",
   "metadata": {},
   "outputs": [
    {
     "data": {
      "text/plain": [
       "array(['Walk-up', 'Monthly Pass', 'Annual Pass', 'One Day Pass',\n",
       "       'Flex Pass', 'Testing'], dtype=object)"
      ]
     },
     "execution_count": 13,
     "metadata": {},
     "output_type": "execute_result"
    }
   ],
   "source": [
    "df_la[\"user_type\"].unique()"
   ]
  },
  {
   "cell_type": "code",
   "execution_count": 14,
   "id": "cc062b9f",
   "metadata": {},
   "outputs": [
    {
     "name": "stdout",
     "output_type": "stream",
     "text": [
      "77857\n",
      "169677\n",
      "21078\n",
      "14128\n",
      "313\n",
      "82\n"
     ]
    }
   ],
   "source": [
    "wu = df_la[df_la[\"user_type\"]==\"Walk-up\"]\n",
    "print(wu[\"user_type\"].size)\n",
    "mp = df_la[df_la[\"user_type\"]==\"Monthly Pass\"]\n",
    "print(mp[\"user_type\"].size)\n",
    "ap = df_la[df_la[\"user_type\"]==\"Annual Pass\"]\n",
    "print(ap[\"user_type\"].size)\n",
    "odp = df_la[df_la[\"user_type\"]==\"One Day Pass\"]\n",
    "print(odp[\"user_type\"].size)\n",
    "fp = df_la[df_la[\"user_type\"]==\"Flex Pass\"]\n",
    "print(fp[\"user_type\"].size)\n",
    "test = df_la[df_la[\"user_type\"]==\"Testing\"]\n",
    "print(test[\"user_type\"].size)\n"
   ]
  },
  {
   "cell_type": "markdown",
   "id": "a5ef6ad8",
   "metadata": {},
   "source": [
    "### Adding useful columns"
   ]
  },
  {
   "cell_type": "code",
   "execution_count": 15,
   "id": "db0d7d46",
   "metadata": {},
   "outputs": [
    {
     "data": {
      "text/html": [
       "<div>\n",
       "<style scoped>\n",
       "    .dataframe tbody tr th:only-of-type {\n",
       "        vertical-align: middle;\n",
       "    }\n",
       "\n",
       "    .dataframe tbody tr th {\n",
       "        vertical-align: top;\n",
       "    }\n",
       "\n",
       "    .dataframe thead th {\n",
       "        text-align: right;\n",
       "    }\n",
       "</style>\n",
       "<table border=\"1\" class=\"dataframe\">\n",
       "  <thead>\n",
       "    <tr style=\"text-align: right;\">\n",
       "      <th></th>\n",
       "      <th>start_time</th>\n",
       "      <th>end_time</th>\n",
       "      <th>start_station_id</th>\n",
       "      <th>end_station_id</th>\n",
       "      <th>bike_id</th>\n",
       "      <th>user_type</th>\n",
       "      <th>start_station_name</th>\n",
       "      <th>end_station_name</th>\n",
       "      <th>duration</th>\n",
       "      <th>Date</th>\n",
       "      <th>Day</th>\n",
       "      <th>Month</th>\n",
       "      <th>Weekday</th>\n",
       "      <th>Hour</th>\n",
       "      <th>Day_of_year</th>\n",
       "    </tr>\n",
       "  </thead>\n",
       "  <tbody>\n",
       "    <tr>\n",
       "      <th>0</th>\n",
       "      <td>2019-01-01 00:07:00</td>\n",
       "      <td>2019-01-01 00:14:00</td>\n",
       "      <td>3046</td>\n",
       "      <td>3051</td>\n",
       "      <td>06468</td>\n",
       "      <td>Walk-up</td>\n",
       "      <td>2nd &amp; Hill</td>\n",
       "      <td>7th &amp; Broadway</td>\n",
       "      <td>7.0</td>\n",
       "      <td>2019-01-01</td>\n",
       "      <td>1</td>\n",
       "      <td>1</td>\n",
       "      <td>1</td>\n",
       "      <td>0</td>\n",
       "      <td>1</td>\n",
       "    </tr>\n",
       "    <tr>\n",
       "      <th>1</th>\n",
       "      <td>2019-01-01 00:08:00</td>\n",
       "      <td>2019-01-01 00:14:00</td>\n",
       "      <td>3046</td>\n",
       "      <td>3051</td>\n",
       "      <td>12311</td>\n",
       "      <td>Walk-up</td>\n",
       "      <td>2nd &amp; Hill</td>\n",
       "      <td>7th &amp; Broadway</td>\n",
       "      <td>6.0</td>\n",
       "      <td>2019-01-01</td>\n",
       "      <td>1</td>\n",
       "      <td>1</td>\n",
       "      <td>1</td>\n",
       "      <td>0</td>\n",
       "      <td>1</td>\n",
       "    </tr>\n",
       "    <tr>\n",
       "      <th>2</th>\n",
       "      <td>2019-01-01 00:18:00</td>\n",
       "      <td>2019-01-01 00:50:00</td>\n",
       "      <td>3030</td>\n",
       "      <td>3075</td>\n",
       "      <td>05992</td>\n",
       "      <td>Walk-up</td>\n",
       "      <td>Main &amp; 1st</td>\n",
       "      <td>Broadway &amp; 9th</td>\n",
       "      <td>32.0</td>\n",
       "      <td>2019-01-01</td>\n",
       "      <td>1</td>\n",
       "      <td>1</td>\n",
       "      <td>1</td>\n",
       "      <td>0</td>\n",
       "      <td>1</td>\n",
       "    </tr>\n",
       "  </tbody>\n",
       "</table>\n",
       "</div>"
      ],
      "text/plain": [
       "           start_time            end_time  start_station_id  end_station_id  \\\n",
       "0 2019-01-01 00:07:00 2019-01-01 00:14:00              3046            3051   \n",
       "1 2019-01-01 00:08:00 2019-01-01 00:14:00              3046            3051   \n",
       "2 2019-01-01 00:18:00 2019-01-01 00:50:00              3030            3075   \n",
       "\n",
       "  bike_id user_type start_station_name end_station_name  duration        Date  \\\n",
       "0   06468   Walk-up         2nd & Hill   7th & Broadway       7.0  2019-01-01   \n",
       "1   12311   Walk-up         2nd & Hill   7th & Broadway       6.0  2019-01-01   \n",
       "2   05992   Walk-up         Main & 1st   Broadway & 9th      32.0  2019-01-01   \n",
       "\n",
       "   Day  Month  Weekday  Hour  Day_of_year  \n",
       "0    1      1        1     0            1  \n",
       "1    1      1        1     0            1  \n",
       "2    1      1        1     0            1  "
      ]
     },
     "execution_count": 15,
     "metadata": {},
     "output_type": "execute_result"
    }
   ],
   "source": [
    "# new columns \n",
    "df_la[\"Date\"] = df_la[\"start_time\"].apply(lambda x: x.date())\n",
    "df_la[\"Day\"] = df_la[\"start_time\"].apply(lambda x: x.day)\n",
    "df_la['Month']= df_la[\"start_time\"].apply(lambda x: x.month)\n",
    "df_la[\"Weekday\"]= df_la[\"start_time\"].apply(lambda x: x.weekday())\n",
    "df_la[\"Hour\"]= df_la[\"start_time\"].apply(lambda x: x.hour)\n",
    "df_la[\"Day_of_year\"] = df_la[\"start_time\"].apply(lambda x: x.timetuple().tm_yday)\n",
    "df_la.head(3)"
   ]
  },
  {
   "cell_type": "code",
   "execution_count": 16,
   "id": "f1151b75",
   "metadata": {},
   "outputs": [
    {
     "data": {
      "text/html": [
       "<div>\n",
       "<style scoped>\n",
       "    .dataframe tbody tr th:only-of-type {\n",
       "        vertical-align: middle;\n",
       "    }\n",
       "\n",
       "    .dataframe tbody tr th {\n",
       "        vertical-align: top;\n",
       "    }\n",
       "\n",
       "    .dataframe thead th {\n",
       "        text-align: right;\n",
       "    }\n",
       "</style>\n",
       "<table border=\"1\" class=\"dataframe\">\n",
       "  <thead>\n",
       "    <tr style=\"text-align: right;\">\n",
       "      <th></th>\n",
       "      <th>start_time</th>\n",
       "      <th>end_time</th>\n",
       "      <th>start_station_id</th>\n",
       "      <th>end_station_id</th>\n",
       "      <th>bike_id</th>\n",
       "      <th>user_type</th>\n",
       "      <th>start_station_name</th>\n",
       "      <th>end_station_name</th>\n",
       "      <th>duration</th>\n",
       "      <th>Date</th>\n",
       "      <th>Day</th>\n",
       "      <th>Month</th>\n",
       "      <th>Weekday</th>\n",
       "      <th>Hour</th>\n",
       "      <th>Day_of_year</th>\n",
       "    </tr>\n",
       "  </thead>\n",
       "  <tbody>\n",
       "    <tr>\n",
       "      <th>290339</th>\n",
       "      <td>2019-12-31 23:43:19</td>\n",
       "      <td>2019-12-31 23:47:41</td>\n",
       "      <td>3051</td>\n",
       "      <td>3064</td>\n",
       "      <td>12298</td>\n",
       "      <td>Annual Pass</td>\n",
       "      <td>7th &amp; Broadway</td>\n",
       "      <td>Grand &amp; 8th</td>\n",
       "      <td>4.0</td>\n",
       "      <td>2019-12-31</td>\n",
       "      <td>31</td>\n",
       "      <td>12</td>\n",
       "      <td>1</td>\n",
       "      <td>23</td>\n",
       "      <td>365</td>\n",
       "    </tr>\n",
       "    <tr>\n",
       "      <th>290340</th>\n",
       "      <td>2019-12-31 23:48:17</td>\n",
       "      <td>2019-12-31 23:53:55</td>\n",
       "      <td>3064</td>\n",
       "      <td>3074</td>\n",
       "      <td>19053</td>\n",
       "      <td>Annual Pass</td>\n",
       "      <td>Grand &amp; 8th</td>\n",
       "      <td>Hope &amp; Olympic</td>\n",
       "      <td>5.0</td>\n",
       "      <td>2019-12-31</td>\n",
       "      <td>31</td>\n",
       "      <td>12</td>\n",
       "      <td>1</td>\n",
       "      <td>23</td>\n",
       "      <td>365</td>\n",
       "    </tr>\n",
       "    <tr>\n",
       "      <th>290341</th>\n",
       "      <td>2019-12-31 23:58:52</td>\n",
       "      <td>2020-01-01 00:25:27</td>\n",
       "      <td>3074</td>\n",
       "      <td>3049</td>\n",
       "      <td>19053</td>\n",
       "      <td>Annual Pass</td>\n",
       "      <td>Hope &amp; Olympic</td>\n",
       "      <td>2nd &amp; Figueroa</td>\n",
       "      <td>26.0</td>\n",
       "      <td>2019-12-31</td>\n",
       "      <td>31</td>\n",
       "      <td>12</td>\n",
       "      <td>1</td>\n",
       "      <td>23</td>\n",
       "      <td>365</td>\n",
       "    </tr>\n",
       "  </tbody>\n",
       "</table>\n",
       "</div>"
      ],
      "text/plain": [
       "                start_time            end_time  start_station_id  \\\n",
       "290339 2019-12-31 23:43:19 2019-12-31 23:47:41              3051   \n",
       "290340 2019-12-31 23:48:17 2019-12-31 23:53:55              3064   \n",
       "290341 2019-12-31 23:58:52 2020-01-01 00:25:27              3074   \n",
       "\n",
       "        end_station_id bike_id    user_type start_station_name  \\\n",
       "290339            3064   12298  Annual Pass     7th & Broadway   \n",
       "290340            3074   19053  Annual Pass        Grand & 8th   \n",
       "290341            3049   19053  Annual Pass     Hope & Olympic   \n",
       "\n",
       "       end_station_name  duration        Date  Day  Month  Weekday  Hour  \\\n",
       "290339      Grand & 8th       4.0  2019-12-31   31     12        1    23   \n",
       "290340   Hope & Olympic       5.0  2019-12-31   31     12        1    23   \n",
       "290341   2nd & Figueroa      26.0  2019-12-31   31     12        1    23   \n",
       "\n",
       "        Day_of_year  \n",
       "290339          365  \n",
       "290340          365  \n",
       "290341          365  "
      ]
     },
     "execution_count": 16,
     "metadata": {},
     "output_type": "execute_result"
    }
   ],
   "source": [
    "df_la.tail(3)"
   ]
  },
  {
   "cell_type": "code",
   "execution_count": 17,
   "id": "606ba5e5",
   "metadata": {},
   "outputs": [],
   "source": [
    "# saving data set\n",
    "df_la.to_csv(\"prepared_data.csv\")"
   ]
  },
  {
   "cell_type": "markdown",
   "id": "3ef90563",
   "metadata": {},
   "source": [
    "## Weather Data "
   ]
  },
  {
   "cell_type": "code",
   "execution_count": 18,
   "id": "b99144b4",
   "metadata": {},
   "outputs": [],
   "source": [
    "df_weather = pd.read_csv(\"weather_hourly_la.csv\" ,parse_dates=[\"date_time\"]) "
   ]
  },
  {
   "cell_type": "code",
   "execution_count": 19,
   "id": "2683fa6e",
   "metadata": {},
   "outputs": [
    {
     "data": {
      "text/html": [
       "<div>\n",
       "<style scoped>\n",
       "    .dataframe tbody tr th:only-of-type {\n",
       "        vertical-align: middle;\n",
       "    }\n",
       "\n",
       "    .dataframe tbody tr th {\n",
       "        vertical-align: top;\n",
       "    }\n",
       "\n",
       "    .dataframe thead th {\n",
       "        text-align: right;\n",
       "    }\n",
       "</style>\n",
       "<table border=\"1\" class=\"dataframe\">\n",
       "  <thead>\n",
       "    <tr style=\"text-align: right;\">\n",
       "      <th></th>\n",
       "      <th>date_time</th>\n",
       "      <th>max_temp</th>\n",
       "      <th>min_temp</th>\n",
       "      <th>precip</th>\n",
       "    </tr>\n",
       "  </thead>\n",
       "  <tbody>\n",
       "    <tr>\n",
       "      <th>0</th>\n",
       "      <td>2015-01-02 01:00:00</td>\n",
       "      <td>11.7</td>\n",
       "      <td>11.7</td>\n",
       "      <td>0.0</td>\n",
       "    </tr>\n",
       "    <tr>\n",
       "      <th>1</th>\n",
       "      <td>2015-01-02 02:00:00</td>\n",
       "      <td>11.1</td>\n",
       "      <td>11.1</td>\n",
       "      <td>0.0</td>\n",
       "    </tr>\n",
       "    <tr>\n",
       "      <th>2</th>\n",
       "      <td>2015-01-02 03:00:00</td>\n",
       "      <td>11.1</td>\n",
       "      <td>11.1</td>\n",
       "      <td>0.0</td>\n",
       "    </tr>\n",
       "  </tbody>\n",
       "</table>\n",
       "</div>"
      ],
      "text/plain": [
       "            date_time  max_temp  min_temp  precip\n",
       "0 2015-01-02 01:00:00      11.7      11.7     0.0\n",
       "1 2015-01-02 02:00:00      11.1      11.1     0.0\n",
       "2 2015-01-02 03:00:00      11.1      11.1     0.0"
      ]
     },
     "execution_count": 19,
     "metadata": {},
     "output_type": "execute_result"
    }
   ],
   "source": [
    "df_weather.head(3)"
   ]
  },
  {
   "cell_type": "code",
   "execution_count": 20,
   "id": "a5fe3be4",
   "metadata": {},
   "outputs": [
    {
     "name": "stdout",
     "output_type": "stream",
     "text": [
      "<class 'pandas.core.frame.DataFrame'>\n",
      "RangeIndex: 43848 entries, 0 to 43847\n",
      "Data columns (total 4 columns):\n",
      " #   Column     Non-Null Count  Dtype         \n",
      "---  ------     --------------  -----         \n",
      " 0   date_time  43756 non-null  datetime64[ns]\n",
      " 1   max_temp   43756 non-null  float64       \n",
      " 2   min_temp   43756 non-null  float64       \n",
      " 3   precip     43758 non-null  float64       \n",
      "dtypes: datetime64[ns](1), float64(3)\n",
      "memory usage: 1.3 MB\n"
     ]
    }
   ],
   "source": [
    "df_weather.info()"
   ]
  },
  {
   "cell_type": "code",
   "execution_count": 21,
   "id": "d89d372b",
   "metadata": {},
   "outputs": [
    {
     "data": {
      "text/html": [
       "<div>\n",
       "<style scoped>\n",
       "    .dataframe tbody tr th:only-of-type {\n",
       "        vertical-align: middle;\n",
       "    }\n",
       "\n",
       "    .dataframe tbody tr th {\n",
       "        vertical-align: top;\n",
       "    }\n",
       "\n",
       "    .dataframe thead th {\n",
       "        text-align: right;\n",
       "    }\n",
       "</style>\n",
       "<table border=\"1\" class=\"dataframe\">\n",
       "  <thead>\n",
       "    <tr style=\"text-align: right;\">\n",
       "      <th></th>\n",
       "      <th>date_time</th>\n",
       "      <th>max_temp</th>\n",
       "      <th>min_temp</th>\n",
       "      <th>precip</th>\n",
       "      <th>year</th>\n",
       "    </tr>\n",
       "  </thead>\n",
       "  <tbody>\n",
       "    <tr>\n",
       "      <th>0</th>\n",
       "      <td>2015-01-02 01:00:00</td>\n",
       "      <td>11.7</td>\n",
       "      <td>11.7</td>\n",
       "      <td>0.0</td>\n",
       "      <td>2015.0</td>\n",
       "    </tr>\n",
       "    <tr>\n",
       "      <th>1</th>\n",
       "      <td>2015-01-02 02:00:00</td>\n",
       "      <td>11.1</td>\n",
       "      <td>11.1</td>\n",
       "      <td>0.0</td>\n",
       "      <td>2015.0</td>\n",
       "    </tr>\n",
       "    <tr>\n",
       "      <th>2</th>\n",
       "      <td>2015-01-02 03:00:00</td>\n",
       "      <td>11.1</td>\n",
       "      <td>11.1</td>\n",
       "      <td>0.0</td>\n",
       "      <td>2015.0</td>\n",
       "    </tr>\n",
       "  </tbody>\n",
       "</table>\n",
       "</div>"
      ],
      "text/plain": [
       "            date_time  max_temp  min_temp  precip    year\n",
       "0 2015-01-02 01:00:00      11.7      11.7     0.0  2015.0\n",
       "1 2015-01-02 02:00:00      11.1      11.1     0.0  2015.0\n",
       "2 2015-01-02 03:00:00      11.1      11.1     0.0  2015.0"
      ]
     },
     "execution_count": 21,
     "metadata": {},
     "output_type": "execute_result"
    }
   ],
   "source": [
    "df_weather[\"year\"]= df_weather[\"date_time\"].apply(lambda x: x.year)\n",
    "df_weather.head(3)"
   ]
  },
  {
   "cell_type": "code",
   "execution_count": 22,
   "id": "c403f9a6",
   "metadata": {},
   "outputs": [
    {
     "data": {
      "text/plain": [
       "43848"
      ]
     },
     "execution_count": 22,
     "metadata": {},
     "output_type": "execute_result"
    }
   ],
   "source": [
    "df_weather[\"year\"].size"
   ]
  },
  {
   "cell_type": "code",
   "execution_count": 23,
   "id": "8c7322aa",
   "metadata": {},
   "outputs": [],
   "source": [
    "# keep only the data from 2019\n",
    "df_weather.drop(df_weather.loc[df_weather['year']!=2019.0].index, inplace=True)\n"
   ]
  },
  {
   "cell_type": "code",
   "execution_count": 24,
   "id": "077138a8",
   "metadata": {},
   "outputs": [
    {
     "data": {
      "text/plain": [
       "8732"
      ]
     },
     "execution_count": 24,
     "metadata": {},
     "output_type": "execute_result"
    }
   ],
   "source": [
    "df_weather[\"year\"].size"
   ]
  },
  {
   "cell_type": "code",
   "execution_count": 25,
   "id": "e1d15fcf",
   "metadata": {},
   "outputs": [],
   "source": [
    "df_weather[\"temp\"] = (df_weather[\"max_temp\"]+df_weather[\"min_temp\"])/2"
   ]
  },
  {
   "cell_type": "code",
   "execution_count": 26,
   "id": "76d86a20",
   "metadata": {},
   "outputs": [
    {
     "data": {
      "text/html": [
       "<div>\n",
       "<style scoped>\n",
       "    .dataframe tbody tr th:only-of-type {\n",
       "        vertical-align: middle;\n",
       "    }\n",
       "\n",
       "    .dataframe tbody tr th {\n",
       "        vertical-align: top;\n",
       "    }\n",
       "\n",
       "    .dataframe thead th {\n",
       "        text-align: right;\n",
       "    }\n",
       "</style>\n",
       "<table border=\"1\" class=\"dataframe\">\n",
       "  <thead>\n",
       "    <tr style=\"text-align: right;\">\n",
       "      <th></th>\n",
       "      <th>date_time</th>\n",
       "      <th>max_temp</th>\n",
       "      <th>min_temp</th>\n",
       "      <th>precip</th>\n",
       "      <th>year</th>\n",
       "      <th>temp</th>\n",
       "    </tr>\n",
       "  </thead>\n",
       "  <tbody>\n",
       "    <tr>\n",
       "      <th>43820</th>\n",
       "      <td>2019-12-31 21:00:00</td>\n",
       "      <td>21.1</td>\n",
       "      <td>21.1</td>\n",
       "      <td>0.0</td>\n",
       "      <td>2019.0</td>\n",
       "      <td>21.1</td>\n",
       "    </tr>\n",
       "    <tr>\n",
       "      <th>43821</th>\n",
       "      <td>2019-12-31 22:00:00</td>\n",
       "      <td>21.7</td>\n",
       "      <td>21.7</td>\n",
       "      <td>0.0</td>\n",
       "      <td>2019.0</td>\n",
       "      <td>21.7</td>\n",
       "    </tr>\n",
       "    <tr>\n",
       "      <th>43822</th>\n",
       "      <td>2019-12-31 23:00:00</td>\n",
       "      <td>22.8</td>\n",
       "      <td>22.8</td>\n",
       "      <td>0.0</td>\n",
       "      <td>2019.0</td>\n",
       "      <td>22.8</td>\n",
       "    </tr>\n",
       "  </tbody>\n",
       "</table>\n",
       "</div>"
      ],
      "text/plain": [
       "                date_time  max_temp  min_temp  precip    year  temp\n",
       "43820 2019-12-31 21:00:00      21.1      21.1     0.0  2019.0  21.1\n",
       "43821 2019-12-31 22:00:00      21.7      21.7     0.0  2019.0  21.7\n",
       "43822 2019-12-31 23:00:00      22.8      22.8     0.0  2019.0  22.8"
      ]
     },
     "execution_count": 26,
     "metadata": {},
     "output_type": "execute_result"
    }
   ],
   "source": [
    "df_weather.tail(3)"
   ]
  },
  {
   "cell_type": "code",
   "execution_count": 27,
   "id": "41f1da7b",
   "metadata": {},
   "outputs": [],
   "source": [
    "# saving data set\n",
    "df_weather.to_csv(\"prepared_data_weather.csv\")"
   ]
  }
 ],
 "metadata": {
  "kernelspec": {
   "display_name": "Python 3 (ipykernel)",
   "language": "python",
   "name": "python3"
  },
  "language_info": {
   "codemirror_mode": {
    "name": "ipython",
    "version": 3
   },
   "file_extension": ".py",
   "mimetype": "text/x-python",
   "name": "python",
   "nbconvert_exporter": "python",
   "pygments_lexer": "ipython3",
   "version": "3.9.12"
  }
 },
 "nbformat": 4,
 "nbformat_minor": 5
}

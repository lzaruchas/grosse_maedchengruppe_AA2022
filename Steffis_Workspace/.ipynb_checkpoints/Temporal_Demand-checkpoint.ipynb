{
 "cells": [
  {
   "cell_type": "code",
   "execution_count": 75,
   "id": "14343021",
   "metadata": {},
   "outputs": [
    {
     "data": {
      "text/html": [],
      "text/plain": [
       "<IPython.core.display.HTML object>"
      ]
     },
     "metadata": {},
     "output_type": "display_data"
    }
   ],
   "source": [
    "# libraries\n",
    "import pandas as pd\n",
    "import numpy as np\n",
    "import matplotlib.pyplot as plt\n",
    "from IPython.display import display, HTML\n",
    "from IPython.display import display, HTML\n",
    "display(HTML(\"\"))\n",
    "import scienceplots\n",
    "plt.style.use(['science', 'no-latex'])"
   ]
  },
  {
   "cell_type": "code",
   "execution_count": 52,
   "id": "69b32ac1",
   "metadata": {},
   "outputs": [],
   "source": [
    "# import\n",
    "la = pd.read_csv(\"prepared_data.csv\", parse_dates=[\"start_time\",\"end_time\"],low_memory=False)"
   ]
  },
  {
   "cell_type": "markdown",
   "id": "8ccd1687",
   "metadata": {},
   "source": [
    "## Data Overview"
   ]
  },
  {
   "cell_type": "code",
   "execution_count": 53,
   "id": "a0db5d57",
   "metadata": {},
   "outputs": [
    {
     "data": {
      "text/html": [
       "<div>\n",
       "<style scoped>\n",
       "    .dataframe tbody tr th:only-of-type {\n",
       "        vertical-align: middle;\n",
       "    }\n",
       "\n",
       "    .dataframe tbody tr th {\n",
       "        vertical-align: top;\n",
       "    }\n",
       "\n",
       "    .dataframe thead th {\n",
       "        text-align: right;\n",
       "    }\n",
       "</style>\n",
       "<table border=\"1\" class=\"dataframe\">\n",
       "  <thead>\n",
       "    <tr style=\"text-align: right;\">\n",
       "      <th></th>\n",
       "      <th>Unnamed: 0</th>\n",
       "      <th>start_time</th>\n",
       "      <th>end_time</th>\n",
       "      <th>start_station_id</th>\n",
       "      <th>end_station_id</th>\n",
       "      <th>bike_id</th>\n",
       "      <th>user_type</th>\n",
       "      <th>start_station_name</th>\n",
       "      <th>end_station_name</th>\n",
       "      <th>duration</th>\n",
       "    </tr>\n",
       "  </thead>\n",
       "  <tbody>\n",
       "    <tr>\n",
       "      <th>0</th>\n",
       "      <td>0</td>\n",
       "      <td>2019-01-01 00:07:00</td>\n",
       "      <td>2019-01-01 00:14:00</td>\n",
       "      <td>3046</td>\n",
       "      <td>3051</td>\n",
       "      <td>06468</td>\n",
       "      <td>Walk-up</td>\n",
       "      <td>2nd &amp; Hill</td>\n",
       "      <td>7th &amp; Broadway</td>\n",
       "      <td>7.0</td>\n",
       "    </tr>\n",
       "  </tbody>\n",
       "</table>\n",
       "</div>"
      ],
      "text/plain": [
       "   Unnamed: 0          start_time            end_time  start_station_id  \\\n",
       "0           0 2019-01-01 00:07:00 2019-01-01 00:14:00              3046   \n",
       "\n",
       "   end_station_id bike_id user_type start_station_name end_station_name  \\\n",
       "0            3051   06468   Walk-up         2nd & Hill   7th & Broadway   \n",
       "\n",
       "   duration  \n",
       "0       7.0  "
      ]
     },
     "execution_count": 53,
     "metadata": {},
     "output_type": "execute_result"
    }
   ],
   "source": [
    "la.head(1)"
   ]
  },
  {
   "cell_type": "code",
   "execution_count": 54,
   "id": "879d13d8",
   "metadata": {},
   "outputs": [
    {
     "name": "stdout",
     "output_type": "stream",
     "text": [
      "['Walk-up' 'Monthly Pass' 'Annual Pass' 'One Day Pass' 'Flex Pass'\n",
      " 'Testing']\n"
     ]
    }
   ],
   "source": [
    "# types of users\n",
    "user = la[\"user_type\"].unique()\n",
    "print(user)"
   ]
  },
  {
   "cell_type": "code",
   "execution_count": 55,
   "id": "f709de00",
   "metadata": {},
   "outputs": [
    {
     "data": {
      "text/plain": [
       "3150"
      ]
     },
     "execution_count": 55,
     "metadata": {},
     "output_type": "execute_result"
    }
   ],
   "source": [
    "# number of bikes\n",
    "bikes = la['bike_id'].unique()\n",
    "len(bikes)"
   ]
  },
  {
   "cell_type": "markdown",
   "id": "1de241f3",
   "metadata": {},
   "source": [
    "## Usage During a Day"
   ]
  },
  {
   "cell_type": "code",
   "execution_count": 56,
   "id": "582149b0",
   "metadata": {},
   "outputs": [
    {
     "data": {
      "text/html": [
       "<div>\n",
       "<style scoped>\n",
       "    .dataframe tbody tr th:only-of-type {\n",
       "        vertical-align: middle;\n",
       "    }\n",
       "\n",
       "    .dataframe tbody tr th {\n",
       "        vertical-align: top;\n",
       "    }\n",
       "\n",
       "    .dataframe thead th {\n",
       "        text-align: right;\n",
       "    }\n",
       "</style>\n",
       "<table border=\"1\" class=\"dataframe\">\n",
       "  <thead>\n",
       "    <tr style=\"text-align: right;\">\n",
       "      <th></th>\n",
       "      <th>Unnamed: 0</th>\n",
       "      <th>start_time</th>\n",
       "      <th>end_time</th>\n",
       "      <th>start_station_id</th>\n",
       "      <th>end_station_id</th>\n",
       "      <th>bike_id</th>\n",
       "      <th>user_type</th>\n",
       "      <th>start_station_name</th>\n",
       "      <th>end_station_name</th>\n",
       "      <th>duration</th>\n",
       "      <th>Date</th>\n",
       "      <th>Weekday</th>\n",
       "      <th>Hour</th>\n",
       "      <th>Month</th>\n",
       "    </tr>\n",
       "  </thead>\n",
       "  <tbody>\n",
       "    <tr>\n",
       "      <th>0</th>\n",
       "      <td>0</td>\n",
       "      <td>2019-01-01 00:07:00</td>\n",
       "      <td>2019-01-01 00:14:00</td>\n",
       "      <td>3046</td>\n",
       "      <td>3051</td>\n",
       "      <td>06468</td>\n",
       "      <td>Walk-up</td>\n",
       "      <td>2nd &amp; Hill</td>\n",
       "      <td>7th &amp; Broadway</td>\n",
       "      <td>7.0</td>\n",
       "      <td>2019-01-01</td>\n",
       "      <td>1</td>\n",
       "      <td>0</td>\n",
       "      <td>1</td>\n",
       "    </tr>\n",
       "    <tr>\n",
       "      <th>1</th>\n",
       "      <td>1</td>\n",
       "      <td>2019-01-01 00:08:00</td>\n",
       "      <td>2019-01-01 00:14:00</td>\n",
       "      <td>3046</td>\n",
       "      <td>3051</td>\n",
       "      <td>12311</td>\n",
       "      <td>Walk-up</td>\n",
       "      <td>2nd &amp; Hill</td>\n",
       "      <td>7th &amp; Broadway</td>\n",
       "      <td>6.0</td>\n",
       "      <td>2019-01-01</td>\n",
       "      <td>1</td>\n",
       "      <td>0</td>\n",
       "      <td>1</td>\n",
       "    </tr>\n",
       "    <tr>\n",
       "      <th>2</th>\n",
       "      <td>2</td>\n",
       "      <td>2019-01-01 00:18:00</td>\n",
       "      <td>2019-01-01 00:50:00</td>\n",
       "      <td>3030</td>\n",
       "      <td>3075</td>\n",
       "      <td>05992</td>\n",
       "      <td>Walk-up</td>\n",
       "      <td>Main &amp; 1st</td>\n",
       "      <td>Broadway &amp; 9th</td>\n",
       "      <td>32.0</td>\n",
       "      <td>2019-01-01</td>\n",
       "      <td>1</td>\n",
       "      <td>0</td>\n",
       "      <td>1</td>\n",
       "    </tr>\n",
       "  </tbody>\n",
       "</table>\n",
       "</div>"
      ],
      "text/plain": [
       "   Unnamed: 0          start_time            end_time  start_station_id  \\\n",
       "0           0 2019-01-01 00:07:00 2019-01-01 00:14:00              3046   \n",
       "1           1 2019-01-01 00:08:00 2019-01-01 00:14:00              3046   \n",
       "2           2 2019-01-01 00:18:00 2019-01-01 00:50:00              3030   \n",
       "\n",
       "   end_station_id bike_id user_type start_station_name end_station_name  \\\n",
       "0            3051   06468   Walk-up         2nd & Hill   7th & Broadway   \n",
       "1            3051   12311   Walk-up         2nd & Hill   7th & Broadway   \n",
       "2            3075   05992   Walk-up         Main & 1st   Broadway & 9th   \n",
       "\n",
       "   duration        Date  Weekday  Hour  Month  \n",
       "0       7.0  2019-01-01        1     0      1  \n",
       "1       6.0  2019-01-01        1     0      1  \n",
       "2      32.0  2019-01-01        1     0      1  "
      ]
     },
     "execution_count": 56,
     "metadata": {},
     "output_type": "execute_result"
    }
   ],
   "source": [
    "# new columns \n",
    "la[\"Date\"] = la[\"start_time\"].apply(lambda x: x.date())\n",
    "la[\"Weekday\"]=la[\"start_time\"].apply(lambda x: x.weekday())\n",
    "la[\"Hour\"]=la[\"start_time\"].apply(lambda x: x.hour)\n",
    "la['Month']= la[\"start_time\"].apply(lambda x: x.month)\n",
    "la.head(3)"
   ]
  },
  {
   "cell_type": "code",
   "execution_count": 88,
   "id": "8eb70025",
   "metadata": {},
   "outputs": [
    {
     "data": {
      "text/html": [
       "<div>\n",
       "<style scoped>\n",
       "    .dataframe tbody tr th:only-of-type {\n",
       "        vertical-align: middle;\n",
       "    }\n",
       "\n",
       "    .dataframe tbody tr th {\n",
       "        vertical-align: top;\n",
       "    }\n",
       "\n",
       "    .dataframe thead th {\n",
       "        text-align: right;\n",
       "    }\n",
       "</style>\n",
       "<table border=\"1\" class=\"dataframe\">\n",
       "  <thead>\n",
       "    <tr style=\"text-align: right;\">\n",
       "      <th></th>\n",
       "      <th>Time_Period</th>\n",
       "      <th>Rides</th>\n",
       "    </tr>\n",
       "  </thead>\n",
       "  <tbody>\n",
       "    <tr>\n",
       "      <th>0</th>\n",
       "      <td>0</td>\n",
       "      <td>42826.0</td>\n",
       "    </tr>\n",
       "    <tr>\n",
       "      <th>1</th>\n",
       "      <td>1</td>\n",
       "      <td>25214.0</td>\n",
       "    </tr>\n",
       "    <tr>\n",
       "      <th>2</th>\n",
       "      <td>2</td>\n",
       "      <td>16604.0</td>\n",
       "    </tr>\n",
       "    <tr>\n",
       "      <th>3</th>\n",
       "      <td>3</td>\n",
       "      <td>6916.0</td>\n",
       "    </tr>\n",
       "    <tr>\n",
       "      <th>4</th>\n",
       "      <td>4</td>\n",
       "      <td>8876.0</td>\n",
       "    </tr>\n",
       "  </tbody>\n",
       "</table>\n",
       "</div>"
      ],
      "text/plain": [
       "   Time_Period    Rides\n",
       "0            0  42826.0\n",
       "1            1  25214.0\n",
       "2            2  16604.0\n",
       "3            3   6916.0\n",
       "4            4   8876.0"
      ]
     },
     "execution_count": 88,
     "metadata": {},
     "output_type": "execute_result"
    }
   ],
   "source": [
    "# number of rides for every hour on a day\n",
    "rides_day = np.zeros(24)\n",
    "for i in range(24):\n",
    "    rides_day[i] = la[la['Hour']==i].size\n",
    "    \n",
    "time = pd.DataFrame({'Time_Period': range(24), 'Rides': rides_day})\n",
    "time.head()"
   ]
  },
  {
   "cell_type": "code",
   "execution_count": 89,
   "id": "4c2e6123",
   "metadata": {},
   "outputs": [
    {
     "data": {
      "image/png": "[encoded data removed]",
      "text/plain": [
       "<Figure size 576x288 with 1 Axes>"
      ]
     },
     "metadata": {
      "needs_background": "light"
     },
     "output_type": "display_data"
    }
   ],
   "source": [
    "# hourly demand\n",
    "plt.figure(figsize=(8,4))\n",
    "plt.plot(time['Time_Period'],time['Rides'],'o-', color='blue')\n",
    "plt.xlabel(\"Time of day (in hours)\")\n",
    "plt.ylabel(\"Number of Rides\")\n",
    "plt.title(\"Number of Rides per time of day\")\n",
    "plt.show()"
   ]
  },
  {
   "cell_type": "markdown",
   "id": "de092d8c",
   "metadata": {},
   "source": [
    "## Usage During a Week"
   ]
  },
  {
   "cell_type": "code",
   "execution_count": 90,
   "id": "dcc7791a",
   "metadata": {},
   "outputs": [
    {
     "data": {
      "text/html": [
       "<div>\n",
       "<style scoped>\n",
       "    .dataframe tbody tr th:only-of-type {\n",
       "        vertical-align: middle;\n",
       "    }\n",
       "\n",
       "    .dataframe tbody tr th {\n",
       "        vertical-align: top;\n",
       "    }\n",
       "\n",
       "    .dataframe thead th {\n",
       "        text-align: right;\n",
       "    }\n",
       "</style>\n",
       "<table border=\"1\" class=\"dataframe\">\n",
       "  <thead>\n",
       "    <tr style=\"text-align: right;\">\n",
       "      <th></th>\n",
       "      <th>Weekday</th>\n",
       "      <th>Rides</th>\n",
       "    </tr>\n",
       "  </thead>\n",
       "  <tbody>\n",
       "    <tr>\n",
       "      <th>0</th>\n",
       "      <td>Monday</td>\n",
       "      <td>585634.0</td>\n",
       "    </tr>\n",
       "    <tr>\n",
       "      <th>1</th>\n",
       "      <td>Tuesday</td>\n",
       "      <td>633486.0</td>\n",
       "    </tr>\n",
       "    <tr>\n",
       "      <th>2</th>\n",
       "      <td>Wednesday</td>\n",
       "      <td>585956.0</td>\n",
       "    </tr>\n",
       "    <tr>\n",
       "      <th>3</th>\n",
       "      <td>Thursday</td>\n",
       "      <td>613606.0</td>\n",
       "    </tr>\n",
       "    <tr>\n",
       "      <th>4</th>\n",
       "      <td>Friday</td>\n",
       "      <td>636804.0</td>\n",
       "    </tr>\n",
       "    <tr>\n",
       "      <th>5</th>\n",
       "      <td>Saturday</td>\n",
       "      <td>500346.0</td>\n",
       "    </tr>\n",
       "    <tr>\n",
       "      <th>6</th>\n",
       "      <td>Sunday</td>\n",
       "      <td>508956.0</td>\n",
       "    </tr>\n",
       "  </tbody>\n",
       "</table>\n",
       "</div>"
      ],
      "text/plain": [
       "     Weekday     Rides\n",
       "0     Monday  585634.0\n",
       "1    Tuesday  633486.0\n",
       "2  Wednesday  585956.0\n",
       "3   Thursday  613606.0\n",
       "4     Friday  636804.0\n",
       "5   Saturday  500346.0\n",
       "6     Sunday  508956.0"
      ]
     },
     "execution_count": 90,
     "metadata": {},
     "output_type": "execute_result"
    }
   ],
   "source": [
    "weekdays =['Monday', 'Tuesday', 'Wednesday', 'Thursday', 'Friday', 'Saturday', 'Sunday']\n",
    "rides_week=np.zeros(7)\n",
    "for i in range(7):\n",
    "    rides_week[i] = la[la[\"Weekday\"]==i].size\n",
    "    \n",
    "weekdaysize = pd.DataFrame({'Weekday': weekdays, 'Rides': rides_week})\n",
    "weekdaysize"
   ]
  },
  {
   "cell_type": "code",
   "execution_count": 94,
   "id": "9f6fb0fd",
   "metadata": {},
   "outputs": [
    {
     "data": {
      "image/png": "[encoded data removed]",
      "text/plain": [
       "<Figure size 576x288 with 1 Axes>"
      ]
     },
     "metadata": {
      "needs_background": "light"
     },
     "output_type": "display_data"
    }
   ],
   "source": [
    "# weekly demand\n",
    "plt.figure(figsize=(8,4))\n",
    "plt.plot(weekdaysize[\"Weekday\"], weekdaysize[\"Rides\"],'o-', color='blue')\n",
    "plt.ylabel(\"Number of Rides\")\n",
    "plt.title(\"Number of Rides on Different Days\")\n",
    "plt.show()"
   ]
  },
  {
   "cell_type": "markdown",
   "id": "1c8fa675",
   "metadata": {},
   "source": [
    "## Usage during a year"
   ]
  },
  {
   "cell_type": "code",
   "execution_count": 100,
   "id": "6d222b4e",
   "metadata": {},
   "outputs": [],
   "source": [
    "months=[\"January\",\"February\",\"March\",\"April\",\"May\",\"June\",\"July\",\"August\",\"September\",\"Oktober\",\"November\",\"December\"]\n"
   ]
  },
  {
   "cell_type": "code",
   "execution_count": 103,
   "id": "3d2e9768",
   "metadata": {},
   "outputs": [
    {
     "data": {
      "text/html": [
       "<div>\n",
       "<style scoped>\n",
       "    .dataframe tbody tr th:only-of-type {\n",
       "        vertical-align: middle;\n",
       "    }\n",
       "\n",
       "    .dataframe tbody tr th {\n",
       "        vertical-align: top;\n",
       "    }\n",
       "\n",
       "    .dataframe thead th {\n",
       "        text-align: right;\n",
       "    }\n",
       "</style>\n",
       "<table border=\"1\" class=\"dataframe\">\n",
       "  <thead>\n",
       "    <tr style=\"text-align: right;\">\n",
       "      <th></th>\n",
       "      <th>Months</th>\n",
       "      <th>Rides</th>\n",
       "    </tr>\n",
       "  </thead>\n",
       "  <tbody>\n",
       "    <tr>\n",
       "      <th>0</th>\n",
       "      <td>January</td>\n",
       "      <td>272594.0</td>\n",
       "    </tr>\n",
       "    <tr>\n",
       "      <th>1</th>\n",
       "      <td>February</td>\n",
       "      <td>237510.0</td>\n",
       "    </tr>\n",
       "    <tr>\n",
       "      <th>2</th>\n",
       "      <td>March</td>\n",
       "      <td>292908.0</td>\n",
       "    </tr>\n",
       "    <tr>\n",
       "      <th>3</th>\n",
       "      <td>April</td>\n",
       "      <td>262388.0</td>\n",
       "    </tr>\n",
       "    <tr>\n",
       "      <th>4</th>\n",
       "      <td>May</td>\n",
       "      <td>264908.0</td>\n",
       "    </tr>\n",
       "    <tr>\n",
       "      <th>5</th>\n",
       "      <td>June</td>\n",
       "      <td>376334.0</td>\n",
       "    </tr>\n",
       "    <tr>\n",
       "      <th>6</th>\n",
       "      <td>July</td>\n",
       "      <td>399000.0</td>\n",
       "    </tr>\n",
       "    <tr>\n",
       "      <th>7</th>\n",
       "      <td>August</td>\n",
       "      <td>459802.0</td>\n",
       "    </tr>\n",
       "    <tr>\n",
       "      <th>8</th>\n",
       "      <td>September</td>\n",
       "      <td>430934.0</td>\n",
       "    </tr>\n",
       "    <tr>\n",
       "      <th>9</th>\n",
       "      <td>Oktober</td>\n",
       "      <td>422506.0</td>\n",
       "    </tr>\n",
       "    <tr>\n",
       "      <th>10</th>\n",
       "      <td>November</td>\n",
       "      <td>336476.0</td>\n",
       "    </tr>\n",
       "    <tr>\n",
       "      <th>11</th>\n",
       "      <td>December</td>\n",
       "      <td>309428.0</td>\n",
       "    </tr>\n",
       "  </tbody>\n",
       "</table>\n",
       "</div>"
      ],
      "text/plain": [
       "       Months     Rides\n",
       "0     January  272594.0\n",
       "1    February  237510.0\n",
       "2       March  292908.0\n",
       "3       April  262388.0\n",
       "4         May  264908.0\n",
       "5        June  376334.0\n",
       "6        July  399000.0\n",
       "7      August  459802.0\n",
       "8   September  430934.0\n",
       "9     Oktober  422506.0\n",
       "10   November  336476.0\n",
       "11   December  309428.0"
      ]
     },
     "execution_count": 103,
     "metadata": {},
     "output_type": "execute_result"
    }
   ],
   "source": [
    "rides_month = np.zeros(12)\n",
    "for i in range(12):\n",
    "    rides_month[i]= la[la[\"Month\"]==i+1].size\n",
    "\n",
    "year= pd.DataFrame({'Months':months, 'Rides':rides_month})\n",
    "year"
   ]
  },
  {
   "cell_type": "code",
   "execution_count": 102,
   "id": "437dff18",
   "metadata": {},
   "outputs": [
    {
     "data": {
      "image/png": "[encoded data removed]",
      "text/plain": [
       "<Figure size 864x288 with 1 Axes>"
      ]
     },
     "metadata": {
      "needs_background": "light"
     },
     "output_type": "display_data"
    }
   ],
   "source": [
    "# yearly demand\n",
    "plt.figure(figsize=(12,4))\n",
    "plt.plot(year[\"Months\"], year[\"Rides\"],'o-', color='blue')\n",
    "plt.ylabel(\"Number of Rides\")\n",
    "plt.title(\"Number of Rides in Different Months\")\n",
    "plt.show()"
   ]
  },
  {
   "cell_type": "markdown",
   "id": "7979ac2a",
   "metadata": {},
   "source": [
    "## Seasonal comparison\n",
    "- Spring: March-May\n",
    "- Summer: June-August\n",
    "- Fall: September-November\n",
    "- Winter: December-February"
   ]
  },
  {
   "cell_type": "code",
   "execution_count": 142,
   "id": "c671c0a8",
   "metadata": {},
   "outputs": [],
   "source": [
    "season =['Spring','Summer','Fall','Winter']\n",
    "spring = la[la[\"Month\"]<4]\n",
    "summer = la[(la[\"Month\"]>3)&(la[\"Month\"]<=6)]\n",
    "fall = la[(la[\"Month\"]>6)&(la[\"Month\"]<=9)]\n",
    "winter = la[la[\"Month\"]>9]"
   ]
  },
  {
   "cell_type": "code",
   "execution_count": 143,
   "id": "3206ad0a",
   "metadata": {},
   "outputs": [
    {
     "data": {
      "text/html": [
       "<div>\n",
       "<style scoped>\n",
       "    .dataframe tbody tr th:only-of-type {\n",
       "        vertical-align: middle;\n",
       "    }\n",
       "\n",
       "    .dataframe tbody tr th {\n",
       "        vertical-align: top;\n",
       "    }\n",
       "\n",
       "    .dataframe thead th {\n",
       "        text-align: right;\n",
       "    }\n",
       "</style>\n",
       "<table border=\"1\" class=\"dataframe\">\n",
       "  <thead>\n",
       "    <tr style=\"text-align: right;\">\n",
       "      <th></th>\n",
       "      <th>Season</th>\n",
       "      <th>Rides</th>\n",
       "    </tr>\n",
       "  </thead>\n",
       "  <tbody>\n",
       "    <tr>\n",
       "      <th>0</th>\n",
       "      <td>Spring</td>\n",
       "      <td>803012</td>\n",
       "    </tr>\n",
       "    <tr>\n",
       "      <th>1</th>\n",
       "      <td>Summer</td>\n",
       "      <td>903630</td>\n",
       "    </tr>\n",
       "    <tr>\n",
       "      <th>2</th>\n",
       "      <td>Fall</td>\n",
       "      <td>1289736</td>\n",
       "    </tr>\n",
       "    <tr>\n",
       "      <th>3</th>\n",
       "      <td>Winter</td>\n",
       "      <td>1068410</td>\n",
       "    </tr>\n",
       "  </tbody>\n",
       "</table>\n",
       "</div>"
      ],
      "text/plain": [
       "   Season    Rides\n",
       "0  Spring   803012\n",
       "1  Summer   903630\n",
       "2    Fall  1289736\n",
       "3  Winter  1068410"
      ]
     },
     "execution_count": 143,
     "metadata": {},
     "output_type": "execute_result"
    }
   ],
   "source": [
    "season = pd.DataFrame({'Season':season, 'Rides': [spring.size, summer.size, fall.size, winter.size]})\n",
    "season"
   ]
  },
  {
   "cell_type": "code",
   "execution_count": 144,
   "id": "2ed7aa7f",
   "metadata": {},
   "outputs": [
    {
     "data": {
      "text/html": [
       "<div>\n",
       "<style scoped>\n",
       "    .dataframe tbody tr th:only-of-type {\n",
       "        vertical-align: middle;\n",
       "    }\n",
       "\n",
       "    .dataframe tbody tr th {\n",
       "        vertical-align: top;\n",
       "    }\n",
       "\n",
       "    .dataframe thead th {\n",
       "        text-align: right;\n",
       "    }\n",
       "</style>\n",
       "<table border=\"1\" class=\"dataframe\">\n",
       "  <thead>\n",
       "    <tr style=\"text-align: right;\">\n",
       "      <th></th>\n",
       "      <th>Weekday</th>\n",
       "      <th>Spring</th>\n",
       "      <th>Summer</th>\n",
       "      <th>Fall</th>\n",
       "      <th>Winter</th>\n",
       "    </tr>\n",
       "  </thead>\n",
       "  <tbody>\n",
       "    <tr>\n",
       "      <th>0</th>\n",
       "      <td>Monday</td>\n",
       "      <td>100506.0</td>\n",
       "      <td>133070.0</td>\n",
       "      <td>194418.0</td>\n",
       "      <td>157640.0</td>\n",
       "    </tr>\n",
       "    <tr>\n",
       "      <th>1</th>\n",
       "      <td>Tuesday</td>\n",
       "      <td>122388.0</td>\n",
       "      <td>132818.0</td>\n",
       "      <td>199892.0</td>\n",
       "      <td>178388.0</td>\n",
       "    </tr>\n",
       "    <tr>\n",
       "      <th>2</th>\n",
       "      <td>Wednesday</td>\n",
       "      <td>113624.0</td>\n",
       "      <td>135366.0</td>\n",
       "      <td>190568.0</td>\n",
       "      <td>146398.0</td>\n",
       "    </tr>\n",
       "    <tr>\n",
       "      <th>3</th>\n",
       "      <td>Thursday</td>\n",
       "      <td>121604.0</td>\n",
       "      <td>138152.0</td>\n",
       "      <td>194908.0</td>\n",
       "      <td>158942.0</td>\n",
       "    </tr>\n",
       "    <tr>\n",
       "      <th>4</th>\n",
       "      <td>Friday</td>\n",
       "      <td>140672.0</td>\n",
       "      <td>139034.0</td>\n",
       "      <td>192878.0</td>\n",
       "      <td>164220.0</td>\n",
       "    </tr>\n",
       "    <tr>\n",
       "      <th>5</th>\n",
       "      <td>Saturday</td>\n",
       "      <td>100002.0</td>\n",
       "      <td>118426.0</td>\n",
       "      <td>156730.0</td>\n",
       "      <td>125188.0</td>\n",
       "    </tr>\n",
       "    <tr>\n",
       "      <th>6</th>\n",
       "      <td>Sunday</td>\n",
       "      <td>104216.0</td>\n",
       "      <td>106764.0</td>\n",
       "      <td>160342.0</td>\n",
       "      <td>137634.0</td>\n",
       "    </tr>\n",
       "  </tbody>\n",
       "</table>\n",
       "</div>"
      ],
      "text/plain": [
       "     Weekday    Spring    Summer      Fall    Winter\n",
       "0     Monday  100506.0  133070.0  194418.0  157640.0\n",
       "1    Tuesday  122388.0  132818.0  199892.0  178388.0\n",
       "2  Wednesday  113624.0  135366.0  190568.0  146398.0\n",
       "3   Thursday  121604.0  138152.0  194908.0  158942.0\n",
       "4     Friday  140672.0  139034.0  192878.0  164220.0\n",
       "5   Saturday  100002.0  118426.0  156730.0  125188.0\n",
       "6     Sunday  104216.0  106764.0  160342.0  137634.0"
      ]
     },
     "execution_count": 144,
     "metadata": {},
     "output_type": "execute_result"
    }
   ],
   "source": [
    "rides_week_spring = np.zeros(7)\n",
    "rides_week_summer = np.zeros(7)\n",
    "rides_week_fall = np.zeros(7)\n",
    "rides_week_winter = np.zeros(7)\n",
    "for i in range(7):\n",
    "    rides_week_spring[i] = spring[spring[\"Weekday\"]==i].size\n",
    "    rides_week_summer[i] = summer[summer[\"Weekday\"]==i].size\n",
    "    rides_week_fall[i] = fall[fall[\"Weekday\"]==i].size\n",
    "    rides_week_winter[i] = winter[winter[\"Weekday\"]==i].size\n",
    "    \n",
    "season_2 = pd.DataFrame({'Weekday': weekdays, 'Spring': rides_week_spring, 'Summer': rides_week_summer, 'Fall': rides_week_fall, 'Winter': rides_week_winter})\n",
    "season_2"
   ]
  },
  {
   "cell_type": "code",
   "execution_count": 146,
   "id": "2f42663a",
   "metadata": {},
   "outputs": [
    {
     "data": {
      "image/png": "[encoded data removed]",
      "text/plain": [
       "<Figure size 576x288 with 1 Axes>"
      ]
     },
     "metadata": {
      "needs_background": "light"
     },
     "output_type": "display_data"
    }
   ],
   "source": [
    "# demand per season\n",
    "plt.figure(figsize=(8,4))\n",
    "plt.plot(season_2[\"Weekday\"], season_2[\"Spring\"],'o-', color='green')\n",
    "plt.plot(season_2[\"Weekday\"], season_2[\"Summer\"],'o-', color='red')\n",
    "plt.plot(season_2[\"Weekday\"], season_2[\"Fall\"],'o-', color='orange')\n",
    "plt.plot(season_2[\"Weekday\"], season_2[\"Winter\"],'o-', color='blue')\n",
    "plt.ylabel(\"Number of Rides\")\n",
    "plt.title(\"Number of Rides in Different Seasons\")\n",
    "plt.show()"
   ]
  }
 ],
 "metadata": {
  "kernelspec": {
   "display_name": "Python 3 (ipykernel)",
   "language": "python",
   "name": "python3"
  },
  "language_info": {
   "codemirror_mode": {
    "name": "ipython",
    "version": 3
   },
   "file_extension": ".py",
   "mimetype": "text/x-python",
   "name": "python",
   "nbconvert_exporter": "python",
   "pygments_lexer": "ipython3",
   "version": "3.9.12"
  }
 },
 "nbformat": 4,
 "nbformat_minor": 5
}

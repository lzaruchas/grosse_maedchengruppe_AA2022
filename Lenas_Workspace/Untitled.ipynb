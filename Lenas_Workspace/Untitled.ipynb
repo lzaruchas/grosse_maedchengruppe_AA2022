{
 "cells": [
  {
   "cell_type": "code",
   "execution_count": 1,
   "id": "fee304ad",
   "metadata": {},
   "outputs": [],
   "source": [
    "import pandas as pd\n",
    "import numpy as np"
   ]
  },
  {
   "cell_type": "code",
   "execution_count": 4,
   "id": "6933f5de",
   "metadata": {},
   "outputs": [],
   "source": [
    "# Datensaetze einlesen\n",
    "la = pd.read_csv('la_2019.csv', parse_dates=[\"start_time\",\"end_time\"])\n",
    "weather = pd.read_csv('weather_hourly_la.csv')"
   ]
  },
  {
   "cell_type": "code",
   "execution_count": 10,
   "id": "9a9cbada",
   "metadata": {},
   "outputs": [
    {
     "name": "stdout",
     "output_type": "stream",
     "text": [
      "           start_time            end_time  start_station_id  end_station_id  \\\n",
      "0 2019-01-01 00:07:00 2019-01-01 00:14:00              3046            3051   \n",
      "1 2019-01-01 00:08:00 2019-01-01 00:14:00              3046            3051   \n",
      "2 2019-01-01 00:18:00 2019-01-01 00:50:00              3030            3075   \n",
      "3 2019-01-01 00:20:00 2019-01-01 00:50:00              3030            3075   \n",
      "4 2019-01-01 00:22:00 2019-01-01 00:50:00              3030            3075   \n",
      "\n",
      "  bike_id user_type start_station_name end_station_name  \n",
      "0   06468   Walk-up         2nd & Hill   7th & Broadway  \n",
      "1   12311   Walk-up         2nd & Hill   7th & Broadway  \n",
      "2   05992   Walk-up         Main & 1st   Broadway & 9th  \n",
      "3   05860   Walk-up         Main & 1st   Broadway & 9th  \n",
      "4   06006   Walk-up         Main & 1st   Broadway & 9th  \n",
      "start_time            290342\n",
      "end_time              290342\n",
      "start_station_id      290342\n",
      "end_station_id        290342\n",
      "bike_id               290342\n",
      "user_type             290342\n",
      "start_station_name    290342\n",
      "end_station_name      290342\n",
      "dtype: int64\n",
      "<class 'pandas.core.frame.DataFrame'>\n",
      "RangeIndex: 290342 entries, 0 to 290341\n",
      "Data columns (total 8 columns):\n",
      " #   Column              Non-Null Count   Dtype         \n",
      "---  ------              --------------   -----         \n",
      " 0   start_time          290342 non-null  datetime64[ns]\n",
      " 1   end_time            290342 non-null  datetime64[ns]\n",
      " 2   start_station_id    290342 non-null  int64         \n",
      " 3   end_station_id      290342 non-null  int64         \n",
      " 4   bike_id             290342 non-null  object        \n",
      " 5   user_type           290342 non-null  object        \n",
      " 6   start_station_name  290342 non-null  object        \n",
      " 7   end_station_name    290342 non-null  object        \n",
      "dtypes: datetime64[ns](2), int64(2), object(4)\n",
      "memory usage: 17.7+ MB\n",
      "None\n"
     ]
    }
   ],
   "source": [
    "# Ueberblick ueber die Daten la\n",
    "print(la.head())\n",
    "print(la.count())\n",
    "print(la.info())"
   ]
  },
  {
   "cell_type": "code",
   "execution_count": 9,
   "id": "61ccd0f2",
   "metadata": {},
   "outputs": [
    {
     "name": "stdout",
     "output_type": "stream",
     "text": [
      "             date_time  max_temp  min_temp  precip\n",
      "0  2015-01-02 01:00:00      11.7      11.7     0.0\n",
      "1  2015-01-02 02:00:00      11.1      11.1     0.0\n",
      "2  2015-01-02 03:00:00      11.1      11.1     0.0\n",
      "3  2015-01-02 04:00:00      10.0      10.0     0.0\n",
      "4  2015-01-02 05:00:00      10.0      10.0     0.0\n",
      "date_time    43756\n",
      "max_temp     43756\n",
      "min_temp     43756\n",
      "precip       43758\n",
      "dtype: int64\n",
      "<class 'pandas.core.frame.DataFrame'>\n",
      "RangeIndex: 43848 entries, 0 to 43847\n",
      "Data columns (total 4 columns):\n",
      " #   Column     Non-Null Count  Dtype  \n",
      "---  ------     --------------  -----  \n",
      " 0   date_time  43756 non-null  object \n",
      " 1   max_temp   43756 non-null  float64\n",
      " 2   min_temp   43756 non-null  float64\n",
      " 3   precip     43758 non-null  float64\n",
      "dtypes: float64(3), object(1)\n",
      "memory usage: 1.3+ MB\n",
      "None\n"
     ]
    }
   ],
   "source": [
    "# Ueberblick ueber die Daten weather\n",
    "print(weather.head())\n",
    "print(weather.count())\n",
    "print(weather.info())"
   ]
  }
 ],
 "metadata": {
  "kernelspec": {
   "display_name": "Python 3 (ipykernel)",
   "language": "python",
   "name": "python3"
  },
  "language_info": {
   "codemirror_mode": {
    "name": "ipython",
    "version": 3
   },
   "file_extension": ".py",
   "mimetype": "text/x-python",
   "name": "python",
   "nbconvert_exporter": "python",
   "pygments_lexer": "ipython3",
   "version": "3.9.7"
  }
 },
 "nbformat": 4,
 "nbformat_minor": 5
}

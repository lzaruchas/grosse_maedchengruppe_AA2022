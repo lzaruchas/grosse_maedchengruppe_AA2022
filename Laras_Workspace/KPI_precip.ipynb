{
 "cells": [
  {
   "cell_type": "markdown",
   "id": "dc6d2ede",
   "metadata": {},
   "source": [
    "### 2. Trips based on precipitation"
   ]
  },
  {
   "cell_type": "code",
   "execution_count": 1,
   "id": "4de654fc",
   "metadata": {},
   "outputs": [
    {
     "data": {
      "text/html": [],
      "text/plain": [
       "<IPython.core.display.HTML object>"
      ]
     },
     "metadata": {},
     "output_type": "display_data"
    }
   ],
   "source": [
    "import pandas as pd\n",
    "import numpy as np\n",
    "import matplotlib.pyplot as plt\n",
    "import seaborn as sns\n",
    "from IPython.display import display, HTML\n",
    "from IPython.display import display, HTML\n",
    "display(HTML(\"\"))\n",
    "import scienceplots\n",
    "plt.style.use(['science', 'no-latex'])\n",
    "from statistics import mean\n",
    "from datetime import date"
   ]
  },
  {
   "cell_type": "markdown",
   "id": "eab91dc8",
   "metadata": {},
   "source": [
    "### Data Preparation for analysis"
   ]
  },
  {
   "cell_type": "code",
   "execution_count": 2,
   "id": "46f20f0f",
   "metadata": {},
   "outputs": [],
   "source": [
    "# import prepared data set\n",
    "df_la = pd.read_csv(\"prepared_data.csv\", parse_dates=[\"start_time\",\"end_time\",\"Date\"],low_memory=False)\n",
    "df_weather = pd.read_csv(\"prepared_data_weather.csv\", parse_dates=[\"date_time\"],low_memory=False)"
   ]
  },
  {
   "cell_type": "code",
   "execution_count": 3,
   "id": "ee623764",
   "metadata": {},
   "outputs": [
    {
     "data": {
      "text/html": [
       "<div>\n",
       "<style scoped>\n",
       "    .dataframe tbody tr th:only-of-type {\n",
       "        vertical-align: middle;\n",
       "    }\n",
       "\n",
       "    .dataframe tbody tr th {\n",
       "        vertical-align: top;\n",
       "    }\n",
       "\n",
       "    .dataframe thead th {\n",
       "        text-align: right;\n",
       "    }\n",
       "</style>\n",
       "<table border=\"1\" class=\"dataframe\">\n",
       "  <thead>\n",
       "    <tr style=\"text-align: right;\">\n",
       "      <th></th>\n",
       "      <th>Unnamed: 0</th>\n",
       "      <th>start_time</th>\n",
       "      <th>end_time</th>\n",
       "      <th>start_station_id</th>\n",
       "      <th>end_station_id</th>\n",
       "      <th>bike_id</th>\n",
       "      <th>user_type</th>\n",
       "      <th>start_station_name</th>\n",
       "      <th>end_station_name</th>\n",
       "      <th>duration</th>\n",
       "      <th>Date</th>\n",
       "      <th>Day</th>\n",
       "      <th>Month</th>\n",
       "      <th>Weekday</th>\n",
       "      <th>Hour</th>\n",
       "      <th>Day_of_year</th>\n",
       "    </tr>\n",
       "  </thead>\n",
       "  <tbody>\n",
       "    <tr>\n",
       "      <th>0</th>\n",
       "      <td>0</td>\n",
       "      <td>2019-01-01 00:07:00</td>\n",
       "      <td>2019-01-01 00:14:00</td>\n",
       "      <td>3046</td>\n",
       "      <td>3051</td>\n",
       "      <td>06468</td>\n",
       "      <td>Walk-up</td>\n",
       "      <td>2nd &amp; Hill</td>\n",
       "      <td>7th &amp; Broadway</td>\n",
       "      <td>7.0</td>\n",
       "      <td>2019-01-01</td>\n",
       "      <td>1</td>\n",
       "      <td>1</td>\n",
       "      <td>1</td>\n",
       "      <td>0</td>\n",
       "      <td>1</td>\n",
       "    </tr>\n",
       "  </tbody>\n",
       "</table>\n",
       "</div>"
      ],
      "text/plain": [
       "   Unnamed: 0          start_time            end_time  start_station_id  \\\n",
       "0           0 2019-01-01 00:07:00 2019-01-01 00:14:00              3046   \n",
       "\n",
       "   end_station_id bike_id user_type start_station_name end_station_name  \\\n",
       "0            3051   06468   Walk-up         2nd & Hill   7th & Broadway   \n",
       "\n",
       "   duration       Date  Day  Month  Weekday  Hour  Day_of_year  \n",
       "0       7.0 2019-01-01    1      1        1     0            1  "
      ]
     },
     "execution_count": 3,
     "metadata": {},
     "output_type": "execute_result"
    }
   ],
   "source": [
    "df_la.head(1)"
   ]
  },
  {
   "cell_type": "code",
   "execution_count": 4,
   "id": "f39335dd",
   "metadata": {},
   "outputs": [
    {
     "data": {
      "text/html": [
       "<div>\n",
       "<style scoped>\n",
       "    .dataframe tbody tr th:only-of-type {\n",
       "        vertical-align: middle;\n",
       "    }\n",
       "\n",
       "    .dataframe tbody tr th {\n",
       "        vertical-align: top;\n",
       "    }\n",
       "\n",
       "    .dataframe thead th {\n",
       "        text-align: right;\n",
       "    }\n",
       "</style>\n",
       "<table border=\"1\" class=\"dataframe\">\n",
       "  <thead>\n",
       "    <tr style=\"text-align: right;\">\n",
       "      <th></th>\n",
       "      <th>Unnamed: 0</th>\n",
       "      <th>start_time</th>\n",
       "      <th>end_time</th>\n",
       "      <th>start_station_id</th>\n",
       "      <th>end_station_id</th>\n",
       "      <th>bike_id</th>\n",
       "      <th>user_type</th>\n",
       "      <th>start_station_name</th>\n",
       "      <th>end_station_name</th>\n",
       "      <th>duration</th>\n",
       "      <th>Date</th>\n",
       "      <th>Day</th>\n",
       "      <th>Month</th>\n",
       "      <th>Weekday</th>\n",
       "      <th>Hour</th>\n",
       "      <th>Day_of_year</th>\n",
       "    </tr>\n",
       "  </thead>\n",
       "  <tbody>\n",
       "    <tr>\n",
       "      <th>283134</th>\n",
       "      <td>290341</td>\n",
       "      <td>2019-12-31 23:58:52</td>\n",
       "      <td>2020-01-01 00:25:27</td>\n",
       "      <td>3074</td>\n",
       "      <td>3049</td>\n",
       "      <td>19053</td>\n",
       "      <td>Annual Pass</td>\n",
       "      <td>Hope &amp; Olympic</td>\n",
       "      <td>2nd &amp; Figueroa</td>\n",
       "      <td>26.0</td>\n",
       "      <td>2019-12-31</td>\n",
       "      <td>31</td>\n",
       "      <td>12</td>\n",
       "      <td>1</td>\n",
       "      <td>23</td>\n",
       "      <td>365</td>\n",
       "    </tr>\n",
       "  </tbody>\n",
       "</table>\n",
       "</div>"
      ],
      "text/plain": [
       "        Unnamed: 0          start_time            end_time  start_station_id  \\\n",
       "283134      290341 2019-12-31 23:58:52 2020-01-01 00:25:27              3074   \n",
       "\n",
       "        end_station_id bike_id    user_type start_station_name  \\\n",
       "283134            3049   19053  Annual Pass     Hope & Olympic   \n",
       "\n",
       "       end_station_name  duration       Date  Day  Month  Weekday  Hour  \\\n",
       "283134   2nd & Figueroa      26.0 2019-12-31   31     12        1    23   \n",
       "\n",
       "        Day_of_year  \n",
       "283134          365  "
      ]
     },
     "execution_count": 4,
     "metadata": {},
     "output_type": "execute_result"
    }
   ],
   "source": [
    "df_la.tail(1)"
   ]
  },
  {
   "cell_type": "code",
   "execution_count": 5,
   "id": "03f7e98b",
   "metadata": {},
   "outputs": [
    {
     "data": {
      "text/html": [
       "<div>\n",
       "<style scoped>\n",
       "    .dataframe tbody tr th:only-of-type {\n",
       "        vertical-align: middle;\n",
       "    }\n",
       "\n",
       "    .dataframe tbody tr th {\n",
       "        vertical-align: top;\n",
       "    }\n",
       "\n",
       "    .dataframe thead th {\n",
       "        text-align: right;\n",
       "    }\n",
       "</style>\n",
       "<table border=\"1\" class=\"dataframe\">\n",
       "  <thead>\n",
       "    <tr style=\"text-align: right;\">\n",
       "      <th></th>\n",
       "      <th>Unnamed: 0</th>\n",
       "      <th>date_time</th>\n",
       "      <th>max_temp</th>\n",
       "      <th>min_temp</th>\n",
       "      <th>precip</th>\n",
       "      <th>year</th>\n",
       "      <th>temp</th>\n",
       "    </tr>\n",
       "  </thead>\n",
       "  <tbody>\n",
       "    <tr>\n",
       "      <th>0</th>\n",
       "      <td>35040</td>\n",
       "      <td>2019-01-01 01:00:00</td>\n",
       "      <td>15.6</td>\n",
       "      <td>15.6</td>\n",
       "      <td>0.0</td>\n",
       "      <td>2019.0</td>\n",
       "      <td>15.6</td>\n",
       "    </tr>\n",
       "    <tr>\n",
       "      <th>1</th>\n",
       "      <td>35041</td>\n",
       "      <td>2019-01-01 02:00:00</td>\n",
       "      <td>15.0</td>\n",
       "      <td>15.0</td>\n",
       "      <td>0.0</td>\n",
       "      <td>2019.0</td>\n",
       "      <td>15.0</td>\n",
       "    </tr>\n",
       "  </tbody>\n",
       "</table>\n",
       "</div>"
      ],
      "text/plain": [
       "   Unnamed: 0           date_time  max_temp  min_temp  precip    year  temp\n",
       "0       35040 2019-01-01 01:00:00      15.6      15.6     0.0  2019.0  15.6\n",
       "1       35041 2019-01-01 02:00:00      15.0      15.0     0.0  2019.0  15.0"
      ]
     },
     "execution_count": 5,
     "metadata": {},
     "output_type": "execute_result"
    }
   ],
   "source": [
    "df_weather.head(2)"
   ]
  },
  {
   "cell_type": "code",
   "execution_count": 6,
   "id": "060b4726",
   "metadata": {},
   "outputs": [],
   "source": [
    "# getting number of trips per hour\n",
    "def get_trips_hour(datetime):\n",
    "    return df_la[(df_la[\"Month\"] == datetime.month) & (df_la[\"Day\"] == datetime.day) & (df_la[\"Hour\"] == datetime.hour)].size"
   ]
  },
  {
   "cell_type": "code",
   "execution_count": 7,
   "id": "9922edaa",
   "metadata": {},
   "outputs": [],
   "source": [
    "df_weather[\"num_trips_hour\"] = df_weather[\"date_time\"].apply(get_trips_hour)"
   ]
  },
  {
   "cell_type": "code",
   "execution_count": 8,
   "id": "033adf81",
   "metadata": {},
   "outputs": [],
   "source": [
    "# getting number of trips per day\n",
    "def get_trips_day(datetime):\n",
    "    return df_la[(df_la[\"Month\"] == datetime.month) & (df_la[\"Day\"] == datetime.day)].size"
   ]
  },
  {
   "cell_type": "code",
   "execution_count": 9,
   "id": "d00f09e0",
   "metadata": {},
   "outputs": [],
   "source": [
    "df_weather[\"num_trips_day\"] = df_weather[\"date_time\"].apply(get_trips_day)"
   ]
  },
  {
   "cell_type": "code",
   "execution_count": 10,
   "id": "a7e69824",
   "metadata": {},
   "outputs": [
    {
     "data": {
      "text/html": [
       "<div>\n",
       "<style scoped>\n",
       "    .dataframe tbody tr th:only-of-type {\n",
       "        vertical-align: middle;\n",
       "    }\n",
       "\n",
       "    .dataframe tbody tr th {\n",
       "        vertical-align: top;\n",
       "    }\n",
       "\n",
       "    .dataframe thead th {\n",
       "        text-align: right;\n",
       "    }\n",
       "</style>\n",
       "<table border=\"1\" class=\"dataframe\">\n",
       "  <thead>\n",
       "    <tr style=\"text-align: right;\">\n",
       "      <th></th>\n",
       "      <th>Unnamed: 0</th>\n",
       "      <th>date_time</th>\n",
       "      <th>max_temp</th>\n",
       "      <th>min_temp</th>\n",
       "      <th>precip</th>\n",
       "      <th>year</th>\n",
       "      <th>temp</th>\n",
       "      <th>num_trips_hour</th>\n",
       "      <th>num_trips_day</th>\n",
       "    </tr>\n",
       "  </thead>\n",
       "  <tbody>\n",
       "    <tr>\n",
       "      <th>0</th>\n",
       "      <td>35040</td>\n",
       "      <td>2019-01-01 01:00:00</td>\n",
       "      <td>15.6</td>\n",
       "      <td>15.6</td>\n",
       "      <td>0.0</td>\n",
       "      <td>2019.0</td>\n",
       "      <td>15.6</td>\n",
       "      <td>128</td>\n",
       "      <td>8080</td>\n",
       "    </tr>\n",
       "    <tr>\n",
       "      <th>1</th>\n",
       "      <td>35041</td>\n",
       "      <td>2019-01-01 02:00:00</td>\n",
       "      <td>15.0</td>\n",
       "      <td>15.0</td>\n",
       "      <td>0.0</td>\n",
       "      <td>2019.0</td>\n",
       "      <td>15.0</td>\n",
       "      <td>256</td>\n",
       "      <td>8080</td>\n",
       "    </tr>\n",
       "    <tr>\n",
       "      <th>2</th>\n",
       "      <td>35042</td>\n",
       "      <td>2019-01-01 03:00:00</td>\n",
       "      <td>15.0</td>\n",
       "      <td>15.0</td>\n",
       "      <td>0.0</td>\n",
       "      <td>2019.0</td>\n",
       "      <td>15.0</td>\n",
       "      <td>32</td>\n",
       "      <td>8080</td>\n",
       "    </tr>\n",
       "    <tr>\n",
       "      <th>3</th>\n",
       "      <td>35043</td>\n",
       "      <td>2019-01-01 04:00:00</td>\n",
       "      <td>13.9</td>\n",
       "      <td>13.9</td>\n",
       "      <td>0.0</td>\n",
       "      <td>2019.0</td>\n",
       "      <td>13.9</td>\n",
       "      <td>0</td>\n",
       "      <td>8080</td>\n",
       "    </tr>\n",
       "    <tr>\n",
       "      <th>4</th>\n",
       "      <td>35044</td>\n",
       "      <td>2019-01-01 05:00:00</td>\n",
       "      <td>12.2</td>\n",
       "      <td>12.2</td>\n",
       "      <td>0.0</td>\n",
       "      <td>2019.0</td>\n",
       "      <td>12.2</td>\n",
       "      <td>0</td>\n",
       "      <td>8080</td>\n",
       "    </tr>\n",
       "  </tbody>\n",
       "</table>\n",
       "</div>"
      ],
      "text/plain": [
       "   Unnamed: 0           date_time  max_temp  min_temp  precip    year  temp  \\\n",
       "0       35040 2019-01-01 01:00:00      15.6      15.6     0.0  2019.0  15.6   \n",
       "1       35041 2019-01-01 02:00:00      15.0      15.0     0.0  2019.0  15.0   \n",
       "2       35042 2019-01-01 03:00:00      15.0      15.0     0.0  2019.0  15.0   \n",
       "3       35043 2019-01-01 04:00:00      13.9      13.9     0.0  2019.0  13.9   \n",
       "4       35044 2019-01-01 05:00:00      12.2      12.2     0.0  2019.0  12.2   \n",
       "\n",
       "   num_trips_hour  num_trips_day  \n",
       "0             128           8080  \n",
       "1             256           8080  \n",
       "2              32           8080  \n",
       "3               0           8080  \n",
       "4               0           8080  "
      ]
     },
     "execution_count": 10,
     "metadata": {},
     "output_type": "execute_result"
    }
   ],
   "source": [
    "df_weather.head(5)"
   ]
  },
  {
   "cell_type": "markdown",
   "id": "71ce33ac",
   "metadata": {},
   "source": [
    "### Overview Trips and Precipitation per hour of the year"
   ]
  },
  {
   "cell_type": "code",
   "execution_count": 11,
   "id": "d51b402d",
   "metadata": {
    "scrolled": true
   },
   "outputs": [
    {
     "data": {
      "image/png": "[encoded data removed]",
      "text/plain": [
       "<Figure size 252x189 with 1 Axes>"
      ]
     },
     "metadata": {
      "needs_background": "light"
     },
     "output_type": "display_data"
    }
   ],
   "source": [
    "# Overview trips per hour of year\n",
    "plt.plot(df_weather.index, df_weather[\"num_trips_hour\"], label='Trips per hour')\n",
    "plt.title('Absolute number of trips per hour')\n",
    "plt.ylabel('Trips')\n",
    "plt.xlabel('Hour')\n",
    "plt.show()"
   ]
  },
  {
   "cell_type": "code",
   "execution_count": 12,
   "id": "6845513e",
   "metadata": {},
   "outputs": [
    {
     "data": {
      "image/png": "[encoded data removed]",
      "text/plain": [
       "<Figure size 252x189 with 1 Axes>"
      ]
     },
     "metadata": {
      "needs_background": "light"
     },
     "output_type": "display_data"
    }
   ],
   "source": [
    "# Overview precipitation per hour of year\n",
    "plt.plot(df_weather.index, df_weather[\"precip\"], label='Precipitation per hour with 1 = precipitation and 0 = no precipitation')\n",
    "plt.ylabel('Precipitation')\n",
    "plt.xlabel('Hour')\n",
    "plt.show()"
   ]
  },
  {
   "cell_type": "markdown",
   "id": "35a0d693",
   "metadata": {},
   "source": [
    "### Combine the two datasets"
   ]
  },
  {
   "cell_type": "code",
   "execution_count": 13,
   "id": "73fceb38",
   "metadata": {},
   "outputs": [],
   "source": [
    "def replace_minutes(dt):\n",
    "    return dt.replace(minute=0, second=0)"
   ]
  },
  {
   "cell_type": "code",
   "execution_count": 14,
   "id": "8345d070",
   "metadata": {},
   "outputs": [
    {
     "data": {
      "text/html": [
       "<div>\n",
       "<style scoped>\n",
       "    .dataframe tbody tr th:only-of-type {\n",
       "        vertical-align: middle;\n",
       "    }\n",
       "\n",
       "    .dataframe tbody tr th {\n",
       "        vertical-align: top;\n",
       "    }\n",
       "\n",
       "    .dataframe thead th {\n",
       "        text-align: right;\n",
       "    }\n",
       "</style>\n",
       "<table border=\"1\" class=\"dataframe\">\n",
       "  <thead>\n",
       "    <tr style=\"text-align: right;\">\n",
       "      <th></th>\n",
       "      <th>Unnamed: 0</th>\n",
       "      <th>date_time</th>\n",
       "      <th>end_time</th>\n",
       "      <th>start_station_id</th>\n",
       "      <th>end_station_id</th>\n",
       "      <th>bike_id</th>\n",
       "      <th>user_type</th>\n",
       "      <th>start_station_name</th>\n",
       "      <th>end_station_name</th>\n",
       "      <th>duration</th>\n",
       "      <th>Date</th>\n",
       "      <th>Day</th>\n",
       "      <th>Month</th>\n",
       "      <th>Weekday</th>\n",
       "      <th>Hour</th>\n",
       "      <th>Day_of_year</th>\n",
       "    </tr>\n",
       "  </thead>\n",
       "  <tbody>\n",
       "    <tr>\n",
       "      <th>283132</th>\n",
       "      <td>290339</td>\n",
       "      <td>2019-12-31 23:00:00</td>\n",
       "      <td>2019-12-31 23:47:41</td>\n",
       "      <td>3051</td>\n",
       "      <td>3064</td>\n",
       "      <td>12298</td>\n",
       "      <td>Annual Pass</td>\n",
       "      <td>7th &amp; Broadway</td>\n",
       "      <td>Grand &amp; 8th</td>\n",
       "      <td>4.0</td>\n",
       "      <td>2019-12-31</td>\n",
       "      <td>31</td>\n",
       "      <td>12</td>\n",
       "      <td>1</td>\n",
       "      <td>23</td>\n",
       "      <td>365</td>\n",
       "    </tr>\n",
       "    <tr>\n",
       "      <th>283133</th>\n",
       "      <td>290340</td>\n",
       "      <td>2019-12-31 23:00:00</td>\n",
       "      <td>2019-12-31 23:53:55</td>\n",
       "      <td>3064</td>\n",
       "      <td>3074</td>\n",
       "      <td>19053</td>\n",
       "      <td>Annual Pass</td>\n",
       "      <td>Grand &amp; 8th</td>\n",
       "      <td>Hope &amp; Olympic</td>\n",
       "      <td>5.0</td>\n",
       "      <td>2019-12-31</td>\n",
       "      <td>31</td>\n",
       "      <td>12</td>\n",
       "      <td>1</td>\n",
       "      <td>23</td>\n",
       "      <td>365</td>\n",
       "    </tr>\n",
       "    <tr>\n",
       "      <th>283134</th>\n",
       "      <td>290341</td>\n",
       "      <td>2019-12-31 23:00:00</td>\n",
       "      <td>2020-01-01 00:25:27</td>\n",
       "      <td>3074</td>\n",
       "      <td>3049</td>\n",
       "      <td>19053</td>\n",
       "      <td>Annual Pass</td>\n",
       "      <td>Hope &amp; Olympic</td>\n",
       "      <td>2nd &amp; Figueroa</td>\n",
       "      <td>26.0</td>\n",
       "      <td>2019-12-31</td>\n",
       "      <td>31</td>\n",
       "      <td>12</td>\n",
       "      <td>1</td>\n",
       "      <td>23</td>\n",
       "      <td>365</td>\n",
       "    </tr>\n",
       "  </tbody>\n",
       "</table>\n",
       "</div>"
      ],
      "text/plain": [
       "        Unnamed: 0           date_time            end_time  start_station_id  \\\n",
       "283132      290339 2019-12-31 23:00:00 2019-12-31 23:47:41              3051   \n",
       "283133      290340 2019-12-31 23:00:00 2019-12-31 23:53:55              3064   \n",
       "283134      290341 2019-12-31 23:00:00 2020-01-01 00:25:27              3074   \n",
       "\n",
       "        end_station_id bike_id    user_type start_station_name  \\\n",
       "283132            3064   12298  Annual Pass     7th & Broadway   \n",
       "283133            3074   19053  Annual Pass        Grand & 8th   \n",
       "283134            3049   19053  Annual Pass     Hope & Olympic   \n",
       "\n",
       "       end_station_name  duration       Date  Day  Month  Weekday  Hour  \\\n",
       "283132      Grand & 8th       4.0 2019-12-31   31     12        1    23   \n",
       "283133   Hope & Olympic       5.0 2019-12-31   31     12        1    23   \n",
       "283134   2nd & Figueroa      26.0 2019-12-31   31     12        1    23   \n",
       "\n",
       "        Day_of_year  \n",
       "283132          365  \n",
       "283133          365  \n",
       "283134          365  "
      ]
     },
     "execution_count": 14,
     "metadata": {},
     "output_type": "execute_result"
    }
   ],
   "source": [
    "df_la.rename(columns={'start_time':'date_time'}, inplace=True)\n",
    "df_la[\"date_time\"] = df_la[\"date_time\"].apply(replace_minutes)\n",
    "df_la.tail(3)"
   ]
  },
  {
   "cell_type": "code",
   "execution_count": 15,
   "id": "482be74c",
   "metadata": {},
   "outputs": [
    {
     "data": {
      "text/html": [
       "<div>\n",
       "<style scoped>\n",
       "    .dataframe tbody tr th:only-of-type {\n",
       "        vertical-align: middle;\n",
       "    }\n",
       "\n",
       "    .dataframe tbody tr th {\n",
       "        vertical-align: top;\n",
       "    }\n",
       "\n",
       "    .dataframe thead th {\n",
       "        text-align: right;\n",
       "    }\n",
       "</style>\n",
       "<table border=\"1\" class=\"dataframe\">\n",
       "  <thead>\n",
       "    <tr style=\"text-align: right;\">\n",
       "      <th></th>\n",
       "      <th>Unnamed: 0_x</th>\n",
       "      <th>date_time</th>\n",
       "      <th>end_time</th>\n",
       "      <th>start_station_id</th>\n",
       "      <th>end_station_id</th>\n",
       "      <th>bike_id</th>\n",
       "      <th>user_type</th>\n",
       "      <th>start_station_name</th>\n",
       "      <th>end_station_name</th>\n",
       "      <th>duration</th>\n",
       "      <th>...</th>\n",
       "      <th>Hour</th>\n",
       "      <th>Day_of_year</th>\n",
       "      <th>Unnamed: 0_y</th>\n",
       "      <th>max_temp</th>\n",
       "      <th>min_temp</th>\n",
       "      <th>precip</th>\n",
       "      <th>year</th>\n",
       "      <th>temp</th>\n",
       "      <th>num_trips_hour</th>\n",
       "      <th>num_trips_day</th>\n",
       "    </tr>\n",
       "  </thead>\n",
       "  <tbody>\n",
       "    <tr>\n",
       "      <th>0</th>\n",
       "      <td>0</td>\n",
       "      <td>2019-01-01</td>\n",
       "      <td>2019-01-01 00:14:00</td>\n",
       "      <td>3046</td>\n",
       "      <td>3051</td>\n",
       "      <td>06468</td>\n",
       "      <td>Walk-up</td>\n",
       "      <td>2nd &amp; Hill</td>\n",
       "      <td>7th &amp; Broadway</td>\n",
       "      <td>7.0</td>\n",
       "      <td>...</td>\n",
       "      <td>0</td>\n",
       "      <td>1</td>\n",
       "      <td>35063.0</td>\n",
       "      <td>15.6</td>\n",
       "      <td>15.6</td>\n",
       "      <td>0.0</td>\n",
       "      <td>2019.0</td>\n",
       "      <td>15.6</td>\n",
       "      <td>304.0</td>\n",
       "      <td>8080.0</td>\n",
       "    </tr>\n",
       "    <tr>\n",
       "      <th>1</th>\n",
       "      <td>1</td>\n",
       "      <td>2019-01-01</td>\n",
       "      <td>2019-01-01 00:14:00</td>\n",
       "      <td>3046</td>\n",
       "      <td>3051</td>\n",
       "      <td>12311</td>\n",
       "      <td>Walk-up</td>\n",
       "      <td>2nd &amp; Hill</td>\n",
       "      <td>7th &amp; Broadway</td>\n",
       "      <td>6.0</td>\n",
       "      <td>...</td>\n",
       "      <td>0</td>\n",
       "      <td>1</td>\n",
       "      <td>35063.0</td>\n",
       "      <td>15.6</td>\n",
       "      <td>15.6</td>\n",
       "      <td>0.0</td>\n",
       "      <td>2019.0</td>\n",
       "      <td>15.6</td>\n",
       "      <td>304.0</td>\n",
       "      <td>8080.0</td>\n",
       "    </tr>\n",
       "    <tr>\n",
       "      <th>2</th>\n",
       "      <td>2</td>\n",
       "      <td>2019-01-01</td>\n",
       "      <td>2019-01-01 00:50:00</td>\n",
       "      <td>3030</td>\n",
       "      <td>3075</td>\n",
       "      <td>05992</td>\n",
       "      <td>Walk-up</td>\n",
       "      <td>Main &amp; 1st</td>\n",
       "      <td>Broadway &amp; 9th</td>\n",
       "      <td>32.0</td>\n",
       "      <td>...</td>\n",
       "      <td>0</td>\n",
       "      <td>1</td>\n",
       "      <td>35063.0</td>\n",
       "      <td>15.6</td>\n",
       "      <td>15.6</td>\n",
       "      <td>0.0</td>\n",
       "      <td>2019.0</td>\n",
       "      <td>15.6</td>\n",
       "      <td>304.0</td>\n",
       "      <td>8080.0</td>\n",
       "    </tr>\n",
       "  </tbody>\n",
       "</table>\n",
       "<p>3 rows × 24 columns</p>\n",
       "</div>"
      ],
      "text/plain": [
       "   Unnamed: 0_x  date_time            end_time  start_station_id  \\\n",
       "0             0 2019-01-01 2019-01-01 00:14:00              3046   \n",
       "1             1 2019-01-01 2019-01-01 00:14:00              3046   \n",
       "2             2 2019-01-01 2019-01-01 00:50:00              3030   \n",
       "\n",
       "   end_station_id bike_id user_type start_station_name end_station_name  \\\n",
       "0            3051   06468   Walk-up         2nd & Hill   7th & Broadway   \n",
       "1            3051   12311   Walk-up         2nd & Hill   7th & Broadway   \n",
       "2            3075   05992   Walk-up         Main & 1st   Broadway & 9th   \n",
       "\n",
       "   duration  ... Hour  Day_of_year  Unnamed: 0_y  max_temp  min_temp  precip  \\\n",
       "0       7.0  ...    0            1       35063.0      15.6      15.6     0.0   \n",
       "1       6.0  ...    0            1       35063.0      15.6      15.6     0.0   \n",
       "2      32.0  ...    0            1       35063.0      15.6      15.6     0.0   \n",
       "\n",
       "     year  temp  num_trips_hour  num_trips_day  \n",
       "0  2019.0  15.6           304.0         8080.0  \n",
       "1  2019.0  15.6           304.0         8080.0  \n",
       "2  2019.0  15.6           304.0         8080.0  \n",
       "\n",
       "[3 rows x 24 columns]"
      ]
     },
     "execution_count": 15,
     "metadata": {},
     "output_type": "execute_result"
    }
   ],
   "source": [
    "df_la = pd.merge(df_la, df_weather, how=\"left\", on =[\"date_time\"])\n",
    "df_la.head(3)"
   ]
  },
  {
   "cell_type": "markdown",
   "id": "75df8423",
   "metadata": {},
   "source": [
    "### Number of rides based on Precipitation"
   ]
  },
  {
   "cell_type": "code",
   "execution_count": 16,
   "id": "f98b7c43",
   "metadata": {},
   "outputs": [
    {
     "data": {
      "text/html": [
       "<div>\n",
       "<style scoped>\n",
       "    .dataframe tbody tr th:only-of-type {\n",
       "        vertical-align: middle;\n",
       "    }\n",
       "\n",
       "    .dataframe tbody tr th {\n",
       "        vertical-align: top;\n",
       "    }\n",
       "\n",
       "    .dataframe thead th {\n",
       "        text-align: right;\n",
       "    }\n",
       "</style>\n",
       "<table border=\"1\" class=\"dataframe\">\n",
       "  <thead>\n",
       "    <tr style=\"text-align: right;\">\n",
       "      <th></th>\n",
       "      <th>precip_count</th>\n",
       "    </tr>\n",
       "  </thead>\n",
       "  <tbody>\n",
       "    <tr>\n",
       "      <th>0.0</th>\n",
       "      <td>277001</td>\n",
       "    </tr>\n",
       "    <tr>\n",
       "      <th>1.0</th>\n",
       "      <td>5602</td>\n",
       "    </tr>\n",
       "  </tbody>\n",
       "</table>\n",
       "</div>"
      ],
      "text/plain": [
       "     precip_count\n",
       "0.0        277001\n",
       "1.0          5602"
      ]
     },
     "execution_count": 16,
     "metadata": {},
     "output_type": "execute_result"
    }
   ],
   "source": [
    "# number of rides without and with precipitation\n",
    "precip_count = pd.DataFrame()\n",
    "precip_count[\"precip_count\"] = df_la[\"precip\"].value_counts()\n",
    "precip_count.sort_index(inplace=True)\n",
    "precip_count.head()"
   ]
  },
  {
   "cell_type": "code",
   "execution_count": 17,
   "id": "959c1b8b",
   "metadata": {},
   "outputs": [
    {
     "data": {
      "text/plain": [
       "Text(0, 0.5, 'Trips')"
      ]
     },
     "execution_count": 17,
     "metadata": {},
     "output_type": "execute_result"
    },
    {
     "data": {
      "image/png": "[encoded data removed]",
      "text/plain": [
       "<Figure size 252x189 with 1 Axes>"
      ]
     },
     "metadata": {
      "needs_background": "light"
     },
     "output_type": "display_data"
    }
   ],
   "source": [
    "# number of rides without and with precipitation\n",
    "plt.bar(precip_count.index, precip_count[\"precip_count\"], label='Trips for precipitation')\n",
    "plt.title(\"Rides with and without precipitation with 0 = no precipitation and 1 = precipitation\")\n",
    "plt.xlabel('Precipitation') \n",
    "plt.ylabel('Trips')"
   ]
  },
  {
   "cell_type": "markdown",
   "id": "eba9597a",
   "metadata": {},
   "source": [
    "### Trips based on precipitation per hour"
   ]
  },
  {
   "cell_type": "code",
   "execution_count": 18,
   "id": "55f6d117",
   "metadata": {},
   "outputs": [
    {
     "data": {
      "text/html": [
       "<div>\n",
       "<style scoped>\n",
       "    .dataframe tbody tr th:only-of-type {\n",
       "        vertical-align: middle;\n",
       "    }\n",
       "\n",
       "    .dataframe tbody tr th {\n",
       "        vertical-align: top;\n",
       "    }\n",
       "\n",
       "    .dataframe thead th {\n",
       "        text-align: right;\n",
       "    }\n",
       "</style>\n",
       "<table border=\"1\" class=\"dataframe\">\n",
       "  <thead>\n",
       "    <tr style=\"text-align: right;\">\n",
       "      <th></th>\n",
       "      <th>date_time</th>\n",
       "      <th>max_temp</th>\n",
       "      <th>min_temp</th>\n",
       "      <th>precip</th>\n",
       "      <th>num_trips_hour</th>\n",
       "    </tr>\n",
       "  </thead>\n",
       "  <tbody>\n",
       "    <tr>\n",
       "      <th>0</th>\n",
       "      <td>2019-01-01 01:00:00</td>\n",
       "      <td>15.6</td>\n",
       "      <td>15.6</td>\n",
       "      <td>0.0</td>\n",
       "      <td>128</td>\n",
       "    </tr>\n",
       "    <tr>\n",
       "      <th>1</th>\n",
       "      <td>2019-01-01 02:00:00</td>\n",
       "      <td>15.0</td>\n",
       "      <td>15.0</td>\n",
       "      <td>0.0</td>\n",
       "      <td>256</td>\n",
       "    </tr>\n",
       "    <tr>\n",
       "      <th>2</th>\n",
       "      <td>2019-01-01 03:00:00</td>\n",
       "      <td>15.0</td>\n",
       "      <td>15.0</td>\n",
       "      <td>0.0</td>\n",
       "      <td>32</td>\n",
       "    </tr>\n",
       "    <tr>\n",
       "      <th>3</th>\n",
       "      <td>2019-01-01 04:00:00</td>\n",
       "      <td>13.9</td>\n",
       "      <td>13.9</td>\n",
       "      <td>0.0</td>\n",
       "      <td>0</td>\n",
       "    </tr>\n",
       "    <tr>\n",
       "      <th>4</th>\n",
       "      <td>2019-01-01 05:00:00</td>\n",
       "      <td>12.2</td>\n",
       "      <td>12.2</td>\n",
       "      <td>0.0</td>\n",
       "      <td>0</td>\n",
       "    </tr>\n",
       "  </tbody>\n",
       "</table>\n",
       "</div>"
      ],
      "text/plain": [
       "            date_time  max_temp  min_temp  precip  num_trips_hour\n",
       "0 2019-01-01 01:00:00      15.6      15.6     0.0             128\n",
       "1 2019-01-01 02:00:00      15.0      15.0     0.0             256\n",
       "2 2019-01-01 03:00:00      15.0      15.0     0.0              32\n",
       "3 2019-01-01 04:00:00      13.9      13.9     0.0               0\n",
       "4 2019-01-01 05:00:00      12.2      12.2     0.0               0"
      ]
     },
     "execution_count": 18,
     "metadata": {},
     "output_type": "execute_result"
    }
   ],
   "source": [
    "precip_trips_hour = df_weather\n",
    "precip_trips_hour = precip_trips_hour.drop(columns=[\"Unnamed: 0\",\"year\",\"temp\",\"num_trips_day\"])\n",
    "precip_trips_hour.head(5)"
   ]
  },
  {
   "cell_type": "code",
   "execution_count": 19,
   "id": "bae079f9",
   "metadata": {},
   "outputs": [
    {
     "data": {
      "text/plain": [
       "350.125"
      ]
     },
     "execution_count": 19,
     "metadata": {},
     "output_type": "execute_result"
    }
   ],
   "source": [
    "# Mean of number of trips per hour when precipitation\n",
    "hours_with_precip = precip_trips_hour[precip_trips_hour[\"precip\"] == 1]\n",
    "hours_with_precip[\"num_trips_hour\"].mean()"
   ]
  },
  {
   "cell_type": "code",
   "execution_count": 20,
   "id": "4da8da85",
   "metadata": {
    "scrolled": true
   },
   "outputs": [
    {
     "data": {
      "text/plain": [
       "522.8900424728646"
      ]
     },
     "execution_count": 20,
     "metadata": {},
     "output_type": "execute_result"
    }
   ],
   "source": [
    "# Mean of numbers of trips per hours when no precipitation\n",
    "hours_without_precip = precip_trips_hour[precip_trips_hour[\"precip\"] == 0]\n",
    "hours_without_precip[\"num_trips_hour\"].mean()"
   ]
  },
  {
   "cell_type": "code",
   "execution_count": 21,
   "id": "1e4e7816",
   "metadata": {},
   "outputs": [
    {
     "data": {
      "text/html": [
       "<div>\n",
       "<style scoped>\n",
       "    .dataframe tbody tr th:only-of-type {\n",
       "        vertical-align: middle;\n",
       "    }\n",
       "\n",
       "    .dataframe tbody tr th {\n",
       "        vertical-align: top;\n",
       "    }\n",
       "\n",
       "    .dataframe thead th {\n",
       "        text-align: right;\n",
       "    }\n",
       "</style>\n",
       "<table border=\"1\" class=\"dataframe\">\n",
       "  <thead>\n",
       "    <tr style=\"text-align: right;\">\n",
       "      <th></th>\n",
       "      <th>date_time</th>\n",
       "      <th>max_temp</th>\n",
       "      <th>min_temp</th>\n",
       "      <th>precip</th>\n",
       "      <th>num_trips_hour</th>\n",
       "    </tr>\n",
       "  </thead>\n",
       "  <tbody>\n",
       "    <tr>\n",
       "      <th>0</th>\n",
       "      <td>2019-01-01 01:00:00</td>\n",
       "      <td>15.6</td>\n",
       "      <td>15.6</td>\n",
       "      <td>0.0</td>\n",
       "      <td>128</td>\n",
       "    </tr>\n",
       "  </tbody>\n",
       "</table>\n",
       "</div>"
      ],
      "text/plain": [
       "            date_time  max_temp  min_temp  precip  num_trips_hour\n",
       "0 2019-01-01 01:00:00      15.6      15.6     0.0             128"
      ]
     },
     "execution_count": 21,
     "metadata": {},
     "output_type": "execute_result"
    }
   ],
   "source": [
    "precip_trips_hour.head(1)"
   ]
  },
  {
   "cell_type": "code",
   "execution_count": 32,
   "id": "3d72e96c",
   "metadata": {},
   "outputs": [],
   "source": [
    "precip_trips_hour.to_csv('datasets_merged_hour.csv')"
   ]
  },
  {
   "cell_type": "code",
   "execution_count": 22,
   "id": "449604d1",
   "metadata": {},
   "outputs": [
    {
     "data": {
      "image/png": "[encoded data removed]",
      "text/plain": [
       "<Figure size 1440x360 with 1 Axes>"
      ]
     },
     "metadata": {
      "needs_background": "light"
     },
     "output_type": "display_data"
    }
   ],
   "source": [
    "# number of rides per hour with and without precipitation\n",
    "plt.figure(figsize = (20,5))\n",
    "plt.scatter(hours_without_precip.index, hours_without_precip[\"num_trips_hour\"], color = 'g', s=10)\n",
    "plt.scatter(hours_with_precip.index, hours_with_precip[\"num_trips_hour\"], color = 'b', s=10)\n",
    "plt.xlabel(\"Hour\")\n",
    "plt.ylabel(\"Number of Trips\")\n",
    "plt.title(\"Number of rides per hour with (blue) and without (green) precipitation\")\n",
    "plt.show()"
   ]
  },
  {
   "cell_type": "markdown",
   "id": "97d36a99",
   "metadata": {},
   "source": [
    "### Trips based on precipitation per day"
   ]
  },
  {
   "cell_type": "code",
   "execution_count": 23,
   "id": "dadb7896",
   "metadata": {},
   "outputs": [
    {
     "name": "stdout",
     "output_type": "stream",
     "text": [
      "<class 'pandas.core.frame.DataFrame'>\n",
      "DatetimeIndex: 365 entries, 2019-01-01 to 2019-12-31\n",
      "Freq: D\n",
      "Data columns (total 1 columns):\n",
      " #   Column         Non-Null Count  Dtype  \n",
      "---  ------         --------------  -----  \n",
      " 0   num_trips_day  365 non-null    float64\n",
      "dtypes: float64(1)\n",
      "memory usage: 5.7 KB\n"
     ]
    }
   ],
   "source": [
    "# per day\n",
    "precip_trips_day_1 = df_la.resample(\"D\", on=\"date_time\").agg({'num_trips_day':'max'})\n",
    "precip_trips_day_1.info(2)"
   ]
  },
  {
   "cell_type": "code",
   "execution_count": 24,
   "id": "5dd1a9b3",
   "metadata": {},
   "outputs": [
    {
     "name": "stdout",
     "output_type": "stream",
     "text": [
      "<class 'pandas.core.frame.DataFrame'>\n",
      "DatetimeIndex: 365 entries, 2019-01-01 to 2019-12-31\n",
      "Freq: D\n",
      "Data columns (total 3 columns):\n",
      " #   Column    Non-Null Count  Dtype  \n",
      "---  ------    --------------  -----  \n",
      " 0   max_temp  365 non-null    float64\n",
      " 1   min_temp  365 non-null    float64\n",
      " 2   precip    365 non-null    float64\n",
      "dtypes: float64(3)\n",
      "memory usage: 11.4 KB\n"
     ]
    }
   ],
   "source": [
    "precip_trips_day_2 = df_weather.resample(\"D\", on=\"date_time\").agg({'max_temp':'max', 'min_temp': 'min','precip':'sum'})\n",
    "precip_trips_day_2.info(2)"
   ]
  },
  {
   "cell_type": "code",
   "execution_count": 25,
   "id": "22f103d7",
   "metadata": {},
   "outputs": [],
   "source": [
    "precip_trips_day = pd.merge(precip_trips_day_1, precip_trips_day_2, how=\"left\", on =[\"date_time\"])"
   ]
  },
  {
   "cell_type": "code",
   "execution_count": 26,
   "id": "9ecf1615",
   "metadata": {},
   "outputs": [
    {
     "data": {
      "text/html": [
       "<div>\n",
       "<style scoped>\n",
       "    .dataframe tbody tr th:only-of-type {\n",
       "        vertical-align: middle;\n",
       "    }\n",
       "\n",
       "    .dataframe tbody tr th {\n",
       "        vertical-align: top;\n",
       "    }\n",
       "\n",
       "    .dataframe thead th {\n",
       "        text-align: right;\n",
       "    }\n",
       "</style>\n",
       "<table border=\"1\" class=\"dataframe\">\n",
       "  <thead>\n",
       "    <tr style=\"text-align: right;\">\n",
       "      <th></th>\n",
       "      <th>num_trips_day</th>\n",
       "      <th>max_temp</th>\n",
       "      <th>min_temp</th>\n",
       "      <th>precip</th>\n",
       "    </tr>\n",
       "    <tr>\n",
       "      <th>date_time</th>\n",
       "      <th></th>\n",
       "      <th></th>\n",
       "      <th></th>\n",
       "      <th></th>\n",
       "    </tr>\n",
       "  </thead>\n",
       "  <tbody>\n",
       "    <tr>\n",
       "      <th>2019-01-01</th>\n",
       "      <td>8080.0</td>\n",
       "      <td>16.7</td>\n",
       "      <td>6.1</td>\n",
       "      <td>0.0</td>\n",
       "    </tr>\n",
       "    <tr>\n",
       "      <th>2019-01-02</th>\n",
       "      <td>10656.0</td>\n",
       "      <td>16.1</td>\n",
       "      <td>4.4</td>\n",
       "      <td>0.0</td>\n",
       "    </tr>\n",
       "  </tbody>\n",
       "</table>\n",
       "</div>"
      ],
      "text/plain": [
       "            num_trips_day  max_temp  min_temp  precip\n",
       "date_time                                            \n",
       "2019-01-01         8080.0      16.7       6.1     0.0\n",
       "2019-01-02        10656.0      16.1       4.4     0.0"
      ]
     },
     "execution_count": 26,
     "metadata": {},
     "output_type": "execute_result"
    }
   ],
   "source": [
    "precip_trips_day.head(2)"
   ]
  },
  {
   "cell_type": "code",
   "execution_count": 27,
   "id": "b57370c5",
   "metadata": {},
   "outputs": [
    {
     "data": {
      "text/html": [
       "<div>\n",
       "<style scoped>\n",
       "    .dataframe tbody tr th:only-of-type {\n",
       "        vertical-align: middle;\n",
       "    }\n",
       "\n",
       "    .dataframe tbody tr th {\n",
       "        vertical-align: top;\n",
       "    }\n",
       "\n",
       "    .dataframe thead th {\n",
       "        text-align: right;\n",
       "    }\n",
       "</style>\n",
       "<table border=\"1\" class=\"dataframe\">\n",
       "  <thead>\n",
       "    <tr style=\"text-align: right;\">\n",
       "      <th></th>\n",
       "      <th>num_trips_day</th>\n",
       "      <th>max_temp</th>\n",
       "      <th>min_temp</th>\n",
       "      <th>precip</th>\n",
       "    </tr>\n",
       "    <tr>\n",
       "      <th>date_time</th>\n",
       "      <th></th>\n",
       "      <th></th>\n",
       "      <th></th>\n",
       "      <th></th>\n",
       "    </tr>\n",
       "  </thead>\n",
       "  <tbody>\n",
       "    <tr>\n",
       "      <th>2019-12-30</th>\n",
       "      <td>13248.0</td>\n",
       "      <td>17.8</td>\n",
       "      <td>11.7</td>\n",
       "      <td>0.0</td>\n",
       "    </tr>\n",
       "    <tr>\n",
       "      <th>2019-12-31</th>\n",
       "      <td>13184.0</td>\n",
       "      <td>22.8</td>\n",
       "      <td>10.6</td>\n",
       "      <td>0.0</td>\n",
       "    </tr>\n",
       "  </tbody>\n",
       "</table>\n",
       "</div>"
      ],
      "text/plain": [
       "            num_trips_day  max_temp  min_temp  precip\n",
       "date_time                                            \n",
       "2019-12-30        13248.0      17.8      11.7     0.0\n",
       "2019-12-31        13184.0      22.8      10.6     0.0"
      ]
     },
     "execution_count": 27,
     "metadata": {},
     "output_type": "execute_result"
    }
   ],
   "source": [
    "precip_trips_day.tail(2)"
   ]
  },
  {
   "cell_type": "code",
   "execution_count": 28,
   "id": "ea3d4f39",
   "metadata": {},
   "outputs": [
    {
     "data": {
      "text/plain": [
       "8862.518518518518"
      ]
     },
     "execution_count": 28,
     "metadata": {},
     "output_type": "execute_result"
    }
   ],
   "source": [
    "# Mean of number of day when precipitation\n",
    "days_with_precip = precip_trips_day[precip_trips_day[\"precip\"] != 0] # here maybe >=2 oder so setzen\n",
    "#hours_with_precip.head(2)\n",
    "days_with_precip[\"num_trips_day\"].mean()"
   ]
  },
  {
   "cell_type": "code",
   "execution_count": 29,
   "id": "e209a540",
   "metadata": {},
   "outputs": [
    {
     "data": {
      "text/plain": [
       "13027.601286173633"
      ]
     },
     "execution_count": 29,
     "metadata": {},
     "output_type": "execute_result"
    }
   ],
   "source": [
    "# Mean of numbers of trips per day when no precipitation\n",
    "days_without_precip = precip_trips_day[precip_trips_day[\"precip\"] == 0]\n",
    "days_without_precip[\"num_trips_day\"].mean()"
   ]
  },
  {
   "cell_type": "code",
   "execution_count": 30,
   "id": "99400f9a",
   "metadata": {},
   "outputs": [
    {
     "data": {
      "text/html": [
       "<div>\n",
       "<style scoped>\n",
       "    .dataframe tbody tr th:only-of-type {\n",
       "        vertical-align: middle;\n",
       "    }\n",
       "\n",
       "    .dataframe tbody tr th {\n",
       "        vertical-align: top;\n",
       "    }\n",
       "\n",
       "    .dataframe thead th {\n",
       "        text-align: right;\n",
       "    }\n",
       "</style>\n",
       "<table border=\"1\" class=\"dataframe\">\n",
       "  <thead>\n",
       "    <tr style=\"text-align: right;\">\n",
       "      <th></th>\n",
       "      <th>num_trips_day</th>\n",
       "      <th>max_temp</th>\n",
       "      <th>min_temp</th>\n",
       "      <th>precip</th>\n",
       "    </tr>\n",
       "    <tr>\n",
       "      <th>date_time</th>\n",
       "      <th></th>\n",
       "      <th></th>\n",
       "      <th></th>\n",
       "      <th></th>\n",
       "    </tr>\n",
       "  </thead>\n",
       "  <tbody>\n",
       "    <tr>\n",
       "      <th>2019-01-01</th>\n",
       "      <td>8080.0</td>\n",
       "      <td>16.7</td>\n",
       "      <td>6.1</td>\n",
       "      <td>0.0</td>\n",
       "    </tr>\n",
       "  </tbody>\n",
       "</table>\n",
       "</div>"
      ],
      "text/plain": [
       "            num_trips_day  max_temp  min_temp  precip\n",
       "date_time                                            \n",
       "2019-01-01         8080.0      16.7       6.1     0.0"
      ]
     },
     "execution_count": 30,
     "metadata": {},
     "output_type": "execute_result"
    }
   ],
   "source": [
    "precip_trips_day.head(1)"
   ]
  },
  {
   "cell_type": "code",
   "execution_count": 31,
   "id": "f4f855e9",
   "metadata": {},
   "outputs": [
    {
     "data": {
      "image/png": "[encoded data removed]",
      "text/plain": [
       "<Figure size 1440x360 with 1 Axes>"
      ]
     },
     "metadata": {
      "needs_background": "light"
     },
     "output_type": "display_data"
    }
   ],
   "source": [
    "# number of rides per day with and without precipitation\n",
    "plt.figure(figsize = (20,5))\n",
    "plt.scatter(days_without_precip.index, days_without_precip[\"num_trips_day\"], color = 'g', s=10)\n",
    "plt.scatter(days_with_precip.index, days_with_precip[\"num_trips_day\"], color = 'b', s=10)\n",
    "plt.xlabel(\"Day\")\n",
    "plt.ylabel(\"Number of Trips\")\n",
    "plt.title(\"Number of rides per day with (blue) and without (green) precipitation\")\n",
    "plt.show()"
   ]
  }
 ],
 "metadata": {
  "kernelspec": {
   "display_name": "Python 3 (ipykernel)",
   "language": "python",
   "name": "python3"
  },
  "language_info": {
   "codemirror_mode": {
    "name": "ipython",
    "version": 3
   },
   "file_extension": ".py",
   "mimetype": "text/x-python",
   "name": "python",
   "nbconvert_exporter": "python",
   "pygments_lexer": "ipython3",
   "version": "3.9.12"
  }
 },
 "nbformat": 4,
 "nbformat_minor": 5
}

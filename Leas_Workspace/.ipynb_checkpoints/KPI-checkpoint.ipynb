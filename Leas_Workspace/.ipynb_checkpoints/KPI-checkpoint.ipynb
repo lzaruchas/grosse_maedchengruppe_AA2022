{
 "cells": [
  {
   "cell_type": "code",
   "execution_count": 1,
   "metadata": {},
   "outputs": [],
   "source": [
    "import pandas as pd\n",
    "import numpy as np\n",
    "import folium\n",
    "from folium import plugins\n",
    "from folium.plugins import HeatMap\n",
    "import seaborn as sns\n",
    "import matplotlib.pyplot as plt\n",
    "%matplotlib inline"
   ]
  },
  {
   "cell_type": "markdown",
   "metadata": {},
   "source": [
    "# Table of Contents\n",
    "## 1. Adding variables\n",
    "## 2. Rides of different customers throughout the week \n",
    "## 3. Rides of diff. customers throughout the day\n",
    "## 4. Revenue generated throughout the day by diff. customers"
   ]
  },
  {
   "cell_type": "code",
   "execution_count": 2,
   "metadata": {},
   "outputs": [
    {
     "name": "stderr",
     "output_type": "stream",
     "text": [
      "/Users/leazaruchas/opt/anaconda3/lib/python3.8/site-packages/IPython/core/interactiveshell.py:3146: DtypeWarning: Columns (4) have mixed types.Specify dtype option on import or set low_memory=False.\n",
      "  has_raised = await self.run_ast_nodes(code_ast.body, cell_name,\n"
     ]
    },
    {
     "data": {
      "text/html": [
       "<div>\n",
       "<style scoped>\n",
       "    .dataframe tbody tr th:only-of-type {\n",
       "        vertical-align: middle;\n",
       "    }\n",
       "\n",
       "    .dataframe tbody tr th {\n",
       "        vertical-align: top;\n",
       "    }\n",
       "\n",
       "    .dataframe thead th {\n",
       "        text-align: right;\n",
       "    }\n",
       "</style>\n",
       "<table border=\"1\" class=\"dataframe\">\n",
       "  <thead>\n",
       "    <tr style=\"text-align: right;\">\n",
       "      <th></th>\n",
       "      <th>start_time</th>\n",
       "      <th>end_time</th>\n",
       "      <th>start_station_id</th>\n",
       "      <th>end_station_id</th>\n",
       "      <th>bike_id</th>\n",
       "      <th>user_type</th>\n",
       "      <th>start_station_name</th>\n",
       "      <th>end_station_name</th>\n",
       "    </tr>\n",
       "  </thead>\n",
       "  <tbody>\n",
       "    <tr>\n",
       "      <th>0</th>\n",
       "      <td>2019-01-01 00:07:00</td>\n",
       "      <td>2019-01-01 00:14:00</td>\n",
       "      <td>3046</td>\n",
       "      <td>3051</td>\n",
       "      <td>06468</td>\n",
       "      <td>Walk-up</td>\n",
       "      <td>2nd &amp; Hill</td>\n",
       "      <td>7th &amp; Broadway</td>\n",
       "    </tr>\n",
       "    <tr>\n",
       "      <th>1</th>\n",
       "      <td>2019-01-01 00:08:00</td>\n",
       "      <td>2019-01-01 00:14:00</td>\n",
       "      <td>3046</td>\n",
       "      <td>3051</td>\n",
       "      <td>12311</td>\n",
       "      <td>Walk-up</td>\n",
       "      <td>2nd &amp; Hill</td>\n",
       "      <td>7th &amp; Broadway</td>\n",
       "    </tr>\n",
       "    <tr>\n",
       "      <th>2</th>\n",
       "      <td>2019-01-01 00:18:00</td>\n",
       "      <td>2019-01-01 00:50:00</td>\n",
       "      <td>3030</td>\n",
       "      <td>3075</td>\n",
       "      <td>05992</td>\n",
       "      <td>Walk-up</td>\n",
       "      <td>Main &amp; 1st</td>\n",
       "      <td>Broadway &amp; 9th</td>\n",
       "    </tr>\n",
       "    <tr>\n",
       "      <th>3</th>\n",
       "      <td>2019-01-01 00:20:00</td>\n",
       "      <td>2019-01-01 00:50:00</td>\n",
       "      <td>3030</td>\n",
       "      <td>3075</td>\n",
       "      <td>05860</td>\n",
       "      <td>Walk-up</td>\n",
       "      <td>Main &amp; 1st</td>\n",
       "      <td>Broadway &amp; 9th</td>\n",
       "    </tr>\n",
       "    <tr>\n",
       "      <th>4</th>\n",
       "      <td>2019-01-01 00:22:00</td>\n",
       "      <td>2019-01-01 00:50:00</td>\n",
       "      <td>3030</td>\n",
       "      <td>3075</td>\n",
       "      <td>06006</td>\n",
       "      <td>Walk-up</td>\n",
       "      <td>Main &amp; 1st</td>\n",
       "      <td>Broadway &amp; 9th</td>\n",
       "    </tr>\n",
       "  </tbody>\n",
       "</table>\n",
       "</div>"
      ],
      "text/plain": [
       "           start_time            end_time  start_station_id  end_station_id  \\\n",
       "0 2019-01-01 00:07:00 2019-01-01 00:14:00              3046            3051   \n",
       "1 2019-01-01 00:08:00 2019-01-01 00:14:00              3046            3051   \n",
       "2 2019-01-01 00:18:00 2019-01-01 00:50:00              3030            3075   \n",
       "3 2019-01-01 00:20:00 2019-01-01 00:50:00              3030            3075   \n",
       "4 2019-01-01 00:22:00 2019-01-01 00:50:00              3030            3075   \n",
       "\n",
       "  bike_id user_type start_station_name end_station_name  \n",
       "0   06468   Walk-up         2nd & Hill   7th & Broadway  \n",
       "1   12311   Walk-up         2nd & Hill   7th & Broadway  \n",
       "2   05992   Walk-up         Main & 1st   Broadway & 9th  \n",
       "3   05860   Walk-up         Main & 1st   Broadway & 9th  \n",
       "4   06006   Walk-up         Main & 1st   Broadway & 9th  "
      ]
     },
     "execution_count": 2,
     "metadata": {},
     "output_type": "execute_result"
    }
   ],
   "source": [
    "la = pd.read_csv(\"la_2019.csv\", parse_dates=[\"start_time\",\"end_time\"])\n",
    "la.head()"
   ]
  },
  {
   "cell_type": "code",
   "execution_count": 3,
   "metadata": {},
   "outputs": [
    {
     "data": {
      "text/plain": [
       "start_time            datetime64[ns]\n",
       "end_time              datetime64[ns]\n",
       "start_station_id               int64\n",
       "end_station_id                 int64\n",
       "bike_id                       object\n",
       "user_type                     object\n",
       "start_station_name            object\n",
       "end_station_name              object\n",
       "dtype: object"
      ]
     },
     "execution_count": 3,
     "metadata": {},
     "output_type": "execute_result"
    }
   ],
   "source": [
    "# Überblick über Daten\n",
    "la.dtypes"
   ]
  },
  {
   "cell_type": "markdown",
   "metadata": {},
   "source": [
    "# 1. Adding variables (especially price)"
   ]
  },
  {
   "cell_type": "code",
   "execution_count": 4,
   "metadata": {},
   "outputs": [
    {
     "data": {
      "text/html": [
       "<div>\n",
       "<style scoped>\n",
       "    .dataframe tbody tr th:only-of-type {\n",
       "        vertical-align: middle;\n",
       "    }\n",
       "\n",
       "    .dataframe tbody tr th {\n",
       "        vertical-align: top;\n",
       "    }\n",
       "\n",
       "    .dataframe thead th {\n",
       "        text-align: right;\n",
       "    }\n",
       "</style>\n",
       "<table border=\"1\" class=\"dataframe\">\n",
       "  <thead>\n",
       "    <tr style=\"text-align: right;\">\n",
       "      <th></th>\n",
       "      <th>start_time</th>\n",
       "      <th>end_time</th>\n",
       "      <th>start_station_id</th>\n",
       "      <th>end_station_id</th>\n",
       "      <th>bike_id</th>\n",
       "      <th>user_type</th>\n",
       "      <th>start_station_name</th>\n",
       "      <th>end_station_name</th>\n",
       "      <th>Weekday</th>\n",
       "      <th>duration</th>\n",
       "      <th>Hour</th>\n",
       "      <th>price</th>\n",
       "    </tr>\n",
       "  </thead>\n",
       "  <tbody>\n",
       "    <tr>\n",
       "      <th>0</th>\n",
       "      <td>2019-01-01 00:07:00</td>\n",
       "      <td>2019-01-01 00:14:00</td>\n",
       "      <td>3046</td>\n",
       "      <td>3051</td>\n",
       "      <td>06468</td>\n",
       "      <td>Walk-up</td>\n",
       "      <td>2nd &amp; Hill</td>\n",
       "      <td>7th &amp; Broadway</td>\n",
       "      <td>1</td>\n",
       "      <td>7.0</td>\n",
       "      <td>0</td>\n",
       "      <td>1.75</td>\n",
       "    </tr>\n",
       "    <tr>\n",
       "      <th>1</th>\n",
       "      <td>2019-01-01 00:08:00</td>\n",
       "      <td>2019-01-01 00:14:00</td>\n",
       "      <td>3046</td>\n",
       "      <td>3051</td>\n",
       "      <td>12311</td>\n",
       "      <td>Walk-up</td>\n",
       "      <td>2nd &amp; Hill</td>\n",
       "      <td>7th &amp; Broadway</td>\n",
       "      <td>1</td>\n",
       "      <td>6.0</td>\n",
       "      <td>0</td>\n",
       "      <td>1.75</td>\n",
       "    </tr>\n",
       "    <tr>\n",
       "      <th>2</th>\n",
       "      <td>2019-01-01 00:18:00</td>\n",
       "      <td>2019-01-01 00:50:00</td>\n",
       "      <td>3030</td>\n",
       "      <td>3075</td>\n",
       "      <td>05992</td>\n",
       "      <td>Walk-up</td>\n",
       "      <td>Main &amp; 1st</td>\n",
       "      <td>Broadway &amp; 9th</td>\n",
       "      <td>1</td>\n",
       "      <td>32.0</td>\n",
       "      <td>0</td>\n",
       "      <td>3.50</td>\n",
       "    </tr>\n",
       "    <tr>\n",
       "      <th>3</th>\n",
       "      <td>2019-01-01 00:20:00</td>\n",
       "      <td>2019-01-01 00:50:00</td>\n",
       "      <td>3030</td>\n",
       "      <td>3075</td>\n",
       "      <td>05860</td>\n",
       "      <td>Walk-up</td>\n",
       "      <td>Main &amp; 1st</td>\n",
       "      <td>Broadway &amp; 9th</td>\n",
       "      <td>1</td>\n",
       "      <td>30.0</td>\n",
       "      <td>0</td>\n",
       "      <td>3.50</td>\n",
       "    </tr>\n",
       "    <tr>\n",
       "      <th>4</th>\n",
       "      <td>2019-01-01 00:22:00</td>\n",
       "      <td>2019-01-01 00:50:00</td>\n",
       "      <td>3030</td>\n",
       "      <td>3075</td>\n",
       "      <td>06006</td>\n",
       "      <td>Walk-up</td>\n",
       "      <td>Main &amp; 1st</td>\n",
       "      <td>Broadway &amp; 9th</td>\n",
       "      <td>1</td>\n",
       "      <td>28.0</td>\n",
       "      <td>0</td>\n",
       "      <td>1.75</td>\n",
       "    </tr>\n",
       "  </tbody>\n",
       "</table>\n",
       "</div>"
      ],
      "text/plain": [
       "           start_time            end_time  start_station_id  end_station_id  \\\n",
       "0 2019-01-01 00:07:00 2019-01-01 00:14:00              3046            3051   \n",
       "1 2019-01-01 00:08:00 2019-01-01 00:14:00              3046            3051   \n",
       "2 2019-01-01 00:18:00 2019-01-01 00:50:00              3030            3075   \n",
       "3 2019-01-01 00:20:00 2019-01-01 00:50:00              3030            3075   \n",
       "4 2019-01-01 00:22:00 2019-01-01 00:50:00              3030            3075   \n",
       "\n",
       "  bike_id user_type start_station_name end_station_name  Weekday  duration  \\\n",
       "0   06468   Walk-up         2nd & Hill   7th & Broadway        1       7.0   \n",
       "1   12311   Walk-up         2nd & Hill   7th & Broadway        1       6.0   \n",
       "2   05992   Walk-up         Main & 1st   Broadway & 9th        1      32.0   \n",
       "3   05860   Walk-up         Main & 1st   Broadway & 9th        1      30.0   \n",
       "4   06006   Walk-up         Main & 1st   Broadway & 9th        1      28.0   \n",
       "\n",
       "   Hour  price  \n",
       "0     0   1.75  \n",
       "1     0   1.75  \n",
       "2     0   3.50  \n",
       "3     0   3.50  \n",
       "4     0   1.75  "
      ]
     },
     "execution_count": 4,
     "metadata": {},
     "output_type": "execute_result"
    }
   ],
   "source": [
    "def get_weekday (ts):\n",
    "    return ts.weekday()\n",
    "la[\"Weekday\"]=la[\"start_time\"].apply(lambda x: get_weekday (x))\n",
    "la[\"duration\"] = (la[\"end_time\"] - la[\"start_time\"]).astype(\"timedelta64[m]\")\n",
    "la[\"Hour\"]=la[\"start_time\"].apply(lambda x: x.hour)\n",
    "\n",
    "# walk_up  $1.75/30 Minutes\n",
    "# oneday $5 + when over 30 min 1.75/30 Minutes\n",
    "# monthly $17 + when over 30 min 1.75/30 Minutes\n",
    "# annual $150 + when over 30 min 1.75/30 Minutes\n",
    "# flex ignored\n",
    "\n",
    "la[\"price\"] = 0.0\n",
    "for i, row in la.iterrows():\n",
    "    if la.at[i, \"user_type\"] == \"Walk-up\":\n",
    "        la.at[i, \"price\"] = ((la.at[i,\"duration\"]//30.0)+1.0)*1.75\n",
    "    else: la.at[i,\"price\"] = (la.at[i,\"duration\"]//30.0)*1.75\n",
    "la.head()"
   ]
  },
  {
   "cell_type": "code",
   "execution_count": 5,
   "metadata": {},
   "outputs": [],
   "source": [
    "walk_up = la[la[\"user_type\"]==\"Walk-up\"]\n",
    "monthly = la[la[\"user_type\"]==\"Monthly Pass\"]\n",
    "annual = la[la[\"user_type\"]==\"Annual Pass\"]\n",
    "oneday = la[la[\"user_type\"]==\"One Day Pass\"]\n",
    "flex = la[la[\"user_type\"]==\"Flex Pass\"]"
   ]
  },
  {
   "cell_type": "markdown",
   "metadata": {},
   "source": [
    "# 2. Rides of different customers throughout the week"
   ]
  },
  {
   "cell_type": "code",
   "execution_count": 6,
   "metadata": {},
   "outputs": [
    {
     "data": {
      "text/plain": [
       "array([ 9917, 10123,  9068, 10205, 12212, 14580, 14749])"
      ]
     },
     "execution_count": 6,
     "metadata": {},
     "output_type": "execute_result"
    }
   ],
   "source": [
    "walk_mon = walk_up[walk_up[\"Weekday\"]==0]\n",
    "walk_tue = walk_up[walk_up[\"Weekday\"]==1]\n",
    "walk_wed = walk_up[walk_up[\"Weekday\"]==2]\n",
    "walk_thu = walk_up[walk_up[\"Weekday\"]==3]\n",
    "walk_fri = walk_up[walk_up[\"Weekday\"]==4]\n",
    "walk_sat = walk_up[walk_up[\"Weekday\"]==5]\n",
    "walk_sun = walk_up[walk_up[\"Weekday\"]==6]\n",
    "walk_rides = np.array([walk_mon[\"start_time\"].size, walk_tue[\"start_time\"].size, walk_wed[\"start_time\"].size, walk_thu[\"start_time\"].size, walk_fri[\"start_time\"].size, walk_sat[\"start_time\"].size, walk_sun[\"start_time\"].size])\n",
    "walk_rides"
   ]
  },
  {
   "cell_type": "code",
   "execution_count": 7,
   "metadata": {},
   "outputs": [
    {
     "data": {
      "text/plain": [
       "array([26764, 29516, 27561, 28432, 27471, 16561, 16360])"
      ]
     },
     "execution_count": 7,
     "metadata": {},
     "output_type": "execute_result"
    }
   ],
   "source": [
    "monthly_mon = monthly[monthly[\"Weekday\"]==0]\n",
    "monthly_tue = monthly[monthly[\"Weekday\"]==1]\n",
    "monthly_wed = monthly[monthly[\"Weekday\"]==2]\n",
    "monthly_thu = monthly[monthly[\"Weekday\"]==3]\n",
    "monthly_fri = monthly[monthly[\"Weekday\"]==4]\n",
    "monthly_sat = monthly[monthly[\"Weekday\"]==5]\n",
    "monthly_sun = monthly[monthly[\"Weekday\"]==6]\n",
    "monthly_rides = np.array([monthly_mon[\"start_time\"].size, monthly_tue[\"start_time\"].size, monthly_wed[\"start_time\"].size, monthly_thu[\"start_time\"].size, monthly_fri[\"start_time\"].size, monthly_sat[\"start_time\"].size, monthly_sun[\"start_time\"].size])\n",
    "monthly_rides"
   ]
  },
  {
   "cell_type": "code",
   "execution_count": 8,
   "metadata": {},
   "outputs": [
    {
     "data": {
      "text/plain": [
       "array([3469, 3886, 3565, 3465, 3565, 2015, 1694])"
      ]
     },
     "execution_count": 8,
     "metadata": {},
     "output_type": "execute_result"
    }
   ],
   "source": [
    "annual_mon = annual[annual[\"Weekday\"]==0]\n",
    "annual_tue = annual[annual[\"Weekday\"]==1]\n",
    "annual_wed = annual[annual[\"Weekday\"]==2]\n",
    "annual_thu = annual[annual[\"Weekday\"]==3]\n",
    "annual_fri = annual[annual[\"Weekday\"]==4]\n",
    "annual_sat = annual[annual[\"Weekday\"]==5]\n",
    "annual_sun = annual[annual[\"Weekday\"]==6]\n",
    "annual_rides = np.array([annual_mon[\"start_time\"].size, annual_tue[\"start_time\"].size, annual_wed[\"start_time\"].size, annual_thu[\"start_time\"].size, annual_fri[\"start_time\"].size, annual_sat[\"start_time\"].size, annual_sun[\"start_time\"].size])\n",
    "annual_rides"
   ]
  },
  {
   "cell_type": "code",
   "execution_count": 9,
   "metadata": {},
   "outputs": [
    {
     "data": {
      "text/plain": [
       "array([1629, 1655, 1602, 1657, 2166, 2521, 3501])"
      ]
     },
     "execution_count": 9,
     "metadata": {},
     "output_type": "execute_result"
    }
   ],
   "source": [
    "oneday_mon = oneday[oneday[\"Weekday\"]==0]\n",
    "oneday_tue = oneday[oneday[\"Weekday\"]==1]\n",
    "oneday_wed = oneday[oneday[\"Weekday\"]==2]\n",
    "oneday_thu = oneday[oneday[\"Weekday\"]==3]\n",
    "oneday_fri = oneday[oneday[\"Weekday\"]==4]\n",
    "oneday_sat = oneday[oneday[\"Weekday\"]==5]\n",
    "oneday_sun = oneday[oneday[\"Weekday\"]==6]\n",
    "oneday_rides = np.array([oneday_mon[\"start_time\"].size, oneday_tue[\"start_time\"].size, oneday_wed[\"start_time\"].size, oneday_thu[\"start_time\"].size, oneday_fri[\"start_time\"].size, oneday_sat[\"start_time\"].size, oneday_sun[\"start_time\"].size])\n",
    "oneday_rides"
   ]
  },
  {
   "cell_type": "code",
   "execution_count": 10,
   "metadata": {},
   "outputs": [
    {
     "data": {
      "text/plain": [
       "array([39, 52, 41, 56, 52, 49, 31])"
      ]
     },
     "execution_count": 10,
     "metadata": {},
     "output_type": "execute_result"
    }
   ],
   "source": [
    "flex_mon = flex[flex[\"Weekday\"]==0]\n",
    "flex_tue = flex[flex[\"Weekday\"]==1]\n",
    "flex_wed = flex[flex[\"Weekday\"]==2]\n",
    "flex_thu = flex[flex[\"Weekday\"]==3]\n",
    "flex_fri = flex[flex[\"Weekday\"]==4]\n",
    "flex_sat = flex[flex[\"Weekday\"]==5]\n",
    "flex_sun = flex[flex[\"Weekday\"]==6]\n",
    "flex_rides = np.array([flex_mon[\"start_time\"].size, flex_tue[\"start_time\"].size, flex_wed[\"start_time\"].size, flex_thu[\"start_time\"].size, flex_fri[\"start_time\"].size, flex_sat[\"start_time\"].size, flex_sun[\"start_time\"].size])\n",
    "flex_rides"
   ]
  },
  {
   "cell_type": "code",
   "execution_count": 11,
   "metadata": {},
   "outputs": [
    {
     "data": {
      "text/plain": [
       "Text(0.5, 1.0, 'Number of Rides throughout a week of different user types')"
      ]
     },
     "execution_count": 11,
     "metadata": {},
     "output_type": "execute_result"
    },
    {
     "data": {
      "image/png": "[encoded data removed]",
      "text/plain": [
       "<Figure size 576x288 with 1 Axes>"
      ]
     },
     "metadata": {
      "needs_background": "light"
     },
     "output_type": "display_data"
    }
   ],
   "source": [
    "fig,ax = plt.subplots(figsize=(8,4))\n",
    "weekdays_sub= ['Monday','Tuesday','Wednesday','Thursday','Friday','Saturday','Sunday']\n",
    "data = np.array([walk_rides, oneday_rides, monthly_rides, annual_rides, flex_rides])\n",
    "color_list = ['b', 'g', 'r', 'c', 'm']\n",
    "for i in range(data.shape[0]):\n",
    "  plt.bar(weekdays_sub, data[i],\n",
    "    bottom = np.sum(data[:i], axis = 0),\n",
    "    color = color_list[i % len(color_list)])\n",
    "\n",
    "ax.set_xlabel(\"Weekday\")\n",
    "ax.set_ylabel(\"Number of Rides\")\n",
    "ax.set_title(\"Number of Rides throughout a week of different user types\")"
   ]
  },
  {
   "cell_type": "markdown",
   "metadata": {},
   "source": [
    "# 3. Rides of diff. customers throughout the day"
   ]
  },
  {
   "cell_type": "code",
   "execution_count": 12,
   "metadata": {},
   "outputs": [],
   "source": [
    "# money made for every hour on a day\n",
    "\n",
    "#walkup\n",
    "day_rides_walk_up = np.zeros(24)\n",
    "for i in range(24):\n",
    "    day_rides_walk_up[i] = walk_up[walk_up['Hour']==i].size\n",
    "    \n",
    "rides_walk_up = pd.DataFrame({'Time_Period': range(24), 'Revenue': day_rides_walk_up})\n",
    "\n",
    "#monthly\n",
    "day_rides_monthly = np.zeros(24)\n",
    "for i in range(24):\n",
    "    day_rides_monthly[i] = monthly[monthly['Hour']==i].size\n",
    "    \n",
    "rides_monthly = pd.DataFrame({'Time_Period': range(24), 'Revenue': day_rides_monthly})\n",
    "\n",
    "#annual\n",
    "day_rides_annual = np.zeros(24)\n",
    "for i in range(24):\n",
    "    day_rides_annual[i] = annual[annual['Hour']==i].size\n",
    "    \n",
    "rides_annual = pd.DataFrame({'Time_Period': range(24), 'Revenue': day_rides_annual})\n",
    "\n",
    "#oneday\n",
    "day_rides_oneday = np.zeros(24)\n",
    "for i in range(24):\n",
    "    day_rides_oneday[i] = oneday[oneday['Hour']==i].size\n",
    "    \n",
    "rides_oneday = pd.DataFrame({'Time_Period': range(24), 'Revenue': day_rides_oneday})\n"
   ]
  },
  {
   "cell_type": "code",
   "execution_count": 13,
   "metadata": {},
   "outputs": [
    {
     "data": {
      "text/plain": [
       "Text(0.5, 1.0, 'Number of Rides throughout a week of different user types')"
      ]
     },
     "execution_count": 13,
     "metadata": {},
     "output_type": "execute_result"
    },
    {
     "data": {
      "image/png": "[encoded data removed]",
      "text/plain": [
       "<Figure size 576x288 with 1 Axes>"
      ]
     },
     "metadata": {
      "needs_background": "light"
     },
     "output_type": "display_data"
    }
   ],
   "source": [
    "fig,ax = plt.subplots(figsize=(8,4))\n",
    "day_rides = np.arange(0,24)\n",
    "data = np.array([day_rides_walk_up, day_rides_oneday, day_rides_monthly, day_rides_annual])\n",
    "color_list = ['b', 'g', 'r', 'c']\n",
    "for i in range(data.shape[0]):\n",
    "  plt.bar(day_rides, data[i],\n",
    "    bottom = np.sum(data[:i], axis = 0),\n",
    "    color = color_list[i % len(color_list)])\n",
    "\n",
    "ax.set_xlabel(\"Weekday\")\n",
    "ax.set_ylabel(\"Number of Rides\")\n",
    "ax.set_title(\"Number of Rides throughout a week of different user types\")"
   ]
  },
  {
   "cell_type": "markdown",
   "metadata": {},
   "source": [
    "# 4. Revenue generated throughout the day by diff. customers"
   ]
  },
  {
   "cell_type": "code",
   "execution_count": 14,
   "metadata": {},
   "outputs": [],
   "source": [
    "# walk_up  $1.75/30 Minutes\n",
    "# oneday $5 + when over 30 min 1.75/30 Minutes\n",
    "# monthly $17 + when over 30 min 1.75/30 Minutes\n",
    "# annual $150 + when over 30 min 1.75/30 Minutes\n",
    "# flex ignored"
   ]
  },
  {
   "cell_type": "code",
   "execution_count": 15,
   "metadata": {},
   "outputs": [],
   "source": [
    "day_prices = np.zeros(24)\n",
    "for i in range(24):\n",
    "    x = la[la['Hour']==i]\n",
    "    day_prices[i] = sum(x[\"price\"])\n",
    "prices_la = pd.DataFrame({'Time_Period': range(24), 'Revenue': day_prices})"
   ]
  },
  {
   "cell_type": "code",
   "execution_count": 16,
   "metadata": {},
   "outputs": [
    {
     "data": {
      "image/png": "[encoded data removed]",
      "text/plain": [
       "<Figure size 576x288 with 1 Axes>"
      ]
     },
     "metadata": {
      "needs_background": "light"
     },
     "output_type": "display_data"
    }
   ],
   "source": [
    "plt.figure(figsize=(8,4))\n",
    "plt.plot(prices_la['Time_Period'],prices_la['Revenue'],'o-', color='blue')\n",
    "plt.xlabel(\"Time of day (in hours)\")\n",
    "plt.ylabel(\"Revenue of Rides without subscription fees\")\n",
    "plt.title(\"Revenue of Rides throughout the day\")\n",
    "plt.show()"
   ]
  },
  {
   "cell_type": "code",
   "execution_count": 17,
   "metadata": {},
   "outputs": [],
   "source": [
    "day_prices_walk_up = np.zeros(24)\n",
    "for i in range(24):\n",
    "    x = walk_up[walk_up['Hour']==i]\n",
    "    day_prices_walk_up[i] = sum(x[\"price\"])\n",
    "    \n",
    "prices_walk_up = pd.DataFrame({'Time_Period': range(24), 'Revenue': day_prices_walk_up})\n",
    "\n",
    "day_prices_monthly = np.zeros(24)\n",
    "for i in range(24):\n",
    "    x = monthly[monthly['Hour']==i]\n",
    "    day_prices_monthly[i] = sum(x[\"price\"])\n",
    "    \n",
    "prices_monthly = pd.DataFrame({'Time_Period': range(24), 'Revenue': day_prices_monthly})\n",
    "\n",
    "day_prices_annual = np.zeros(24)\n",
    "for i in range(24):\n",
    "    x = annual[annual['Hour']==i]\n",
    "    day_prices_annual[i] = sum(x[\"price\"])\n",
    "    \n",
    "prices_annual = pd.DataFrame({'Time_Period': range(24), 'Revenue': day_prices_annual})\n",
    "\n",
    "day_prices_oneday = np.zeros(24)\n",
    "for i in range(24):\n",
    "    x = oneday[oneday['Hour']==i]\n",
    "    day_prices_oneday[i] = sum(x[\"price\"])\n",
    "    \n",
    "prices_oneday = pd.DataFrame({'Time_Period': range(24), 'Revenue': day_prices_oneday})"
   ]
  },
  {
   "cell_type": "code",
   "execution_count": 18,
   "metadata": {},
   "outputs": [
    {
     "data": {
      "text/plain": [
       "Text(0.5, 1.0, 'Revenue throughout a week of different user types')"
      ]
     },
     "execution_count": 18,
     "metadata": {},
     "output_type": "execute_result"
    },
    {
     "data": {
      "image/png": "[encoded data removed]",
      "text/plain": [
       "<Figure size 576x288 with 1 Axes>"
      ]
     },
     "metadata": {
      "needs_background": "light"
     },
     "output_type": "display_data"
    }
   ],
   "source": [
    "fig,ax = plt.subplots(figsize=(8,4))\n",
    "day = np.arange(0,24)\n",
    "data = np.array([day_prices_walk_up, day_prices_oneday, day_prices_monthly, day_prices_annual])\n",
    "color_list = ['b', 'g', 'r', 'c']\n",
    "for i in range(data.shape[0]):\n",
    "  plt.bar(day, data[i],\n",
    "    bottom = np.sum(data[:i], axis = 0),\n",
    "    color = color_list[i % len(color_list)])\n",
    "\n",
    "ax.set_xlabel(\"Weekday\")\n",
    "ax.set_ylabel(\"Revenue\")\n",
    "ax.set_title(\"Revenue throughout a week of different user types\")"
   ]
  },
  {
   "cell_type": "code",
   "execution_count": null,
   "metadata": {},
   "outputs": [],
   "source": []
  }
 ],
 "metadata": {
  "kernelspec": {
   "display_name": "Python 3",
   "language": "python",
   "name": "python3"
  },
  "language_info": {
   "codemirror_mode": {
    "name": "ipython",
    "version": 3
   },
   "file_extension": ".py",
   "mimetype": "text/x-python",
   "name": "python",
   "nbconvert_exporter": "python",
   "pygments_lexer": "ipython3",
   "version": "3.8.5"
  }
 },
 "nbformat": 4,
 "nbformat_minor": 4
}

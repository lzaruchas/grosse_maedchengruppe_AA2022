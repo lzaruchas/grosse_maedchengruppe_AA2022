{
 "cells": [
  {
   "cell_type": "code",
   "execution_count": 1,
   "id": "0033ea82",
   "metadata": {},
   "outputs": [],
   "source": [
    "# libraries\n",
    "import pandas as pd\n",
    "import numpy as np\n",
    "import matplotlib.pyplot as plt\n",
    "import scienceplots\n",
    "plt.style.use(['science', 'no-latex'])"
   ]
  },
  {
   "cell_type": "code",
   "execution_count": 2,
   "id": "171ca966",
   "metadata": {},
   "outputs": [],
   "source": [
    "# import\n",
    "la = pd.read_csv(\"prepared_data.csv\", parse_dates=[\"start_time\",\"end_time\"],low_memory=False)"
   ]
  },
  {
   "cell_type": "code",
   "execution_count": 3,
   "id": "284074a4",
   "metadata": {},
   "outputs": [
    {
     "data": {
      "text/html": [
       "<div>\n",
       "<style scoped>\n",
       "    .dataframe tbody tr th:only-of-type {\n",
       "        vertical-align: middle;\n",
       "    }\n",
       "\n",
       "    .dataframe tbody tr th {\n",
       "        vertical-align: top;\n",
       "    }\n",
       "\n",
       "    .dataframe thead th {\n",
       "        text-align: right;\n",
       "    }\n",
       "</style>\n",
       "<table border=\"1\" class=\"dataframe\">\n",
       "  <thead>\n",
       "    <tr style=\"text-align: right;\">\n",
       "      <th></th>\n",
       "      <th>Unnamed: 0</th>\n",
       "      <th>start_time</th>\n",
       "      <th>end_time</th>\n",
       "      <th>start_station_id</th>\n",
       "      <th>end_station_id</th>\n",
       "      <th>bike_id</th>\n",
       "      <th>user_type</th>\n",
       "      <th>start_station_name</th>\n",
       "      <th>end_station_name</th>\n",
       "      <th>duration</th>\n",
       "    </tr>\n",
       "  </thead>\n",
       "  <tbody>\n",
       "    <tr>\n",
       "      <th>0</th>\n",
       "      <td>0</td>\n",
       "      <td>2019-01-01 00:07:00</td>\n",
       "      <td>2019-01-01 00:14:00</td>\n",
       "      <td>3046</td>\n",
       "      <td>3051</td>\n",
       "      <td>06468</td>\n",
       "      <td>Walk-up</td>\n",
       "      <td>2nd &amp; Hill</td>\n",
       "      <td>7th &amp; Broadway</td>\n",
       "      <td>7.0</td>\n",
       "    </tr>\n",
       "    <tr>\n",
       "      <th>1</th>\n",
       "      <td>1</td>\n",
       "      <td>2019-01-01 00:08:00</td>\n",
       "      <td>2019-01-01 00:14:00</td>\n",
       "      <td>3046</td>\n",
       "      <td>3051</td>\n",
       "      <td>12311</td>\n",
       "      <td>Walk-up</td>\n",
       "      <td>2nd &amp; Hill</td>\n",
       "      <td>7th &amp; Broadway</td>\n",
       "      <td>6.0</td>\n",
       "    </tr>\n",
       "    <tr>\n",
       "      <th>2</th>\n",
       "      <td>2</td>\n",
       "      <td>2019-01-01 00:18:00</td>\n",
       "      <td>2019-01-01 00:50:00</td>\n",
       "      <td>3030</td>\n",
       "      <td>3075</td>\n",
       "      <td>05992</td>\n",
       "      <td>Walk-up</td>\n",
       "      <td>Main &amp; 1st</td>\n",
       "      <td>Broadway &amp; 9th</td>\n",
       "      <td>32.0</td>\n",
       "    </tr>\n",
       "    <tr>\n",
       "      <th>3</th>\n",
       "      <td>3</td>\n",
       "      <td>2019-01-01 00:20:00</td>\n",
       "      <td>2019-01-01 00:50:00</td>\n",
       "      <td>3030</td>\n",
       "      <td>3075</td>\n",
       "      <td>05860</td>\n",
       "      <td>Walk-up</td>\n",
       "      <td>Main &amp; 1st</td>\n",
       "      <td>Broadway &amp; 9th</td>\n",
       "      <td>30.0</td>\n",
       "    </tr>\n",
       "    <tr>\n",
       "      <th>4</th>\n",
       "      <td>4</td>\n",
       "      <td>2019-01-01 00:22:00</td>\n",
       "      <td>2019-01-01 00:50:00</td>\n",
       "      <td>3030</td>\n",
       "      <td>3075</td>\n",
       "      <td>06006</td>\n",
       "      <td>Walk-up</td>\n",
       "      <td>Main &amp; 1st</td>\n",
       "      <td>Broadway &amp; 9th</td>\n",
       "      <td>28.0</td>\n",
       "    </tr>\n",
       "  </tbody>\n",
       "</table>\n",
       "</div>"
      ],
      "text/plain": [
       "   Unnamed: 0          start_time            end_time  start_station_id  \\\n",
       "0           0 2019-01-01 00:07:00 2019-01-01 00:14:00              3046   \n",
       "1           1 2019-01-01 00:08:00 2019-01-01 00:14:00              3046   \n",
       "2           2 2019-01-01 00:18:00 2019-01-01 00:50:00              3030   \n",
       "3           3 2019-01-01 00:20:00 2019-01-01 00:50:00              3030   \n",
       "4           4 2019-01-01 00:22:00 2019-01-01 00:50:00              3030   \n",
       "\n",
       "   end_station_id bike_id user_type start_station_name end_station_name  \\\n",
       "0            3051   06468   Walk-up         2nd & Hill   7th & Broadway   \n",
       "1            3051   12311   Walk-up         2nd & Hill   7th & Broadway   \n",
       "2            3075   05992   Walk-up         Main & 1st   Broadway & 9th   \n",
       "3            3075   05860   Walk-up         Main & 1st   Broadway & 9th   \n",
       "4            3075   06006   Walk-up         Main & 1st   Broadway & 9th   \n",
       "\n",
       "   duration  \n",
       "0       7.0  \n",
       "1       6.0  \n",
       "2      32.0  \n",
       "3      30.0  \n",
       "4      28.0  "
      ]
     },
     "execution_count": 3,
     "metadata": {},
     "output_type": "execute_result"
    }
   ],
   "source": [
    "la.head()"
   ]
  },
  {
   "cell_type": "code",
   "execution_count": 4,
   "id": "db4c6df4",
   "metadata": {},
   "outputs": [
    {
     "data": {
      "text/plain": [
       "array([3046, 3030, 3029, 3022, 3064, 3069, 4211, 3027, 3006, 3035, 3031,\n",
       "       3051, 3081, 4208, 3016, 3038, 4210, 3042, 3020, 3007, 3082, 3008,\n",
       "       3075, 4130, 3040, 3005, 3018, 3023, 3052, 3076, 4214, 4215, 4131,\n",
       "       3062, 4204, 3047, 3077, 3026, 4212, 4209, 3048, 3034, 4266, 4206,\n",
       "       4249, 4245, 3057, 3049, 4126, 4250, 3074, 3067, 4205, 4132, 4220,\n",
       "       4202, 3036, 3066, 3065, 3058, 3054, 4134, 3037, 4216, 3056, 3032,\n",
       "       3010, 3014, 3033, 4254, 3063, 4246, 3019, 4248, 3028, 3011, 3025,\n",
       "       3068, 4207, 3024, 4227, 4129, 4273, 4135, 3013, 3045, 3078, 4213,\n",
       "       4133, 4267, 4127, 4275, 3000, 4136, 4293, 4304, 4306, 4315, 4313,\n",
       "       4311, 4344, 4346, 4314, 4352, 4348, 4342, 4343, 4300, 4312, 4285,\n",
       "       4345, 4353, 4325, 4354, 4331, 4324, 4334, 4329, 4349, 4323, 4286,\n",
       "       4347, 4330, 4335, 4351, 4336, 4322, 4356, 4369, 4357, 4332, 4333,\n",
       "       4328, 4350, 4125, 4341, 4340, 4382, 4379, 4380, 4373, 4374, 4372,\n",
       "       4378, 4385, 4381, 4387, 4363, 4327, 4389, 4383, 4390, 4108, 4394,\n",
       "       4395, 4397, 4396, 4337, 4401, 4393, 4247, 4404, 4410, 4408, 4409,\n",
       "       4400, 4301, 4303, 4302, 4405, 4362, 4338, 4384, 3079, 4415, 4420,\n",
       "       4417, 4428, 4429, 4416, 4418, 4419, 4427, 4426, 4413, 4422, 4431,\n",
       "       4430, 4414, 4425, 4406, 4402, 4407, 4432, 4435, 4437, 4438, 4436,\n",
       "       4441, 4440, 4443, 4442, 4445, 4444, 4453, 4449, 4447, 4448, 4446,\n",
       "       4451, 4452, 4458, 4461, 4460, 4463, 4459, 4462, 4457, 4470, 4469,\n",
       "       4480, 4454, 4456, 4450, 4482, 4455, 4472, 4483, 4473, 4484, 4491,\n",
       "       4439, 4493, 4490])"
      ]
     },
     "execution_count": 4,
     "metadata": {},
     "output_type": "execute_result"
    }
   ],
   "source": [
    "la['start_station_id'].unique()"
   ]
  },
  {
   "cell_type": "code",
   "execution_count": 9,
   "id": "2251a9f2",
   "metadata": {},
   "outputs": [
    {
     "data": {
      "text/plain": [
       "<bound method Series.count of 0         3046\n",
       "1         3046\n",
       "2         3030\n",
       "3         3030\n",
       "4         3030\n",
       "          ... \n",
       "290337    4491\n",
       "290338    4491\n",
       "290339    3051\n",
       "290340    3064\n",
       "290341    3074\n",
       "Name: start_station_id, Length: 290342, dtype: int64>"
      ]
     },
     "execution_count": 9,
     "metadata": {},
     "output_type": "execute_result"
    }
   ],
   "source": [
    "la['start_station_id'].count"
   ]
  },
  {
   "cell_type": "code",
   "execution_count": null,
   "id": "271f8dad",
   "metadata": {},
   "outputs": [],
   "source": []
  }
 ],
 "metadata": {
  "kernelspec": {
   "display_name": "Python 3 (ipykernel)",
   "language": "python",
   "name": "python3"
  },
  "language_info": {
   "codemirror_mode": {
    "name": "ipython",
    "version": 3
   },
   "file_extension": ".py",
   "mimetype": "text/x-python",
   "name": "python",
   "nbconvert_exporter": "python",
   "pygments_lexer": "ipython3",
   "version": "3.9.12"
  }
 },
 "nbformat": 4,
 "nbformat_minor": 5
}

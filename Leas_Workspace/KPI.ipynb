{
 "cells": [
  {
   "cell_type": "code",
   "execution_count": 10,
   "metadata": {},
   "outputs": [],
   "source": [
    "import pandas as pd\n",
    "import numpy as np\n",
    "import folium\n",
    "from folium import plugins\n",
    "from folium.plugins import HeatMap\n",
    "import seaborn as sns\n",
    "import matplotlib.pyplot as plt\n",
    "%matplotlib inline"
   ]
  },
  {
   "cell_type": "code",
   "execution_count": 3,
   "metadata": {},
   "outputs": [
    {
     "data": {
      "text/html": [
       "<div>\n",
       "<style scoped>\n",
       "    .dataframe tbody tr th:only-of-type {\n",
       "        vertical-align: middle;\n",
       "    }\n",
       "\n",
       "    .dataframe tbody tr th {\n",
       "        vertical-align: top;\n",
       "    }\n",
       "\n",
       "    .dataframe thead th {\n",
       "        text-align: right;\n",
       "    }\n",
       "</style>\n",
       "<table border=\"1\" class=\"dataframe\">\n",
       "  <thead>\n",
       "    <tr style=\"text-align: right;\">\n",
       "      <th></th>\n",
       "      <th>start_time</th>\n",
       "      <th>end_time</th>\n",
       "      <th>start_station_id</th>\n",
       "      <th>end_station_id</th>\n",
       "      <th>bike_id</th>\n",
       "      <th>user_type</th>\n",
       "      <th>start_station_name</th>\n",
       "      <th>end_station_name</th>\n",
       "    </tr>\n",
       "  </thead>\n",
       "  <tbody>\n",
       "    <tr>\n",
       "      <th>0</th>\n",
       "      <td>2019-01-01 00:07:00</td>\n",
       "      <td>2019-01-01 00:14:00</td>\n",
       "      <td>3046</td>\n",
       "      <td>3051</td>\n",
       "      <td>06468</td>\n",
       "      <td>Walk-up</td>\n",
       "      <td>2nd &amp; Hill</td>\n",
       "      <td>7th &amp; Broadway</td>\n",
       "    </tr>\n",
       "    <tr>\n",
       "      <th>1</th>\n",
       "      <td>2019-01-01 00:08:00</td>\n",
       "      <td>2019-01-01 00:14:00</td>\n",
       "      <td>3046</td>\n",
       "      <td>3051</td>\n",
       "      <td>12311</td>\n",
       "      <td>Walk-up</td>\n",
       "      <td>2nd &amp; Hill</td>\n",
       "      <td>7th &amp; Broadway</td>\n",
       "    </tr>\n",
       "    <tr>\n",
       "      <th>2</th>\n",
       "      <td>2019-01-01 00:18:00</td>\n",
       "      <td>2019-01-01 00:50:00</td>\n",
       "      <td>3030</td>\n",
       "      <td>3075</td>\n",
       "      <td>05992</td>\n",
       "      <td>Walk-up</td>\n",
       "      <td>Main &amp; 1st</td>\n",
       "      <td>Broadway &amp; 9th</td>\n",
       "    </tr>\n",
       "    <tr>\n",
       "      <th>3</th>\n",
       "      <td>2019-01-01 00:20:00</td>\n",
       "      <td>2019-01-01 00:50:00</td>\n",
       "      <td>3030</td>\n",
       "      <td>3075</td>\n",
       "      <td>05860</td>\n",
       "      <td>Walk-up</td>\n",
       "      <td>Main &amp; 1st</td>\n",
       "      <td>Broadway &amp; 9th</td>\n",
       "    </tr>\n",
       "    <tr>\n",
       "      <th>4</th>\n",
       "      <td>2019-01-01 00:22:00</td>\n",
       "      <td>2019-01-01 00:50:00</td>\n",
       "      <td>3030</td>\n",
       "      <td>3075</td>\n",
       "      <td>06006</td>\n",
       "      <td>Walk-up</td>\n",
       "      <td>Main &amp; 1st</td>\n",
       "      <td>Broadway &amp; 9th</td>\n",
       "    </tr>\n",
       "  </tbody>\n",
       "</table>\n",
       "</div>"
      ],
      "text/plain": [
       "           start_time            end_time  start_station_id  end_station_id  \\\n",
       "0 2019-01-01 00:07:00 2019-01-01 00:14:00              3046            3051   \n",
       "1 2019-01-01 00:08:00 2019-01-01 00:14:00              3046            3051   \n",
       "2 2019-01-01 00:18:00 2019-01-01 00:50:00              3030            3075   \n",
       "3 2019-01-01 00:20:00 2019-01-01 00:50:00              3030            3075   \n",
       "4 2019-01-01 00:22:00 2019-01-01 00:50:00              3030            3075   \n",
       "\n",
       "  bike_id user_type start_station_name end_station_name  \n",
       "0   06468   Walk-up         2nd & Hill   7th & Broadway  \n",
       "1   12311   Walk-up         2nd & Hill   7th & Broadway  \n",
       "2   05992   Walk-up         Main & 1st   Broadway & 9th  \n",
       "3   05860   Walk-up         Main & 1st   Broadway & 9th  \n",
       "4   06006   Walk-up         Main & 1st   Broadway & 9th  "
      ]
     },
     "execution_count": 3,
     "metadata": {},
     "output_type": "execute_result"
    }
   ],
   "source": [
    "la = pd.read_csv(\"la_2019.csv\", parse_dates=[\"start_time\",\"end_time\"])\n",
    "la.head()"
   ]
  },
  {
   "cell_type": "code",
   "execution_count": 7,
   "metadata": {},
   "outputs": [
    {
     "data": {
      "text/html": [
       "<div>\n",
       "<style scoped>\n",
       "    .dataframe tbody tr th:only-of-type {\n",
       "        vertical-align: middle;\n",
       "    }\n",
       "\n",
       "    .dataframe tbody tr th {\n",
       "        vertical-align: top;\n",
       "    }\n",
       "\n",
       "    .dataframe thead th {\n",
       "        text-align: right;\n",
       "    }\n",
       "</style>\n",
       "<table border=\"1\" class=\"dataframe\">\n",
       "  <thead>\n",
       "    <tr style=\"text-align: right;\">\n",
       "      <th></th>\n",
       "      <th>start_time</th>\n",
       "      <th>end_time</th>\n",
       "      <th>start_station_id</th>\n",
       "      <th>end_station_id</th>\n",
       "      <th>bike_id</th>\n",
       "      <th>user_type</th>\n",
       "      <th>start_station_name</th>\n",
       "      <th>end_station_name</th>\n",
       "      <th>Weekday</th>\n",
       "    </tr>\n",
       "  </thead>\n",
       "  <tbody>\n",
       "    <tr>\n",
       "      <th>0</th>\n",
       "      <td>2019-01-01 00:07:00</td>\n",
       "      <td>2019-01-01 00:14:00</td>\n",
       "      <td>3046</td>\n",
       "      <td>3051</td>\n",
       "      <td>06468</td>\n",
       "      <td>Walk-up</td>\n",
       "      <td>2nd &amp; Hill</td>\n",
       "      <td>7th &amp; Broadway</td>\n",
       "      <td>1</td>\n",
       "    </tr>\n",
       "    <tr>\n",
       "      <th>1</th>\n",
       "      <td>2019-01-01 00:08:00</td>\n",
       "      <td>2019-01-01 00:14:00</td>\n",
       "      <td>3046</td>\n",
       "      <td>3051</td>\n",
       "      <td>12311</td>\n",
       "      <td>Walk-up</td>\n",
       "      <td>2nd &amp; Hill</td>\n",
       "      <td>7th &amp; Broadway</td>\n",
       "      <td>1</td>\n",
       "    </tr>\n",
       "    <tr>\n",
       "      <th>2</th>\n",
       "      <td>2019-01-01 00:18:00</td>\n",
       "      <td>2019-01-01 00:50:00</td>\n",
       "      <td>3030</td>\n",
       "      <td>3075</td>\n",
       "      <td>05992</td>\n",
       "      <td>Walk-up</td>\n",
       "      <td>Main &amp; 1st</td>\n",
       "      <td>Broadway &amp; 9th</td>\n",
       "      <td>1</td>\n",
       "    </tr>\n",
       "    <tr>\n",
       "      <th>3</th>\n",
       "      <td>2019-01-01 00:20:00</td>\n",
       "      <td>2019-01-01 00:50:00</td>\n",
       "      <td>3030</td>\n",
       "      <td>3075</td>\n",
       "      <td>05860</td>\n",
       "      <td>Walk-up</td>\n",
       "      <td>Main &amp; 1st</td>\n",
       "      <td>Broadway &amp; 9th</td>\n",
       "      <td>1</td>\n",
       "    </tr>\n",
       "    <tr>\n",
       "      <th>4</th>\n",
       "      <td>2019-01-01 00:22:00</td>\n",
       "      <td>2019-01-01 00:50:00</td>\n",
       "      <td>3030</td>\n",
       "      <td>3075</td>\n",
       "      <td>06006</td>\n",
       "      <td>Walk-up</td>\n",
       "      <td>Main &amp; 1st</td>\n",
       "      <td>Broadway &amp; 9th</td>\n",
       "      <td>1</td>\n",
       "    </tr>\n",
       "  </tbody>\n",
       "</table>\n",
       "</div>"
      ],
      "text/plain": [
       "           start_time            end_time  start_station_id  end_station_id  \\\n",
       "0 2019-01-01 00:07:00 2019-01-01 00:14:00              3046            3051   \n",
       "1 2019-01-01 00:08:00 2019-01-01 00:14:00              3046            3051   \n",
       "2 2019-01-01 00:18:00 2019-01-01 00:50:00              3030            3075   \n",
       "3 2019-01-01 00:20:00 2019-01-01 00:50:00              3030            3075   \n",
       "4 2019-01-01 00:22:00 2019-01-01 00:50:00              3030            3075   \n",
       "\n",
       "  bike_id user_type start_station_name end_station_name  Weekday  \n",
       "0   06468   Walk-up         2nd & Hill   7th & Broadway        1  \n",
       "1   12311   Walk-up         2nd & Hill   7th & Broadway        1  \n",
       "2   05992   Walk-up         Main & 1st   Broadway & 9th        1  \n",
       "3   05860   Walk-up         Main & 1st   Broadway & 9th        1  \n",
       "4   06006   Walk-up         Main & 1st   Broadway & 9th        1  "
      ]
     },
     "execution_count": 7,
     "metadata": {},
     "output_type": "execute_result"
    }
   ],
   "source": [
    "def get_weekday (ts):\n",
    "    return ts.weekday()\n",
    "la[\"Weekday\"]=la[\"start_time\"].apply(lambda x: get_weekday (x))\n",
    "la.head()"
   ]
  },
  {
   "cell_type": "code",
   "execution_count": 19,
   "metadata": {},
   "outputs": [],
   "source": [
    "walk_up = la[la[\"user_type\"]==\"Walk-up\"]\n",
    "monthly = la[la[\"user_type\"]==\"Monthly Pass\"]\n",
    "annual = la[la[\"user_type\"]==\"Annual Pass\"]\n",
    "oneday = la[la[\"user_type\"]==\"One Day Pass\"]\n",
    "flex = la[la[\"user_type\"]==\"Flex Pass\"]"
   ]
  },
  {
   "cell_type": "code",
   "execution_count": 33,
   "metadata": {},
   "outputs": [
    {
     "data": {
      "text/plain": [
       "array([ 9917, 10123,  9068, 10205, 12212, 14580, 14749])"
      ]
     },
     "execution_count": 33,
     "metadata": {},
     "output_type": "execute_result"
    }
   ],
   "source": [
    "walk_mon = walk_up[walk_up[\"Weekday\"]==0]\n",
    "walk_tue = walk_up[walk_up[\"Weekday\"]==1]\n",
    "walk_wed = walk_up[walk_up[\"Weekday\"]==2]\n",
    "walk_thu = walk_up[walk_up[\"Weekday\"]==3]\n",
    "walk_fri = walk_up[walk_up[\"Weekday\"]==4]\n",
    "walk_sat = walk_up[walk_up[\"Weekday\"]==5]\n",
    "walk_sun = walk_up[walk_up[\"Weekday\"]==6]\n",
    "walk_rides = np.array([walk_mon[\"start_time\"].size, walk_tue[\"start_time\"].size, walk_wed[\"start_time\"].size, walk_thu[\"start_time\"].size, walk_fri[\"start_time\"].size, walk_sat[\"start_time\"].size, walk_sun[\"start_time\"].size])\n",
    "walk_rides"
   ]
  },
  {
   "cell_type": "code",
   "execution_count": 32,
   "metadata": {},
   "outputs": [
    {
     "data": {
      "text/plain": [
       "array([26764, 29516, 27561, 28432, 27471, 16561, 16360])"
      ]
     },
     "execution_count": 32,
     "metadata": {},
     "output_type": "execute_result"
    }
   ],
   "source": [
    "monthly_mon = monthly[monthly[\"Weekday\"]==0]\n",
    "monthly_tue = monthly[monthly[\"Weekday\"]==1]\n",
    "monthly_wed = monthly[monthly[\"Weekday\"]==2]\n",
    "monthly_thu = monthly[monthly[\"Weekday\"]==3]\n",
    "monthly_fri = monthly[monthly[\"Weekday\"]==4]\n",
    "monthly_sat = monthly[monthly[\"Weekday\"]==5]\n",
    "monthly_sun = monthly[monthly[\"Weekday\"]==6]\n",
    "monthly_rides = np.array([monthly_mon[\"start_time\"].size, monthly_tue[\"start_time\"].size, monthly_wed[\"start_time\"].size, monthly_thu[\"start_time\"].size, monthly_fri[\"start_time\"].size, monthly_sat[\"start_time\"].size, monthly_sun[\"start_time\"].size])\n",
    "monthly_rides"
   ]
  },
  {
   "cell_type": "code",
   "execution_count": 31,
   "metadata": {},
   "outputs": [
    {
     "data": {
      "text/plain": [
       "array([3469, 3886, 3565, 3465, 3565, 2015, 1694])"
      ]
     },
     "execution_count": 31,
     "metadata": {},
     "output_type": "execute_result"
    }
   ],
   "source": [
    "annual_mon = annual[annual[\"Weekday\"]==0]\n",
    "annual_tue = annual[annual[\"Weekday\"]==1]\n",
    "annual_wed = annual[annual[\"Weekday\"]==2]\n",
    "annual_thu = annual[annual[\"Weekday\"]==3]\n",
    "annual_fri = annual[annual[\"Weekday\"]==4]\n",
    "annual_sat = annual[annual[\"Weekday\"]==5]\n",
    "annual_sun = annual[annual[\"Weekday\"]==6]\n",
    "annual_rides = np.array([annual_mon[\"start_time\"].size, annual_tue[\"start_time\"].size, annual_wed[\"start_time\"].size, annual_thu[\"start_time\"].size, annual_fri[\"start_time\"].size, annual_sat[\"start_time\"].size, annual_sun[\"start_time\"].size])\n",
    "annual_rides"
   ]
  },
  {
   "cell_type": "code",
   "execution_count": 30,
   "metadata": {},
   "outputs": [
    {
     "data": {
      "text/plain": [
       "array([1629, 1655, 1602, 1657, 2166, 2521, 3501])"
      ]
     },
     "execution_count": 30,
     "metadata": {},
     "output_type": "execute_result"
    }
   ],
   "source": [
    "oneday_mon = oneday[oneday[\"Weekday\"]==0]\n",
    "oneday_tue = oneday[oneday[\"Weekday\"]==1]\n",
    "oneday_wed = oneday[oneday[\"Weekday\"]==2]\n",
    "oneday_thu = oneday[oneday[\"Weekday\"]==3]\n",
    "oneday_fri = oneday[oneday[\"Weekday\"]==4]\n",
    "oneday_sat = oneday[oneday[\"Weekday\"]==5]\n",
    "oneday_sun = oneday[oneday[\"Weekday\"]==6]\n",
    "oneday_rides = np.array([oneday_mon[\"start_time\"].size, oneday_tue[\"start_time\"].size, oneday_wed[\"start_time\"].size, oneday_thu[\"start_time\"].size, oneday_fri[\"start_time\"].size, oneday_sat[\"start_time\"].size, oneday_sun[\"start_time\"].size])\n",
    "oneday_rides"
   ]
  },
  {
   "cell_type": "code",
   "execution_count": 29,
   "metadata": {},
   "outputs": [
    {
     "data": {
      "text/plain": [
       "array([39, 52, 41, 56, 52, 49, 31])"
      ]
     },
     "execution_count": 29,
     "metadata": {},
     "output_type": "execute_result"
    }
   ],
   "source": [
    "flex_mon = flex[flex[\"Weekday\"]==0]\n",
    "flex_tue = flex[flex[\"Weekday\"]==1]\n",
    "flex_wed = flex[flex[\"Weekday\"]==2]\n",
    "flex_thu = flex[flex[\"Weekday\"]==3]\n",
    "flex_fri = flex[flex[\"Weekday\"]==4]\n",
    "flex_sat = flex[flex[\"Weekday\"]==5]\n",
    "flex_sun = flex[flex[\"Weekday\"]==6]\n",
    "flex_rides = np.array([flex_mon[\"start_time\"].size, flex_tue[\"start_time\"].size, flex_wed[\"start_time\"].size, flex_thu[\"start_time\"].size, flex_fri[\"start_time\"].size, flex_sat[\"start_time\"].size, flex_sun[\"start_time\"].size])\n",
    "flex_rides"
   ]
  },
  {
   "cell_type": "code",
   "execution_count": 34,
   "metadata": {},
   "outputs": [
    {
     "data": {
      "text/plain": [
       "Text(0.5, 1.0, 'Number of Rides throughout a week of different user types')"
      ]
     },
     "execution_count": 34,
     "metadata": {},
     "output_type": "execute_result"
    },
    {
     "data": {
      "image/png": "[encoded data removed]",
      "text/plain": [
       "<Figure size 576x288 with 1 Axes>"
      ]
     },
     "metadata": {
      "needs_background": "light"
     },
     "output_type": "display_data"
    }
   ],
   "source": [
    "fig,ax = plt.subplots(figsize=(8,4))\n",
    "weekdays_sub= ['Monday','Tuesday','Wednesday','Thursday','Friday','Saturday','Sunday']\n",
    "data = np.array([walk_rides, monthly_rides, annual_rides, oneday_rides, flex_rides])\n",
    "color_list = ['b', 'g', 'r', 'c', 'm']\n",
    "for i in range(data.shape[0]):\n",
    "  plt.bar(weekdays_sub, data[i],\n",
    "    bottom = np.sum(data[:i], axis = 0),\n",
    "    color = color_list[i % len(color_list)])\n",
    "\n",
    "ax.set_xlabel(\"Weekday\")\n",
    "ax.set_ylabel(\"Number of Rides\")\n",
    "ax.set_title(\"Number of Rides throughout a week of different user types\")"
   ]
  },
  {
   "cell_type": "code",
   "execution_count": null,
   "metadata": {},
   "outputs": [],
   "source": []
  }
 ],
 "metadata": {
  "kernelspec": {
   "display_name": "Python 3",
   "language": "python",
   "name": "python3"
  },
  "language_info": {
   "codemirror_mode": {
    "name": "ipython",
    "version": 3
   },
   "file_extension": ".py",
   "mimetype": "text/x-python",
   "name": "python",
   "nbconvert_exporter": "python",
   "pygments_lexer": "ipython3",
   "version": "3.8.5"
  }
 },
 "nbformat": 4,
 "nbformat_minor": 4
}

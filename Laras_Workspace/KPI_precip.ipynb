{
 "cells": [
  {
   "cell_type": "markdown",
   "id": "dc6d2ede",
   "metadata": {},
   "source": [
    "#### 2. Trips based on precipitation"
   ]
  },
  {
   "cell_type": "code",
   "execution_count": 1,
   "id": "4de654fc",
   "metadata": {},
   "outputs": [
    {
     "data": {
      "text/html": [],
      "text/plain": [
       "<IPython.core.display.HTML object>"
      ]
     },
     "metadata": {},
     "output_type": "display_data"
    }
   ],
   "source": [
    "import pandas as pd\n",
    "import numpy as np\n",
    "import matplotlib.pyplot as plt\n",
    "import seaborn as sns\n",
    "from IPython.display import display, HTML\n",
    "from IPython.display import display, HTML\n",
    "display(HTML(\"\"))\n",
    "import scienceplots\n",
    "plt.style.use(['science', 'no-latex'])\n",
    "from statistics import mean"
   ]
  },
  {
   "cell_type": "code",
   "execution_count": 2,
   "id": "46f20f0f",
   "metadata": {},
   "outputs": [],
   "source": [
    "# import prepared data set\n",
    "df_la = pd.read_csv(\"prepared_data.csv\", parse_dates=[\"start_time\",\"end_time\",\"Date\"],low_memory=False)\n",
    "df_weather = pd.read_csv(\"prepared_data_weather.csv\", parse_dates=[\"date_time\"],low_memory=False)"
   ]
  },
  {
   "cell_type": "code",
   "execution_count": 3,
   "id": "f39335dd",
   "metadata": {},
   "outputs": [
    {
     "data": {
      "text/html": [
       "<div>\n",
       "<style scoped>\n",
       "    .dataframe tbody tr th:only-of-type {\n",
       "        vertical-align: middle;\n",
       "    }\n",
       "\n",
       "    .dataframe tbody tr th {\n",
       "        vertical-align: top;\n",
       "    }\n",
       "\n",
       "    .dataframe thead th {\n",
       "        text-align: right;\n",
       "    }\n",
       "</style>\n",
       "<table border=\"1\" class=\"dataframe\">\n",
       "  <thead>\n",
       "    <tr style=\"text-align: right;\">\n",
       "      <th></th>\n",
       "      <th>Unnamed: 0</th>\n",
       "      <th>start_time</th>\n",
       "      <th>end_time</th>\n",
       "      <th>start_station_id</th>\n",
       "      <th>end_station_id</th>\n",
       "      <th>bike_id</th>\n",
       "      <th>user_type</th>\n",
       "      <th>start_station_name</th>\n",
       "      <th>end_station_name</th>\n",
       "      <th>duration</th>\n",
       "      <th>Date</th>\n",
       "      <th>Day</th>\n",
       "      <th>Month</th>\n",
       "      <th>Weekday</th>\n",
       "      <th>Hour</th>\n",
       "      <th>Day_of_year</th>\n",
       "    </tr>\n",
       "  </thead>\n",
       "  <tbody>\n",
       "    <tr>\n",
       "      <th>283134</th>\n",
       "      <td>290341</td>\n",
       "      <td>2019-12-31 23:58:52</td>\n",
       "      <td>2020-01-01 00:25:27</td>\n",
       "      <td>3074</td>\n",
       "      <td>3049</td>\n",
       "      <td>19053</td>\n",
       "      <td>Annual Pass</td>\n",
       "      <td>Hope &amp; Olympic</td>\n",
       "      <td>2nd &amp; Figueroa</td>\n",
       "      <td>26.0</td>\n",
       "      <td>2019-12-31</td>\n",
       "      <td>31</td>\n",
       "      <td>12</td>\n",
       "      <td>1</td>\n",
       "      <td>23</td>\n",
       "      <td>365</td>\n",
       "    </tr>\n",
       "  </tbody>\n",
       "</table>\n",
       "</div>"
      ],
      "text/plain": [
       "        Unnamed: 0          start_time            end_time  start_station_id  \\\n",
       "283134      290341 2019-12-31 23:58:52 2020-01-01 00:25:27              3074   \n",
       "\n",
       "        end_station_id bike_id    user_type start_station_name  \\\n",
       "283134            3049   19053  Annual Pass     Hope & Olympic   \n",
       "\n",
       "       end_station_name  duration       Date  Day  Month  Weekday  Hour  \\\n",
       "283134   2nd & Figueroa      26.0 2019-12-31   31     12        1    23   \n",
       "\n",
       "        Day_of_year  \n",
       "283134          365  "
      ]
     },
     "execution_count": 3,
     "metadata": {},
     "output_type": "execute_result"
    }
   ],
   "source": [
    "df_la.tail(1)"
   ]
  },
  {
   "cell_type": "code",
   "execution_count": 4,
   "id": "03f7e98b",
   "metadata": {},
   "outputs": [
    {
     "data": {
      "text/html": [
       "<div>\n",
       "<style scoped>\n",
       "    .dataframe tbody tr th:only-of-type {\n",
       "        vertical-align: middle;\n",
       "    }\n",
       "\n",
       "    .dataframe tbody tr th {\n",
       "        vertical-align: top;\n",
       "    }\n",
       "\n",
       "    .dataframe thead th {\n",
       "        text-align: right;\n",
       "    }\n",
       "</style>\n",
       "<table border=\"1\" class=\"dataframe\">\n",
       "  <thead>\n",
       "    <tr style=\"text-align: right;\">\n",
       "      <th></th>\n",
       "      <th>Unnamed: 0</th>\n",
       "      <th>date_time</th>\n",
       "      <th>max_temp</th>\n",
       "      <th>min_temp</th>\n",
       "      <th>precip</th>\n",
       "      <th>year</th>\n",
       "      <th>temp</th>\n",
       "    </tr>\n",
       "  </thead>\n",
       "  <tbody>\n",
       "    <tr>\n",
       "      <th>0</th>\n",
       "      <td>35040</td>\n",
       "      <td>2019-01-01 01:00:00</td>\n",
       "      <td>15.6</td>\n",
       "      <td>15.6</td>\n",
       "      <td>0.0</td>\n",
       "      <td>2019.0</td>\n",
       "      <td>15.6</td>\n",
       "    </tr>\n",
       "    <tr>\n",
       "      <th>1</th>\n",
       "      <td>35041</td>\n",
       "      <td>2019-01-01 02:00:00</td>\n",
       "      <td>15.0</td>\n",
       "      <td>15.0</td>\n",
       "      <td>0.0</td>\n",
       "      <td>2019.0</td>\n",
       "      <td>15.0</td>\n",
       "    </tr>\n",
       "    <tr>\n",
       "      <th>2</th>\n",
       "      <td>35042</td>\n",
       "      <td>2019-01-01 03:00:00</td>\n",
       "      <td>15.0</td>\n",
       "      <td>15.0</td>\n",
       "      <td>0.0</td>\n",
       "      <td>2019.0</td>\n",
       "      <td>15.0</td>\n",
       "    </tr>\n",
       "  </tbody>\n",
       "</table>\n",
       "</div>"
      ],
      "text/plain": [
       "   Unnamed: 0           date_time  max_temp  min_temp  precip    year  temp\n",
       "0       35040 2019-01-01 01:00:00      15.6      15.6     0.0  2019.0  15.6\n",
       "1       35041 2019-01-01 02:00:00      15.0      15.0     0.0  2019.0  15.0\n",
       "2       35042 2019-01-01 03:00:00      15.0      15.0     0.0  2019.0  15.0"
      ]
     },
     "execution_count": 4,
     "metadata": {},
     "output_type": "execute_result"
    }
   ],
   "source": [
    "#df_weather[\"hour\"]= df_weather[\"date_time\"].apply(lambda x: x.hour)\n",
    "#df_weather[\"day\"]= df_weather[\"date_time\"].apply(lambda x: x.day)\n",
    "df_weather.head(3)"
   ]
  },
  {
   "cell_type": "code",
   "execution_count": 5,
   "id": "060b4726",
   "metadata": {},
   "outputs": [],
   "source": [
    "# getting number of trips per hour\n",
    "def get_trips_hour(datetime):\n",
    "    return df_la[(df_la[\"Month\"] == datetime.month) & (df_la[\"Day\"] == datetime.day) & (df_la[\"Hour\"] == datetime.hour)].size"
   ]
  },
  {
   "cell_type": "code",
   "execution_count": 6,
   "id": "9922edaa",
   "metadata": {},
   "outputs": [],
   "source": [
    "df_weather[\"num_trips_hour\"] = df_weather[\"date_time\"].apply(get_trips_hour)\n",
    "#df_weather[\"hour\"] = df_weather.index"
   ]
  },
  {
   "cell_type": "code",
   "execution_count": 7,
   "id": "033adf81",
   "metadata": {},
   "outputs": [],
   "source": [
    "# getting number of trips per day\n",
    "def get_trips_day(datetime):\n",
    "    return df_la[(df_la[\"Month\"] == datetime.month) & (df_la[\"Day\"] == datetime.day)].size"
   ]
  },
  {
   "cell_type": "code",
   "execution_count": 8,
   "id": "d00f09e0",
   "metadata": {},
   "outputs": [],
   "source": [
    "df_weather[\"num_trips_day\"] = df_weather[\"date_time\"].apply(get_trips_day)"
   ]
  },
  {
   "cell_type": "code",
   "execution_count": 9,
   "id": "a7e69824",
   "metadata": {},
   "outputs": [
    {
     "data": {
      "text/html": [
       "<div>\n",
       "<style scoped>\n",
       "    .dataframe tbody tr th:only-of-type {\n",
       "        vertical-align: middle;\n",
       "    }\n",
       "\n",
       "    .dataframe tbody tr th {\n",
       "        vertical-align: top;\n",
       "    }\n",
       "\n",
       "    .dataframe thead th {\n",
       "        text-align: right;\n",
       "    }\n",
       "</style>\n",
       "<table border=\"1\" class=\"dataframe\">\n",
       "  <thead>\n",
       "    <tr style=\"text-align: right;\">\n",
       "      <th></th>\n",
       "      <th>Unnamed: 0</th>\n",
       "      <th>date_time</th>\n",
       "      <th>max_temp</th>\n",
       "      <th>min_temp</th>\n",
       "      <th>precip</th>\n",
       "      <th>year</th>\n",
       "      <th>temp</th>\n",
       "      <th>num_trips_hour</th>\n",
       "      <th>num_trips_day</th>\n",
       "    </tr>\n",
       "  </thead>\n",
       "  <tbody>\n",
       "    <tr>\n",
       "      <th>0</th>\n",
       "      <td>35040</td>\n",
       "      <td>2019-01-01 01:00:00</td>\n",
       "      <td>15.6</td>\n",
       "      <td>15.6</td>\n",
       "      <td>0.0</td>\n",
       "      <td>2019.0</td>\n",
       "      <td>15.6</td>\n",
       "      <td>128</td>\n",
       "      <td>8080</td>\n",
       "    </tr>\n",
       "    <tr>\n",
       "      <th>1</th>\n",
       "      <td>35041</td>\n",
       "      <td>2019-01-01 02:00:00</td>\n",
       "      <td>15.0</td>\n",
       "      <td>15.0</td>\n",
       "      <td>0.0</td>\n",
       "      <td>2019.0</td>\n",
       "      <td>15.0</td>\n",
       "      <td>256</td>\n",
       "      <td>8080</td>\n",
       "    </tr>\n",
       "    <tr>\n",
       "      <th>2</th>\n",
       "      <td>35042</td>\n",
       "      <td>2019-01-01 03:00:00</td>\n",
       "      <td>15.0</td>\n",
       "      <td>15.0</td>\n",
       "      <td>0.0</td>\n",
       "      <td>2019.0</td>\n",
       "      <td>15.0</td>\n",
       "      <td>32</td>\n",
       "      <td>8080</td>\n",
       "    </tr>\n",
       "    <tr>\n",
       "      <th>3</th>\n",
       "      <td>35043</td>\n",
       "      <td>2019-01-01 04:00:00</td>\n",
       "      <td>13.9</td>\n",
       "      <td>13.9</td>\n",
       "      <td>0.0</td>\n",
       "      <td>2019.0</td>\n",
       "      <td>13.9</td>\n",
       "      <td>0</td>\n",
       "      <td>8080</td>\n",
       "    </tr>\n",
       "    <tr>\n",
       "      <th>4</th>\n",
       "      <td>35044</td>\n",
       "      <td>2019-01-01 05:00:00</td>\n",
       "      <td>12.2</td>\n",
       "      <td>12.2</td>\n",
       "      <td>0.0</td>\n",
       "      <td>2019.0</td>\n",
       "      <td>12.2</td>\n",
       "      <td>0</td>\n",
       "      <td>8080</td>\n",
       "    </tr>\n",
       "  </tbody>\n",
       "</table>\n",
       "</div>"
      ],
      "text/plain": [
       "   Unnamed: 0           date_time  max_temp  min_temp  precip    year  temp  \\\n",
       "0       35040 2019-01-01 01:00:00      15.6      15.6     0.0  2019.0  15.6   \n",
       "1       35041 2019-01-01 02:00:00      15.0      15.0     0.0  2019.0  15.0   \n",
       "2       35042 2019-01-01 03:00:00      15.0      15.0     0.0  2019.0  15.0   \n",
       "3       35043 2019-01-01 04:00:00      13.9      13.9     0.0  2019.0  13.9   \n",
       "4       35044 2019-01-01 05:00:00      12.2      12.2     0.0  2019.0  12.2   \n",
       "\n",
       "   num_trips_hour  num_trips_day  \n",
       "0             128           8080  \n",
       "1             256           8080  \n",
       "2              32           8080  \n",
       "3               0           8080  \n",
       "4               0           8080  "
      ]
     },
     "execution_count": 9,
     "metadata": {},
     "output_type": "execute_result"
    }
   ],
   "source": [
    "df_weather.head(5)"
   ]
  },
  {
   "cell_type": "markdown",
   "id": "84f79762",
   "metadata": {},
   "source": [
    "### per hour"
   ]
  },
  {
   "cell_type": "code",
   "execution_count": 10,
   "id": "d51b402d",
   "metadata": {
    "scrolled": true
   },
   "outputs": [
    {
     "data": {
      "image/png": "[encoded data removed]",
      "text/plain": [
       "<Figure size 252x189 with 1 Axes>"
      ]
     },
     "metadata": {
      "needs_background": "light"
     },
     "output_type": "display_data"
    }
   ],
   "source": [
    "# Overview trips per hour of year\n",
    "plt.plot(df_weather.index, df_weather[\"num_trips_hour\"], label='Trips per hour')\n",
    "plt.title('Absolute number of trips per hour')\n",
    "plt.ylabel('Trips')\n",
    "plt.xlabel('Hour')\n",
    "plt.show()"
   ]
  },
  {
   "cell_type": "code",
   "execution_count": 11,
   "id": "6845513e",
   "metadata": {},
   "outputs": [
    {
     "data": {
      "image/png": "[encoded data removed]",
      "text/plain": [
       "<Figure size 252x189 with 1 Axes>"
      ]
     },
     "metadata": {
      "needs_background": "light"
     },
     "output_type": "display_data"
    }
   ],
   "source": [
    "# Overview precipitation per hour of year\n",
    "plt.plot(df_weather.index, df_weather[\"precip\"], label='Precipitation per hour with 1 = precipitation and 0 = no precipitation')\n",
    "plt.ylabel('Precipitation')\n",
    "plt.xlabel('Hour')\n",
    "plt.show()"
   ]
  },
  {
   "cell_type": "code",
   "execution_count": 12,
   "id": "f98b7c43",
   "metadata": {},
   "outputs": [
    {
     "data": {
      "text/html": [
       "<div>\n",
       "<style scoped>\n",
       "    .dataframe tbody tr th:only-of-type {\n",
       "        vertical-align: middle;\n",
       "    }\n",
       "\n",
       "    .dataframe tbody tr th {\n",
       "        vertical-align: top;\n",
       "    }\n",
       "\n",
       "    .dataframe thead th {\n",
       "        text-align: right;\n",
       "    }\n",
       "</style>\n",
       "<table border=\"1\" class=\"dataframe\">\n",
       "  <thead>\n",
       "    <tr style=\"text-align: right;\">\n",
       "      <th></th>\n",
       "      <th>count_hour</th>\n",
       "      <th>precip</th>\n",
       "    </tr>\n",
       "  </thead>\n",
       "  <tbody>\n",
       "    <tr>\n",
       "      <th>0</th>\n",
       "      <td>8476</td>\n",
       "      <td>0.0</td>\n",
       "    </tr>\n",
       "    <tr>\n",
       "      <th>1</th>\n",
       "      <td>256</td>\n",
       "      <td>1.0</td>\n",
       "    </tr>\n",
       "  </tbody>\n",
       "</table>\n",
       "</div>"
      ],
      "text/plain": [
       "   count_hour  precip\n",
       "0        8476     0.0\n",
       "1         256     1.0"
      ]
     },
     "execution_count": 12,
     "metadata": {},
     "output_type": "execute_result"
    }
   ],
   "source": [
    "# number of hours without and with precipitation\n",
    "precip_count_hour = df_weather[\"precip\"].value_counts()\n",
    "df = precip_count_hour.to_frame().rename(columns = {'precip': 'count_hour'})\n",
    "df['precip'] = df.index\n",
    "df.reset_index(drop=True, inplace=True) \n",
    "df"
   ]
  },
  {
   "cell_type": "code",
   "execution_count": 13,
   "id": "959c1b8b",
   "metadata": {},
   "outputs": [
    {
     "data": {
      "text/plain": [
       "Text(0.5, 1.0, 'Hours with and without precipitation with 0 = no precipitation and 1 = precipitation')"
      ]
     },
     "execution_count": 13,
     "metadata": {},
     "output_type": "execute_result"
    },
    {
     "data": {
      "image/png": "[encoded data removed]",
      "text/plain": [
       "<Figure size 252x189 with 1 Axes>"
      ]
     },
     "metadata": {
      "needs_background": "light"
     },
     "output_type": "display_data"
    }
   ],
   "source": [
    "# number of hours without and with precipitation\n",
    "fig, ax = plt.subplots()\n",
    "plt.setp(ax.xaxis.get_majorticklabels(),rotation=90,fontsize=10)\n",
    "ax.bar(df[\"precip\"], df[\"count_hour\"])\n",
    "plt.title('Hours with and without precipitation with 0 = no precipitation and 1 = precipitation')"
   ]
  },
  {
   "cell_type": "code",
   "execution_count": 14,
   "id": "bae079f9",
   "metadata": {},
   "outputs": [
    {
     "data": {
      "text/plain": [
       "350.125"
      ]
     },
     "execution_count": 14,
     "metadata": {},
     "output_type": "execute_result"
    }
   ],
   "source": [
    "# Mean of number of trips when precipitation\n",
    "hours_with_precip = df_weather[df_weather[\"precip\"] == 1]\n",
    "mean(hours_with_precip[\"num_trips_hour\"])"
   ]
  },
  {
   "cell_type": "code",
   "execution_count": 15,
   "id": "4da8da85",
   "metadata": {
    "scrolled": true
   },
   "outputs": [
    {
     "data": {
      "text/plain": [
       "522.8900424728646"
      ]
     },
     "execution_count": 15,
     "metadata": {},
     "output_type": "execute_result"
    }
   ],
   "source": [
    "# Mean of numbers of trips when no precipitation\n",
    "hours_without_precip = df_weather[df_weather[\"precip\"] == 0]\n",
    "mean(hours_without_precip[\"num_trips_hour\"])"
   ]
  },
  {
   "cell_type": "code",
   "execution_count": 16,
   "id": "449604d1",
   "metadata": {},
   "outputs": [
    {
     "data": {
      "image/png": "[encoded data removed]",
      "text/plain": [
       "<Figure size 1296x288 with 1 Axes>"
      ]
     },
     "metadata": {
      "needs_background": "light"
     },
     "output_type": "display_data"
    }
   ],
   "source": [
    "# number of rides per hour with and without precipitation\n",
    "plt.figure(figsize = (18,4))\n",
    "plt.scatter(hours_without_precip.index, hours_without_precip[\"num_trips_hour\"], color = 'g', s=10)\n",
    "plt.scatter(hours_with_precip.index, hours_with_precip[\"num_trips_hour\"], color = 'b', s=10)\n",
    "plt.xlabel(\"Number of trips\")\n",
    "plt.ylabel(\"Hour\")\n",
    "plt.title(\"Number of rides per hour with (blue) and without (green) precipitation\")\n",
    "plt.show()"
   ]
  },
  {
   "cell_type": "code",
   "execution_count": 17,
   "id": "952032b1",
   "metadata": {},
   "outputs": [],
   "source": [
    "#f, axes = plt.subplots(figsize=(18, 4))\n",
    "#sns.barplot(x = \"hour\", y= \"num_trips\",data=df_weather)\n",
    "#plt.show()"
   ]
  },
  {
   "cell_type": "markdown",
   "id": "97d36a99",
   "metadata": {},
   "source": [
    "### per day"
   ]
  },
  {
   "cell_type": "code",
   "execution_count": 18,
   "id": "dadb7896",
   "metadata": {},
   "outputs": [
    {
     "name": "stdout",
     "output_type": "stream",
     "text": [
      "<class 'pandas.core.frame.DataFrame'>\n",
      "DatetimeIndex: 365 entries, 2019-01-01 to 2019-12-31\n",
      "Freq: D\n",
      "Data columns (total 4 columns):\n",
      " #   Column       Non-Null Count  Dtype  \n",
      "---  ------       --------------  -----  \n",
      " 0   max_temp     365 non-null    float64\n",
      " 1   min_temp     365 non-null    float64\n",
      " 2   precip       365 non-null    float64\n",
      " 3   day_of_year  365 non-null    int64  \n",
      "dtypes: float64(3), int64(1)\n",
      "memory usage: 14.3 KB\n"
     ]
    }
   ],
   "source": [
    "# per day\n",
    "df_weather_res = df_weather.resample(\"D\", on=\"date_time\").agg({'max_temp':'max', 'min_temp': 'min','precip':'sum'})\n",
    "df_weather_res[\"day_of_year\"] = df_weather_res.index.to_series().apply(lambda x:x.dayofyear)\n",
    "df_weather_res.info()"
   ]
  },
  {
   "cell_type": "code",
   "execution_count": 19,
   "id": "9ecf1615",
   "metadata": {},
   "outputs": [
    {
     "data": {
      "text/html": [
       "<div>\n",
       "<style scoped>\n",
       "    .dataframe tbody tr th:only-of-type {\n",
       "        vertical-align: middle;\n",
       "    }\n",
       "\n",
       "    .dataframe tbody tr th {\n",
       "        vertical-align: top;\n",
       "    }\n",
       "\n",
       "    .dataframe thead th {\n",
       "        text-align: right;\n",
       "    }\n",
       "</style>\n",
       "<table border=\"1\" class=\"dataframe\">\n",
       "  <thead>\n",
       "    <tr style=\"text-align: right;\">\n",
       "      <th></th>\n",
       "      <th>max_temp</th>\n",
       "      <th>min_temp</th>\n",
       "      <th>precip</th>\n",
       "      <th>day_of_year</th>\n",
       "    </tr>\n",
       "    <tr>\n",
       "      <th>date_time</th>\n",
       "      <th></th>\n",
       "      <th></th>\n",
       "      <th></th>\n",
       "      <th></th>\n",
       "    </tr>\n",
       "  </thead>\n",
       "  <tbody>\n",
       "    <tr>\n",
       "      <th>2019-01-01</th>\n",
       "      <td>16.7</td>\n",
       "      <td>6.1</td>\n",
       "      <td>0.0</td>\n",
       "      <td>1</td>\n",
       "    </tr>\n",
       "    <tr>\n",
       "      <th>2019-01-02</th>\n",
       "      <td>16.1</td>\n",
       "      <td>4.4</td>\n",
       "      <td>0.0</td>\n",
       "      <td>2</td>\n",
       "    </tr>\n",
       "    <tr>\n",
       "      <th>2019-01-03</th>\n",
       "      <td>18.3</td>\n",
       "      <td>7.8</td>\n",
       "      <td>0.0</td>\n",
       "      <td>3</td>\n",
       "    </tr>\n",
       "  </tbody>\n",
       "</table>\n",
       "</div>"
      ],
      "text/plain": [
       "            max_temp  min_temp  precip  day_of_year\n",
       "date_time                                          \n",
       "2019-01-01      16.7       6.1     0.0            1\n",
       "2019-01-02      16.1       4.4     0.0            2\n",
       "2019-01-03      18.3       7.8     0.0            3"
      ]
     },
     "execution_count": 19,
     "metadata": {},
     "output_type": "execute_result"
    }
   ],
   "source": [
    "df_weather_res.head(3)"
   ]
  },
  {
   "cell_type": "code",
   "execution_count": 20,
   "id": "b57370c5",
   "metadata": {},
   "outputs": [
    {
     "data": {
      "text/html": [
       "<div>\n",
       "<style scoped>\n",
       "    .dataframe tbody tr th:only-of-type {\n",
       "        vertical-align: middle;\n",
       "    }\n",
       "\n",
       "    .dataframe tbody tr th {\n",
       "        vertical-align: top;\n",
       "    }\n",
       "\n",
       "    .dataframe thead th {\n",
       "        text-align: right;\n",
       "    }\n",
       "</style>\n",
       "<table border=\"1\" class=\"dataframe\">\n",
       "  <thead>\n",
       "    <tr style=\"text-align: right;\">\n",
       "      <th></th>\n",
       "      <th>max_temp</th>\n",
       "      <th>min_temp</th>\n",
       "      <th>precip</th>\n",
       "      <th>day_of_year</th>\n",
       "    </tr>\n",
       "    <tr>\n",
       "      <th>date_time</th>\n",
       "      <th></th>\n",
       "      <th></th>\n",
       "      <th></th>\n",
       "      <th></th>\n",
       "    </tr>\n",
       "  </thead>\n",
       "  <tbody>\n",
       "    <tr>\n",
       "      <th>2019-12-29</th>\n",
       "      <td>16.7</td>\n",
       "      <td>8.3</td>\n",
       "      <td>0.0</td>\n",
       "      <td>363</td>\n",
       "    </tr>\n",
       "    <tr>\n",
       "      <th>2019-12-30</th>\n",
       "      <td>17.8</td>\n",
       "      <td>11.7</td>\n",
       "      <td>0.0</td>\n",
       "      <td>364</td>\n",
       "    </tr>\n",
       "    <tr>\n",
       "      <th>2019-12-31</th>\n",
       "      <td>22.8</td>\n",
       "      <td>10.6</td>\n",
       "      <td>0.0</td>\n",
       "      <td>365</td>\n",
       "    </tr>\n",
       "  </tbody>\n",
       "</table>\n",
       "</div>"
      ],
      "text/plain": [
       "            max_temp  min_temp  precip  day_of_year\n",
       "date_time                                          \n",
       "2019-12-29      16.7       8.3     0.0          363\n",
       "2019-12-30      17.8      11.7     0.0          364\n",
       "2019-12-31      22.8      10.6     0.0          365"
      ]
     },
     "execution_count": 20,
     "metadata": {},
     "output_type": "execute_result"
    }
   ],
   "source": [
    "df_weather_res.tail(3)"
   ]
  },
  {
   "cell_type": "code",
   "execution_count": 21,
   "id": "ea3d4f39",
   "metadata": {},
   "outputs": [
    {
     "data": {
      "text/html": [
       "<div>\n",
       "<style scoped>\n",
       "    .dataframe tbody tr th:only-of-type {\n",
       "        vertical-align: middle;\n",
       "    }\n",
       "\n",
       "    .dataframe tbody tr th {\n",
       "        vertical-align: top;\n",
       "    }\n",
       "\n",
       "    .dataframe thead th {\n",
       "        text-align: right;\n",
       "    }\n",
       "</style>\n",
       "<table border=\"1\" class=\"dataframe\">\n",
       "  <thead>\n",
       "    <tr style=\"text-align: right;\">\n",
       "      <th></th>\n",
       "      <th>key_0</th>\n",
       "      <th>Unnamed: 0</th>\n",
       "      <th>start_time</th>\n",
       "      <th>end_time</th>\n",
       "      <th>start_station_id</th>\n",
       "      <th>end_station_id</th>\n",
       "      <th>bike_id</th>\n",
       "      <th>user_type</th>\n",
       "      <th>start_station_name</th>\n",
       "      <th>end_station_name</th>\n",
       "      <th>...</th>\n",
       "      <th>Date</th>\n",
       "      <th>Day</th>\n",
       "      <th>Month</th>\n",
       "      <th>Weekday</th>\n",
       "      <th>Hour</th>\n",
       "      <th>Day_of_year</th>\n",
       "      <th>max_temp</th>\n",
       "      <th>min_temp</th>\n",
       "      <th>precip</th>\n",
       "      <th>day_of_year</th>\n",
       "    </tr>\n",
       "  </thead>\n",
       "  <tbody>\n",
       "    <tr>\n",
       "      <th>0</th>\n",
       "      <td>1</td>\n",
       "      <td>0</td>\n",
       "      <td>2019-01-01 00:07:00</td>\n",
       "      <td>2019-01-01 00:14:00</td>\n",
       "      <td>3046</td>\n",
       "      <td>3051</td>\n",
       "      <td>06468</td>\n",
       "      <td>Walk-up</td>\n",
       "      <td>2nd &amp; Hill</td>\n",
       "      <td>7th &amp; Broadway</td>\n",
       "      <td>...</td>\n",
       "      <td>2019-01-01</td>\n",
       "      <td>1</td>\n",
       "      <td>1</td>\n",
       "      <td>1</td>\n",
       "      <td>0</td>\n",
       "      <td>1</td>\n",
       "      <td>16.7</td>\n",
       "      <td>6.1</td>\n",
       "      <td>0.0</td>\n",
       "      <td>1</td>\n",
       "    </tr>\n",
       "    <tr>\n",
       "      <th>1</th>\n",
       "      <td>1</td>\n",
       "      <td>1</td>\n",
       "      <td>2019-01-01 00:08:00</td>\n",
       "      <td>2019-01-01 00:14:00</td>\n",
       "      <td>3046</td>\n",
       "      <td>3051</td>\n",
       "      <td>12311</td>\n",
       "      <td>Walk-up</td>\n",
       "      <td>2nd &amp; Hill</td>\n",
       "      <td>7th &amp; Broadway</td>\n",
       "      <td>...</td>\n",
       "      <td>2019-01-01</td>\n",
       "      <td>1</td>\n",
       "      <td>1</td>\n",
       "      <td>1</td>\n",
       "      <td>0</td>\n",
       "      <td>1</td>\n",
       "      <td>16.7</td>\n",
       "      <td>6.1</td>\n",
       "      <td>0.0</td>\n",
       "      <td>1</td>\n",
       "    </tr>\n",
       "    <tr>\n",
       "      <th>2</th>\n",
       "      <td>1</td>\n",
       "      <td>2</td>\n",
       "      <td>2019-01-01 00:18:00</td>\n",
       "      <td>2019-01-01 00:50:00</td>\n",
       "      <td>3030</td>\n",
       "      <td>3075</td>\n",
       "      <td>05992</td>\n",
       "      <td>Walk-up</td>\n",
       "      <td>Main &amp; 1st</td>\n",
       "      <td>Broadway &amp; 9th</td>\n",
       "      <td>...</td>\n",
       "      <td>2019-01-01</td>\n",
       "      <td>1</td>\n",
       "      <td>1</td>\n",
       "      <td>1</td>\n",
       "      <td>0</td>\n",
       "      <td>1</td>\n",
       "      <td>16.7</td>\n",
       "      <td>6.1</td>\n",
       "      <td>0.0</td>\n",
       "      <td>1</td>\n",
       "    </tr>\n",
       "  </tbody>\n",
       "</table>\n",
       "<p>3 rows × 21 columns</p>\n",
       "</div>"
      ],
      "text/plain": [
       "   key_0  Unnamed: 0          start_time            end_time  \\\n",
       "0      1           0 2019-01-01 00:07:00 2019-01-01 00:14:00   \n",
       "1      1           1 2019-01-01 00:08:00 2019-01-01 00:14:00   \n",
       "2      1           2 2019-01-01 00:18:00 2019-01-01 00:50:00   \n",
       "\n",
       "   start_station_id  end_station_id bike_id user_type start_station_name  \\\n",
       "0              3046            3051   06468   Walk-up         2nd & Hill   \n",
       "1              3046            3051   12311   Walk-up         2nd & Hill   \n",
       "2              3030            3075   05992   Walk-up         Main & 1st   \n",
       "\n",
       "  end_station_name  ...       Date Day  Month  Weekday  Hour  Day_of_year  \\\n",
       "0   7th & Broadway  ... 2019-01-01   1      1        1     0            1   \n",
       "1   7th & Broadway  ... 2019-01-01   1      1        1     0            1   \n",
       "2   Broadway & 9th  ... 2019-01-01   1      1        1     0            1   \n",
       "\n",
       "   max_temp  min_temp  precip  day_of_year  \n",
       "0      16.7       6.1     0.0            1  \n",
       "1      16.7       6.1     0.0            1  \n",
       "2      16.7       6.1     0.0            1  \n",
       "\n",
       "[3 rows x 21 columns]"
      ]
     },
     "execution_count": 21,
     "metadata": {},
     "output_type": "execute_result"
    }
   ],
   "source": [
    "weather_trips_day = df_la.merge(df_weather_res, right_on=df_weather_res[\"day_of_year\"], left_on=df_la[\"Day_of_year\"], how=\"left\")\n",
    "weather_trips_day.head(3)"
   ]
  },
  {
   "cell_type": "code",
   "execution_count": 22,
   "id": "3c01ee31",
   "metadata": {},
   "outputs": [
    {
     "data": {
      "text/html": [
       "<div>\n",
       "<style scoped>\n",
       "    .dataframe tbody tr th:only-of-type {\n",
       "        vertical-align: middle;\n",
       "    }\n",
       "\n",
       "    .dataframe tbody tr th {\n",
       "        vertical-align: top;\n",
       "    }\n",
       "\n",
       "    .dataframe thead th {\n",
       "        text-align: right;\n",
       "    }\n",
       "</style>\n",
       "<table border=\"1\" class=\"dataframe\">\n",
       "  <thead>\n",
       "    <tr style=\"text-align: right;\">\n",
       "      <th></th>\n",
       "      <th>key_0</th>\n",
       "      <th>Unnamed: 0</th>\n",
       "      <th>start_time</th>\n",
       "      <th>end_time</th>\n",
       "      <th>start_station_id</th>\n",
       "      <th>end_station_id</th>\n",
       "      <th>bike_id</th>\n",
       "      <th>user_type</th>\n",
       "      <th>start_station_name</th>\n",
       "      <th>end_station_name</th>\n",
       "      <th>...</th>\n",
       "      <th>Date</th>\n",
       "      <th>Day</th>\n",
       "      <th>Month</th>\n",
       "      <th>Weekday</th>\n",
       "      <th>Hour</th>\n",
       "      <th>Day_of_year</th>\n",
       "      <th>max_temp</th>\n",
       "      <th>min_temp</th>\n",
       "      <th>precip</th>\n",
       "      <th>day_of_year</th>\n",
       "    </tr>\n",
       "  </thead>\n",
       "  <tbody>\n",
       "    <tr>\n",
       "      <th>283132</th>\n",
       "      <td>365</td>\n",
       "      <td>290339</td>\n",
       "      <td>2019-12-31 23:43:19</td>\n",
       "      <td>2019-12-31 23:47:41</td>\n",
       "      <td>3051</td>\n",
       "      <td>3064</td>\n",
       "      <td>12298</td>\n",
       "      <td>Annual Pass</td>\n",
       "      <td>7th &amp; Broadway</td>\n",
       "      <td>Grand &amp; 8th</td>\n",
       "      <td>...</td>\n",
       "      <td>2019-12-31</td>\n",
       "      <td>31</td>\n",
       "      <td>12</td>\n",
       "      <td>1</td>\n",
       "      <td>23</td>\n",
       "      <td>365</td>\n",
       "      <td>22.8</td>\n",
       "      <td>10.6</td>\n",
       "      <td>0.0</td>\n",
       "      <td>365</td>\n",
       "    </tr>\n",
       "    <tr>\n",
       "      <th>283133</th>\n",
       "      <td>365</td>\n",
       "      <td>290340</td>\n",
       "      <td>2019-12-31 23:48:17</td>\n",
       "      <td>2019-12-31 23:53:55</td>\n",
       "      <td>3064</td>\n",
       "      <td>3074</td>\n",
       "      <td>19053</td>\n",
       "      <td>Annual Pass</td>\n",
       "      <td>Grand &amp; 8th</td>\n",
       "      <td>Hope &amp; Olympic</td>\n",
       "      <td>...</td>\n",
       "      <td>2019-12-31</td>\n",
       "      <td>31</td>\n",
       "      <td>12</td>\n",
       "      <td>1</td>\n",
       "      <td>23</td>\n",
       "      <td>365</td>\n",
       "      <td>22.8</td>\n",
       "      <td>10.6</td>\n",
       "      <td>0.0</td>\n",
       "      <td>365</td>\n",
       "    </tr>\n",
       "    <tr>\n",
       "      <th>283134</th>\n",
       "      <td>365</td>\n",
       "      <td>290341</td>\n",
       "      <td>2019-12-31 23:58:52</td>\n",
       "      <td>2020-01-01 00:25:27</td>\n",
       "      <td>3074</td>\n",
       "      <td>3049</td>\n",
       "      <td>19053</td>\n",
       "      <td>Annual Pass</td>\n",
       "      <td>Hope &amp; Olympic</td>\n",
       "      <td>2nd &amp; Figueroa</td>\n",
       "      <td>...</td>\n",
       "      <td>2019-12-31</td>\n",
       "      <td>31</td>\n",
       "      <td>12</td>\n",
       "      <td>1</td>\n",
       "      <td>23</td>\n",
       "      <td>365</td>\n",
       "      <td>22.8</td>\n",
       "      <td>10.6</td>\n",
       "      <td>0.0</td>\n",
       "      <td>365</td>\n",
       "    </tr>\n",
       "  </tbody>\n",
       "</table>\n",
       "<p>3 rows × 21 columns</p>\n",
       "</div>"
      ],
      "text/plain": [
       "        key_0  Unnamed: 0          start_time            end_time  \\\n",
       "283132    365      290339 2019-12-31 23:43:19 2019-12-31 23:47:41   \n",
       "283133    365      290340 2019-12-31 23:48:17 2019-12-31 23:53:55   \n",
       "283134    365      290341 2019-12-31 23:58:52 2020-01-01 00:25:27   \n",
       "\n",
       "        start_station_id  end_station_id bike_id    user_type  \\\n",
       "283132              3051            3064   12298  Annual Pass   \n",
       "283133              3064            3074   19053  Annual Pass   \n",
       "283134              3074            3049   19053  Annual Pass   \n",
       "\n",
       "       start_station_name end_station_name  ...       Date Day  Month  \\\n",
       "283132     7th & Broadway      Grand & 8th  ... 2019-12-31  31     12   \n",
       "283133        Grand & 8th   Hope & Olympic  ... 2019-12-31  31     12   \n",
       "283134     Hope & Olympic   2nd & Figueroa  ... 2019-12-31  31     12   \n",
       "\n",
       "        Weekday  Hour  Day_of_year  max_temp  min_temp  precip  day_of_year  \n",
       "283132        1    23          365      22.8      10.6     0.0          365  \n",
       "283133        1    23          365      22.8      10.6     0.0          365  \n",
       "283134        1    23          365      22.8      10.6     0.0          365  \n",
       "\n",
       "[3 rows x 21 columns]"
      ]
     },
     "execution_count": 22,
     "metadata": {},
     "output_type": "execute_result"
    }
   ],
   "source": [
    "weather_trips_day.tail(3)"
   ]
  },
  {
   "cell_type": "code",
   "execution_count": null,
   "id": "46d0a7bd",
   "metadata": {},
   "outputs": [],
   "source": [
    "#a=np.zeros(365)\n",
    "#for i in range(length(df_weather)):\n",
    "#    if df_weather[\"num_trips_day\"] != df_weather[\"num_trips_day\"]\n",
    "#    a[] = la[la[\"Weekday\"]==i].size"
   ]
  },
  {
   "cell_type": "code",
   "execution_count": 23,
   "id": "ff37d3c6",
   "metadata": {},
   "outputs": [
    {
     "data": {
      "text/plain": [
       "precip\n",
       "(15.0, 15.5]      0\n",
       "(15.5, 16.0]    343\n",
       "(16.0, 16.5]      0\n",
       "Name: start_station_id, dtype: int64"
      ]
     },
     "execution_count": 23,
     "metadata": {},
     "output_type": "execute_result"
    }
   ],
   "source": [
    "# number of rides depending on precipitation\n",
    "la_precip = weather_trips_day[\"start_station_id\"].groupby(pd.cut(weather_trips_day[\"precip\"], np.arange(-0.5, max(weather_trips_day[\"precip\"])+1, 0.5))).count()\n",
    "la_precip.tail(3)"
   ]
  },
  {
   "cell_type": "code",
   "execution_count": 24,
   "id": "0e582f13",
   "metadata": {},
   "outputs": [
    {
     "data": {
      "text/plain": [
       "Text(0.5, 1.0, 'Number of trips depending on precipitation')"
      ]
     },
     "execution_count": 24,
     "metadata": {},
     "output_type": "execute_result"
    },
    {
     "data": {
      "image/png": "[encoded data removed]",
      "text/plain": [
       "<Figure size 1296x288 with 1 Axes>"
      ]
     },
     "metadata": {
      "needs_background": "light"
     },
     "output_type": "display_data"
    }
   ],
   "source": [
    "# number of rides depending on precipitation per day\n",
    "fig, ax = plt.subplots(figsize=[18,4])\n",
    "plt.setp(ax.xaxis.get_majorticklabels(),rotation=90,fontsize=10)\n",
    "ax.bar(np.arange(-0.5,16.5,0.5), la_precip)\n",
    "plt.title('Number of trips depending on precipitation')"
   ]
  },
  {
   "cell_type": "code",
   "execution_count": 25,
   "id": "06a95aff",
   "metadata": {},
   "outputs": [
    {
     "data": {
      "text/plain": [
       "precip\n",
       "(15.0, 15.5]      0\n",
       "(15.5, 16.0]    343\n",
       "(16.0, 16.5]      0\n",
       "Name: start_station_id, dtype: int64"
      ]
     },
     "execution_count": 25,
     "metadata": {},
     "output_type": "execute_result"
    }
   ],
   "source": [
    "la_precip = weather_trips_day[\"start_station_id\"].groupby(pd.cut(weather_trips_day[\"precip\"], np.arange(0, max(weather_trips_day[\"precip\"])+1, 0.5))).count()\n",
    "la_precip.tail(3)"
   ]
  },
  {
   "cell_type": "code",
   "execution_count": 26,
   "id": "b9328131",
   "metadata": {},
   "outputs": [
    {
     "data": {
      "text/plain": [
       "Text(0.5, 1.0, 'Number of trips when precipitation')"
      ]
     },
     "execution_count": 26,
     "metadata": {},
     "output_type": "execute_result"
    },
    {
     "data": {
      "image/png": "[encoded data removed]",
      "text/plain": [
       "<Figure size 1296x288 with 1 Axes>"
      ]
     },
     "metadata": {
      "needs_background": "light"
     },
     "output_type": "display_data"
    }
   ],
   "source": [
    "# number of rides when precipitation per day\n",
    "fig, ax = plt.subplots(figsize=[18,4])\n",
    "plt.setp(ax.xaxis.get_majorticklabels(),rotation=90,fontsize=10)\n",
    "ax.bar(np.arange(0,16.5,0.5), la_precip)\n",
    "plt.title('Number of trips when precipitation')"
   ]
  },
  {
   "cell_type": "code",
   "execution_count": null,
   "id": "e209a540",
   "metadata": {},
   "outputs": [],
   "source": []
  }
 ],
 "metadata": {
  "kernelspec": {
   "display_name": "Python 3 (ipykernel)",
   "language": "python",
   "name": "python3"
  },
  "language_info": {
   "codemirror_mode": {
    "name": "ipython",
    "version": 3
   },
   "file_extension": ".py",
   "mimetype": "text/x-python",
   "name": "python",
   "nbconvert_exporter": "python",
   "pygments_lexer": "ipython3",
   "version": "3.9.12"
  }
 },
 "nbformat": 4,
 "nbformat_minor": 5
}

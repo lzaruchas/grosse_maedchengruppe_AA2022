{
 "cells": [
  {
   "cell_type": "markdown",
   "id": "b65ffd99",
   "metadata": {},
   "source": [
    "# Descriptive Analytics\n",
    "\n",
    "## Temporal Demand Patterns"
   ]
  },
  {
   "cell_type": "code",
   "execution_count": 1,
   "id": "b025ce5d",
   "metadata": {},
   "outputs": [
    {
     "data": {
      "text/html": [],
      "text/plain": [
       "<IPython.core.display.HTML object>"
      ]
     },
     "metadata": {},
     "output_type": "display_data"
    }
   ],
   "source": [
    "import pandas as pd\n",
    "import numpy as np\n",
    "import matplotlib.pyplot as plt\n",
    "from IPython.display import display, HTML\n",
    "from IPython.display import display, HTML\n",
    "display(HTML(\"\"))\n",
    "import scienceplots\n",
    "plt.style.use(['science', 'no-latex'])"
   ]
  },
  {
   "cell_type": "code",
   "execution_count": 2,
   "id": "69b32ac1",
   "metadata": {},
   "outputs": [],
   "source": [
    "[# import prepared data set\n",
    "df_la = pd.read_csv(\"prepared_data.csv\", parse_dates=[\"start_time\",\"end_time\"],low_memory=False)"
   ]
  },
  {
   "cell_type": "markdown",
   "id": "8ccd1687",
   "metadata": {},
   "source": [
    "## Data Overview"
   ]
  },
  {
   "cell_type": "code",
   "execution_count": 3,
   "id": "a0db5d57",
   "metadata": {},
   "outputs": [
    {
     "data": {
      "text/html": [
       "<div>\n",
       "<style scoped>\n",
       "    .dataframe tbody tr th:only-of-type {\n",
       "        vertical-align: middle;\n",
       "    }\n",
       "\n",
       "    .dataframe tbody tr th {\n",
       "        vertical-align: top;\n",
       "    }\n",
       "\n",
       "    .dataframe thead th {\n",
       "        text-align: right;\n",
       "    }\n",
       "</style>\n",
       "<table border=\"1\" class=\"dataframe\">\n",
       "  <thead>\n",
       "    <tr style=\"text-align: right;\">\n",
       "      <th></th>\n",
       "      <th>Unnamed: 0</th>\n",
       "      <th>start_time</th>\n",
       "      <th>end_time</th>\n",
       "      <th>start_station_id</th>\n",
       "      <th>end_station_id</th>\n",
       "      <th>bike_id</th>\n",
       "      <th>user_type</th>\n",
       "      <th>start_station_name</th>\n",
       "      <th>end_station_name</th>\n",
       "      <th>duration</th>\n",
       "      <th>Date</th>\n",
       "      <th>Weekday</th>\n",
       "      <th>Hour</th>\n",
       "      <th>Month</th>\n",
       "    </tr>\n",
       "  </thead>\n",
       "  <tbody>\n",
       "    <tr>\n",
       "      <th>0</th>\n",
       "      <td>0</td>\n",
       "      <td>2019-01-01 00:07:00</td>\n",
       "      <td>2019-01-01 00:14:00</td>\n",
       "      <td>3046</td>\n",
       "      <td>3051</td>\n",
       "      <td>06468</td>\n",
       "      <td>Walk-up</td>\n",
       "      <td>2nd &amp; Hill</td>\n",
       "      <td>7th &amp; Broadway</td>\n",
       "      <td>7.0</td>\n",
       "      <td>2019-01-01</td>\n",
       "      <td>1</td>\n",
       "      <td>0</td>\n",
       "      <td>1</td>\n",
       "    </tr>\n",
       "  </tbody>\n",
       "</table>\n",
       "</div>"
      ],
      "text/plain": [
       "   Unnamed: 0          start_time            end_time  start_station_id  \\\n",
       "0           0 2019-01-01 00:07:00 2019-01-01 00:14:00              3046   \n",
       "\n",
       "   end_station_id bike_id user_type start_station_name end_station_name  \\\n",
       "0            3051   06468   Walk-up         2nd & Hill   7th & Broadway   \n",
       "\n",
       "   duration        Date  Weekday  Hour  Month  \n",
       "0       7.0  2019-01-01        1     0      1  "
      ]
     },
     "execution_count": 3,
     "metadata": {},
     "output_type": "execute_result"
    }
   ],
   "source": [
    "df_la.head(1)"
   ]
  },
  {
   "cell_type": "code",
   "execution_count": 6,
   "id": "879d13d8",
   "metadata": {},
   "outputs": [
    {
     "name": "stdout",
     "output_type": "stream",
     "text": [
      "['Walk-up' 'Monthly Pass' 'Annual Pass' 'One Day Pass' 'Flex Pass'\n",
      " 'Testing']\n"
     ]
    }
   ],
   "source": [
    "# types of users\n",
    "user = df_la[\"user_type\"].unique()\n",
    "print(user)"
   ]
  },
  {
   "cell_type": "markdown",
   "id": "1de241f3",
   "metadata": {},
   "source": [
    "## Usage During a Day"
   ]
  },
  {
   "cell_type": "code",
   "execution_count": 4,
   "id": "8eb70025",
   "metadata": {},
   "outputs": [
    {
     "data": {
      "text/html": [
       "<div>\n",
       "<style scoped>\n",
       "    .dataframe tbody tr th:only-of-type {\n",
       "        vertical-align: middle;\n",
       "    }\n",
       "\n",
       "    .dataframe tbody tr th {\n",
       "        vertical-align: top;\n",
       "    }\n",
       "\n",
       "    .dataframe thead th {\n",
       "        text-align: right;\n",
       "    }\n",
       "</style>\n",
       "<table border=\"1\" class=\"dataframe\">\n",
       "  <thead>\n",
       "    <tr style=\"text-align: right;\">\n",
       "      <th></th>\n",
       "      <th>Time_Period</th>\n",
       "      <th>Rides</th>\n",
       "    </tr>\n",
       "  </thead>\n",
       "  <tbody>\n",
       "    <tr>\n",
       "      <th>0</th>\n",
       "      <td>0</td>\n",
       "      <td>41510.0</td>\n",
       "    </tr>\n",
       "    <tr>\n",
       "      <th>1</th>\n",
       "      <td>1</td>\n",
       "      <td>24024.0</td>\n",
       "    </tr>\n",
       "    <tr>\n",
       "      <th>2</th>\n",
       "      <td>2</td>\n",
       "      <td>15932.0</td>\n",
       "    </tr>\n",
       "    <tr>\n",
       "      <th>3</th>\n",
       "      <td>3</td>\n",
       "      <td>6566.0</td>\n",
       "    </tr>\n",
       "    <tr>\n",
       "      <th>4</th>\n",
       "      <td>4</td>\n",
       "      <td>8484.0</td>\n",
       "    </tr>\n",
       "  </tbody>\n",
       "</table>\n",
       "</div>"
      ],
      "text/plain": [
       "   Time_Period    Rides\n",
       "0            0  41510.0\n",
       "1            1  24024.0\n",
       "2            2  15932.0\n",
       "3            3   6566.0\n",
       "4            4   8484.0"
      ]
     },
     "execution_count": 4,
     "metadata": {},
     "output_type": "execute_result"
    }
   ],
   "source": [
    "# number of rides per hour of a day\n",
    "rides_day = np.zeros(24)\n",
    "for i in range(24):\n",
    "    rides_day[i] = df_la[df_la['Hour']==i].size\n",
    "    \n",
    "time = pd.DataFrame({'Time_Period': range(24), 'Rides': rides_day})\n",
    "time.head()"
   ]
  },
  {
   "cell_type": "code",
   "execution_count": 5,
   "id": "4c2e6123",
   "metadata": {},
   "outputs": [
    {
     "data": {
      "image/png": "[encoded data removed]",
      "text/plain": [
       "<Figure size 576x288 with 1 Axes>"
      ]
     },
     "metadata": {
      "needs_background": "light"
     },
     "output_type": "display_data"
    }
   ],
   "source": [
    "# hourly demand\n",
    "plt.figure(figsize=(8,4))\n",
    "plt.plot(time['Time_Period'],time['Rides'],'o-', color='blue')\n",
    "plt.xlabel(\"Time of day (in hours)\")\n",
    "plt.ylabel(\"Number of Rides\")\n",
    "plt.title(\"Number of Rides per time of day\")\n",
    "plt.show()"
   ]
  },
  {
   "cell_type": "markdown",
   "id": "de092d8c",
   "metadata": {},
   "source": [
    "## Usage During a Week"
   ]
  },
  {
   "cell_type": "code",
   "execution_count": 6,
   "id": "dcc7791a",
   "metadata": {},
   "outputs": [
    {
     "data": {
      "text/html": [
       "<div>\n",
       "<style scoped>\n",
       "    .dataframe tbody tr th:only-of-type {\n",
       "        vertical-align: middle;\n",
       "    }\n",
       "\n",
       "    .dataframe tbody tr th {\n",
       "        vertical-align: top;\n",
       "    }\n",
       "\n",
       "    .dataframe thead th {\n",
       "        text-align: right;\n",
       "    }\n",
       "</style>\n",
       "<table border=\"1\" class=\"dataframe\">\n",
       "  <thead>\n",
       "    <tr style=\"text-align: right;\">\n",
       "      <th></th>\n",
       "      <th>Weekday</th>\n",
       "      <th>Rides</th>\n",
       "    </tr>\n",
       "  </thead>\n",
       "  <tbody>\n",
       "    <tr>\n",
       "      <th>0</th>\n",
       "      <td>Monday</td>\n",
       "      <td>572390.0</td>\n",
       "    </tr>\n",
       "    <tr>\n",
       "      <th>1</th>\n",
       "      <td>Tuesday</td>\n",
       "      <td>617442.0</td>\n",
       "    </tr>\n",
       "    <tr>\n",
       "      <th>2</th>\n",
       "      <td>Wednesday</td>\n",
       "      <td>572978.0</td>\n",
       "    </tr>\n",
       "    <tr>\n",
       "      <th>3</th>\n",
       "      <td>Thursday</td>\n",
       "      <td>598108.0</td>\n",
       "    </tr>\n",
       "    <tr>\n",
       "      <th>4</th>\n",
       "      <td>Friday</td>\n",
       "      <td>621194.0</td>\n",
       "    </tr>\n",
       "    <tr>\n",
       "      <th>5</th>\n",
       "      <td>Saturday</td>\n",
       "      <td>486598.0</td>\n",
       "    </tr>\n",
       "    <tr>\n",
       "      <th>6</th>\n",
       "      <td>Sunday</td>\n",
       "      <td>495180.0</td>\n",
       "    </tr>\n",
       "  </tbody>\n",
       "</table>\n",
       "</div>"
      ],
      "text/plain": [
       "     Weekday     Rides\n",
       "0     Monday  572390.0\n",
       "1    Tuesday  617442.0\n",
       "2  Wednesday  572978.0\n",
       "3   Thursday  598108.0\n",
       "4     Friday  621194.0\n",
       "5   Saturday  486598.0\n",
       "6     Sunday  495180.0"
      ]
     },
     "execution_count": 6,
     "metadata": {},
     "output_type": "execute_result"
    }
   ],
   "source": [
    "weekdays =['Monday', 'Tuesday', 'Wednesday', 'Thursday', 'Friday', 'Saturday', 'Sunday']\n",
    "rides_week=np.zeros(7)\n",
    "for i in range(7):\n",
    "    rides_week[i] = df_la[df_la[\"Weekday\"]==i].size\n",
    "    \n",
    "weekdaysize = pd.DataFrame({'Weekday': weekdays, 'Rides': rides_week})\n",
    "weekdaysize"
   ]
  },
  {
   "cell_type": "code",
   "execution_count": 8,
   "id": "9f6fb0fd",
   "metadata": {},
   "outputs": [
    {
     "data": {
      "image/png": "[encoded data removed]",
      "text/plain": [
       "<Figure size 576x288 with 1 Axes>"
      ]
     },
     "metadata": {
      "needs_background": "light"
     },
     "output_type": "display_data"
    }
   ],
   "source": [
    "# weekly demand\n",
    "plt.figure(figsize=(8,4))\n",
    "plt.plot(weekdaysize[\"Weekday\"], weekdaysize[\"Rides\"],'o-', color='blue')\n",
    "plt.ylabel(\"Number of Rides\")\n",
    "plt.title(\"Number of Rides per Weekday\")\n",
    "plt.show()"
   ]
  },
  {
   "cell_type": "markdown",
   "id": "1c8fa675",
   "metadata": {},
   "source": [
    "## Usage During a Year"
   ]
  },
  {
   "cell_type": "code",
   "execution_count": 9,
   "id": "6d222b4e",
   "metadata": {},
   "outputs": [],
   "source": [
    "months=[\"January\",\"February\",\"March\",\"April\",\"May\",\"June\",\"July\",\"August\",\"September\",\"Oktober\",\"November\",\"December\"]\n"
   ]
  },
  {
   "cell_type": "code",
   "execution_count": 11,
   "id": "3d2e9768",
   "metadata": {},
   "outputs": [
    {
     "data": {
      "text/html": [
       "<div>\n",
       "<style scoped>\n",
       "    .dataframe tbody tr th:only-of-type {\n",
       "        vertical-align: middle;\n",
       "    }\n",
       "\n",
       "    .dataframe tbody tr th {\n",
       "        vertical-align: top;\n",
       "    }\n",
       "\n",
       "    .dataframe thead th {\n",
       "        text-align: right;\n",
       "    }\n",
       "</style>\n",
       "<table border=\"1\" class=\"dataframe\">\n",
       "  <thead>\n",
       "    <tr style=\"text-align: right;\">\n",
       "      <th></th>\n",
       "      <th>Months</th>\n",
       "      <th>Rides</th>\n",
       "    </tr>\n",
       "  </thead>\n",
       "  <tbody>\n",
       "    <tr>\n",
       "      <th>0</th>\n",
       "      <td>January</td>\n",
       "      <td>268786.0</td>\n",
       "    </tr>\n",
       "    <tr>\n",
       "      <th>1</th>\n",
       "      <td>February</td>\n",
       "      <td>233464.0</td>\n",
       "    </tr>\n",
       "    <tr>\n",
       "      <th>2</th>\n",
       "      <td>March</td>\n",
       "      <td>285306.0</td>\n",
       "    </tr>\n",
       "    <tr>\n",
       "      <th>3</th>\n",
       "      <td>April</td>\n",
       "      <td>256998.0</td>\n",
       "    </tr>\n",
       "    <tr>\n",
       "      <th>4</th>\n",
       "      <td>May</td>\n",
       "      <td>258972.0</td>\n",
       "    </tr>\n",
       "    <tr>\n",
       "      <th>5</th>\n",
       "      <td>June</td>\n",
       "      <td>367318.0</td>\n",
       "    </tr>\n",
       "    <tr>\n",
       "      <th>6</th>\n",
       "      <td>July</td>\n",
       "      <td>389102.0</td>\n",
       "    </tr>\n",
       "    <tr>\n",
       "      <th>7</th>\n",
       "      <td>August</td>\n",
       "      <td>445172.0</td>\n",
       "    </tr>\n",
       "    <tr>\n",
       "      <th>8</th>\n",
       "      <td>September</td>\n",
       "      <td>418656.0</td>\n",
       "    </tr>\n",
       "    <tr>\n",
       "      <th>9</th>\n",
       "      <td>Oktober</td>\n",
       "      <td>410634.0</td>\n",
       "    </tr>\n",
       "    <tr>\n",
       "      <th>10</th>\n",
       "      <td>November</td>\n",
       "      <td>327978.0</td>\n",
       "    </tr>\n",
       "    <tr>\n",
       "      <th>11</th>\n",
       "      <td>December</td>\n",
       "      <td>301504.0</td>\n",
       "    </tr>\n",
       "  </tbody>\n",
       "</table>\n",
       "</div>"
      ],
      "text/plain": [
       "       Months     Rides\n",
       "0     January  268786.0\n",
       "1    February  233464.0\n",
       "2       March  285306.0\n",
       "3       April  256998.0\n",
       "4         May  258972.0\n",
       "5        June  367318.0\n",
       "6        July  389102.0\n",
       "7      August  445172.0\n",
       "8   September  418656.0\n",
       "9     Oktober  410634.0\n",
       "10   November  327978.0\n",
       "11   December  301504.0"
      ]
     },
     "execution_count": 11,
     "metadata": {},
     "output_type": "execute_result"
    }
   ],
   "source": [
    "rides_month = np.zeros(12)\n",
    "for i in range(12):\n",
    "    rides_month[i]= df_la[df_la[\"Month\"]==i+1].size\n",
    "\n",
    "year= pd.DataFrame({'Months':months, 'Rides':rides_month})\n",
    "year"
   ]
  },
  {
   "cell_type": "code",
   "execution_count": 12,
   "id": "437dff18",
   "metadata": {},
   "outputs": [
    {
     "data": {
      "image/png": "[encoded data removed]",
      "text/plain": [
       "<Figure size 864x288 with 1 Axes>"
      ]
     },
     "metadata": {
      "needs_background": "light"
     },
     "output_type": "display_data"
    }
   ],
   "source": [
    "# yearly demand\n",
    "plt.figure(figsize=(12,4))\n",
    "plt.plot(year[\"Months\"], year[\"Rides\"],'o-', color='blue')\n",
    "plt.ylabel(\"Number of Rides\")\n",
    "plt.title(\"Number of Rides per Months\")\n",
    "plt.show()"
   ]
  },
  {
   "cell_type": "markdown",
   "id": "7979ac2a",
   "metadata": {},
   "source": [
    "## Seasonal Comparison\n",
    "- Spring: March-May\n",
    "- Summer: June-August\n",
    "- Fall: September-November\n",
    "- Winter: December-February"
   ]
  },
  {
   "cell_type": "code",
   "execution_count": 14,
   "id": "c671c0a8",
   "metadata": {},
   "outputs": [],
   "source": [
    "season =['Spring','Summer','Fall','Winter']\n",
    "spring = df_la[(df_la[\"Month\"]>=3) & (df_la[\"Month\"]<=5)]\n",
    "summer = df_la[(df_la[\"Month\"]>=6)&(df_la[\"Month\"]<=8)]\n",
    "fall = df_la[(df_la[\"Month\"]>=9)&(df_la[\"Month\"]<=11)]\n",
    "winter = df_la[(df_la[\"Month\"]==12) | (df_la[\"Month\"]<=2)]"
   ]
  },
  {
   "cell_type": "code",
   "execution_count": 15,
   "id": "3206ad0a",
   "metadata": {},
   "outputs": [
    {
     "data": {
      "text/html": [
       "<div>\n",
       "<style scoped>\n",
       "    .dataframe tbody tr th:only-of-type {\n",
       "        vertical-align: middle;\n",
       "    }\n",
       "\n",
       "    .dataframe tbody tr th {\n",
       "        vertical-align: top;\n",
       "    }\n",
       "\n",
       "    .dataframe thead th {\n",
       "        text-align: right;\n",
       "    }\n",
       "</style>\n",
       "<table border=\"1\" class=\"dataframe\">\n",
       "  <thead>\n",
       "    <tr style=\"text-align: right;\">\n",
       "      <th></th>\n",
       "      <th>Season</th>\n",
       "      <th>Rides</th>\n",
       "    </tr>\n",
       "  </thead>\n",
       "  <tbody>\n",
       "    <tr>\n",
       "      <th>0</th>\n",
       "      <td>Spring</td>\n",
       "      <td>801276</td>\n",
       "    </tr>\n",
       "    <tr>\n",
       "      <th>1</th>\n",
       "      <td>Summer</td>\n",
       "      <td>1201592</td>\n",
       "    </tr>\n",
       "    <tr>\n",
       "      <th>2</th>\n",
       "      <td>Fall</td>\n",
       "      <td>1157268</td>\n",
       "    </tr>\n",
       "    <tr>\n",
       "      <th>3</th>\n",
       "      <td>Winter</td>\n",
       "      <td>803754</td>\n",
       "    </tr>\n",
       "  </tbody>\n",
       "</table>\n",
       "</div>"
      ],
      "text/plain": [
       "   Season    Rides\n",
       "0  Spring   801276\n",
       "1  Summer  1201592\n",
       "2    Fall  1157268\n",
       "3  Winter   803754"
      ]
     },
     "execution_count": 15,
     "metadata": {},
     "output_type": "execute_result"
    }
   ],
   "source": [
    "season = pd.DataFrame({'Season':season, 'Rides': [spring.size, summer.size, fall.size, winter.size]})\n",
    "season"
   ]
  },
  {
   "cell_type": "code",
   "execution_count": 16,
   "id": "2ed7aa7f",
   "metadata": {},
   "outputs": [
    {
     "data": {
      "text/html": [
       "<div>\n",
       "<style scoped>\n",
       "    .dataframe tbody tr th:only-of-type {\n",
       "        vertical-align: middle;\n",
       "    }\n",
       "\n",
       "    .dataframe tbody tr th {\n",
       "        vertical-align: top;\n",
       "    }\n",
       "\n",
       "    .dataframe thead th {\n",
       "        text-align: right;\n",
       "    }\n",
       "</style>\n",
       "<table border=\"1\" class=\"dataframe\">\n",
       "  <thead>\n",
       "    <tr style=\"text-align: right;\">\n",
       "      <th></th>\n",
       "      <th>Weekday</th>\n",
       "      <th>Spring</th>\n",
       "      <th>Summer</th>\n",
       "      <th>Fall</th>\n",
       "      <th>Winter</th>\n",
       "    </tr>\n",
       "  </thead>\n",
       "  <tbody>\n",
       "    <tr>\n",
       "      <th>0</th>\n",
       "      <td>Monday</td>\n",
       "      <td>119896.0</td>\n",
       "      <td>171024.0</td>\n",
       "      <td>171570.0</td>\n",
       "      <td>109900.0</td>\n",
       "    </tr>\n",
       "    <tr>\n",
       "      <th>1</th>\n",
       "      <td>Tuesday</td>\n",
       "      <td>118706.0</td>\n",
       "      <td>183792.0</td>\n",
       "      <td>178710.0</td>\n",
       "      <td>136234.0</td>\n",
       "    </tr>\n",
       "    <tr>\n",
       "      <th>2</th>\n",
       "      <td>Wednesday</td>\n",
       "      <td>115710.0</td>\n",
       "      <td>174678.0</td>\n",
       "      <td>168910.0</td>\n",
       "      <td>113680.0</td>\n",
       "    </tr>\n",
       "    <tr>\n",
       "      <th>3</th>\n",
       "      <td>Thursday</td>\n",
       "      <td>119364.0</td>\n",
       "      <td>184926.0</td>\n",
       "      <td>168056.0</td>\n",
       "      <td>125762.0</td>\n",
       "    </tr>\n",
       "    <tr>\n",
       "      <th>4</th>\n",
       "      <td>Friday</td>\n",
       "      <td>132804.0</td>\n",
       "      <td>180880.0</td>\n",
       "      <td>174356.0</td>\n",
       "      <td>133154.0</td>\n",
       "    </tr>\n",
       "    <tr>\n",
       "      <th>5</th>\n",
       "      <td>Saturday</td>\n",
       "      <td>95886.0</td>\n",
       "      <td>158522.0</td>\n",
       "      <td>135716.0</td>\n",
       "      <td>96474.0</td>\n",
       "    </tr>\n",
       "    <tr>\n",
       "      <th>6</th>\n",
       "      <td>Sunday</td>\n",
       "      <td>98910.0</td>\n",
       "      <td>147770.0</td>\n",
       "      <td>159950.0</td>\n",
       "      <td>88550.0</td>\n",
       "    </tr>\n",
       "  </tbody>\n",
       "</table>\n",
       "</div>"
      ],
      "text/plain": [
       "     Weekday    Spring    Summer      Fall    Winter\n",
       "0     Monday  119896.0  171024.0  171570.0  109900.0\n",
       "1    Tuesday  118706.0  183792.0  178710.0  136234.0\n",
       "2  Wednesday  115710.0  174678.0  168910.0  113680.0\n",
       "3   Thursday  119364.0  184926.0  168056.0  125762.0\n",
       "4     Friday  132804.0  180880.0  174356.0  133154.0\n",
       "5   Saturday   95886.0  158522.0  135716.0   96474.0\n",
       "6     Sunday   98910.0  147770.0  159950.0   88550.0"
      ]
     },
     "execution_count": 16,
     "metadata": {},
     "output_type": "execute_result"
    }
   ],
   "source": [
    "rides_week_spring = np.zeros(7)\n",
    "rides_week_summer = np.zeros(7)\n",
    "rides_week_fall = np.zeros(7)\n",
    "rides_week_winter = np.zeros(7)\n",
    "for i in range(7):\n",
    "    rides_week_spring[i] = spring[spring[\"Weekday\"]==i].size\n",
    "    rides_week_summer[i] = summer[summer[\"Weekday\"]==i].size\n",
    "    rides_week_fall[i] = fall[fall[\"Weekday\"]==i].size\n",
    "    rides_week_winter[i] = winter[winter[\"Weekday\"]==i].size\n",
    "    \n",
    "season_2 = pd.DataFrame({'Weekday': weekdays, 'Spring': rides_week_spring, 'Summer': rides_week_summer, 'Fall': rides_week_fall, 'Winter': rides_week_winter})\n",
    "season_2"
   ]
  },
  {
   "cell_type": "code",
   "execution_count": 17,
   "id": "2f42663a",
   "metadata": {},
   "outputs": [
    {
     "data": {
      "image/png": "[encoded data removed]",
      "text/plain": [
       "<Figure size 576x288 with 1 Axes>"
      ]
     },
     "metadata": {
      "needs_background": "light"
     },
     "output_type": "display_data"
    }
   ],
   "source": [
    "# demand per season\n",
    "plt.figure(figsize=(8,4))\n",
    "plt.plot(season_2[\"Weekday\"], season_2[\"Spring\"],'o-', color='orange', label = 'Spring')\n",
    "plt.plot(season_2[\"Weekday\"], season_2[\"Summer\"],'o-', color='red', label = 'Summer')\n",
    "plt.plot(season_2[\"Weekday\"], season_2[\"Fall\"],'o-', color='green', label = 'Fall')\n",
    "plt.plot(season_2[\"Weekday\"], season_2[\"Winter\"],'o-', color='blue', label = 'Winter')\n",
    "plt.ylabel(\"Number of Rides\")\n",
    "plt.title(\"Number of Rides in Different Seasons per Weekday\")\n",
    "plt.legend()\n",
    "plt.show()"
   ]
  },
  {
   "cell_type": "code",
   "execution_count": null,
   "id": "9393c519",
   "metadata": {},
   "outputs": [],
   "source": []
  }
 ],
 "metadata": {
  "kernelspec": {
   "display_name": "Python 3 (ipykernel)",
   "language": "python",
   "name": "python3"
  },
  "language_info": {
   "codemirror_mode": {
    "name": "ipython",
    "version": 3
   },
   "file_extension": ".py",
   "mimetype": "text/x-python",
   "name": "python",
   "nbconvert_exporter": "python",
   "pygments_lexer": "ipython3",
   "version": "3.9.12"
  }
 },
 "nbformat": 4,
 "nbformat_minor": 5
}

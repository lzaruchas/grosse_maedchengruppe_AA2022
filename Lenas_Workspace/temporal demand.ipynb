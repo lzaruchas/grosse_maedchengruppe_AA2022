{
 "cells": [
  {
   "cell_type": "code",
   "execution_count": 1,
   "id": "5875df41",
   "metadata": {},
   "outputs": [
    {
     "data": {
      "text/html": [],
      "text/plain": [
       "<IPython.core.display.HTML object>"
      ]
     },
     "metadata": {},
     "output_type": "display_data"
    }
   ],
   "source": [
    "# libraries\n",
    "import pandas as pd\n",
    "import numpy as np\n",
    "import matplotlib.pyplot as plt\n",
    "from IPython.display import display, HTML\n",
    "from IPython.display import display, HTML\n",
    "display(HTML(\"\"))\n",
    "import scienceplots\n",
    "plt.style.use(['science', 'no-latex'])"
   ]
  },
  {
   "cell_type": "code",
   "execution_count": 2,
   "id": "d557b208",
   "metadata": {},
   "outputs": [],
   "source": [
    "# import\n",
    "la = pd.read_csv(\"prepared_data.csv\", parse_dates=[\"start_time\",\"end_time\"],low_memory=False)"
   ]
  },
  {
   "cell_type": "markdown",
   "id": "ae7ffa4a",
   "metadata": {},
   "source": [
    "# Data Overview"
   ]
  },
  {
   "cell_type": "code",
   "execution_count": 21,
   "id": "e20ccf2d",
   "metadata": {},
   "outputs": [
    {
     "data": {
      "text/html": [
       "<div>\n",
       "<style scoped>\n",
       "    .dataframe tbody tr th:only-of-type {\n",
       "        vertical-align: middle;\n",
       "    }\n",
       "\n",
       "    .dataframe tbody tr th {\n",
       "        vertical-align: top;\n",
       "    }\n",
       "\n",
       "    .dataframe thead th {\n",
       "        text-align: right;\n",
       "    }\n",
       "</style>\n",
       "<table border=\"1\" class=\"dataframe\">\n",
       "  <thead>\n",
       "    <tr style=\"text-align: right;\">\n",
       "      <th></th>\n",
       "      <th>Unnamed: 0</th>\n",
       "      <th>start_time</th>\n",
       "      <th>end_time</th>\n",
       "      <th>start_station_id</th>\n",
       "      <th>end_station_id</th>\n",
       "      <th>bike_id</th>\n",
       "      <th>user_type</th>\n",
       "      <th>start_station_name</th>\n",
       "      <th>end_station_name</th>\n",
       "      <th>duration</th>\n",
       "      <th>date</th>\n",
       "      <th>month</th>\n",
       "      <th>weekday</th>\n",
       "      <th>day</th>\n",
       "      <th>hour</th>\n",
       "      <th>Date</th>\n",
       "      <th>Weekday</th>\n",
       "      <th>Hour</th>\n",
       "      <th>Month</th>\n",
       "    </tr>\n",
       "  </thead>\n",
       "  <tbody>\n",
       "    <tr>\n",
       "      <th>0</th>\n",
       "      <td>0</td>\n",
       "      <td>2019-01-01 00:07:00</td>\n",
       "      <td>2019-01-01 00:14:00</td>\n",
       "      <td>3046</td>\n",
       "      <td>3051</td>\n",
       "      <td>06468</td>\n",
       "      <td>Walk-up</td>\n",
       "      <td>2nd &amp; Hill</td>\n",
       "      <td>7th &amp; Broadway</td>\n",
       "      <td>7.0</td>\n",
       "      <td>2019-01-01</td>\n",
       "      <td>1</td>\n",
       "      <td>1</td>\n",
       "      <td>1</td>\n",
       "      <td>0</td>\n",
       "      <td>2019-01-01</td>\n",
       "      <td>1</td>\n",
       "      <td>0</td>\n",
       "      <td>1</td>\n",
       "    </tr>\n",
       "  </tbody>\n",
       "</table>\n",
       "</div>"
      ],
      "text/plain": [
       "   Unnamed: 0          start_time            end_time  start_station_id  \\\n",
       "0           0 2019-01-01 00:07:00 2019-01-01 00:14:00              3046   \n",
       "\n",
       "   end_station_id bike_id user_type start_station_name end_station_name  \\\n",
       "0            3051   06468   Walk-up         2nd & Hill   7th & Broadway   \n",
       "\n",
       "   duration        date  month  weekday  day  hour        Date  Weekday  Hour  \\\n",
       "0       7.0  2019-01-01      1        1    1     0  2019-01-01        1     0   \n",
       "\n",
       "   Month  \n",
       "0      1  "
      ]
     },
     "execution_count": 21,
     "metadata": {},
     "output_type": "execute_result"
    }
   ],
   "source": [
    "la.head(1)\n"
   ]
  },
  {
   "cell_type": "code",
   "execution_count": 4,
   "id": "0c6e08ce",
   "metadata": {},
   "outputs": [
    {
     "name": "stdout",
     "output_type": "stream",
     "text": [
      "['Walk-up' 'Monthly Pass' 'Annual Pass' 'One Day Pass' 'Flex Pass'\n",
      " 'Testing']\n"
     ]
    }
   ],
   "source": [
    "# types of users\n",
    "user = la[\"user_type\"].unique()\n",
    "print(user)"
   ]
  },
  {
   "cell_type": "code",
   "execution_count": 5,
   "id": "4d0b7d57",
   "metadata": {},
   "outputs": [
    {
     "data": {
      "text/plain": [
       "3140"
      ]
     },
     "execution_count": 5,
     "metadata": {},
     "output_type": "execute_result"
    }
   ],
   "source": [
    "# number of bikes\n",
    "bikes = la['bike_id'].unique()\n",
    "len(bikes)"
   ]
  },
  {
   "cell_type": "markdown",
   "id": "918bd31a",
   "metadata": {},
   "source": [
    "# Usage during a Day"
   ]
  },
  {
   "cell_type": "code",
   "execution_count": 6,
   "id": "3e4c8b37",
   "metadata": {},
   "outputs": [
    {
     "data": {
      "text/html": [
       "<div>\n",
       "<style scoped>\n",
       "    .dataframe tbody tr th:only-of-type {\n",
       "        vertical-align: middle;\n",
       "    }\n",
       "\n",
       "    .dataframe tbody tr th {\n",
       "        vertical-align: top;\n",
       "    }\n",
       "\n",
       "    .dataframe thead th {\n",
       "        text-align: right;\n",
       "    }\n",
       "</style>\n",
       "<table border=\"1\" class=\"dataframe\">\n",
       "  <thead>\n",
       "    <tr style=\"text-align: right;\">\n",
       "      <th></th>\n",
       "      <th>Unnamed: 0</th>\n",
       "      <th>start_time</th>\n",
       "      <th>end_time</th>\n",
       "      <th>start_station_id</th>\n",
       "      <th>end_station_id</th>\n",
       "      <th>bike_id</th>\n",
       "      <th>user_type</th>\n",
       "      <th>start_station_name</th>\n",
       "      <th>end_station_name</th>\n",
       "      <th>duration</th>\n",
       "      <th>date</th>\n",
       "      <th>month</th>\n",
       "      <th>weekday</th>\n",
       "      <th>day</th>\n",
       "      <th>hour</th>\n",
       "      <th>Date</th>\n",
       "      <th>Weekday</th>\n",
       "      <th>Hour</th>\n",
       "      <th>Month</th>\n",
       "    </tr>\n",
       "  </thead>\n",
       "  <tbody>\n",
       "    <tr>\n",
       "      <th>0</th>\n",
       "      <td>0</td>\n",
       "      <td>2019-01-01 00:07:00</td>\n",
       "      <td>2019-01-01 00:14:00</td>\n",
       "      <td>3046</td>\n",
       "      <td>3051</td>\n",
       "      <td>06468</td>\n",
       "      <td>Walk-up</td>\n",
       "      <td>2nd &amp; Hill</td>\n",
       "      <td>7th &amp; Broadway</td>\n",
       "      <td>7.0</td>\n",
       "      <td>2019-01-01</td>\n",
       "      <td>1</td>\n",
       "      <td>1</td>\n",
       "      <td>1</td>\n",
       "      <td>0</td>\n",
       "      <td>2019-01-01</td>\n",
       "      <td>1</td>\n",
       "      <td>0</td>\n",
       "      <td>1</td>\n",
       "    </tr>\n",
       "    <tr>\n",
       "      <th>1</th>\n",
       "      <td>1</td>\n",
       "      <td>2019-01-01 00:08:00</td>\n",
       "      <td>2019-01-01 00:14:00</td>\n",
       "      <td>3046</td>\n",
       "      <td>3051</td>\n",
       "      <td>12311</td>\n",
       "      <td>Walk-up</td>\n",
       "      <td>2nd &amp; Hill</td>\n",
       "      <td>7th &amp; Broadway</td>\n",
       "      <td>6.0</td>\n",
       "      <td>2019-01-01</td>\n",
       "      <td>1</td>\n",
       "      <td>1</td>\n",
       "      <td>1</td>\n",
       "      <td>0</td>\n",
       "      <td>2019-01-01</td>\n",
       "      <td>1</td>\n",
       "      <td>0</td>\n",
       "      <td>1</td>\n",
       "    </tr>\n",
       "    <tr>\n",
       "      <th>2</th>\n",
       "      <td>2</td>\n",
       "      <td>2019-01-01 00:18:00</td>\n",
       "      <td>2019-01-01 00:50:00</td>\n",
       "      <td>3030</td>\n",
       "      <td>3075</td>\n",
       "      <td>05992</td>\n",
       "      <td>Walk-up</td>\n",
       "      <td>Main &amp; 1st</td>\n",
       "      <td>Broadway &amp; 9th</td>\n",
       "      <td>32.0</td>\n",
       "      <td>2019-01-01</td>\n",
       "      <td>1</td>\n",
       "      <td>1</td>\n",
       "      <td>1</td>\n",
       "      <td>0</td>\n",
       "      <td>2019-01-01</td>\n",
       "      <td>1</td>\n",
       "      <td>0</td>\n",
       "      <td>1</td>\n",
       "    </tr>\n",
       "  </tbody>\n",
       "</table>\n",
       "</div>"
      ],
      "text/plain": [
       "   Unnamed: 0          start_time            end_time  start_station_id  \\\n",
       "0           0 2019-01-01 00:07:00 2019-01-01 00:14:00              3046   \n",
       "1           1 2019-01-01 00:08:00 2019-01-01 00:14:00              3046   \n",
       "2           2 2019-01-01 00:18:00 2019-01-01 00:50:00              3030   \n",
       "\n",
       "   end_station_id bike_id user_type start_station_name end_station_name  \\\n",
       "0            3051   06468   Walk-up         2nd & Hill   7th & Broadway   \n",
       "1            3051   12311   Walk-up         2nd & Hill   7th & Broadway   \n",
       "2            3075   05992   Walk-up         Main & 1st   Broadway & 9th   \n",
       "\n",
       "   duration        date  month  weekday  day  hour        Date  Weekday  Hour  \\\n",
       "0       7.0  2019-01-01      1        1    1     0  2019-01-01        1     0   \n",
       "1       6.0  2019-01-01      1        1    1     0  2019-01-01        1     0   \n",
       "2      32.0  2019-01-01      1        1    1     0  2019-01-01        1     0   \n",
       "\n",
       "   Month  \n",
       "0      1  \n",
       "1      1  \n",
       "2      1  "
      ]
     },
     "execution_count": 6,
     "metadata": {},
     "output_type": "execute_result"
    }
   ],
   "source": [
    "# new columns \n",
    "la[\"Date\"] = la[\"start_time\"].apply(lambda x: x.date())\n",
    "la[\"Weekday\"]=la[\"start_time\"].apply(lambda x: x.weekday())\n",
    "la[\"Hour\"]=la[\"start_time\"].apply(lambda x: x.hour)\n",
    "la['Month']= la[\"start_time\"].apply(lambda x: x.month)\n",
    "la.head(3)"
   ]
  },
  {
   "cell_type": "code",
   "execution_count": 8,
   "id": "a31a9a23",
   "metadata": {},
   "outputs": [
    {
     "data": {
      "text/html": [
       "<div>\n",
       "<style scoped>\n",
       "    .dataframe tbody tr th:only-of-type {\n",
       "        vertical-align: middle;\n",
       "    }\n",
       "\n",
       "    .dataframe tbody tr th {\n",
       "        vertical-align: top;\n",
       "    }\n",
       "\n",
       "    .dataframe thead th {\n",
       "        text-align: right;\n",
       "    }\n",
       "</style>\n",
       "<table border=\"1\" class=\"dataframe\">\n",
       "  <thead>\n",
       "    <tr style=\"text-align: right;\">\n",
       "      <th></th>\n",
       "      <th>Time_Period</th>\n",
       "      <th>Rides</th>\n",
       "    </tr>\n",
       "  </thead>\n",
       "  <tbody>\n",
       "    <tr>\n",
       "      <th>0</th>\n",
       "      <td>0</td>\n",
       "      <td>2965.0</td>\n",
       "    </tr>\n",
       "    <tr>\n",
       "      <th>1</th>\n",
       "      <td>1</td>\n",
       "      <td>1716.0</td>\n",
       "    </tr>\n",
       "    <tr>\n",
       "      <th>2</th>\n",
       "      <td>2</td>\n",
       "      <td>1138.0</td>\n",
       "    </tr>\n",
       "    <tr>\n",
       "      <th>3</th>\n",
       "      <td>3</td>\n",
       "      <td>469.0</td>\n",
       "    </tr>\n",
       "    <tr>\n",
       "      <th>4</th>\n",
       "      <td>4</td>\n",
       "      <td>606.0</td>\n",
       "    </tr>\n",
       "  </tbody>\n",
       "</table>\n",
       "</div>"
      ],
      "text/plain": [
       "   Time_Period   Rides\n",
       "0            0  2965.0\n",
       "1            1  1716.0\n",
       "2            2  1138.0\n",
       "3            3   469.0\n",
       "4            4   606.0"
      ]
     },
     "execution_count": 8,
     "metadata": {},
     "output_type": "execute_result"
    }
   ],
   "source": [
    "# number of rides for every hour on a day\n",
    "rides_day = np.zeros(24)\n",
    "for i in range(24):\n",
    "    rides_day[i] = len(la[la['Hour']==i])\n",
    "    \n",
    "time = pd.DataFrame({'Time_Period': range(24), 'Rides': rides_day})\n",
    "time.head()"
   ]
  },
  {
   "cell_type": "code",
   "execution_count": 9,
   "id": "2c81b60f",
   "metadata": {},
   "outputs": [
    {
     "data": {
      "image/png": "[encoded data removed]",
      "text/plain": [
       "<Figure size 576x288 with 1 Axes>"
      ]
     },
     "metadata": {
      "needs_background": "light"
     },
     "output_type": "display_data"
    }
   ],
   "source": [
    "# hourly demand\n",
    "plt.figure(figsize=(8,4))\n",
    "plt.plot(time['Time_Period'],time['Rides'],'o-', color='blue')\n",
    "plt.xlabel(\"Time of day (in hours)\")\n",
    "plt.ylabel(\"Number of Rides\")\n",
    "plt.title(\"Number of Rides per time of day\")\n",
    "plt.show()"
   ]
  },
  {
   "cell_type": "markdown",
   "id": "f17eb6da",
   "metadata": {},
   "source": [
    "# Usage during a Week"
   ]
  },
  {
   "cell_type": "code",
   "execution_count": 13,
   "id": "7352493e",
   "metadata": {},
   "outputs": [
    {
     "data": {
      "text/html": [
       "<div>\n",
       "<style scoped>\n",
       "    .dataframe tbody tr th:only-of-type {\n",
       "        vertical-align: middle;\n",
       "    }\n",
       "\n",
       "    .dataframe tbody tr th {\n",
       "        vertical-align: top;\n",
       "    }\n",
       "\n",
       "    .dataframe thead th {\n",
       "        text-align: right;\n",
       "    }\n",
       "</style>\n",
       "<table border=\"1\" class=\"dataframe\">\n",
       "  <thead>\n",
       "    <tr style=\"text-align: right;\">\n",
       "      <th></th>\n",
       "      <th>Weekday</th>\n",
       "      <th>Rides</th>\n",
       "    </tr>\n",
       "  </thead>\n",
       "  <tbody>\n",
       "    <tr>\n",
       "      <th>0</th>\n",
       "      <td>Monday</td>\n",
       "      <td>40885.0</td>\n",
       "    </tr>\n",
       "    <tr>\n",
       "      <th>1</th>\n",
       "      <td>Tuesday</td>\n",
       "      <td>44103.0</td>\n",
       "    </tr>\n",
       "    <tr>\n",
       "      <th>2</th>\n",
       "      <td>Wednesday</td>\n",
       "      <td>40927.0</td>\n",
       "    </tr>\n",
       "    <tr>\n",
       "      <th>3</th>\n",
       "      <td>Thursday</td>\n",
       "      <td>42722.0</td>\n",
       "    </tr>\n",
       "    <tr>\n",
       "      <th>4</th>\n",
       "      <td>Friday</td>\n",
       "      <td>44371.0</td>\n",
       "    </tr>\n",
       "    <tr>\n",
       "      <th>5</th>\n",
       "      <td>Saturday</td>\n",
       "      <td>34757.0</td>\n",
       "    </tr>\n",
       "    <tr>\n",
       "      <th>6</th>\n",
       "      <td>Sunday</td>\n",
       "      <td>35370.0</td>\n",
       "    </tr>\n",
       "  </tbody>\n",
       "</table>\n",
       "</div>"
      ],
      "text/plain": [
       "     Weekday    Rides\n",
       "0     Monday  40885.0\n",
       "1    Tuesday  44103.0\n",
       "2  Wednesday  40927.0\n",
       "3   Thursday  42722.0\n",
       "4     Friday  44371.0\n",
       "5   Saturday  34757.0\n",
       "6     Sunday  35370.0"
      ]
     },
     "execution_count": 13,
     "metadata": {},
     "output_type": "execute_result"
    }
   ],
   "source": [
    "weekdays =['Monday', 'Tuesday', 'Wednesday', 'Thursday', 'Friday', 'Saturday', 'Sunday']\n",
    "rides_week=np.zeros(7)\n",
    "for i in range(7):\n",
    "    rides_week[i] = len(la[la[\"Weekday\"]==i])\n",
    "    \n",
    "weekdaysize = pd.DataFrame({'Weekday': weekdays, 'Rides': rides_week})\n",
    "weekdaysize"
   ]
  },
  {
   "cell_type": "code",
   "execution_count": 12,
   "id": "1be74ca4",
   "metadata": {},
   "outputs": [
    {
     "data": {
      "image/png": "[encoded data removed]",
      "text/plain": [
       "<Figure size 576x288 with 1 Axes>"
      ]
     },
     "metadata": {
      "needs_background": "light"
     },
     "output_type": "display_data"
    }
   ],
   "source": [
    "# weekly demand\n",
    "plt.figure(figsize=(8,4))\n",
    "plt.plot(weekdaysize[\"Weekday\"], weekdaysize[\"Rides\"],'o-', color='blue')\n",
    "plt.ylabel(\"Number of Rides\")\n",
    "plt.title(\"Number of Rides on Different Days\")\n",
    "plt.show()"
   ]
  },
  {
   "cell_type": "markdown",
   "id": "03215159",
   "metadata": {},
   "source": [
    "# Usage during a Year"
   ]
  },
  {
   "cell_type": "code",
   "execution_count": 14,
   "id": "7f4008fd",
   "metadata": {},
   "outputs": [],
   "source": [
    "months=[\"January\",\"February\",\"March\",\"April\",\"May\",\"June\",\"July\",\"August\",\"September\",\"Oktober\",\"November\",\"December\"]"
   ]
  },
  {
   "cell_type": "code",
   "execution_count": 15,
   "id": "6016888a",
   "metadata": {},
   "outputs": [
    {
     "data": {
      "text/html": [
       "<div>\n",
       "<style scoped>\n",
       "    .dataframe tbody tr th:only-of-type {\n",
       "        vertical-align: middle;\n",
       "    }\n",
       "\n",
       "    .dataframe tbody tr th {\n",
       "        vertical-align: top;\n",
       "    }\n",
       "\n",
       "    .dataframe thead th {\n",
       "        text-align: right;\n",
       "    }\n",
       "</style>\n",
       "<table border=\"1\" class=\"dataframe\">\n",
       "  <thead>\n",
       "    <tr style=\"text-align: right;\">\n",
       "      <th></th>\n",
       "      <th>Months</th>\n",
       "      <th>Rides</th>\n",
       "    </tr>\n",
       "  </thead>\n",
       "  <tbody>\n",
       "    <tr>\n",
       "      <th>0</th>\n",
       "      <td>January</td>\n",
       "      <td>19199.0</td>\n",
       "    </tr>\n",
       "    <tr>\n",
       "      <th>1</th>\n",
       "      <td>February</td>\n",
       "      <td>16676.0</td>\n",
       "    </tr>\n",
       "    <tr>\n",
       "      <th>2</th>\n",
       "      <td>March</td>\n",
       "      <td>20379.0</td>\n",
       "    </tr>\n",
       "    <tr>\n",
       "      <th>3</th>\n",
       "      <td>April</td>\n",
       "      <td>18357.0</td>\n",
       "    </tr>\n",
       "    <tr>\n",
       "      <th>4</th>\n",
       "      <td>May</td>\n",
       "      <td>18498.0</td>\n",
       "    </tr>\n",
       "    <tr>\n",
       "      <th>5</th>\n",
       "      <td>June</td>\n",
       "      <td>26237.0</td>\n",
       "    </tr>\n",
       "    <tr>\n",
       "      <th>6</th>\n",
       "      <td>July</td>\n",
       "      <td>27793.0</td>\n",
       "    </tr>\n",
       "    <tr>\n",
       "      <th>7</th>\n",
       "      <td>August</td>\n",
       "      <td>31798.0</td>\n",
       "    </tr>\n",
       "    <tr>\n",
       "      <th>8</th>\n",
       "      <td>September</td>\n",
       "      <td>29904.0</td>\n",
       "    </tr>\n",
       "    <tr>\n",
       "      <th>9</th>\n",
       "      <td>Oktober</td>\n",
       "      <td>29331.0</td>\n",
       "    </tr>\n",
       "    <tr>\n",
       "      <th>10</th>\n",
       "      <td>November</td>\n",
       "      <td>23427.0</td>\n",
       "    </tr>\n",
       "    <tr>\n",
       "      <th>11</th>\n",
       "      <td>December</td>\n",
       "      <td>21536.0</td>\n",
       "    </tr>\n",
       "  </tbody>\n",
       "</table>\n",
       "</div>"
      ],
      "text/plain": [
       "       Months    Rides\n",
       "0     January  19199.0\n",
       "1    February  16676.0\n",
       "2       March  20379.0\n",
       "3       April  18357.0\n",
       "4         May  18498.0\n",
       "5        June  26237.0\n",
       "6        July  27793.0\n",
       "7      August  31798.0\n",
       "8   September  29904.0\n",
       "9     Oktober  29331.0\n",
       "10   November  23427.0\n",
       "11   December  21536.0"
      ]
     },
     "execution_count": 15,
     "metadata": {},
     "output_type": "execute_result"
    }
   ],
   "source": [
    "rides_month = np.zeros(12)\n",
    "for i in range(12):\n",
    "    rides_month[i]= len(la[la[\"Month\"]==i+1])\n",
    "\n",
    "year= pd.DataFrame({'Months':months, 'Rides':rides_month})\n",
    "year"
   ]
  },
  {
   "cell_type": "code",
   "execution_count": 16,
   "id": "ce2fe7f1",
   "metadata": {},
   "outputs": [
    {
     "data": {
      "image/png": "[encoded data removed]",
      "text/plain": [
       "<Figure size 864x288 with 1 Axes>"
      ]
     },
     "metadata": {
      "needs_background": "light"
     },
     "output_type": "display_data"
    }
   ],
   "source": [
    "# yearly demand\n",
    "plt.figure(figsize=(12,4))\n",
    "plt.plot(year[\"Months\"], year[\"Rides\"],'o-', color='blue')\n",
    "plt.ylabel(\"Number of Rides\")\n",
    "plt.title(\"Number of Rides in Different Months\")\n",
    "plt.show()"
   ]
  },
  {
   "cell_type": "markdown",
   "id": "702ca2eb",
   "metadata": {},
   "source": [
    "# Seasonal Comparison\n",
    "\n",
    "- Spring: March-May\n",
    "- Summer: June-August\n",
    "- Fall: September-November\n",
    "- Winter: December-February"
   ]
  },
  {
   "cell_type": "code",
   "execution_count": 17,
   "id": "deea04d5",
   "metadata": {},
   "outputs": [],
   "source": [
    "season =['Spring','Summer','Fall','Winter']\n",
    "spring = la[(la[\"Month\"]>=3) & (la[\"Month\"]<=5)]\n",
    "summer = la[(la[\"Month\"]>=6)&(la[\"Month\"]<=8)]\n",
    "fall = la[(la[\"Month\"]>=9)&(la[\"Month\"]<=11)]\n",
    "winter = la[(la[\"Month\"]==12) | (la[\"Month\"]<=2)]"
   ]
  },
  {
   "cell_type": "code",
   "execution_count": 18,
   "id": "b53473d3",
   "metadata": {},
   "outputs": [
    {
     "data": {
      "text/html": [
       "<div>\n",
       "<style scoped>\n",
       "    .dataframe tbody tr th:only-of-type {\n",
       "        vertical-align: middle;\n",
       "    }\n",
       "\n",
       "    .dataframe tbody tr th {\n",
       "        vertical-align: top;\n",
       "    }\n",
       "\n",
       "    .dataframe thead th {\n",
       "        text-align: right;\n",
       "    }\n",
       "</style>\n",
       "<table border=\"1\" class=\"dataframe\">\n",
       "  <thead>\n",
       "    <tr style=\"text-align: right;\">\n",
       "      <th></th>\n",
       "      <th>Season</th>\n",
       "      <th>Rides</th>\n",
       "    </tr>\n",
       "  </thead>\n",
       "  <tbody>\n",
       "    <tr>\n",
       "      <th>0</th>\n",
       "      <td>Spring</td>\n",
       "      <td>57234</td>\n",
       "    </tr>\n",
       "    <tr>\n",
       "      <th>1</th>\n",
       "      <td>Summer</td>\n",
       "      <td>85828</td>\n",
       "    </tr>\n",
       "    <tr>\n",
       "      <th>2</th>\n",
       "      <td>Fall</td>\n",
       "      <td>82662</td>\n",
       "    </tr>\n",
       "    <tr>\n",
       "      <th>3</th>\n",
       "      <td>Winter</td>\n",
       "      <td>57411</td>\n",
       "    </tr>\n",
       "  </tbody>\n",
       "</table>\n",
       "</div>"
      ],
      "text/plain": [
       "   Season  Rides\n",
       "0  Spring  57234\n",
       "1  Summer  85828\n",
       "2    Fall  82662\n",
       "3  Winter  57411"
      ]
     },
     "execution_count": 18,
     "metadata": {},
     "output_type": "execute_result"
    }
   ],
   "source": [
    "season = pd.DataFrame({'Season':season, 'Rides': [len(spring), len(summer), len(fall), len(winter)]})\n",
    "season"
   ]
  },
  {
   "cell_type": "code",
   "execution_count": 19,
   "id": "68f2c584",
   "metadata": {},
   "outputs": [
    {
     "data": {
      "text/html": [
       "<div>\n",
       "<style scoped>\n",
       "    .dataframe tbody tr th:only-of-type {\n",
       "        vertical-align: middle;\n",
       "    }\n",
       "\n",
       "    .dataframe tbody tr th {\n",
       "        vertical-align: top;\n",
       "    }\n",
       "\n",
       "    .dataframe thead th {\n",
       "        text-align: right;\n",
       "    }\n",
       "</style>\n",
       "<table border=\"1\" class=\"dataframe\">\n",
       "  <thead>\n",
       "    <tr style=\"text-align: right;\">\n",
       "      <th></th>\n",
       "      <th>Weekday</th>\n",
       "      <th>Spring</th>\n",
       "      <th>Summer</th>\n",
       "      <th>Fall</th>\n",
       "      <th>Winter</th>\n",
       "    </tr>\n",
       "  </thead>\n",
       "  <tbody>\n",
       "    <tr>\n",
       "      <th>0</th>\n",
       "      <td>Monday</td>\n",
       "      <td>8564.0</td>\n",
       "      <td>12216.0</td>\n",
       "      <td>12255.0</td>\n",
       "      <td>7850.0</td>\n",
       "    </tr>\n",
       "    <tr>\n",
       "      <th>1</th>\n",
       "      <td>Tuesday</td>\n",
       "      <td>8479.0</td>\n",
       "      <td>13128.0</td>\n",
       "      <td>12765.0</td>\n",
       "      <td>9731.0</td>\n",
       "    </tr>\n",
       "    <tr>\n",
       "      <th>2</th>\n",
       "      <td>Wednesday</td>\n",
       "      <td>8265.0</td>\n",
       "      <td>12477.0</td>\n",
       "      <td>12065.0</td>\n",
       "      <td>8120.0</td>\n",
       "    </tr>\n",
       "    <tr>\n",
       "      <th>3</th>\n",
       "      <td>Thursday</td>\n",
       "      <td>8526.0</td>\n",
       "      <td>13209.0</td>\n",
       "      <td>12004.0</td>\n",
       "      <td>8983.0</td>\n",
       "    </tr>\n",
       "    <tr>\n",
       "      <th>4</th>\n",
       "      <td>Friday</td>\n",
       "      <td>9486.0</td>\n",
       "      <td>12920.0</td>\n",
       "      <td>12454.0</td>\n",
       "      <td>9511.0</td>\n",
       "    </tr>\n",
       "    <tr>\n",
       "      <th>5</th>\n",
       "      <td>Saturday</td>\n",
       "      <td>6849.0</td>\n",
       "      <td>11323.0</td>\n",
       "      <td>9694.0</td>\n",
       "      <td>6891.0</td>\n",
       "    </tr>\n",
       "    <tr>\n",
       "      <th>6</th>\n",
       "      <td>Sunday</td>\n",
       "      <td>7065.0</td>\n",
       "      <td>10555.0</td>\n",
       "      <td>11425.0</td>\n",
       "      <td>6325.0</td>\n",
       "    </tr>\n",
       "  </tbody>\n",
       "</table>\n",
       "</div>"
      ],
      "text/plain": [
       "     Weekday  Spring   Summer     Fall  Winter\n",
       "0     Monday  8564.0  12216.0  12255.0  7850.0\n",
       "1    Tuesday  8479.0  13128.0  12765.0  9731.0\n",
       "2  Wednesday  8265.0  12477.0  12065.0  8120.0\n",
       "3   Thursday  8526.0  13209.0  12004.0  8983.0\n",
       "4     Friday  9486.0  12920.0  12454.0  9511.0\n",
       "5   Saturday  6849.0  11323.0   9694.0  6891.0\n",
       "6     Sunday  7065.0  10555.0  11425.0  6325.0"
      ]
     },
     "execution_count": 19,
     "metadata": {},
     "output_type": "execute_result"
    }
   ],
   "source": [
    "rides_week_spring = np.zeros(7)\n",
    "rides_week_summer = np.zeros(7)\n",
    "rides_week_fall = np.zeros(7)\n",
    "rides_week_winter = np.zeros(7)\n",
    "for i in range(7):\n",
    "    rides_week_spring[i] = len(spring[spring[\"Weekday\"]==i])\n",
    "    rides_week_summer[i] = len(summer[summer[\"Weekday\"]==i])\n",
    "    rides_week_fall[i] = len(fall[fall[\"Weekday\"]==i])\n",
    "    rides_week_winter[i] = len(winter[winter[\"Weekday\"]==i])\n",
    "    \n",
    "season_2 = pd.DataFrame({'Weekday': weekdays, 'Spring': rides_week_spring, 'Summer': rides_week_summer, 'Fall': rides_week_fall, 'Winter': rides_week_winter})\n",
    "season_2"
   ]
  },
  {
   "cell_type": "code",
   "execution_count": 20,
   "id": "fa560a76",
   "metadata": {},
   "outputs": [
    {
     "data": {
      "image/png": "[encoded data removed]",
      "text/plain": [
       "<Figure size 576x288 with 1 Axes>"
      ]
     },
     "metadata": {
      "needs_background": "light"
     },
     "output_type": "display_data"
    }
   ],
   "source": [
    "# demand per season\n",
    "plt.figure(figsize=(8,4))\n",
    "plt.plot(season_2[\"Weekday\"], season_2[\"Spring\"],'o-', color='orange', label = 'Spring')\n",
    "plt.plot(season_2[\"Weekday\"], season_2[\"Summer\"],'o-', color='red', label = 'Summer')\n",
    "plt.plot(season_2[\"Weekday\"], season_2[\"Fall\"],'o-', color='green', label = 'Fall')\n",
    "plt.plot(season_2[\"Weekday\"], season_2[\"Winter\"],'o-', color='blue', label = 'Winter')\n",
    "plt.ylabel(\"Number of Rides\")\n",
    "plt.title(\"Number of Rides in Different Seasons\")\n",
    "plt.legend()\n",
    "plt.show()"
   ]
  },
  {
   "cell_type": "code",
   "execution_count": null,
   "id": "a0e0ba8e",
   "metadata": {},
   "outputs": [],
   "source": []
  }
 ],
 "metadata": {
  "kernelspec": {
   "display_name": "Python 3 (ipykernel)",
   "language": "python",
   "name": "python3"
  },
  "language_info": {
   "codemirror_mode": {
    "name": "ipython",
    "version": 3
   },
   "file_extension": ".py",
   "mimetype": "text/x-python",
   "name": "python",
   "nbconvert_exporter": "python",
   "pygments_lexer": "ipython3",
   "version": "3.9.7"
  }
 },
 "nbformat": 4,
 "nbformat_minor": 5
}

{
 "cells": [
  {
   "cell_type": "code",
   "execution_count": 1,
   "metadata": {},
   "outputs": [],
   "source": [
    "import pandas as pd\n",
    "import numpy as np"
   ]
  },
  {
   "cell_type": "code",
   "execution_count": 4,
   "metadata": {},
   "outputs": [],
   "source": [
    "la = pd.read_csv(\"la_2019.csv\", parse_dates=[\"start_time\",\"end_time\"])"
   ]
  },
  {
   "cell_type": "code",
   "execution_count": 16,
   "metadata": {},
   "outputs": [
    {
     "name": "stdout",
     "output_type": "stream",
     "text": [
      "           start_time            end_time  start_station_id  end_station_id  \\\n",
      "0 2019-01-01 00:07:00 2019-01-01 00:14:00              3046            3051   \n",
      "1 2019-01-01 00:08:00 2019-01-01 00:14:00              3046            3051   \n",
      "2 2019-01-01 00:18:00 2019-01-01 00:50:00              3030            3075   \n",
      "3 2019-01-01 00:20:00 2019-01-01 00:50:00              3030            3075   \n",
      "4 2019-01-01 00:22:00 2019-01-01 00:50:00              3030            3075   \n",
      "\n",
      "  bike_id user_type start_station_name end_station_name  duration  \n",
      "0   06468   Walk-up         2nd & Hill   7th & Broadway       7.0  \n",
      "1   12311   Walk-up         2nd & Hill   7th & Broadway       6.0  \n",
      "2   05992   Walk-up         Main & 1st   Broadway & 9th      32.0  \n",
      "3   05860   Walk-up         Main & 1st   Broadway & 9th      30.0  \n",
      "4   06006   Walk-up         Main & 1st   Broadway & 9th      28.0  \n",
      "                start_time            end_time  start_station_id  \\\n",
      "290337 2019-12-31 23:35:51 2020-01-02 17:13:50              4491   \n",
      "290338 2019-12-31 23:41:52 2019-12-31 23:50:58              4491   \n",
      "290339 2019-12-31 23:43:19 2019-12-31 23:47:41              3051   \n",
      "290340 2019-12-31 23:48:17 2019-12-31 23:53:55              3064   \n",
      "290341 2019-12-31 23:58:52 2020-01-01 00:25:27              3074   \n",
      "\n",
      "        end_station_id bike_id     user_type start_station_name  \\\n",
      "290337            4491    5903  Monthly Pass     Main & Winston   \n",
      "290338            3022   18912  Monthly Pass     Main & Winston   \n",
      "290339            3064   12298   Annual Pass     7th & Broadway   \n",
      "290340            3074   19053   Annual Pass        Grand & 8th   \n",
      "290341            3049   19053   Annual Pass     Hope & Olympic   \n",
      "\n",
      "       end_station_name  duration  \n",
      "290337   Main & Winston    2497.0  \n",
      "290338   3rd & Santa Fe       9.0  \n",
      "290339      Grand & 8th       4.0  \n",
      "290340   Hope & Olympic       5.0  \n",
      "290341   2nd & Figueroa      26.0  \n"
     ]
    }
   ],
   "source": [
    "# Überblick über Daten\n",
    "print(la.head())\n",
    "print(la.tail())"
   ]
  },
  {
   "cell_type": "code",
   "execution_count": 15,
   "metadata": {},
   "outputs": [
    {
     "name": "stdout",
     "output_type": "stream",
     "text": [
      "start_time            290342\n",
      "end_time              290342\n",
      "start_station_id      290342\n",
      "end_station_id        290342\n",
      "bike_id               290342\n",
      "user_type             290342\n",
      "start_station_name    290342\n",
      "end_station_name      290342\n",
      "duration              290342\n",
      "dtype: int64\n",
      "<class 'pandas.core.frame.DataFrame'>\n",
      "RangeIndex: 290342 entries, 0 to 290341\n",
      "Data columns (total 9 columns):\n",
      " #   Column              Non-Null Count   Dtype         \n",
      "---  ------              --------------   -----         \n",
      " 0   start_time          290342 non-null  datetime64[ns]\n",
      " 1   end_time            290342 non-null  datetime64[ns]\n",
      " 2   start_station_id    290342 non-null  int64         \n",
      " 3   end_station_id      290342 non-null  int64         \n",
      " 4   bike_id             290342 non-null  object        \n",
      " 5   user_type           290342 non-null  object        \n",
      " 6   start_station_name  290342 non-null  object        \n",
      " 7   end_station_name    290342 non-null  object        \n",
      " 8   duration            290342 non-null  float64       \n",
      "dtypes: datetime64[ns](2), float64(1), int64(2), object(4)\n",
      "memory usage: 19.9+ MB\n",
      "None\n"
     ]
    }
   ],
   "source": [
    "print(la.count())\n",
    "print(la.info())"
   ]
  },
  {
   "cell_type": "code",
   "execution_count": 7,
   "metadata": {},
   "outputs": [
    {
     "data": {
      "text/html": [
       "<div>\n",
       "<style scoped>\n",
       "    .dataframe tbody tr th:only-of-type {\n",
       "        vertical-align: middle;\n",
       "    }\n",
       "\n",
       "    .dataframe tbody tr th {\n",
       "        vertical-align: top;\n",
       "    }\n",
       "\n",
       "    .dataframe thead th {\n",
       "        text-align: right;\n",
       "    }\n",
       "</style>\n",
       "<table border=\"1\" class=\"dataframe\">\n",
       "  <thead>\n",
       "    <tr style=\"text-align: right;\">\n",
       "      <th></th>\n",
       "      <th>start_time</th>\n",
       "      <th>end_time</th>\n",
       "      <th>start_station_id</th>\n",
       "      <th>end_station_id</th>\n",
       "      <th>bike_id</th>\n",
       "      <th>user_type</th>\n",
       "      <th>start_station_name</th>\n",
       "      <th>end_station_name</th>\n",
       "    </tr>\n",
       "  </thead>\n",
       "  <tbody>\n",
       "    <tr>\n",
       "      <th>0</th>\n",
       "      <td>False</td>\n",
       "      <td>False</td>\n",
       "      <td>False</td>\n",
       "      <td>False</td>\n",
       "      <td>False</td>\n",
       "      <td>False</td>\n",
       "      <td>False</td>\n",
       "      <td>False</td>\n",
       "    </tr>\n",
       "    <tr>\n",
       "      <th>1</th>\n",
       "      <td>False</td>\n",
       "      <td>False</td>\n",
       "      <td>False</td>\n",
       "      <td>False</td>\n",
       "      <td>False</td>\n",
       "      <td>False</td>\n",
       "      <td>False</td>\n",
       "      <td>False</td>\n",
       "    </tr>\n",
       "    <tr>\n",
       "      <th>2</th>\n",
       "      <td>False</td>\n",
       "      <td>False</td>\n",
       "      <td>False</td>\n",
       "      <td>False</td>\n",
       "      <td>False</td>\n",
       "      <td>False</td>\n",
       "      <td>False</td>\n",
       "      <td>False</td>\n",
       "    </tr>\n",
       "    <tr>\n",
       "      <th>3</th>\n",
       "      <td>False</td>\n",
       "      <td>False</td>\n",
       "      <td>False</td>\n",
       "      <td>False</td>\n",
       "      <td>False</td>\n",
       "      <td>False</td>\n",
       "      <td>False</td>\n",
       "      <td>False</td>\n",
       "    </tr>\n",
       "    <tr>\n",
       "      <th>4</th>\n",
       "      <td>False</td>\n",
       "      <td>False</td>\n",
       "      <td>False</td>\n",
       "      <td>False</td>\n",
       "      <td>False</td>\n",
       "      <td>False</td>\n",
       "      <td>False</td>\n",
       "      <td>False</td>\n",
       "    </tr>\n",
       "    <tr>\n",
       "      <th>...</th>\n",
       "      <td>...</td>\n",
       "      <td>...</td>\n",
       "      <td>...</td>\n",
       "      <td>...</td>\n",
       "      <td>...</td>\n",
       "      <td>...</td>\n",
       "      <td>...</td>\n",
       "      <td>...</td>\n",
       "    </tr>\n",
       "    <tr>\n",
       "      <th>290337</th>\n",
       "      <td>False</td>\n",
       "      <td>False</td>\n",
       "      <td>False</td>\n",
       "      <td>False</td>\n",
       "      <td>False</td>\n",
       "      <td>False</td>\n",
       "      <td>False</td>\n",
       "      <td>False</td>\n",
       "    </tr>\n",
       "    <tr>\n",
       "      <th>290338</th>\n",
       "      <td>False</td>\n",
       "      <td>False</td>\n",
       "      <td>False</td>\n",
       "      <td>False</td>\n",
       "      <td>False</td>\n",
       "      <td>False</td>\n",
       "      <td>False</td>\n",
       "      <td>False</td>\n",
       "    </tr>\n",
       "    <tr>\n",
       "      <th>290339</th>\n",
       "      <td>False</td>\n",
       "      <td>False</td>\n",
       "      <td>False</td>\n",
       "      <td>False</td>\n",
       "      <td>False</td>\n",
       "      <td>False</td>\n",
       "      <td>False</td>\n",
       "      <td>False</td>\n",
       "    </tr>\n",
       "    <tr>\n",
       "      <th>290340</th>\n",
       "      <td>False</td>\n",
       "      <td>False</td>\n",
       "      <td>False</td>\n",
       "      <td>False</td>\n",
       "      <td>False</td>\n",
       "      <td>False</td>\n",
       "      <td>False</td>\n",
       "      <td>False</td>\n",
       "    </tr>\n",
       "    <tr>\n",
       "      <th>290341</th>\n",
       "      <td>False</td>\n",
       "      <td>False</td>\n",
       "      <td>False</td>\n",
       "      <td>False</td>\n",
       "      <td>False</td>\n",
       "      <td>False</td>\n",
       "      <td>False</td>\n",
       "      <td>False</td>\n",
       "    </tr>\n",
       "  </tbody>\n",
       "</table>\n",
       "<p>290342 rows × 8 columns</p>\n",
       "</div>"
      ],
      "text/plain": [
       "        start_time  end_time  start_station_id  end_station_id  bike_id  \\\n",
       "0            False     False             False           False    False   \n",
       "1            False     False             False           False    False   \n",
       "2            False     False             False           False    False   \n",
       "3            False     False             False           False    False   \n",
       "4            False     False             False           False    False   \n",
       "...            ...       ...               ...             ...      ...   \n",
       "290337       False     False             False           False    False   \n",
       "290338       False     False             False           False    False   \n",
       "290339       False     False             False           False    False   \n",
       "290340       False     False             False           False    False   \n",
       "290341       False     False             False           False    False   \n",
       "\n",
       "        user_type  start_station_name  end_station_name  \n",
       "0           False               False             False  \n",
       "1           False               False             False  \n",
       "2           False               False             False  \n",
       "3           False               False             False  \n",
       "4           False               False             False  \n",
       "...           ...                 ...               ...  \n",
       "290337      False               False             False  \n",
       "290338      False               False             False  \n",
       "290339      False               False             False  \n",
       "290340      False               False             False  \n",
       "290341      False               False             False  \n",
       "\n",
       "[290342 rows x 8 columns]"
      ]
     },
     "execution_count": 7,
     "metadata": {},
     "output_type": "execute_result"
    }
   ],
   "source": [
    "la.isnull()"
   ]
  },
  {
   "cell_type": "code",
   "execution_count": 8,
   "metadata": {},
   "outputs": [
    {
     "data": {
      "text/plain": [
       "290342"
      ]
     },
     "execution_count": 8,
     "metadata": {},
     "output_type": "execute_result"
    }
   ],
   "source": [
    "# hinzufügen der Dauer der Fahrt\n",
    "la[\"duration\"] = (la[\"end_time\"] - la[\"start_time\"]).astype(\"timedelta64[m]\")\n",
    "la[\"user_type\"].size"
   ]
  },
  {
   "cell_type": "code",
   "execution_count": 44,
   "metadata": {},
   "outputs": [
    {
     "name": "stdout",
     "output_type": "stream",
     "text": [
      "53325\n"
     ]
    }
   ],
   "source": [
    "#remove data with same start and end station, that are shorter or equal to one minutes\n",
    "print(la[((la[\"start_station_name\"] == la[\"end_station_name\"]) & (la[\"duration\"] <= 1.0))].size)\n",
    "filtered_data = la[ ~((la[\"start_station_name\"] == la[\"end_station_name\"]) & (la[\"duration\"] <= 1.0)) ]"
   ]
  },
  {
   "cell_type": "code",
   "execution_count": 10,
   "metadata": {},
   "outputs": [
    {
     "data": {
      "text/plain": [
       "array(['Walk-up', 'Monthly Pass', 'Annual Pass', 'One Day Pass',\n",
       "       'Flex Pass', 'Testing'], dtype=object)"
      ]
     },
     "execution_count": 10,
     "metadata": {},
     "output_type": "execute_result"
    }
   ],
   "source": [
    "la[\"user_type\"].unique()"
   ]
  },
  {
   "cell_type": "code",
   "execution_count": 37,
   "metadata": {},
   "outputs": [
    {
     "name": "stdout",
     "output_type": "stream",
     "text": [
      "80854\n",
      "172665\n",
      "21659\n",
      "14731\n",
      "320\n",
      "113\n"
     ]
    }
   ],
   "source": [
    "wu = la[la[\"user_type\"]==\"Walk-up\"]\n",
    "print(wu[\"user_type\"].size)\n",
    "mp = la[la[\"user_type\"]==\"Monthly Pass\"]\n",
    "print(mp[\"user_type\"].size)\n",
    "ap = la[la[\"user_type\"]==\"Annual Pass\"]\n",
    "print(ap[\"user_type\"].size)\n",
    "odp = la[la[\"user_type\"]==\"One Day Pass\"]\n",
    "print(odp[\"user_type\"].size)\n",
    "fp = la[la[\"user_type\"]==\"Flex Pass\"]\n",
    "print(fp[\"user_type\"].size)\n",
    "test = la[la[\"user_type\"]==\"Testing\"]\n",
    "print(test[\"user_type\"].size)"
   ]
  },
  {
   "cell_type": "code",
   "execution_count": 17,
   "metadata": {},
   "outputs": [
    {
     "name": "stdout",
     "output_type": "stream",
     "text": [
      "                start_time            end_time  start_station_id  \\\n",
      "0      2019-01-01 00:07:00 2019-01-01 00:14:00              3046   \n",
      "1      2019-01-01 00:08:00 2019-01-01 00:14:00              3046   \n",
      "2      2019-01-01 00:18:00 2019-01-01 00:50:00              3030   \n",
      "3      2019-01-01 00:20:00 2019-01-01 00:50:00              3030   \n",
      "4      2019-01-01 00:22:00 2019-01-01 00:50:00              3030   \n",
      "...                    ...                 ...               ...   \n",
      "290331 2019-12-31 23:23:30 2019-12-31 23:40:11              3066   \n",
      "290332 2019-12-31 23:25:27 2019-12-31 23:35:12              3064   \n",
      "290333 2019-12-31 23:26:15 2019-12-31 23:40:00              3066   \n",
      "290335 2019-12-31 23:33:57 2019-12-31 23:42:19              3063   \n",
      "290336 2019-12-31 23:34:46 2019-12-31 23:42:28              3063   \n",
      "\n",
      "        end_station_id bike_id user_type start_station_name end_station_name  \\\n",
      "0                 3051   06468   Walk-up         2nd & Hill   7th & Broadway   \n",
      "1                 3051   12311   Walk-up         2nd & Hill   7th & Broadway   \n",
      "2                 3075   05992   Walk-up         Main & 1st   Broadway & 9th   \n",
      "3                 3075   05860   Walk-up         Main & 1st   Broadway & 9th   \n",
      "4                 3075   06006   Walk-up         Main & 1st   Broadway & 9th   \n",
      "...                ...     ...       ...                ...              ...   \n",
      "290331            3028   16775   Walk-up   Spring & College   Grand & Temple   \n",
      "290332            3064   12215   Walk-up        Grand & 8th      Grand & 8th   \n",
      "290333            3028   16600   Walk-up   Spring & College   Grand & Temple   \n",
      "290335            3069    6484   Walk-up    Pershing Square   Broadway & 3rd   \n",
      "290336            3069   12019   Walk-up    Pershing Square   Broadway & 3rd   \n",
      "\n",
      "        duration  \n",
      "0            7.0  \n",
      "1            6.0  \n",
      "2           32.0  \n",
      "3           30.0  \n",
      "4           28.0  \n",
      "...          ...  \n",
      "290331      16.0  \n",
      "290332       9.0  \n",
      "290333      13.0  \n",
      "290335       8.0  \n",
      "290336       7.0  \n",
      "\n",
      "[80854 rows x 9 columns]\n"
     ]
    }
   ],
   "source": [
    "la_cleaned = la"
   ]
  },
  {
   "cell_type": "code",
   "execution_count": 35,
   "metadata": {},
   "outputs": [
    {
     "name": "stdout",
     "output_type": "stream",
     "text": [
      "5098\n"
     ]
    }
   ],
   "source": [
    "ids = la[\"bike_id\"].unique()\n",
    "print(ids.size)"
   ]
  },
  {
   "cell_type": "code",
   "execution_count": null,
   "metadata": {},
   "outputs": [],
   "source": []
  }
 ],
 "metadata": {
  "kernelspec": {
   "display_name": "Python 3",
   "language": "python",
   "name": "python3"
  },
  "language_info": {
   "codemirror_mode": {
    "name": "ipython",
    "version": 3
   },
   "file_extension": ".py",
   "mimetype": "text/x-python",
   "name": "python",
   "nbconvert_exporter": "python",
   "pygments_lexer": "ipython3",
   "version": "3.8.5"
  }
 },
 "nbformat": 4,
 "nbformat_minor": 4
}

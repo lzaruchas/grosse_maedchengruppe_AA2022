{
 "cells": [
  {
   "cell_type": "code",
   "execution_count": 9,
   "id": "d96785f4",
   "metadata": {},
   "outputs": [],
   "source": [
    "from sklearn.linear_model import Lasso, ElasticNet, Ridge, SGDRegressor\n",
    "from sklearn.svm import SVR, NuSVR\n",
    "from sklearn.ensemble import BaggingRegressor, RandomForestRegressor\n",
    "from sklearn.neighbors import KNeighborsClassifier\n",
    "from sklearn.cluster import KMeans\n",
    "from sklearn.linear_model import LinearRegression\n",
    "from sklearn.metrics import mean_squared_error\n",
    "from sklearn.metrics import mean_absolute_error\n",
    "from sklearn.metrics import r2_score\n",
    "from sklearn.tree import DecisionTreeRegressor\n",
    "import pandas as pd\n",
    "import matplotlib.pyplot as plt\n",
    "from prettytable import PrettyTable\n",
    "from sklearn.ensemble import RandomForestClassifier\n",
    "from sklearn.ensemble import GradientBoostingClassifier"
   ]
  },
  {
   "cell_type": "code",
   "execution_count": 29,
   "id": "2162edc6",
   "metadata": {},
   "outputs": [],
   "source": [
    "table = PrettyTable()\n",
    "table.field_names = [\"Model\", \"Mean Squared Error\", \"R² score\",\"Mean Absolute Error\"]\n",
    "models = [LinearRegression(),\n",
    "DecisionTreeRegressor(random_state = 0),\n",
    "RandomForestRegressor( random_state=0, n_estimators=300),\n",
    "SGDRegressor(max_iter=1000, tol=1e-3),\n",
    "Lasso(alpha=0.1),\n",
    "ElasticNet(random_state=0),\n",
    "Ridge(alpha=.5),\n",
    "BaggingRegressor(),\n",
    "BaggingRegressor(KNeighborsClassifier(), max_samples=0.5, max_features=0.5),\n",
    "]"
   ]
  },
  {
   "cell_type": "code",
   "execution_count": 10,
   "id": "6bf0fb56",
   "metadata": {},
   "outputs": [],
   "source": [
    "# load prediction dataset\n",
    "feature_data = pd.read_csv(\"prediction_data.csv\",parse_dates=[\"start_time\"], low_memory=False)"
   ]
  },
  {
   "cell_type": "code",
   "execution_count": 26,
   "id": "19801a18",
   "metadata": {},
   "outputs": [],
   "source": [
    "#Splitting the dataset\n",
    "from sklearn.model_selection import train_test_split\n",
    "x = feature_data.drop([\"trips\"],axis=1)\n",
    "x = feature_data.drop([\"start_time\"],axis=1)\n",
    "y = feature_data[\"trips\"]\n",
    "# Normalizing the data\n",
    "from sklearn import preprocessing\n",
    "# x = preprocessing.normalize(x)\n",
    "x_train, x_test, y_train, y_test = train_test_split(x, y, test_size = 0.3, random_state = 0)"
   ]
  },
  {
   "cell_type": "code",
   "execution_count": 27,
   "id": "321ab444",
   "metadata": {},
   "outputs": [
    {
     "name": "stdout",
     "output_type": "stream",
     "text": [
      "<class 'pandas.core.frame.DataFrame'>\n",
      "Int64Index: 6132 entries, 5316 to 2732\n",
      "Data columns (total 8 columns):\n",
      " #   Column         Non-Null Count  Dtype  \n",
      "---  ------         --------------  -----  \n",
      " 0   month          6132 non-null   float64\n",
      " 1   day            6132 non-null   float64\n",
      " 2   hour           6132 non-null   float64\n",
      " 3   mean_duration  6132 non-null   float64\n",
      " 4   max_temp       6132 non-null   float64\n",
      " 5   precip         6132 non-null   float64\n",
      " 6   trips          6132 non-null   int64  \n",
      " 7   isWeekday      6132 non-null   int64  \n",
      "dtypes: float64(6), int64(2)\n",
      "memory usage: 431.2 KB\n"
     ]
    }
   ],
   "source": [
    "x_train.info()"
   ]
  },
  {
   "cell_type": "code",
   "execution_count": 31,
   "id": "da346c2d",
   "metadata": {},
   "outputs": [
    {
     "name": "stdout",
     "output_type": "stream",
     "text": [
      "+-----------------------+------------------------------+----------------------------+---------------------+\n",
      "|         Model         |      Mean Squared Error      |          R² score          | Mean Absolute Error |\n",
      "+-----------------------+------------------------------+----------------------------+---------------------+\n",
      "|    LinearRegression   |             0.00             |            1.00            |         0.00        |\n",
      "| DecisionTreeRegressor |             0.20             |            1.00            |         0.02        |\n",
      "| RandomForestRegressor |             0.04             |            1.00            |         0.01        |\n",
      "|      SGDRegressor     | 4119824090795685774884864.00 | -4568055084550811287552.00 |   792489075491.84   |\n",
      "|         Lasso         |             0.00             |            1.00            |         0.00        |\n",
      "|       ElasticNet      |             0.00             |            1.00            |         0.03        |\n",
      "|         Ridge         |             0.00             |            1.00            |         0.00        |\n",
      "|    BaggingRegressor   |             0.08             |            1.00            |         0.02        |\n",
      "|    BaggingRegressor   |            76.11             |            0.92            |         5.58        |\n",
      "|    LinearRegression   |             0.00             |            1.00            |         0.00        |\n",
      "| DecisionTreeRegressor |             0.20             |            1.00            |         0.02        |\n",
      "| RandomForestRegressor |             0.04             |            1.00            |         0.01        |\n",
      "|      SGDRegressor     | 5029101187188540397584384.00 | -5576260234067465732096.00 |   1964347728719.70  |\n",
      "|         Lasso         |             0.00             |            1.00            |         0.00        |\n",
      "|       ElasticNet      |             0.00             |            1.00            |         0.03        |\n",
      "|         Ridge         |             0.00             |            1.00            |         0.00        |\n",
      "|    BaggingRegressor   |             0.06             |            1.00            |         0.02        |\n",
      "|    BaggingRegressor   |            240.11            |            0.73            |        10.67        |\n",
      "+-----------------------+------------------------------+----------------------------+---------------------+\n"
     ]
    }
   ],
   "source": [
    "for model in models:\n",
    "    model.fit(x_train, y_train)\n",
    "    y_res = model.predict(x_test)\n",
    "    mse = mean_squared_error(y_test, y_res)\n",
    "    score = model.score(x_test, y_test)\n",
    "    mae = mean_absolute_error(y_test,y_res)\n",
    "    table.add_row([type(model).__name__, format(mse, '.2f'), format(score, '.2f'),format(mae, '.2f')])\n",
    "    \n",
    "print(table)"
   ]
  }
 ],
 "metadata": {
  "kernelspec": {
   "display_name": "Python 3 (ipykernel)",
   "language": "python",
   "name": "python3"
  },
  "language_info": {
   "codemirror_mode": {
    "name": "ipython",
    "version": 3
   },
   "file_extension": ".py",
   "mimetype": "text/x-python",
   "name": "python",
   "nbconvert_exporter": "python",
   "pygments_lexer": "ipython3",
   "version": "3.9.12"
  }
 },
 "nbformat": 4,
 "nbformat_minor": 5
}

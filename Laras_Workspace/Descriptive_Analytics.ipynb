{
 "cells": [
  {
   "cell_type": "code",
   "execution_count": 54,
   "id": "3dd848d2",
   "metadata": {},
   "outputs": [
    {
     "data": {
      "text/html": [],
      "text/plain": [
       "<IPython.core.display.HTML object>"
      ]
     },
     "metadata": {},
     "output_type": "display_data"
    }
   ],
   "source": [
    "# libraries\n",
    "import pandas as pd\n",
    "import numpy as np\n",
    "import matplotlib.pyplot as plt\n",
    "from IPython.display import display, HTML\n",
    "from IPython.display import display, HTML\n",
    "display(HTML(\"\"))"
   ]
  },
  {
   "cell_type": "code",
   "execution_count": 64,
   "id": "8015b486",
   "metadata": {},
   "outputs": [],
   "source": [
    "# import\n",
    "la = pd.read_csv(\"Prepared_data.csv\", parse_dates=[\"start_time\",\"end_time\"], low_memory=False)"
   ]
  },
  {
   "cell_type": "code",
   "execution_count": null,
   "id": "9a82afa2",
   "metadata": {},
   "outputs": [],
   "source": []
  },
  {
   "cell_type": "code",
   "execution_count": 65,
   "id": "aaaf2cb4",
   "metadata": {},
   "outputs": [
    {
     "name": "stdout",
     "output_type": "stream",
     "text": [
      "['Walk-up' 'Monthly Pass' 'Annual Pass' 'One Day Pass' 'Flex Pass'\n",
      " 'Testing']\n"
     ]
    }
   ],
   "source": [
    "user = la[\"user_type\"].unique()\n",
    "print(user)"
   ]
  },
  {
   "cell_type": "code",
   "execution_count": 66,
   "id": "8c1da758",
   "metadata": {},
   "outputs": [
    {
     "data": {
      "text/plain": [
       "3150"
      ]
     },
     "execution_count": 66,
     "metadata": {},
     "output_type": "execute_result"
    }
   ],
   "source": [
    "bikes = la['bike_id'].unique()\n",
    "len(bikes)"
   ]
  },
  {
   "cell_type": "code",
   "execution_count": 67,
   "id": "16bc4d3b",
   "metadata": {},
   "outputs": [
    {
     "data": {
      "text/html": [
       "<div>\n",
       "<style scoped>\n",
       "    .dataframe tbody tr th:only-of-type {\n",
       "        vertical-align: middle;\n",
       "    }\n",
       "\n",
       "    .dataframe tbody tr th {\n",
       "        vertical-align: top;\n",
       "    }\n",
       "\n",
       "    .dataframe thead th {\n",
       "        text-align: right;\n",
       "    }\n",
       "</style>\n",
       "<table border=\"1\" class=\"dataframe\">\n",
       "  <thead>\n",
       "    <tr style=\"text-align: right;\">\n",
       "      <th></th>\n",
       "      <th>Unnamed: 0</th>\n",
       "      <th>start_time</th>\n",
       "      <th>end_time</th>\n",
       "      <th>start_station_id</th>\n",
       "      <th>end_station_id</th>\n",
       "      <th>bike_id</th>\n",
       "      <th>user_type</th>\n",
       "      <th>start_station_name</th>\n",
       "      <th>end_station_name</th>\n",
       "      <th>duration</th>\n",
       "    </tr>\n",
       "  </thead>\n",
       "  <tbody>\n",
       "    <tr>\n",
       "      <th>0</th>\n",
       "      <td>0</td>\n",
       "      <td>2019-01-01 00:07:00</td>\n",
       "      <td>2019-01-01 00:14:00</td>\n",
       "      <td>3046</td>\n",
       "      <td>3051</td>\n",
       "      <td>06468</td>\n",
       "      <td>Walk-up</td>\n",
       "      <td>2nd &amp; Hill</td>\n",
       "      <td>7th &amp; Broadway</td>\n",
       "      <td>7.0</td>\n",
       "    </tr>\n",
       "    <tr>\n",
       "      <th>1</th>\n",
       "      <td>1</td>\n",
       "      <td>2019-01-01 00:08:00</td>\n",
       "      <td>2019-01-01 00:14:00</td>\n",
       "      <td>3046</td>\n",
       "      <td>3051</td>\n",
       "      <td>12311</td>\n",
       "      <td>Walk-up</td>\n",
       "      <td>2nd &amp; Hill</td>\n",
       "      <td>7th &amp; Broadway</td>\n",
       "      <td>6.0</td>\n",
       "    </tr>\n",
       "    <tr>\n",
       "      <th>2</th>\n",
       "      <td>2</td>\n",
       "      <td>2019-01-01 00:18:00</td>\n",
       "      <td>2019-01-01 00:50:00</td>\n",
       "      <td>3030</td>\n",
       "      <td>3075</td>\n",
       "      <td>05992</td>\n",
       "      <td>Walk-up</td>\n",
       "      <td>Main &amp; 1st</td>\n",
       "      <td>Broadway &amp; 9th</td>\n",
       "      <td>32.0</td>\n",
       "    </tr>\n",
       "    <tr>\n",
       "      <th>3</th>\n",
       "      <td>3</td>\n",
       "      <td>2019-01-01 00:20:00</td>\n",
       "      <td>2019-01-01 00:50:00</td>\n",
       "      <td>3030</td>\n",
       "      <td>3075</td>\n",
       "      <td>05860</td>\n",
       "      <td>Walk-up</td>\n",
       "      <td>Main &amp; 1st</td>\n",
       "      <td>Broadway &amp; 9th</td>\n",
       "      <td>30.0</td>\n",
       "    </tr>\n",
       "    <tr>\n",
       "      <th>4</th>\n",
       "      <td>4</td>\n",
       "      <td>2019-01-01 00:22:00</td>\n",
       "      <td>2019-01-01 00:50:00</td>\n",
       "      <td>3030</td>\n",
       "      <td>3075</td>\n",
       "      <td>06006</td>\n",
       "      <td>Walk-up</td>\n",
       "      <td>Main &amp; 1st</td>\n",
       "      <td>Broadway &amp; 9th</td>\n",
       "      <td>28.0</td>\n",
       "    </tr>\n",
       "  </tbody>\n",
       "</table>\n",
       "</div>"
      ],
      "text/plain": [
       "   Unnamed: 0          start_time            end_time  start_station_id  \\\n",
       "0           0 2019-01-01 00:07:00 2019-01-01 00:14:00              3046   \n",
       "1           1 2019-01-01 00:08:00 2019-01-01 00:14:00              3046   \n",
       "2           2 2019-01-01 00:18:00 2019-01-01 00:50:00              3030   \n",
       "3           3 2019-01-01 00:20:00 2019-01-01 00:50:00              3030   \n",
       "4           4 2019-01-01 00:22:00 2019-01-01 00:50:00              3030   \n",
       "\n",
       "   end_station_id bike_id user_type start_station_name end_station_name  \\\n",
       "0            3051   06468   Walk-up         2nd & Hill   7th & Broadway   \n",
       "1            3051   12311   Walk-up         2nd & Hill   7th & Broadway   \n",
       "2            3075   05992   Walk-up         Main & 1st   Broadway & 9th   \n",
       "3            3075   05860   Walk-up         Main & 1st   Broadway & 9th   \n",
       "4            3075   06006   Walk-up         Main & 1st   Broadway & 9th   \n",
       "\n",
       "   duration  \n",
       "0       7.0  \n",
       "1       6.0  \n",
       "2      32.0  \n",
       "3      30.0  \n",
       "4      28.0  "
      ]
     },
     "execution_count": 67,
     "metadata": {},
     "output_type": "execute_result"
    }
   ],
   "source": [
    "la.head()"
   ]
  },
  {
   "cell_type": "markdown",
   "id": "530b310b",
   "metadata": {},
   "source": [
    "# Usage during a day\n",
    "\n",
    "## Classification:\n",
    "- Morning: 6 a.m. - 10 a.m.\n",
    "- Mid-morning: 10 a.m. - 12 p.m.\n",
    "- Noon: 12 p.m - 2 p.m.\n",
    "- Afternoon: 2 p.m. - 5 p.m.\n",
    "- Evening: 5 p.m. - 9 p.m.\n",
    "- Night: 9 p.m. - 6 a.m."
   ]
  },
  {
   "cell_type": "code",
   "execution_count": 68,
   "id": "e33e0ef8",
   "metadata": {},
   "outputs": [
    {
     "data": {
      "text/html": [
       "<div>\n",
       "<style scoped>\n",
       "    .dataframe tbody tr th:only-of-type {\n",
       "        vertical-align: middle;\n",
       "    }\n",
       "\n",
       "    .dataframe tbody tr th {\n",
       "        vertical-align: top;\n",
       "    }\n",
       "\n",
       "    .dataframe thead th {\n",
       "        text-align: right;\n",
       "    }\n",
       "</style>\n",
       "<table border=\"1\" class=\"dataframe\">\n",
       "  <thead>\n",
       "    <tr style=\"text-align: right;\">\n",
       "      <th></th>\n",
       "      <th>Unnamed: 0</th>\n",
       "      <th>start_time</th>\n",
       "      <th>end_time</th>\n",
       "      <th>start_station_id</th>\n",
       "      <th>end_station_id</th>\n",
       "      <th>bike_id</th>\n",
       "      <th>user_type</th>\n",
       "      <th>start_station_name</th>\n",
       "      <th>end_station_name</th>\n",
       "      <th>duration</th>\n",
       "      <th>Date</th>\n",
       "      <th>Weekday</th>\n",
       "      <th>Hour</th>\n",
       "      <th>Month</th>\n",
       "    </tr>\n",
       "  </thead>\n",
       "  <tbody>\n",
       "    <tr>\n",
       "      <th>0</th>\n",
       "      <td>0</td>\n",
       "      <td>2019-01-01 00:07:00</td>\n",
       "      <td>2019-01-01 00:14:00</td>\n",
       "      <td>3046</td>\n",
       "      <td>3051</td>\n",
       "      <td>06468</td>\n",
       "      <td>Walk-up</td>\n",
       "      <td>2nd &amp; Hill</td>\n",
       "      <td>7th &amp; Broadway</td>\n",
       "      <td>7.0</td>\n",
       "      <td>2019-01-01</td>\n",
       "      <td>1</td>\n",
       "      <td>0</td>\n",
       "      <td>1</td>\n",
       "    </tr>\n",
       "    <tr>\n",
       "      <th>1</th>\n",
       "      <td>1</td>\n",
       "      <td>2019-01-01 00:08:00</td>\n",
       "      <td>2019-01-01 00:14:00</td>\n",
       "      <td>3046</td>\n",
       "      <td>3051</td>\n",
       "      <td>12311</td>\n",
       "      <td>Walk-up</td>\n",
       "      <td>2nd &amp; Hill</td>\n",
       "      <td>7th &amp; Broadway</td>\n",
       "      <td>6.0</td>\n",
       "      <td>2019-01-01</td>\n",
       "      <td>1</td>\n",
       "      <td>0</td>\n",
       "      <td>1</td>\n",
       "    </tr>\n",
       "    <tr>\n",
       "      <th>2</th>\n",
       "      <td>2</td>\n",
       "      <td>2019-01-01 00:18:00</td>\n",
       "      <td>2019-01-01 00:50:00</td>\n",
       "      <td>3030</td>\n",
       "      <td>3075</td>\n",
       "      <td>05992</td>\n",
       "      <td>Walk-up</td>\n",
       "      <td>Main &amp; 1st</td>\n",
       "      <td>Broadway &amp; 9th</td>\n",
       "      <td>32.0</td>\n",
       "      <td>2019-01-01</td>\n",
       "      <td>1</td>\n",
       "      <td>0</td>\n",
       "      <td>1</td>\n",
       "    </tr>\n",
       "  </tbody>\n",
       "</table>\n",
       "</div>"
      ],
      "text/plain": [
       "   Unnamed: 0          start_time            end_time  start_station_id  \\\n",
       "0           0 2019-01-01 00:07:00 2019-01-01 00:14:00              3046   \n",
       "1           1 2019-01-01 00:08:00 2019-01-01 00:14:00              3046   \n",
       "2           2 2019-01-01 00:18:00 2019-01-01 00:50:00              3030   \n",
       "\n",
       "   end_station_id bike_id user_type start_station_name end_station_name  \\\n",
       "0            3051   06468   Walk-up         2nd & Hill   7th & Broadway   \n",
       "1            3051   12311   Walk-up         2nd & Hill   7th & Broadway   \n",
       "2            3075   05992   Walk-up         Main & 1st   Broadway & 9th   \n",
       "\n",
       "   duration        Date  Weekday  Hour  Month  \n",
       "0       7.0  2019-01-01        1     0      1  \n",
       "1       6.0  2019-01-01        1     0      1  \n",
       "2      32.0  2019-01-01        1     0      1  "
      ]
     },
     "execution_count": 68,
     "metadata": {},
     "output_type": "execute_result"
    }
   ],
   "source": [
    "def get_weekday (ts):\n",
    "    return ts.weekday()\n",
    "def get_hour (ts):\n",
    "    return ts.hour\n",
    "def get_date (ts):\n",
    "    return ts.date()\n",
    "la[\"Date\"] = la[\"start_time\"].apply(lambda x: get_date (x))\n",
    "la[\"Weekday\"] = la[\"start_time\"].apply(lambda x: get_weekday (x))\n",
    "la[\"Hour\"] = la[\"start_time\"].apply(lambda x: get_hour (x))\n",
    "la['Month'] = la[\"start_time\"].apply(lambda x: x.month)\n",
    "la.head(3)"
   ]
  },
  {
   "cell_type": "code",
   "execution_count": 78,
   "id": "afd99df2",
   "metadata": {},
   "outputs": [],
   "source": [
    "morning_start = la[(la['Hour']>=6) & (la['Hour']<10)]\n",
    "mid_morning_start = la[(la['Hour']>=10) & (la['Hour']<12)]\n",
    "noon_start = la[(la['Hour']>=12) & (la['Hour']<14)]\n",
    "afternoon_start = la[(la['Hour']>=14) & (la['Hour']<17)]\n",
    "evening_start = la[(la['Hour']>=17) & (la['Hour']<21)]\n",
    "night_start = la[((la['Hour']>=21) & (la['Hour']<24)) | ((la['Hour']>=0) & (la['Hour']<6))]"
   ]
  },
  {
   "cell_type": "code",
   "execution_count": 80,
   "id": "4a9e10c1",
   "metadata": {},
   "outputs": [
    {
     "name": "stdout",
     "output_type": "stream",
     "text": [
      "290342\n",
      "290342\n"
     ]
    }
   ],
   "source": [
    "print(la['start_time'].size)\n",
    "print(morning_start['Hour'].size + mid_morning_start['Hour'].size + noon_start['Hour'].size + afternoon_start['Hour'].size + evening_start['Hour'].size + night_start['Hour'].size)"
   ]
  },
  {
   "cell_type": "code",
   "execution_count": 115,
   "id": "f9f278a8",
   "metadata": {},
   "outputs": [],
   "source": [
    "start_hours = pd.DataFrame({'Time_Period': ['Morning', 'Mid-morning', 'Noon', 'Afternoon', 'Evening', 'Night'], 'Rides': [morning_start['Hour'].size, mid_morning_start['Hour'].size, noon_start['Hour'].size,afternoon_start['Hour'].size, evening_start['Hour'].size, night_start['Hour'].size]})\n"
   ]
  },
  {
   "cell_type": "code",
   "execution_count": 116,
   "id": "879047a6",
   "metadata": {},
   "outputs": [
    {
     "data": {
      "text/html": [
       "<div>\n",
       "<style scoped>\n",
       "    .dataframe tbody tr th:only-of-type {\n",
       "        vertical-align: middle;\n",
       "    }\n",
       "\n",
       "    .dataframe tbody tr th {\n",
       "        vertical-align: top;\n",
       "    }\n",
       "\n",
       "    .dataframe thead th {\n",
       "        text-align: right;\n",
       "    }\n",
       "</style>\n",
       "<table border=\"1\" class=\"dataframe\">\n",
       "  <thead>\n",
       "    <tr style=\"text-align: right;\">\n",
       "      <th></th>\n",
       "      <th>Time_Period</th>\n",
       "      <th>Rides</th>\n",
       "    </tr>\n",
       "  </thead>\n",
       "  <tbody>\n",
       "    <tr>\n",
       "      <th>0</th>\n",
       "      <td>Morning</td>\n",
       "      <td>48227</td>\n",
       "    </tr>\n",
       "    <tr>\n",
       "      <th>1</th>\n",
       "      <td>Mid-morning</td>\n",
       "      <td>30195</td>\n",
       "    </tr>\n",
       "    <tr>\n",
       "      <th>2</th>\n",
       "      <td>Noon</td>\n",
       "      <td>40514</td>\n",
       "    </tr>\n",
       "    <tr>\n",
       "      <th>3</th>\n",
       "      <td>Afternoon</td>\n",
       "      <td>62662</td>\n",
       "    </tr>\n",
       "    <tr>\n",
       "      <th>4</th>\n",
       "      <td>Evening</td>\n",
       "      <td>79443</td>\n",
       "    </tr>\n",
       "  </tbody>\n",
       "</table>\n",
       "</div>"
      ],
      "text/plain": [
       "   Time_Period  Rides\n",
       "0      Morning  48227\n",
       "1  Mid-morning  30195\n",
       "2         Noon  40514\n",
       "3    Afternoon  62662\n",
       "4      Evening  79443"
      ]
     },
     "execution_count": 116,
     "metadata": {},
     "output_type": "execute_result"
    }
   ],
   "source": [
    "start_hours.head()\n"
   ]
  },
  {
   "cell_type": "code",
   "execution_count": 121,
   "id": "debb36fe",
   "metadata": {},
   "outputs": [
    {
     "data": {
      "image/png": "[encoded data removed]",
      "text/plain": [
       "<Figure size 576x288 with 1 Axes>"
      ]
     },
     "metadata": {
      "needs_background": "light"
     },
     "output_type": "display_data"
    }
   ],
   "source": [
    "# Graph der die Anzahl der Fahrten an verschiedenen Zeitpunkten eines Tages darstellt \n",
    "fig,ax = plt.subplots(figsize=(8,4))\n",
    "\n",
    "ax.bar(start_hours['Time_Period'],start_hours['Rides'])\n",
    "ax.set_xlabel(\"Time Period\")\n",
    "ax.set_ylabel(\"Number of Rides\")\n",
    "ax.set_title(\"Number of Rides throughout a day\")\n",
    "\n",
    "plt.show()"
   ]
  },
  {
   "cell_type": "markdown",
   "id": "46eb3ed5",
   "metadata": {},
   "source": [
    "# Usage during a day"
   ]
  },
  {
   "cell_type": "code",
   "execution_count": 113,
   "id": "5e2538fc",
   "metadata": {},
   "outputs": [],
   "source": [
    "\n",
    "weekday=['Monday', 'Tuesday', 'Wednesday', 'Thursday', 'Friday', 'Saturday', 'Sunday']\n",
    "rides=np.zeros(7)\n",
    "for i in range(7): \n",
    "    rides[i]=la[la[\"Weekday\"]==i].size"
   ]
  },
  {
   "cell_type": "code",
   "execution_count": 114,
   "id": "591fa804",
   "metadata": {},
   "outputs": [
    {
     "data": {
      "text/html": [
       "<div>\n",
       "<style scoped>\n",
       "    .dataframe tbody tr th:only-of-type {\n",
       "        vertical-align: middle;\n",
       "    }\n",
       "\n",
       "    .dataframe tbody tr th {\n",
       "        vertical-align: top;\n",
       "    }\n",
       "\n",
       "    .dataframe thead th {\n",
       "        text-align: right;\n",
       "    }\n",
       "</style>\n",
       "<table border=\"1\" class=\"dataframe\">\n",
       "  <thead>\n",
       "    <tr style=\"text-align: right;\">\n",
       "      <th></th>\n",
       "      <th>Weekday</th>\n",
       "      <th>Rides</th>\n",
       "    </tr>\n",
       "  </thead>\n",
       "  <tbody>\n",
       "    <tr>\n",
       "      <th>0</th>\n",
       "      <td>Monday</td>\n",
       "      <td>585634.0</td>\n",
       "    </tr>\n",
       "    <tr>\n",
       "      <th>1</th>\n",
       "      <td>Tuesday</td>\n",
       "      <td>633486.0</td>\n",
       "    </tr>\n",
       "    <tr>\n",
       "      <th>2</th>\n",
       "      <td>Wednesday</td>\n",
       "      <td>585956.0</td>\n",
       "    </tr>\n",
       "    <tr>\n",
       "      <th>3</th>\n",
       "      <td>Thursday</td>\n",
       "      <td>613606.0</td>\n",
       "    </tr>\n",
       "    <tr>\n",
       "      <th>4</th>\n",
       "      <td>Friday</td>\n",
       "      <td>636804.0</td>\n",
       "    </tr>\n",
       "    <tr>\n",
       "      <th>5</th>\n",
       "      <td>Saturday</td>\n",
       "      <td>500346.0</td>\n",
       "    </tr>\n",
       "    <tr>\n",
       "      <th>6</th>\n",
       "      <td>Sunday</td>\n",
       "      <td>508956.0</td>\n",
       "    </tr>\n",
       "  </tbody>\n",
       "</table>\n",
       "</div>"
      ],
      "text/plain": [
       "     Weekday     Rides\n",
       "0     Monday  585634.0\n",
       "1    Tuesday  633486.0\n",
       "2  Wednesday  585956.0\n",
       "3   Thursday  613606.0\n",
       "4     Friday  636804.0\n",
       "5   Saturday  500346.0\n",
       "6     Sunday  508956.0"
      ]
     },
     "execution_count": 114,
     "metadata": {},
     "output_type": "execute_result"
    }
   ],
   "source": [
    "weekdaysize = pd.DataFrame({'Weekday':weekday, 'Rides':rides})\n",
    "weekdaysize"
   ]
  },
  {
   "cell_type": "code",
   "execution_count": 120,
   "id": "15fc818b",
   "metadata": {},
   "outputs": [
    {
     "data": {
      "image/png": "[encoded data removed]",
      "text/plain": [
       "<Figure size 576x288 with 1 Axes>"
      ]
     },
     "metadata": {
      "needs_background": "light"
     },
     "output_type": "display_data"
    }
   ],
   "source": [
    "fig,ax = plt.subplots(figsize=(8,4))\n",
    "\n",
    "ax.bar(weekdaysize[\"Weekday\"], weekdaysize[\"Rides\"])\n",
    "ax.set_xlabel(\"weekday\")\n",
    "ax.set_ylabel(\"Number of Rides\")\n",
    "ax.set_title(\"Number of Rides on different days\")\n",
    "\n",
    "plt.show()\n"
   ]
  },
  {
   "cell_type": "markdown",
   "id": "39521c1f",
   "metadata": {},
   "source": [
    "# Usage during a year"
   ]
  },
  {
   "cell_type": "code",
   "execution_count": 117,
   "id": "0ec06e07",
   "metadata": {},
   "outputs": [
    {
     "data": {
      "text/plain": [
       "array([272594., 237510., 292908., 262388., 264908., 376334., 399000.,\n",
       "       459802., 430934., 422506., 336476., 309428.])"
      ]
     },
     "execution_count": 117,
     "metadata": {},
     "output_type": "execute_result"
    }
   ],
   "source": [
    "months=[\"Jan\",\"Feb\",\"Mar\",\"Apr\",\"Mai\",\"Jun\",\"Jul\",\"Aug\",\"Sep\",\"Okt\",\"Nov\",\"Dec\"]\n",
    "rides=np.zeros(12)\n",
    "for i in range(12): \n",
    "    rides[i]=la[la[\"Month\"]==i+1].size\n",
    "rides"
   ]
  },
  {
   "cell_type": "code",
   "execution_count": 118,
   "id": "f0e43384",
   "metadata": {},
   "outputs": [
    {
     "data": {
      "text/html": [
       "<div>\n",
       "<style scoped>\n",
       "    .dataframe tbody tr th:only-of-type {\n",
       "        vertical-align: middle;\n",
       "    }\n",
       "\n",
       "    .dataframe tbody tr th {\n",
       "        vertical-align: top;\n",
       "    }\n",
       "\n",
       "    .dataframe thead th {\n",
       "        text-align: right;\n",
       "    }\n",
       "</style>\n",
       "<table border=\"1\" class=\"dataframe\">\n",
       "  <thead>\n",
       "    <tr style=\"text-align: right;\">\n",
       "      <th></th>\n",
       "      <th>Months</th>\n",
       "      <th>Rides</th>\n",
       "    </tr>\n",
       "  </thead>\n",
       "  <tbody>\n",
       "    <tr>\n",
       "      <th>0</th>\n",
       "      <td>Jan</td>\n",
       "      <td>272594.0</td>\n",
       "    </tr>\n",
       "    <tr>\n",
       "      <th>1</th>\n",
       "      <td>Feb</td>\n",
       "      <td>237510.0</td>\n",
       "    </tr>\n",
       "    <tr>\n",
       "      <th>2</th>\n",
       "      <td>Mar</td>\n",
       "      <td>292908.0</td>\n",
       "    </tr>\n",
       "    <tr>\n",
       "      <th>3</th>\n",
       "      <td>Apr</td>\n",
       "      <td>262388.0</td>\n",
       "    </tr>\n",
       "    <tr>\n",
       "      <th>4</th>\n",
       "      <td>Mai</td>\n",
       "      <td>264908.0</td>\n",
       "    </tr>\n",
       "    <tr>\n",
       "      <th>5</th>\n",
       "      <td>Jun</td>\n",
       "      <td>376334.0</td>\n",
       "    </tr>\n",
       "    <tr>\n",
       "      <th>6</th>\n",
       "      <td>Jul</td>\n",
       "      <td>399000.0</td>\n",
       "    </tr>\n",
       "    <tr>\n",
       "      <th>7</th>\n",
       "      <td>Aug</td>\n",
       "      <td>459802.0</td>\n",
       "    </tr>\n",
       "    <tr>\n",
       "      <th>8</th>\n",
       "      <td>Sep</td>\n",
       "      <td>430934.0</td>\n",
       "    </tr>\n",
       "    <tr>\n",
       "      <th>9</th>\n",
       "      <td>Okt</td>\n",
       "      <td>422506.0</td>\n",
       "    </tr>\n",
       "    <tr>\n",
       "      <th>10</th>\n",
       "      <td>Nov</td>\n",
       "      <td>336476.0</td>\n",
       "    </tr>\n",
       "    <tr>\n",
       "      <th>11</th>\n",
       "      <td>Dec</td>\n",
       "      <td>309428.0</td>\n",
       "    </tr>\n",
       "  </tbody>\n",
       "</table>\n",
       "</div>"
      ],
      "text/plain": [
       "   Months     Rides\n",
       "0     Jan  272594.0\n",
       "1     Feb  237510.0\n",
       "2     Mar  292908.0\n",
       "3     Apr  262388.0\n",
       "4     Mai  264908.0\n",
       "5     Jun  376334.0\n",
       "6     Jul  399000.0\n",
       "7     Aug  459802.0\n",
       "8     Sep  430934.0\n",
       "9     Okt  422506.0\n",
       "10    Nov  336476.0\n",
       "11    Dec  309428.0"
      ]
     },
     "execution_count": 118,
     "metadata": {},
     "output_type": "execute_result"
    }
   ],
   "source": [
    "year = pd.DataFrame({'Months':months, 'Rides':rides})\n",
    "year"
   ]
  },
  {
   "cell_type": "code",
   "execution_count": 119,
   "id": "306284ea",
   "metadata": {},
   "outputs": [
    {
     "data": {
      "image/png": "[encoded data removed]",
      "text/plain": [
       "<Figure size 1080x288 with 1 Axes>"
      ]
     },
     "metadata": {
      "needs_background": "light"
     },
     "output_type": "display_data"
    }
   ],
   "source": [
    "fig,ax = plt.subplots(figsize=(15,4))\n",
    "\n",
    "ax.bar(year[\"Months\"], year[\"Rides\"])\n",
    "ax.set_ylabel(\"Number of Rides\")\n",
    "ax.set_title(\"Number of Rides in different months\")\n",
    "\n",
    "plt.show()\n"
   ]
  }
 ],
 "metadata": {
  "kernelspec": {
   "display_name": "Python 3 (ipykernel)",
   "language": "python",
   "name": "python3"
  },
  "language_info": {
   "codemirror_mode": {
    "name": "ipython",
    "version": 3
   },
   "file_extension": ".py",
   "mimetype": "text/x-python",
   "name": "python",
   "nbconvert_exporter": "python",
   "pygments_lexer": "ipython3",
   "version": "3.9.12"
  }
 },
 "nbformat": 4,
 "nbformat_minor": 5
}

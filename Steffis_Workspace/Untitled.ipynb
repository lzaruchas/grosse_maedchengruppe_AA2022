{
 "cells": [
  {
   "cell_type": "code",
   "execution_count": null,
   "id": "275329fa",
   "metadata": {},
   "outputs": [],
   "source": [
    "import pandas\n",
    "df_orig = pandas.read_csv('la_2019.csv')\n",
    "df_orig.head()\n",
    "len(df_orig)"
   ]
  }
 ],
 "metadata": {
  "kernelspec": {
   "display_name": "Python 3 (ipykernel)",
   "language": "python",
   "name": "python3"
  },
  "language_info": {
   "codemirror_mode": {
    "name": "ipython",
    "version": 3
   },
   "file_extension": ".py",
   "mimetype": "text/x-python",
   "name": "python",
   "nbconvert_exporter": "python",
   "pygments_lexer": "ipython3",
   "version": "3.9.12"
  }
 },
 "nbformat": 4,
 "nbformat_minor": 5
}

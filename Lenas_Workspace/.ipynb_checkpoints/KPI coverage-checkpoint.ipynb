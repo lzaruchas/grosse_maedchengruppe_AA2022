{
 "cells": [
  {
   "cell_type": "markdown",
   "id": "2086eb4c",
   "metadata": {},
   "source": [
    "# KPI coverage"
   ]
  },
  {
   "cell_type": "code",
   "execution_count": 1,
   "id": "56285336",
   "metadata": {},
   "outputs": [
    {
     "data": {
      "text/html": [],
      "text/plain": [
       "<IPython.core.display.HTML object>"
      ]
     },
     "metadata": {},
     "output_type": "display_data"
    }
   ],
   "source": [
    "# libraries\n",
    "import pandas as pd\n",
    "pd.options.mode.chained_assignment = None  # default='warn'\n",
    "import numpy as np\n",
    "import matplotlib.pyplot as plt\n",
    "from IPython.display import display, HTML\n",
    "display(HTML(\"\"))\n",
    "import scienceplots\n",
    "plt.style.use(['science', 'no-latex'])\n",
    "import folium\n",
    "from folium import plugins\n",
    "from folium.plugins import HeatMap\n",
    "import itertools"
   ]
  },
  {
   "cell_type": "markdown",
   "id": "6e0af2a6",
   "metadata": {},
   "source": [
    "## Data preparation"
   ]
  },
  {
   "cell_type": "code",
   "execution_count": 2,
   "id": "07477b92",
   "metadata": {},
   "outputs": [],
   "source": [
    "# import data\n",
    "la = pd.read_csv(\"prepared_data.csv\", parse_dates=[\"start_time\",\"end_time\"],low_memory=False)\n",
    "station_df = pd.read_csv(\"station_df.csv\",low_memory=False)"
   ]
  },
  {
   "cell_type": "code",
   "execution_count": 3,
   "id": "8e498886",
   "metadata": {},
   "outputs": [],
   "source": [
    "# adding start station coordinates to dataframe\n",
    "df_1 = la.merge(station_df[['station_name','ziped_coords']], how = 'left', left_on = ['start_station_name'], right_on = ['station_name'])\n",
    "df_1.rename(columns = {'ziped_coords':'start_coords'}, inplace = True)"
   ]
  },
  {
   "cell_type": "code",
   "execution_count": 4,
   "id": "71666353",
   "metadata": {},
   "outputs": [],
   "source": [
    "# adding end station coordinates to dataframe\n",
    "df_2 = df_1.merge(station_df[['station_name','ziped_coords']], how = 'left', left_on = ['end_station_name'], right_on = ['station_name'])\n",
    "df_2.rename(columns = {'ziped_coords':'end_coords'}, inplace = True)"
   ]
  },
  {
   "cell_type": "code",
   "execution_count": 5,
   "id": "18e25871",
   "metadata": {},
   "outputs": [],
   "source": [
    "# cleaning dataframe\n",
    "df = df_2.drop('station_name_x', axis=1)\n",
    "df = df.drop('station_name_y', axis=1)"
   ]
  },
  {
   "cell_type": "code",
   "execution_count": 6,
   "id": "3b2a92ea",
   "metadata": {},
   "outputs": [],
   "source": [
    "# drop unnecessary columns\n",
    "df = df.drop('Unnamed: 0', axis=1)\n"
   ]
  },
  {
   "cell_type": "markdown",
   "id": "b8a9e67f",
   "metadata": {},
   "source": [
    "### Three main areas: City Centre, Beach and North Hollywood"
   ]
  },
  {
   "cell_type": "code",
   "execution_count": 7,
   "id": "fe43d244",
   "metadata": {},
   "outputs": [],
   "source": [
    "# group start stations into three areas\n",
    "conditions = [\n",
    "    (df['start_station_name'] == 'Lankershim & Califa') | (df['start_station_name'] == 'Chandler & Laurel Canyon') | (df['start_station_name'] == 'Chandler & Colfax') | (df['start_station_name'] == 'North Hollywood Station') | (df['start_station_name'] == 'Chandler & Cahuenga') | (df['start_station_name'] == 'Magnolia & Cartwright') | (df['start_station_name'] == 'Magnolia & Clybourn') | (df['start_station_name'] == 'Lankershim & Hesby') | (df['start_station_name'] == 'Lankershim & Vineland') | (df['start_station_name'] == 'Riverside & Cahuenga') | (df['start_station_name'] == 'Mariota & Riverside'),\n",
    "    (df['start_station_name'] == 'Downtown Santa Monica E Line Station') | (df['start_station_name'] == '17th St / SMC E Line Station') | (df['start_station_name'] == 'Ocean Front Walk & Navy') | (df['start_station_name'] == 'Rose & Main') | (df['start_station_name'] == 'Rose & Rennie') | (df['start_station_name'] == 'Rose & 7th') | (df['start_station_name'] == 'California & Lincoln') | (df['start_station_name'] == '7th & Westminster') | (df['start_station_name'] == 'Abbot Kinney & Cadiz') | (df['start_station_name'] == 'Windward & Main') | (df['start_station_name'] == 'Pacific & North Venice') | (df['start_station_name'] == 'Ocean Front Walk & North Venice') | (df['start_station_name'] == 'Venice & Lincoln') | (df['start_station_name'] == 'Washington & Abbot Kinney') | (df['start_station_name'] == 'Venice & Beethoven') | (df['start_station_name'] == 'Venice & Colonial') | (df['start_station_name'] == 'Venice & Inglewood') | (df['start_station_name'] == 'Venice & Sawtelle') | (df['start_station_name'] == 'McLaughlin & Venice') | (df['start_station_name'] == 'Playa Vista Library') | (df['start_station_name'] == 'McConnell & Runway') | (df['start_station_name'] == 'Westlawn & Beatrice') | (df['start_station_name'] == 'Centinela & Lucile') | (df['start_station_name'] == 'Inglewood & Ballona') | (df['start_station_name'] == 'Inglewood & Braddock') | (df['start_station_name'] == 'Culver & Centinela') | (df['start_station_name'] == 'Barrington & National') | (df['start_station_name'] == 'Sepulveda & National') | (df['start_station_name'] == 'Westwood & National') | (df['start_station_name'] == 'Rose & Overland') | (df['start_station_name'] == 'Palms & Motor') | (df['start_station_name'] == 'National & Motor') | (df['start_station_name'] == 'Palms & Kelton') | (df['start_station_name'] == 'Sepulveda & Palms') | (df['start_station_name'] == 'Sepulveda & Charnock') | (df['start_station_name'] == 'Sepulveda & Venice') | (df['start_station_name'] == 'Venice & Glendon') | (df['start_station_name'] == 'Venice & Motor') | (df['start_station_name'] == 'Venice & Hughes') | (df['start_station_name'] == 'Bagley & Venice') | (df['start_station_name'] == 'Durango & Venice')]\n",
    "\n",
    "choices = ['North Hollywood', 'Beach']\n",
    "df['Start Area'] = np.select(conditions, choices, default='City Centre')"
   ]
  },
  {
   "cell_type": "code",
   "execution_count": 8,
   "id": "ab3a86a3",
   "metadata": {},
   "outputs": [],
   "source": [
    "# group end stations into three areas\n",
    "conditions = [\n",
    "    (df['end_station_name'] == 'Lankershim & Califa') | (df['end_station_name'] == 'Chandler & Laurel Canyon') | (df['end_station_name'] == 'Chandler & Colfax') | (df['end_station_name'] == 'North Hollywood Station') | (df['end_station_name'] == 'Chandler & Cahuenga') | (df['end_station_name'] == 'Magnolia & Cartwright') | (df['end_station_name'] == 'Magnolia & Clybourn') | (df['end_station_name'] == 'Lankershim & Hesby') | (df['end_station_name'] == 'Lankershim & Vineland') | (df['end_station_name'] == 'Riverside & Cahuenga') | (df['end_station_name'] == 'Mariota & Riverside'),\n",
    "    (df['end_station_name'] == 'Downtown Santa Monica E Line Station') | (df['end_station_name'] == '17th St / SMC E Line Station') | (df['end_station_name'] == 'Ocean Front Walk & Navy') | (df['end_station_name'] == 'Rose & Main') | (df['end_station_name'] == 'Rose & Rennie') | (df['end_station_name'] == 'Rose & 7th') | (df['end_station_name'] == 'California & Lincoln') | (df['end_station_name'] == '7th & Westminster') | (df['end_station_name'] == 'Abbot Kinney & Cadiz') | (df['end_station_name'] == 'Windward & Main') | (df['end_station_name'] == 'Pacific & North Venice') | (df['end_station_name'] == 'Ocean Front Walk & North Venice') | (df['end_station_name'] == 'Venice & Lincoln') | (df['end_station_name'] == 'Washington & Abbot Kinney') | (df['end_station_name'] == 'Venice & Beethoven') | (df['end_station_name'] == 'Venice & Colonial') | (df['end_station_name'] == 'Venice & Inglewood') | (df['end_station_name'] == 'Venice & Sawtelle') | (df['end_station_name'] == 'McLaughlin & Venice') | (df['end_station_name'] == 'Playa Vista Library') | (df['end_station_name'] == 'McConnell & Runway') | (df['end_station_name'] == 'Westlawn & Beatrice') | (df['end_station_name'] == 'Centinela & Lucile') | (df['end_station_name'] == 'Inglewood & Ballona') | (df['end_station_name'] == 'Inglewood & Braddock') | (df['end_station_name'] == 'Culver & Centinela') | (df['end_station_name'] == 'Barrington & National') | (df['end_station_name'] == 'Sepulveda & National') | (df['end_station_name'] == 'Westwood & National') | (df['end_station_name'] == 'Rose & Overland') | (df['end_station_name'] == 'Palms & Motor') | (df['end_station_name'] == 'National & Motor') | (df['end_station_name'] == 'Palms & Kelton') | (df['end_station_name'] == 'Sepulveda & Palms') | (df['end_station_name'] == 'Sepulveda & Charnock') | (df['end_station_name'] == 'Sepulveda & Venice') | (df['end_station_name'] == 'Venice & Glendon') | (df['end_station_name'] == 'Venice & Motor') | (df['end_station_name'] == 'Venice & Hughes') | (df['end_station_name'] == 'Bagley & Venice') | (df['end_station_name'] == 'Durango & Venice')]\n",
    "\n",
    "choices = ['North Hollywood', 'Beach']\n",
    "df['End Area'] = np.select(conditions, choices, default='City Centre')"
   ]
  },
  {
   "cell_type": "code",
   "execution_count": 9,
   "id": "bfbc03ca",
   "metadata": {},
   "outputs": [],
   "source": [
    "# for map, see figure Clustering"
   ]
  },
  {
   "cell_type": "code",
   "execution_count": 10,
   "id": "368e368e",
   "metadata": {},
   "outputs": [
    {
     "data": {
      "text/plain": [
       "283135"
      ]
     },
     "execution_count": 10,
     "metadata": {},
     "output_type": "execute_result"
    }
   ],
   "source": [
    "len(df)"
   ]
  },
  {
   "cell_type": "code",
   "execution_count": 11,
   "id": "a5bc8616",
   "metadata": {
    "scrolled": true
   },
   "outputs": [],
   "source": [
    "# dropping stations without location data\n",
    "df = df.dropna(axis=0)"
   ]
  },
  {
   "cell_type": "code",
   "execution_count": 12,
   "id": "431c218f",
   "metadata": {
    "scrolled": true
   },
   "outputs": [
    {
     "data": {
      "text/plain": [
       "225407"
      ]
     },
     "execution_count": 12,
     "metadata": {},
     "output_type": "execute_result"
    }
   ],
   "source": [
    "len(df)"
   ]
  },
  {
   "cell_type": "code",
   "execution_count": 13,
   "id": "496c07ec",
   "metadata": {
    "scrolled": true
   },
   "outputs": [
    {
     "data": {
      "text/html": [
       "<div>\n",
       "<style scoped>\n",
       "    .dataframe tbody tr th:only-of-type {\n",
       "        vertical-align: middle;\n",
       "    }\n",
       "\n",
       "    .dataframe tbody tr th {\n",
       "        vertical-align: top;\n",
       "    }\n",
       "\n",
       "    .dataframe thead th {\n",
       "        text-align: right;\n",
       "    }\n",
       "</style>\n",
       "<table border=\"1\" class=\"dataframe\">\n",
       "  <thead>\n",
       "    <tr style=\"text-align: right;\">\n",
       "      <th></th>\n",
       "      <th>start_time</th>\n",
       "      <th>end_time</th>\n",
       "      <th>start_station_id</th>\n",
       "      <th>end_station_id</th>\n",
       "      <th>bike_id</th>\n",
       "      <th>user_type</th>\n",
       "      <th>start_station_name</th>\n",
       "      <th>end_station_name</th>\n",
       "      <th>duration</th>\n",
       "      <th>date</th>\n",
       "      <th>month</th>\n",
       "      <th>weekday</th>\n",
       "      <th>day</th>\n",
       "      <th>hour</th>\n",
       "      <th>start_coords</th>\n",
       "      <th>end_coords</th>\n",
       "      <th>Start Area</th>\n",
       "      <th>End Area</th>\n",
       "    </tr>\n",
       "  </thead>\n",
       "  <tbody>\n",
       "    <tr>\n",
       "      <th>2</th>\n",
       "      <td>2019-01-01 00:18:00</td>\n",
       "      <td>2019-01-01 00:50:00</td>\n",
       "      <td>3030</td>\n",
       "      <td>3075</td>\n",
       "      <td>05992</td>\n",
       "      <td>Walk-up</td>\n",
       "      <td>Main &amp; 1st</td>\n",
       "      <td>Broadway &amp; 9th</td>\n",
       "      <td>32.0</td>\n",
       "      <td>2019-01-01</td>\n",
       "      <td>1</td>\n",
       "      <td>1</td>\n",
       "      <td>1</td>\n",
       "      <td>0</td>\n",
       "      <td>(34.05194, -118.24353)</td>\n",
       "      <td>(34.04211, -118.25619)</td>\n",
       "      <td>City Centre</td>\n",
       "      <td>City Centre</td>\n",
       "    </tr>\n",
       "    <tr>\n",
       "      <th>3</th>\n",
       "      <td>2019-01-01 00:20:00</td>\n",
       "      <td>2019-01-01 00:50:00</td>\n",
       "      <td>3030</td>\n",
       "      <td>3075</td>\n",
       "      <td>05860</td>\n",
       "      <td>Walk-up</td>\n",
       "      <td>Main &amp; 1st</td>\n",
       "      <td>Broadway &amp; 9th</td>\n",
       "      <td>30.0</td>\n",
       "      <td>2019-01-01</td>\n",
       "      <td>1</td>\n",
       "      <td>1</td>\n",
       "      <td>1</td>\n",
       "      <td>0</td>\n",
       "      <td>(34.05194, -118.24353)</td>\n",
       "      <td>(34.04211, -118.25619)</td>\n",
       "      <td>City Centre</td>\n",
       "      <td>City Centre</td>\n",
       "    </tr>\n",
       "    <tr>\n",
       "      <th>4</th>\n",
       "      <td>2019-01-01 00:22:00</td>\n",
       "      <td>2019-01-01 00:50:00</td>\n",
       "      <td>3030</td>\n",
       "      <td>3075</td>\n",
       "      <td>06006</td>\n",
       "      <td>Walk-up</td>\n",
       "      <td>Main &amp; 1st</td>\n",
       "      <td>Broadway &amp; 9th</td>\n",
       "      <td>28.0</td>\n",
       "      <td>2019-01-01</td>\n",
       "      <td>1</td>\n",
       "      <td>1</td>\n",
       "      <td>1</td>\n",
       "      <td>0</td>\n",
       "      <td>(34.05194, -118.24353)</td>\n",
       "      <td>(34.04211, -118.25619)</td>\n",
       "      <td>City Centre</td>\n",
       "      <td>City Centre</td>\n",
       "    </tr>\n",
       "  </tbody>\n",
       "</table>\n",
       "</div>"
      ],
      "text/plain": [
       "           start_time            end_time  start_station_id  end_station_id  \\\n",
       "2 2019-01-01 00:18:00 2019-01-01 00:50:00              3030            3075   \n",
       "3 2019-01-01 00:20:00 2019-01-01 00:50:00              3030            3075   \n",
       "4 2019-01-01 00:22:00 2019-01-01 00:50:00              3030            3075   \n",
       "\n",
       "  bike_id user_type start_station_name end_station_name  duration        date  \\\n",
       "2   05992   Walk-up         Main & 1st   Broadway & 9th      32.0  2019-01-01   \n",
       "3   05860   Walk-up         Main & 1st   Broadway & 9th      30.0  2019-01-01   \n",
       "4   06006   Walk-up         Main & 1st   Broadway & 9th      28.0  2019-01-01   \n",
       "\n",
       "   month  weekday  day  hour            start_coords              end_coords  \\\n",
       "2      1        1    1     0  (34.05194, -118.24353)  (34.04211, -118.25619)   \n",
       "3      1        1    1     0  (34.05194, -118.24353)  (34.04211, -118.25619)   \n",
       "4      1        1    1     0  (34.05194, -118.24353)  (34.04211, -118.25619)   \n",
       "\n",
       "    Start Area     End Area  \n",
       "2  City Centre  City Centre  \n",
       "3  City Centre  City Centre  \n",
       "4  City Centre  City Centre  "
      ]
     },
     "execution_count": 13,
     "metadata": {},
     "output_type": "execute_result"
    }
   ],
   "source": [
    "df.head(3)"
   ]
  },
  {
   "cell_type": "markdown",
   "id": "ccf58d2c",
   "metadata": {},
   "source": [
    "### Considering only rides between different areas"
   ]
  },
  {
   "cell_type": "code",
   "execution_count": 14,
   "id": "ce210800",
   "metadata": {
    "scrolled": true
   },
   "outputs": [],
   "source": [
    "# delete all rows with same Start and End Area\n",
    "df_areas = df[df['Start Area'] != df['End Area']]"
   ]
  },
  {
   "cell_type": "code",
   "execution_count": 15,
   "id": "e36b95f9",
   "metadata": {
    "scrolled": false
   },
   "outputs": [
    {
     "data": {
      "text/html": [
       "<div>\n",
       "<style scoped>\n",
       "    .dataframe tbody tr th:only-of-type {\n",
       "        vertical-align: middle;\n",
       "    }\n",
       "\n",
       "    .dataframe tbody tr th {\n",
       "        vertical-align: top;\n",
       "    }\n",
       "\n",
       "    .dataframe thead th {\n",
       "        text-align: right;\n",
       "    }\n",
       "</style>\n",
       "<table border=\"1\" class=\"dataframe\">\n",
       "  <thead>\n",
       "    <tr style=\"text-align: right;\">\n",
       "      <th></th>\n",
       "      <th></th>\n",
       "      <th></th>\n",
       "      <th></th>\n",
       "      <th>start_time</th>\n",
       "      <th>end_time</th>\n",
       "      <th>start_station_id</th>\n",
       "      <th>end_station_id</th>\n",
       "      <th>bike_id</th>\n",
       "      <th>user_type</th>\n",
       "      <th>start_station_name</th>\n",
       "      <th>end_station_name</th>\n",
       "      <th>duration</th>\n",
       "      <th>month</th>\n",
       "      <th>weekday</th>\n",
       "      <th>day</th>\n",
       "      <th>start_coords</th>\n",
       "      <th>end_coords</th>\n",
       "      <th>Number of rides</th>\n",
       "    </tr>\n",
       "    <tr>\n",
       "      <th>date</th>\n",
       "      <th>hour</th>\n",
       "      <th>Start Area</th>\n",
       "      <th>End Area</th>\n",
       "      <th></th>\n",
       "      <th></th>\n",
       "      <th></th>\n",
       "      <th></th>\n",
       "      <th></th>\n",
       "      <th></th>\n",
       "      <th></th>\n",
       "      <th></th>\n",
       "      <th></th>\n",
       "      <th></th>\n",
       "      <th></th>\n",
       "      <th></th>\n",
       "      <th></th>\n",
       "      <th></th>\n",
       "      <th></th>\n",
       "    </tr>\n",
       "  </thead>\n",
       "  <tbody>\n",
       "    <tr>\n",
       "      <th>2019-01-01</th>\n",
       "      <th>14</th>\n",
       "      <th>City Centre</th>\n",
       "      <th>Beach</th>\n",
       "      <td>1</td>\n",
       "      <td>1</td>\n",
       "      <td>1</td>\n",
       "      <td>1</td>\n",
       "      <td>1</td>\n",
       "      <td>1</td>\n",
       "      <td>1</td>\n",
       "      <td>1</td>\n",
       "      <td>1</td>\n",
       "      <td>1</td>\n",
       "      <td>1</td>\n",
       "      <td>1</td>\n",
       "      <td>1</td>\n",
       "      <td>1</td>\n",
       "      <td>1</td>\n",
       "    </tr>\n",
       "    <tr>\n",
       "      <th>2019-01-02</th>\n",
       "      <th>21</th>\n",
       "      <th>Beach</th>\n",
       "      <th>City Centre</th>\n",
       "      <td>1</td>\n",
       "      <td>1</td>\n",
       "      <td>1</td>\n",
       "      <td>1</td>\n",
       "      <td>1</td>\n",
       "      <td>1</td>\n",
       "      <td>1</td>\n",
       "      <td>1</td>\n",
       "      <td>1</td>\n",
       "      <td>1</td>\n",
       "      <td>1</td>\n",
       "      <td>1</td>\n",
       "      <td>1</td>\n",
       "      <td>1</td>\n",
       "      <td>1</td>\n",
       "    </tr>\n",
       "    <tr>\n",
       "      <th rowspan=\"3\" valign=\"top\">2019-01-03</th>\n",
       "      <th>10</th>\n",
       "      <th>City Centre</th>\n",
       "      <th>Beach</th>\n",
       "      <td>2</td>\n",
       "      <td>2</td>\n",
       "      <td>2</td>\n",
       "      <td>2</td>\n",
       "      <td>2</td>\n",
       "      <td>2</td>\n",
       "      <td>2</td>\n",
       "      <td>2</td>\n",
       "      <td>2</td>\n",
       "      <td>2</td>\n",
       "      <td>2</td>\n",
       "      <td>2</td>\n",
       "      <td>2</td>\n",
       "      <td>2</td>\n",
       "      <td>2</td>\n",
       "    </tr>\n",
       "    <tr>\n",
       "      <th>15</th>\n",
       "      <th>Beach</th>\n",
       "      <th>City Centre</th>\n",
       "      <td>1</td>\n",
       "      <td>1</td>\n",
       "      <td>1</td>\n",
       "      <td>1</td>\n",
       "      <td>1</td>\n",
       "      <td>1</td>\n",
       "      <td>1</td>\n",
       "      <td>1</td>\n",
       "      <td>1</td>\n",
       "      <td>1</td>\n",
       "      <td>1</td>\n",
       "      <td>1</td>\n",
       "      <td>1</td>\n",
       "      <td>1</td>\n",
       "      <td>1</td>\n",
       "    </tr>\n",
       "    <tr>\n",
       "      <th>20</th>\n",
       "      <th>City Centre</th>\n",
       "      <th>Beach</th>\n",
       "      <td>2</td>\n",
       "      <td>2</td>\n",
       "      <td>2</td>\n",
       "      <td>2</td>\n",
       "      <td>2</td>\n",
       "      <td>2</td>\n",
       "      <td>2</td>\n",
       "      <td>2</td>\n",
       "      <td>2</td>\n",
       "      <td>2</td>\n",
       "      <td>2</td>\n",
       "      <td>2</td>\n",
       "      <td>2</td>\n",
       "      <td>2</td>\n",
       "      <td>2</td>\n",
       "    </tr>\n",
       "  </tbody>\n",
       "</table>\n",
       "</div>"
      ],
      "text/plain": [
       "                                         start_time  end_time  \\\n",
       "date       hour Start Area  End Area                            \n",
       "2019-01-01 14   City Centre Beach                 1         1   \n",
       "2019-01-02 21   Beach       City Centre           1         1   \n",
       "2019-01-03 10   City Centre Beach                 2         2   \n",
       "           15   Beach       City Centre           1         1   \n",
       "           20   City Centre Beach                 2         2   \n",
       "\n",
       "                                         start_station_id  end_station_id  \\\n",
       "date       hour Start Area  End Area                                        \n",
       "2019-01-01 14   City Centre Beach                       1               1   \n",
       "2019-01-02 21   Beach       City Centre                 1               1   \n",
       "2019-01-03 10   City Centre Beach                       2               2   \n",
       "           15   Beach       City Centre                 1               1   \n",
       "           20   City Centre Beach                       2               2   \n",
       "\n",
       "                                         bike_id  user_type  \\\n",
       "date       hour Start Area  End Area                          \n",
       "2019-01-01 14   City Centre Beach              1          1   \n",
       "2019-01-02 21   Beach       City Centre        1          1   \n",
       "2019-01-03 10   City Centre Beach              2          2   \n",
       "           15   Beach       City Centre        1          1   \n",
       "           20   City Centre Beach              2          2   \n",
       "\n",
       "                                         start_station_name  end_station_name  \\\n",
       "date       hour Start Area  End Area                                            \n",
       "2019-01-01 14   City Centre Beach                         1                 1   \n",
       "2019-01-02 21   Beach       City Centre                   1                 1   \n",
       "2019-01-03 10   City Centre Beach                         2                 2   \n",
       "           15   Beach       City Centre                   1                 1   \n",
       "           20   City Centre Beach                         2                 2   \n",
       "\n",
       "                                         duration  month  weekday  day  \\\n",
       "date       hour Start Area  End Area                                     \n",
       "2019-01-01 14   City Centre Beach               1      1        1    1   \n",
       "2019-01-02 21   Beach       City Centre         1      1        1    1   \n",
       "2019-01-03 10   City Centre Beach               2      2        2    2   \n",
       "           15   Beach       City Centre         1      1        1    1   \n",
       "           20   City Centre Beach               2      2        2    2   \n",
       "\n",
       "                                         start_coords  end_coords  \\\n",
       "date       hour Start Area  End Area                                \n",
       "2019-01-01 14   City Centre Beach                   1           1   \n",
       "2019-01-02 21   Beach       City Centre             1           1   \n",
       "2019-01-03 10   City Centre Beach                   2           2   \n",
       "           15   Beach       City Centre             1           1   \n",
       "           20   City Centre Beach                   2           2   \n",
       "\n",
       "                                         Number of rides  \n",
       "date       hour Start Area  End Area                      \n",
       "2019-01-01 14   City Centre Beach                      1  \n",
       "2019-01-02 21   Beach       City Centre                1  \n",
       "2019-01-03 10   City Centre Beach                      2  \n",
       "           15   Beach       City Centre                1  \n",
       "           20   City Centre Beach                      2  "
      ]
     },
     "execution_count": 15,
     "metadata": {},
     "output_type": "execute_result"
    }
   ],
   "source": [
    "# count rides per route and hour\n",
    "df_hourly = df_areas.groupby([\"date\", \"hour\", \"Start Area\", \"End Area\"]).count()\n",
    "df_hourly['Number of rides']=df_hourly['bike_id']\n",
    "df_hourly.head()"
   ]
  },
  {
   "cell_type": "code",
   "execution_count": 16,
   "id": "9505b8f1",
   "metadata": {},
   "outputs": [
    {
     "data": {
      "text/html": [
       "<div>\n",
       "<style scoped>\n",
       "    .dataframe tbody tr th:only-of-type {\n",
       "        vertical-align: middle;\n",
       "    }\n",
       "\n",
       "    .dataframe tbody tr th {\n",
       "        vertical-align: top;\n",
       "    }\n",
       "\n",
       "    .dataframe thead th {\n",
       "        text-align: right;\n",
       "    }\n",
       "</style>\n",
       "<table border=\"1\" class=\"dataframe\">\n",
       "  <thead>\n",
       "    <tr style=\"text-align: right;\">\n",
       "      <th></th>\n",
       "      <th>start_time</th>\n",
       "      <th>end_time</th>\n",
       "      <th>start_station_id</th>\n",
       "      <th>end_station_id</th>\n",
       "      <th>bike_id</th>\n",
       "      <th>user_type</th>\n",
       "      <th>start_station_name</th>\n",
       "      <th>end_station_name</th>\n",
       "      <th>duration</th>\n",
       "      <th>date</th>\n",
       "      <th>month</th>\n",
       "      <th>weekday</th>\n",
       "      <th>day</th>\n",
       "      <th>hour</th>\n",
       "      <th>start_coords</th>\n",
       "      <th>end_coords</th>\n",
       "      <th>Start Area</th>\n",
       "      <th>End Area</th>\n",
       "      <th>Number of rides</th>\n",
       "    </tr>\n",
       "  </thead>\n",
       "  <tbody>\n",
       "    <tr>\n",
       "      <th>0</th>\n",
       "      <td>2019-01-01 14:01:00</td>\n",
       "      <td>2019-01-01 17:05:00</td>\n",
       "      <td>3066</td>\n",
       "      <td>4215</td>\n",
       "      <td>06504</td>\n",
       "      <td>Walk-up</td>\n",
       "      <td>Spring &amp; College</td>\n",
       "      <td>Downtown Santa Monica E Line Station</td>\n",
       "      <td>184.0</td>\n",
       "      <td>2019-01-01</td>\n",
       "      <td>1</td>\n",
       "      <td>1</td>\n",
       "      <td>1</td>\n",
       "      <td>14</td>\n",
       "      <td>(34.06339, -118.23616)</td>\n",
       "      <td>(34.01431, -118.49134)</td>\n",
       "      <td>City Centre</td>\n",
       "      <td>Beach</td>\n",
       "      <td>1</td>\n",
       "    </tr>\n",
       "    <tr>\n",
       "      <th>1</th>\n",
       "      <td>2019-01-02 21:32:00</td>\n",
       "      <td>2019-01-03 08:59:00</td>\n",
       "      <td>4215</td>\n",
       "      <td>4246</td>\n",
       "      <td>06238</td>\n",
       "      <td>Walk-up</td>\n",
       "      <td>Downtown Santa Monica E Line Station</td>\n",
       "      <td>32nd &amp; Figueroa</td>\n",
       "      <td>687.0</td>\n",
       "      <td>2019-01-02</td>\n",
       "      <td>1</td>\n",
       "      <td>2</td>\n",
       "      <td>2</td>\n",
       "      <td>21</td>\n",
       "      <td>(34.01431, -118.49134)</td>\n",
       "      <td>(34.02371, -118.27917)</td>\n",
       "      <td>Beach</td>\n",
       "      <td>City Centre</td>\n",
       "      <td>1</td>\n",
       "    </tr>\n",
       "    <tr>\n",
       "      <th>2</th>\n",
       "      <td>2019-01-03 10:39:00</td>\n",
       "      <td>2019-01-03 15:56:00</td>\n",
       "      <td>3069</td>\n",
       "      <td>4216</td>\n",
       "      <td>06287</td>\n",
       "      <td>Walk-up</td>\n",
       "      <td>Broadway &amp; 3rd</td>\n",
       "      <td>17th St / SMC E Line Station</td>\n",
       "      <td>317.0</td>\n",
       "      <td>2019-01-03</td>\n",
       "      <td>1</td>\n",
       "      <td>3</td>\n",
       "      <td>3</td>\n",
       "      <td>10</td>\n",
       "      <td>(34.05088, -118.24825)</td>\n",
       "      <td>(34.02339, -118.47964)</td>\n",
       "      <td>City Centre</td>\n",
       "      <td>Beach</td>\n",
       "      <td>2</td>\n",
       "    </tr>\n",
       "    <tr>\n",
       "      <th>3</th>\n",
       "      <td>2019-01-03 10:40:00</td>\n",
       "      <td>2019-01-03 15:56:00</td>\n",
       "      <td>3069</td>\n",
       "      <td>4216</td>\n",
       "      <td>06552</td>\n",
       "      <td>Walk-up</td>\n",
       "      <td>Broadway &amp; 3rd</td>\n",
       "      <td>17th St / SMC E Line Station</td>\n",
       "      <td>316.0</td>\n",
       "      <td>2019-01-03</td>\n",
       "      <td>1</td>\n",
       "      <td>3</td>\n",
       "      <td>3</td>\n",
       "      <td>10</td>\n",
       "      <td>(34.05088, -118.24825)</td>\n",
       "      <td>(34.02339, -118.47964)</td>\n",
       "      <td>City Centre</td>\n",
       "      <td>Beach</td>\n",
       "      <td>2</td>\n",
       "    </tr>\n",
       "    <tr>\n",
       "      <th>4</th>\n",
       "      <td>2019-01-03 15:49:00</td>\n",
       "      <td>2019-01-03 17:54:00</td>\n",
       "      <td>4210</td>\n",
       "      <td>3074</td>\n",
       "      <td>05825</td>\n",
       "      <td>One Day Pass</td>\n",
       "      <td>Ocean Front Walk &amp; North Venice</td>\n",
       "      <td>Hope &amp; Olympic</td>\n",
       "      <td>125.0</td>\n",
       "      <td>2019-01-03</td>\n",
       "      <td>1</td>\n",
       "      <td>3</td>\n",
       "      <td>3</td>\n",
       "      <td>15</td>\n",
       "      <td>(33.98434, -118.47155)</td>\n",
       "      <td>(34.04417, -118.26117)</td>\n",
       "      <td>Beach</td>\n",
       "      <td>City Centre</td>\n",
       "      <td>1</td>\n",
       "    </tr>\n",
       "  </tbody>\n",
       "</table>\n",
       "</div>"
      ],
      "text/plain": [
       "           start_time            end_time  start_station_id  end_station_id  \\\n",
       "0 2019-01-01 14:01:00 2019-01-01 17:05:00              3066            4215   \n",
       "1 2019-01-02 21:32:00 2019-01-03 08:59:00              4215            4246   \n",
       "2 2019-01-03 10:39:00 2019-01-03 15:56:00              3069            4216   \n",
       "3 2019-01-03 10:40:00 2019-01-03 15:56:00              3069            4216   \n",
       "4 2019-01-03 15:49:00 2019-01-03 17:54:00              4210            3074   \n",
       "\n",
       "  bike_id     user_type                    start_station_name  \\\n",
       "0   06504       Walk-up                      Spring & College   \n",
       "1   06238       Walk-up  Downtown Santa Monica E Line Station   \n",
       "2   06287       Walk-up                        Broadway & 3rd   \n",
       "3   06552       Walk-up                        Broadway & 3rd   \n",
       "4   05825  One Day Pass       Ocean Front Walk & North Venice   \n",
       "\n",
       "                       end_station_name  duration        date  month  weekday  \\\n",
       "0  Downtown Santa Monica E Line Station     184.0  2019-01-01      1        1   \n",
       "1                       32nd & Figueroa     687.0  2019-01-02      1        2   \n",
       "2          17th St / SMC E Line Station     317.0  2019-01-03      1        3   \n",
       "3          17th St / SMC E Line Station     316.0  2019-01-03      1        3   \n",
       "4                        Hope & Olympic     125.0  2019-01-03      1        3   \n",
       "\n",
       "   day  hour            start_coords              end_coords   Start Area  \\\n",
       "0    1    14  (34.06339, -118.23616)  (34.01431, -118.49134)  City Centre   \n",
       "1    2    21  (34.01431, -118.49134)  (34.02371, -118.27917)        Beach   \n",
       "2    3    10  (34.05088, -118.24825)  (34.02339, -118.47964)  City Centre   \n",
       "3    3    10  (34.05088, -118.24825)  (34.02339, -118.47964)  City Centre   \n",
       "4    3    15  (33.98434, -118.47155)  (34.04417, -118.26117)        Beach   \n",
       "\n",
       "      End Area  Number of rides  \n",
       "0        Beach                1  \n",
       "1  City Centre                1  \n",
       "2        Beach                2  \n",
       "3        Beach                2  \n",
       "4  City Centre                1  "
      ]
     },
     "execution_count": 16,
     "metadata": {},
     "output_type": "execute_result"
    }
   ],
   "source": [
    "# merge dataframes\n",
    "df_areas_hourly = df_areas.merge(df_hourly[['Number of rides']], how = 'left', left_on = ['Start Area', 'End Area', 'date', 'hour'], right_on = ['Start Area', 'End Area', 'date', 'hour'])\n",
    "df_areas_hourly.head()\n"
   ]
  },
  {
   "cell_type": "code",
   "execution_count": 17,
   "id": "2abb101e",
   "metadata": {},
   "outputs": [
    {
     "data": {
      "text/html": [
       "<div>\n",
       "<style scoped>\n",
       "    .dataframe tbody tr th:only-of-type {\n",
       "        vertical-align: middle;\n",
       "    }\n",
       "\n",
       "    .dataframe tbody tr th {\n",
       "        vertical-align: top;\n",
       "    }\n",
       "\n",
       "    .dataframe thead th {\n",
       "        text-align: right;\n",
       "    }\n",
       "</style>\n",
       "<table border=\"1\" class=\"dataframe\">\n",
       "  <thead>\n",
       "    <tr style=\"text-align: right;\">\n",
       "      <th></th>\n",
       "      <th>date</th>\n",
       "      <th>hour</th>\n",
       "      <th>Start Area</th>\n",
       "      <th>End Area</th>\n",
       "      <th>Number of rides</th>\n",
       "    </tr>\n",
       "  </thead>\n",
       "  <tbody>\n",
       "    <tr>\n",
       "      <th>0</th>\n",
       "      <td>2019-01-01</td>\n",
       "      <td>14</td>\n",
       "      <td>City Centre</td>\n",
       "      <td>Beach</td>\n",
       "      <td>1</td>\n",
       "    </tr>\n",
       "    <tr>\n",
       "      <th>1</th>\n",
       "      <td>2019-01-02</td>\n",
       "      <td>21</td>\n",
       "      <td>Beach</td>\n",
       "      <td>City Centre</td>\n",
       "      <td>1</td>\n",
       "    </tr>\n",
       "    <tr>\n",
       "      <th>2</th>\n",
       "      <td>2019-01-03</td>\n",
       "      <td>10</td>\n",
       "      <td>City Centre</td>\n",
       "      <td>Beach</td>\n",
       "      <td>2</td>\n",
       "    </tr>\n",
       "    <tr>\n",
       "      <th>3</th>\n",
       "      <td>2019-01-03</td>\n",
       "      <td>15</td>\n",
       "      <td>Beach</td>\n",
       "      <td>City Centre</td>\n",
       "      <td>1</td>\n",
       "    </tr>\n",
       "    <tr>\n",
       "      <th>4</th>\n",
       "      <td>2019-01-03</td>\n",
       "      <td>20</td>\n",
       "      <td>City Centre</td>\n",
       "      <td>Beach</td>\n",
       "      <td>2</td>\n",
       "    </tr>\n",
       "  </tbody>\n",
       "</table>\n",
       "</div>"
      ],
      "text/plain": [
       "         date  hour   Start Area     End Area  Number of rides\n",
       "0  2019-01-01    14  City Centre        Beach                1\n",
       "1  2019-01-02    21        Beach  City Centre                1\n",
       "2  2019-01-03    10  City Centre        Beach                2\n",
       "3  2019-01-03    15        Beach  City Centre                1\n",
       "4  2019-01-03    20  City Centre        Beach                2"
      ]
     },
     "execution_count": 17,
     "metadata": {},
     "output_type": "execute_result"
    }
   ],
   "source": [
    "newdf = df_areas_hourly.drop_duplicates(\n",
    "  subset = ['date', 'hour', 'Start Area', 'End Area'],\n",
    "  keep = 'last').reset_index(drop = True)\n",
    "\n",
    "newdf = newdf[['date', 'hour', 'Start Area', 'End Area','Number of rides']]\n",
    "\n",
    "newdf.head()"
   ]
  },
  {
   "cell_type": "markdown",
   "id": "2b9d58a1",
   "metadata": {},
   "source": [
    "# Total number of Rides between and within the areas"
   ]
  },
  {
   "cell_type": "code",
   "execution_count": 18,
   "id": "77d23e58",
   "metadata": {},
   "outputs": [
    {
     "data": {
      "text/html": [
       "<div>\n",
       "<style scoped>\n",
       "    .dataframe tbody tr th:only-of-type {\n",
       "        vertical-align: middle;\n",
       "    }\n",
       "\n",
       "    .dataframe tbody tr th {\n",
       "        vertical-align: top;\n",
       "    }\n",
       "\n",
       "    .dataframe thead th {\n",
       "        text-align: right;\n",
       "    }\n",
       "</style>\n",
       "<table border=\"1\" class=\"dataframe\">\n",
       "  <thead>\n",
       "    <tr style=\"text-align: right;\">\n",
       "      <th></th>\n",
       "      <th>Routes</th>\n",
       "      <th>Count</th>\n",
       "    </tr>\n",
       "  </thead>\n",
       "  <tbody>\n",
       "    <tr>\n",
       "      <th>0</th>\n",
       "      <td>Beach to Beach</td>\n",
       "      <td>21272</td>\n",
       "    </tr>\n",
       "    <tr>\n",
       "      <th>1</th>\n",
       "      <td>Beach to North Hollywood</td>\n",
       "      <td>1</td>\n",
       "    </tr>\n",
       "    <tr>\n",
       "      <th>2</th>\n",
       "      <td>Beach to City Centre</td>\n",
       "      <td>28</td>\n",
       "    </tr>\n",
       "    <tr>\n",
       "      <th>3</th>\n",
       "      <td>City Centre to City Centre</td>\n",
       "      <td>202454</td>\n",
       "    </tr>\n",
       "    <tr>\n",
       "      <th>4</th>\n",
       "      <td>City Centre to Beach</td>\n",
       "      <td>35</td>\n",
       "    </tr>\n",
       "    <tr>\n",
       "      <th>5</th>\n",
       "      <td>City Centre to North Hollywood</td>\n",
       "      <td>0</td>\n",
       "    </tr>\n",
       "    <tr>\n",
       "      <th>6</th>\n",
       "      <td>North Hollywood to North Hollywood</td>\n",
       "      <td>1616</td>\n",
       "    </tr>\n",
       "    <tr>\n",
       "      <th>7</th>\n",
       "      <td>North Hollywood to Beach</td>\n",
       "      <td>1</td>\n",
       "    </tr>\n",
       "    <tr>\n",
       "      <th>8</th>\n",
       "      <td>North Hollywood to City Centre</td>\n",
       "      <td>0</td>\n",
       "    </tr>\n",
       "  </tbody>\n",
       "</table>\n",
       "</div>"
      ],
      "text/plain": [
       "                               Routes   Count\n",
       "0                      Beach to Beach   21272\n",
       "1            Beach to North Hollywood       1\n",
       "2                Beach to City Centre      28\n",
       "3          City Centre to City Centre  202454\n",
       "4                City Centre to Beach      35\n",
       "5      City Centre to North Hollywood       0\n",
       "6  North Hollywood to North Hollywood    1616\n",
       "7            North Hollywood to Beach       1\n",
       "8      North Hollywood to City Centre       0"
      ]
     },
     "execution_count": 18,
     "metadata": {},
     "output_type": "execute_result"
    }
   ],
   "source": [
    "raw_data = {'Routes': ['Beach to Beach', 'Beach to North Hollywood', 'Beach to City Centre', 'City Centre to City Centre', 'City Centre to Beach', 'City Centre to North Hollywood', 'North Hollywood to North Hollywood', 'North Hollywood to Beach', 'North Hollywood to City Centre'],\n",
    "                'Count': [len(df[(df['Start Area']=='Beach') & (df['End Area']=='Beach')]), len(df[(df['Start Area']=='Beach') & (df['End Area']=='North Hollywood')]), len(df[(df['Start Area']=='Beach') & (df['End Area']=='City Centre')]), len(df[(df['Start Area']=='City Centre') & (df['End Area']=='City Centre')]),len(df[(df['Start Area']=='City Centre') & (df['End Area']=='Beach')]), len(df[(df['Start Area']=='City Centre') & (df['End Area']=='North Hollywood')]),len(df[(df['Start Area']=='North Hollywood') & (df['End Area']=='North Hollywood')]), len(df[(df['Start Area']=='North Hollywood') & (df['End Area']=='Beach')]), len(df[(df['Start Area']=='North Hollywood') & (df['End Area']=='City Centre')]) ]\n",
    "                }\n",
    "\n",
    "df_routes = pd.DataFrame(raw_data, columns = ['Routes', 'Count'])\n",
    "df_routes"
   ]
  },
  {
   "cell_type": "markdown",
   "id": "92611a2b",
   "metadata": {},
   "source": [
    "# Total number of bikes coming in and accordingly leaving an area"
   ]
  },
  {
   "cell_type": "code",
   "execution_count": 19,
   "id": "94037e3c",
   "metadata": {},
   "outputs": [
    {
     "data": {
      "text/html": [
       "<div>\n",
       "<style scoped>\n",
       "    .dataframe tbody tr th:only-of-type {\n",
       "        vertical-align: middle;\n",
       "    }\n",
       "\n",
       "    .dataframe tbody tr th {\n",
       "        vertical-align: top;\n",
       "    }\n",
       "\n",
       "    .dataframe thead th {\n",
       "        text-align: right;\n",
       "    }\n",
       "</style>\n",
       "<table border=\"1\" class=\"dataframe\">\n",
       "  <thead>\n",
       "    <tr style=\"text-align: right;\">\n",
       "      <th></th>\n",
       "      <th>Area</th>\n",
       "      <th>bikes out</th>\n",
       "      <th>bikes in</th>\n",
       "    </tr>\n",
       "  </thead>\n",
       "  <tbody>\n",
       "    <tr>\n",
       "      <th>0</th>\n",
       "      <td>Beach</td>\n",
       "      <td>29</td>\n",
       "      <td>36</td>\n",
       "    </tr>\n",
       "    <tr>\n",
       "      <th>1</th>\n",
       "      <td>City Centre</td>\n",
       "      <td>35</td>\n",
       "      <td>28</td>\n",
       "    </tr>\n",
       "    <tr>\n",
       "      <th>2</th>\n",
       "      <td>North Hollywood</td>\n",
       "      <td>1</td>\n",
       "      <td>1</td>\n",
       "    </tr>\n",
       "  </tbody>\n",
       "</table>\n",
       "</div>"
      ],
      "text/plain": [
       "              Area  bikes out  bikes in\n",
       "0            Beach         29        36\n",
       "1      City Centre         35        28\n",
       "2  North Hollywood          1         1"
      ]
     },
     "execution_count": 19,
     "metadata": {},
     "output_type": "execute_result"
    }
   ],
   "source": [
    "data = {'Area': ['Beach', 'City Centre', 'North Hollywood'],\n",
    "                'bikes out': [len(df[(df['Start Area']=='Beach') & (df['End Area'] != 'Beach')]), len(df[(df['Start Area']=='City Centre') & (df['End Area']!='City Centre')]), len(df[(df['Start Area']=='North Hollywood') & (df['End Area']!='North Hollywood')]) ],\n",
    "                'bikes in': [len(df[(df['Start Area']!='Beach') & (df['End Area']=='Beach')]), len(df[(df['Start Area']!='City Centre') & (df['End Area']=='City Centre')]), len(df[(df['Start Area']!='North Hollywood') & (df['End Area']=='North Hollywood')]) ]\n",
    "           }\n",
    "\n",
    "df_coverage = pd.DataFrame(data, columns = ['Area', 'bikes out', 'bikes in'])\n",
    "df_coverage"
   ]
  },
  {
   "cell_type": "code",
   "execution_count": 20,
   "id": "b57a471a",
   "metadata": {},
   "outputs": [
    {
     "data": {
      "image/png": "[encoded data removed]",
      "text/plain": [
       "<Figure size 720x288 with 1 Axes>"
      ]
     },
     "metadata": {
      "needs_background": "light"
     },
     "output_type": "display_data"
    }
   ],
   "source": [
    "df_coverage.plot.bar(x='Area',\n",
    "                        rot=0,\n",
    "                        figsize=(10,4),\n",
    "                        title='Total number of bikes in vs. bikes out',\n",
    "                        xlabel='Area',\n",
    "                        ylabel='Number of bikes',\n",
    "                        fontsize='large')\n",
    "plt.savefig(\"Total number in vs. out.png\")\n",
    "\n"
   ]
  },
  {
   "cell_type": "markdown",
   "id": "9a8debd0",
   "metadata": {},
   "source": [
    "## Hourly number of bikes coming in and accordingly leaving an area"
   ]
  },
  {
   "cell_type": "code",
   "execution_count": 21,
   "id": "918dd96c",
   "metadata": {},
   "outputs": [],
   "source": [
    "# seperate dataframe into three (one for each area)\n",
    "df_beach = newdf[(newdf['Start Area'] == \"Beach\") | (newdf['End Area'] == \"Beach\")]\n",
    "df_hollywood = newdf[(newdf['Start Area'] == \"North Hollywood\") | (newdf['End Area'] == \"North Hollywood\")]\n",
    "df_city = newdf[(newdf['Start Area'] == \"City Centre\") | (newdf['End Area'] == \"City Centre\")]"
   ]
  },
  {
   "cell_type": "code",
   "execution_count": 22,
   "id": "725890c1",
   "metadata": {
    "scrolled": true
   },
   "outputs": [],
   "source": [
    "# creating basis dataframe per hour\n",
    "begin_date = '2019-01-01'\n",
    "df_basis = pd.DataFrame({'date': pd.date_range(begin_date, periods = 365)})\n",
    "df_basis = pd.concat([df_basis]*24, ignore_index = True)\n",
    "df_basis.sort_values(by = 'date', ignore_index = True, inplace = True)\n",
    "\n",
    "num_cycle = itertools.cycle([0, 1, 2, 3, 4, 5, 6, 7, 8, 9, 10, 11, 12, 13, 14, 15, 16, 17, 18, 19, 20, 21, 22, 23])\n",
    "df_basis['hour'] = [next(num_cycle) for num in range(len(df_basis))]"
   ]
  },
  {
   "cell_type": "markdown",
   "id": "e9864541",
   "metadata": {},
   "source": [
    "### Beach"
   ]
  },
  {
   "cell_type": "code",
   "execution_count": 23,
   "id": "d8520b41",
   "metadata": {},
   "outputs": [],
   "source": [
    "# prepare datasets for bikes in vs. bikes out of the area\n",
    "beach_out = df_beach[(df_beach['Start Area'] == \"Beach\")]\n",
    "beach_out[\"date\"] = pd.to_datetime(beach_out[\"date\"])\n",
    "\n",
    "beach_in = df_beach[(df_beach['End Area'] == \"Beach\")]\n",
    "beach_in[\"date\"] = pd.to_datetime(beach_in[\"date\"])\n",
    "\n",
    "# merging the dataframes to get Number of rides for every hour of the year\n",
    "beach_cov = df_basis.merge(beach_out[['date','hour', 'Number of rides']], how='left', on=['date', 'hour'])\n",
    "beach_cov = beach_cov.rename(columns={'Number of rides':'bikes out'})\n",
    "\n",
    "beach_cov1 = beach_cov.merge(beach_in[['date','hour', 'Number of rides']], how='left', on=['date', 'hour'])\n",
    "beach_cov1 = beach_cov1.rename(columns={'Number of rides':'bikes in'})\n",
    "\n",
    "# replace NaN by zeros\n",
    "beach_coverage = beach_cov1.fillna(0)"
   ]
  },
  {
   "cell_type": "code",
   "execution_count": 37,
   "id": "33e63f1b",
   "metadata": {},
   "outputs": [
    {
     "data": {
      "image/png": "[encoded data removed]",
      "text/plain": [
       "<Figure size 1080x360 with 1 Axes>"
      ]
     },
     "metadata": {
      "needs_background": "light"
     },
     "output_type": "display_data"
    }
   ],
   "source": [
    "# plot hourly number of trips in vs. out of the area\n",
    "plt.figure(figsize = (15,5))\n",
    "plt.plot(beach_coverage.index, beach_coverage[\"bikes out\"], label='bikes out')\n",
    "plt.plot(beach_coverage.index, beach_coverage[\"bikes in\"], label='bikes in')\n",
    "plt.title('Hourly number of trips coming in vs. going out of the area Beach')\n",
    "plt.ylabel('Number of trips')\n",
    "plt.xlabel('Hour of the year')\n",
    "plt.legend()\n",
    "\n",
    "plt.savefig(\"Beach in vs. out.png\")\n",
    "plt.show()\n"
   ]
  },
  {
   "cell_type": "markdown",
   "id": "100b9540",
   "metadata": {},
   "source": [
    "### City Centre"
   ]
  },
  {
   "cell_type": "code",
   "execution_count": 25,
   "id": "151e640d",
   "metadata": {},
   "outputs": [],
   "source": [
    "# prepare datasets for bikes in vs. bikes out of the area\n",
    "city_out = df_city[(df_city['Start Area'] == \"City Centre\")]\n",
    "city_out[\"date\"] = pd.to_datetime(city_out[\"date\"])\n",
    "\n",
    "city_in = df_city[(df_city['End Area'] == \"City Centre\")]\n",
    "city_in[\"date\"] = pd.to_datetime(city_in[\"date\"])\n",
    "\n",
    "# merging the dataframes to get Number of rides for every hour of the year\n",
    "city_cov = df_basis.merge(city_out[['date','hour', 'Number of rides']], how='left', on=['date', 'hour'])\n",
    "city_cov = city_cov.rename(columns={'Number of rides':'bikes out'})\n",
    "\n",
    "city_cov1 = city_cov.merge(city_in[['date','hour', 'Number of rides']], how='left', on=['date', 'hour'])\n",
    "city_cov1 = city_cov1.rename(columns={'Number of rides':'bikes in'})\n",
    "\n",
    "# replace NaN by zeros\n",
    "city_coverage = city_cov1.fillna(0)"
   ]
  },
  {
   "cell_type": "code",
   "execution_count": 38,
   "id": "81069d2e",
   "metadata": {},
   "outputs": [
    {
     "data": {
      "image/png": "[encoded data removed]",
      "text/plain": [
       "<Figure size 1080x360 with 1 Axes>"
      ]
     },
     "metadata": {
      "needs_background": "light"
     },
     "output_type": "display_data"
    }
   ],
   "source": [
    "# plot hourly number of trips in vs. out of the area\n",
    "plt.figure(figsize = (15,5))\n",
    "plt.plot(city_coverage.index, city_coverage[\"bikes out\"], label='bikes out')\n",
    "plt.plot(city_coverage.index, city_coverage[\"bikes in\"], label='bikes in')\n",
    "plt.title('Hourly number of trips coming in vs. going out of the area City Centre')\n",
    "plt.ylabel('Number of trips')\n",
    "plt.xlabel('Hour of the year')\n",
    "plt.legend()\n",
    "\n",
    "plt.savefig(\"City Centre in vs. out.png\")\n",
    "plt.show()"
   ]
  },
  {
   "cell_type": "markdown",
   "id": "46d2cb2d",
   "metadata": {},
   "source": [
    "### North Hollywood"
   ]
  },
  {
   "cell_type": "code",
   "execution_count": 27,
   "id": "8d1f2563",
   "metadata": {},
   "outputs": [],
   "source": [
    "# prepare datasets for bikes in vs. bikes out of the area\n",
    "hollywood_out = df_hollywood[(df_hollywood['Start Area'] == \"North Hollywood\")]\n",
    "hollywood_out[\"date\"] = pd.to_datetime(hollywood_out[\"date\"])\n",
    "\n",
    "hollywood_in = df_hollywood[(df_hollywood['End Area'] == \"North Hollywood\")]\n",
    "hollywood_in[\"date\"] = pd.to_datetime(hollywood_in[\"date\"])\n",
    "\n",
    "# merging the dataframes to get Number of rides for every hour of the year\n",
    "hollywood_cov = df_basis.merge(hollywood_out[['date','hour', 'Number of rides']], how='left', on=['date', 'hour'])\n",
    "hollywood_cov = hollywood_cov.rename(columns={'Number of rides':'bikes out'})\n",
    "\n",
    "hollywood_cov1 = hollywood_cov.merge(hollywood_in[['date','hour', 'Number of rides']], how='left', on=['date', 'hour'])\n",
    "hollywood_cov1 = hollywood_cov1.rename(columns={'Number of rides':'bikes in'})\n",
    "\n",
    "# replace NaN by zeros\n",
    "hollywood_coverage = hollywood_cov1.fillna(0)"
   ]
  },
  {
   "cell_type": "code",
   "execution_count": 39,
   "id": "eb039995",
   "metadata": {},
   "outputs": [
    {
     "data": {
      "image/png": "[encoded data removed]",
      "text/plain": [
       "<Figure size 1080x360 with 1 Axes>"
      ]
     },
     "metadata": {
      "needs_background": "light"
     },
     "output_type": "display_data"
    }
   ],
   "source": [
    "# plot hourly number of trips in vs. out of the area\n",
    "plt.figure(figsize = (15,5))\n",
    "plt.plot(hollywood_coverage.index, hollywood_coverage[\"bikes out\"], label='bikes out')\n",
    "plt.plot(hollywood_coverage.index, hollywood_coverage[\"bikes in\"], label='bikes in')\n",
    "plt.title('Hourly number of trips coming in vs. going out of the area North Hollywood')\n",
    "plt.ylabel('Number of trips')\n",
    "plt.xlabel('Hour of the year')\n",
    "plt.legend()\n",
    "\n",
    "plt.savefig(\"North Hollywood in vs. out.png\")\n",
    "plt.show()"
   ]
  },
  {
   "cell_type": "code",
   "execution_count": null,
   "id": "82dbf89f",
   "metadata": {},
   "outputs": [],
   "source": []
  }
 ],
 "metadata": {
  "kernelspec": {
   "display_name": "Python 3 (ipykernel)",
   "language": "python",
   "name": "python3"
  },
  "language_info": {
   "codemirror_mode": {
    "name": "ipython",
    "version": 3
   },
   "file_extension": ".py",
   "mimetype": "text/x-python",
   "name": "python",
   "nbconvert_exporter": "python",
   "pygments_lexer": "ipython3",
   "version": "3.9.7"
  }
 },
 "nbformat": 4,
 "nbformat_minor": 5
}

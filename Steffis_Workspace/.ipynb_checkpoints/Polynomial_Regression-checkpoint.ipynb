{
 "cells": [
  {
   "cell_type": "code",
   "execution_count": 1,
   "id": "c5983757",
   "metadata": {},
   "outputs": [],
   "source": [
    "import numpy as np\n",
    "import pandas as pd\n",
    "\n",
    "import matplotlib.pyplot as plt\n",
    "\n",
    "from sklearn.linear_model import LinearRegression\n",
    "from sklearn.metrics import mean_squared_error, mean_absolute_error, r2_score"
   ]
  },
  {
   "cell_type": "code",
   "execution_count": 2,
   "id": "09dff043",
   "metadata": {},
   "outputs": [],
   "source": [
    "# import merged data set\n",
    "df_la = pd.read_csv(\"merged_dataset.csv\", parse_dates=[\"date_time\"],low_memory=False)"
   ]
  },
  {
   "cell_type": "code",
   "execution_count": 3,
   "id": "6bc28774",
   "metadata": {},
   "outputs": [
    {
     "data": {
      "text/html": [
       "<div>\n",
       "<style scoped>\n",
       "    .dataframe tbody tr th:only-of-type {\n",
       "        vertical-align: middle;\n",
       "    }\n",
       "\n",
       "    .dataframe tbody tr th {\n",
       "        vertical-align: top;\n",
       "    }\n",
       "\n",
       "    .dataframe thead th {\n",
       "        text-align: right;\n",
       "    }\n",
       "</style>\n",
       "<table border=\"1\" class=\"dataframe\">\n",
       "  <thead>\n",
       "    <tr style=\"text-align: right;\">\n",
       "      <th></th>\n",
       "      <th>Unnamed: 0</th>\n",
       "      <th>Unnamed: 0_x</th>\n",
       "      <th>date_time</th>\n",
       "      <th>end_time</th>\n",
       "      <th>start_station_id</th>\n",
       "      <th>end_station_id</th>\n",
       "      <th>bike_id</th>\n",
       "      <th>user_type</th>\n",
       "      <th>start_station_name</th>\n",
       "      <th>end_station_name</th>\n",
       "      <th>...</th>\n",
       "      <th>Hour</th>\n",
       "      <th>Month</th>\n",
       "      <th>Day</th>\n",
       "      <th>Unnamed: 0_y</th>\n",
       "      <th>max_temp</th>\n",
       "      <th>min_temp</th>\n",
       "      <th>precip</th>\n",
       "      <th>year</th>\n",
       "      <th>temp</th>\n",
       "      <th>num_trips</th>\n",
       "    </tr>\n",
       "  </thead>\n",
       "  <tbody>\n",
       "    <tr>\n",
       "      <th>0</th>\n",
       "      <td>0</td>\n",
       "      <td>0</td>\n",
       "      <td>2019-01-01</td>\n",
       "      <td>2019-01-01 00:14:00</td>\n",
       "      <td>3046</td>\n",
       "      <td>3051</td>\n",
       "      <td>06468</td>\n",
       "      <td>Walk-up</td>\n",
       "      <td>2nd &amp; Hill</td>\n",
       "      <td>7th &amp; Broadway</td>\n",
       "      <td>...</td>\n",
       "      <td>0</td>\n",
       "      <td>1</td>\n",
       "      <td>1</td>\n",
       "      <td>35063.0</td>\n",
       "      <td>15.6</td>\n",
       "      <td>15.6</td>\n",
       "      <td>0.0</td>\n",
       "      <td>2019.0</td>\n",
       "      <td>15.6</td>\n",
       "      <td>285.0</td>\n",
       "    </tr>\n",
       "    <tr>\n",
       "      <th>1</th>\n",
       "      <td>1</td>\n",
       "      <td>1</td>\n",
       "      <td>2019-01-01</td>\n",
       "      <td>2019-01-01 00:14:00</td>\n",
       "      <td>3046</td>\n",
       "      <td>3051</td>\n",
       "      <td>12311</td>\n",
       "      <td>Walk-up</td>\n",
       "      <td>2nd &amp; Hill</td>\n",
       "      <td>7th &amp; Broadway</td>\n",
       "      <td>...</td>\n",
       "      <td>0</td>\n",
       "      <td>1</td>\n",
       "      <td>1</td>\n",
       "      <td>35063.0</td>\n",
       "      <td>15.6</td>\n",
       "      <td>15.6</td>\n",
       "      <td>0.0</td>\n",
       "      <td>2019.0</td>\n",
       "      <td>15.6</td>\n",
       "      <td>285.0</td>\n",
       "    </tr>\n",
       "    <tr>\n",
       "      <th>2</th>\n",
       "      <td>2</td>\n",
       "      <td>2</td>\n",
       "      <td>2019-01-01</td>\n",
       "      <td>2019-01-01 00:50:00</td>\n",
       "      <td>3030</td>\n",
       "      <td>3075</td>\n",
       "      <td>05992</td>\n",
       "      <td>Walk-up</td>\n",
       "      <td>Main &amp; 1st</td>\n",
       "      <td>Broadway &amp; 9th</td>\n",
       "      <td>...</td>\n",
       "      <td>0</td>\n",
       "      <td>1</td>\n",
       "      <td>1</td>\n",
       "      <td>35063.0</td>\n",
       "      <td>15.6</td>\n",
       "      <td>15.6</td>\n",
       "      <td>0.0</td>\n",
       "      <td>2019.0</td>\n",
       "      <td>15.6</td>\n",
       "      <td>285.0</td>\n",
       "    </tr>\n",
       "  </tbody>\n",
       "</table>\n",
       "<p>3 rows × 23 columns</p>\n",
       "</div>"
      ],
      "text/plain": [
       "   Unnamed: 0  Unnamed: 0_x  date_time             end_time  start_station_id  \\\n",
       "0           0             0 2019-01-01  2019-01-01 00:14:00              3046   \n",
       "1           1             1 2019-01-01  2019-01-01 00:14:00              3046   \n",
       "2           2             2 2019-01-01  2019-01-01 00:50:00              3030   \n",
       "\n",
       "   end_station_id bike_id user_type start_station_name end_station_name  ...  \\\n",
       "0            3051   06468   Walk-up         2nd & Hill   7th & Broadway  ...   \n",
       "1            3051   12311   Walk-up         2nd & Hill   7th & Broadway  ...   \n",
       "2            3075   05992   Walk-up         Main & 1st   Broadway & 9th  ...   \n",
       "\n",
       "   Hour Month  Day  Unnamed: 0_y  max_temp  min_temp  precip    year  temp  \\\n",
       "0     0     1    1       35063.0      15.6      15.6     0.0  2019.0  15.6   \n",
       "1     0     1    1       35063.0      15.6      15.6     0.0  2019.0  15.6   \n",
       "2     0     1    1       35063.0      15.6      15.6     0.0  2019.0  15.6   \n",
       "\n",
       "   num_trips  \n",
       "0      285.0  \n",
       "1      285.0  \n",
       "2      285.0  \n",
       "\n",
       "[3 rows x 23 columns]"
      ]
     },
     "execution_count": 3,
     "metadata": {},
     "output_type": "execute_result"
    }
   ],
   "source": [
    "df_la.head(3)"
   ]
  },
  {
   "cell_type": "code",
   "execution_count": 18,
   "id": "70e37c39",
   "metadata": {},
   "outputs": [
    {
     "data": {
      "text/html": [
       "<div>\n",
       "<style scoped>\n",
       "    .dataframe tbody tr th:only-of-type {\n",
       "        vertical-align: middle;\n",
       "    }\n",
       "\n",
       "    .dataframe tbody tr th {\n",
       "        vertical-align: top;\n",
       "    }\n",
       "\n",
       "    .dataframe thead th {\n",
       "        text-align: right;\n",
       "    }\n",
       "</style>\n",
       "<table border=\"1\" class=\"dataframe\">\n",
       "  <thead>\n",
       "    <tr style=\"text-align: right;\">\n",
       "      <th></th>\n",
       "      <th>temp_count</th>\n",
       "      <th>temp</th>\n",
       "    </tr>\n",
       "  </thead>\n",
       "  <tbody>\n",
       "    <tr>\n",
       "      <th>4.4</th>\n",
       "      <td>49</td>\n",
       "      <td>4.4</td>\n",
       "    </tr>\n",
       "    <tr>\n",
       "      <th>5.6</th>\n",
       "      <td>255</td>\n",
       "      <td>5.6</td>\n",
       "    </tr>\n",
       "    <tr>\n",
       "      <th>6.1</th>\n",
       "      <td>326</td>\n",
       "      <td>6.1</td>\n",
       "    </tr>\n",
       "    <tr>\n",
       "      <th>6.7</th>\n",
       "      <td>753</td>\n",
       "      <td>6.7</td>\n",
       "    </tr>\n",
       "    <tr>\n",
       "      <th>7.2</th>\n",
       "      <td>928</td>\n",
       "      <td>7.2</td>\n",
       "    </tr>\n",
       "  </tbody>\n",
       "</table>\n",
       "</div>"
      ],
      "text/plain": [
       "     temp_count  temp\n",
       "4.4          49   4.4\n",
       "5.6         255   5.6\n",
       "6.1         326   6.1\n",
       "6.7         753   6.7\n",
       "7.2         928   7.2"
      ]
     },
     "execution_count": 18,
     "metadata": {},
     "output_type": "execute_result"
    }
   ],
   "source": [
    "data_t = pd.DataFrame()\n",
    "data_t['temp_count'] = df_la[\"temp\"].value_counts()\n",
    "data_t.sort_index(inplace=True)\n",
    "data_t['temp'] = data_t.index\n",
    "data_t.head(5)"
   ]
  },
  {
   "cell_type": "code",
   "execution_count": 27,
   "id": "d07d0613",
   "metadata": {},
   "outputs": [],
   "source": [
    "# dependent (y) and independent (x) variables\n",
    "xp = data_t['temp'].values\n",
    "yp = data_t['temp_count'].values"
   ]
  },
  {
   "cell_type": "code",
   "execution_count": 28,
   "id": "26af210c",
   "metadata": {},
   "outputs": [
    {
     "data": {
      "text/plain": [
       "array([   49,   255,   326,   753,   928,   935,    16,  2410,     3,\n",
       "        2437,  2635,  3555,    59,   173,    41,  3178,   123,  3899,\n",
       "          25,   127,   122,  4509,   377,  5620,    92,   444,   221,\n",
       "        7445,   428,  8781,    22,   139,   142, 10754,   961,    14,\n",
       "        8937,   152,   782,    66, 10835,   770,   194, 10757,  1146,\n",
       "       11098,   188,   288,   247, 12660,   912,    74, 15131,   130,\n",
       "         792,   146, 14928,  1174, 14000,    84,   628,   177, 12073,\n",
       "        1020, 10626,   177,   378,     6, 10006,    71,   370,    83,\n",
       "       10879,  1051, 10303,    58,   485,   131,  9313,   879,  8339,\n",
       "          71,   247,   257,  7375,   233,  4949,    71,    73,   244,\n",
       "        3174,  3680,   273,  3539,  2915,   178,  2502,  1680,  1619,\n",
       "         994,   597,   832,   461,   287,   444,   269,    59,   241,\n",
       "         205,   243,    43,   168,   109,    29])"
      ]
     },
     "execution_count": 28,
     "metadata": {},
     "output_type": "execute_result"
    }
   ],
   "source": [
    "yp"
   ]
  },
  {
   "cell_type": "code",
   "execution_count": 37,
   "id": "b1d365e1",
   "metadata": {},
   "outputs": [
    {
     "data": {
      "text/plain": [
       "Text(0, 0.5, 'Trips')"
      ]
     },
     "execution_count": 37,
     "metadata": {},
     "output_type": "execute_result"
    },
    {
     "data": {
      "image/png": "[encoded data removed]",
      "text/plain": [
       "<Figure size 432x288 with 1 Axes>"
      ]
     },
     "metadata": {
      "needs_background": "light"
     },
     "output_type": "display_data"
    }
   ],
   "source": [
    "plt.scatter(xp, yp, marker='x')\n",
    "plt.xlabel(\"Temperature (°C)\")\n",
    "plt.ylabel(\"Trips\")\n",
    "# warum sind zwischendurch immer so wenige trips??"
   ]
  },
  {
   "cell_type": "code",
   "execution_count": 10,
   "id": "d3529c62",
   "metadata": {},
   "outputs": [],
   "source": [
    "from sklearn.preprocessing import PolynomialFeatures"
   ]
  },
  {
   "cell_type": "code",
   "execution_count": 14,
   "id": "f551c6d9",
   "metadata": {},
   "outputs": [],
   "source": [
    "def plot_Poly_regression(X,Y,d):\n",
    "    \n",
    "    poly_reg = PolynomialFeatures (degree = d)\n",
    "    \n",
    "    # Polynomial transformation\n",
    "    x_poly = poly_reg.fit_transform(X.reshape(-1,1))\n",
    "    \n",
    "    \n",
    "    # Fitting linear regression to polynomial features\n",
    "    lin_reg_Poly = LinearRegression()\n",
    "    lin_reg_Poly.fit(x_poly, Y)\n",
    "    model_pred = lin_reg_Poly.predict(x_poly)\n",
    "    \n",
    "    # Plotting the regression line and the data\n",
    "    x_fit = np.arange(X.min(),X.max() ,1)[:, np.newaxis]\n",
    "    y_pred = lin_reg_Poly.predict(poly_reg.fit_transform(x_fit.reshape(-1,1)))\n",
    "    \n",
    "    plt.scatter(X,Y,marker=\"x\", c='C2')\n",
    "    ylim = plt.ylim()\n",
    "    \n",
    "    plt.plot(x_fit,y_pred, c='C1')\n",
    "    plt.xlabel(\"Temperature (°C)\")\n",
    "    plt.ylabel(\"Demand (GW)\")\n",
    "    plt.xlim([X.min()-2,X.max()+2])\n",
    "    plt.ylim(ylim)\n",
    "    print ('The R^2 for quadratic curve is: ',r2_score(Y, model_pred))\n",
    "    #print(lin_reg_Poly.coef_)"
   ]
  },
  {
   "cell_type": "code",
   "execution_count": 36,
   "id": "80632e28",
   "metadata": {},
   "outputs": [
    {
     "name": "stdout",
     "output_type": "stream",
     "text": [
      "The R^2 for quadratic curve is:  0.1226220151648989\n"
     ]
    },
    {
     "data": {
      "image/png": "[encoded data removed]",
      "text/plain": [
       "<Figure size 432x288 with 1 Axes>"
      ]
     },
     "metadata": {
      "needs_background": "light"
     },
     "output_type": "display_data"
    }
   ],
   "source": [
    "plot_Poly_regression(X = xp, Y = yp, d = 15)"
   ]
  }
 ],
 "metadata": {
  "kernelspec": {
   "display_name": "Python 3 (ipykernel)",
   "language": "python",
   "name": "python3"
  },
  "language_info": {
   "codemirror_mode": {
    "name": "ipython",
    "version": 3
   },
   "file_extension": ".py",
   "mimetype": "text/x-python",
   "name": "python",
   "nbconvert_exporter": "python",
   "pygments_lexer": "ipython3",
   "version": "3.9.12"
  }
 },
 "nbformat": 4,
 "nbformat_minor": 5
}

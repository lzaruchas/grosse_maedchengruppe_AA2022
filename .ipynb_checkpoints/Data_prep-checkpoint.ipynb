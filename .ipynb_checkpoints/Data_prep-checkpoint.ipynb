{
 "cells": [
  {
   "cell_type": "markdown",
   "id": "24740e77",
   "metadata": {},
   "source": [
    "# Data Preparation\n",
    "- Data set Los Angeles 2019"
   ]
  },
  {
   "cell_type": "code",
   "execution_count": 1,
   "id": "333c3fc3",
   "metadata": {},
   "outputs": [],
   "source": [
    "import pandas as pd\n",
    "import numpy as np"
   ]
  },
  {
   "cell_type": "code",
   "execution_count": 2,
   "id": "51c1511d",
   "metadata": {
    "scrolled": true
   },
   "outputs": [],
   "source": [
    "# import data set\n",
    "df_la = pd.read_csv(\"la_2019.csv\", parse_dates=[\"start_time\",\"end_time\"], low_memory=False)"
   ]
  },
  {
   "cell_type": "code",
   "execution_count": 3,
   "id": "bfda6837",
   "metadata": {},
   "outputs": [
    {
     "data": {
      "text/html": [
       "<div>\n",
       "<style scoped>\n",
       "    .dataframe tbody tr th:only-of-type {\n",
       "        vertical-align: middle;\n",
       "    }\n",
       "\n",
       "    .dataframe tbody tr th {\n",
       "        vertical-align: top;\n",
       "    }\n",
       "\n",
       "    .dataframe thead th {\n",
       "        text-align: right;\n",
       "    }\n",
       "</style>\n",
       "<table border=\"1\" class=\"dataframe\">\n",
       "  <thead>\n",
       "    <tr style=\"text-align: right;\">\n",
       "      <th></th>\n",
       "      <th>start_time</th>\n",
       "      <th>end_time</th>\n",
       "      <th>start_station_id</th>\n",
       "      <th>end_station_id</th>\n",
       "      <th>bike_id</th>\n",
       "      <th>user_type</th>\n",
       "      <th>start_station_name</th>\n",
       "      <th>end_station_name</th>\n",
       "    </tr>\n",
       "  </thead>\n",
       "  <tbody>\n",
       "    <tr>\n",
       "      <th>0</th>\n",
       "      <td>2019-01-01 00:07:00</td>\n",
       "      <td>2019-01-01 00:14:00</td>\n",
       "      <td>3046</td>\n",
       "      <td>3051</td>\n",
       "      <td>06468</td>\n",
       "      <td>Walk-up</td>\n",
       "      <td>2nd &amp; Hill</td>\n",
       "      <td>7th &amp; Broadway</td>\n",
       "    </tr>\n",
       "    <tr>\n",
       "      <th>1</th>\n",
       "      <td>2019-01-01 00:08:00</td>\n",
       "      <td>2019-01-01 00:14:00</td>\n",
       "      <td>3046</td>\n",
       "      <td>3051</td>\n",
       "      <td>12311</td>\n",
       "      <td>Walk-up</td>\n",
       "      <td>2nd &amp; Hill</td>\n",
       "      <td>7th &amp; Broadway</td>\n",
       "    </tr>\n",
       "    <tr>\n",
       "      <th>2</th>\n",
       "      <td>2019-01-01 00:18:00</td>\n",
       "      <td>2019-01-01 00:50:00</td>\n",
       "      <td>3030</td>\n",
       "      <td>3075</td>\n",
       "      <td>05992</td>\n",
       "      <td>Walk-up</td>\n",
       "      <td>Main &amp; 1st</td>\n",
       "      <td>Broadway &amp; 9th</td>\n",
       "    </tr>\n",
       "  </tbody>\n",
       "</table>\n",
       "</div>"
      ],
      "text/plain": [
       "           start_time            end_time  start_station_id  end_station_id  \\\n",
       "0 2019-01-01 00:07:00 2019-01-01 00:14:00              3046            3051   \n",
       "1 2019-01-01 00:08:00 2019-01-01 00:14:00              3046            3051   \n",
       "2 2019-01-01 00:18:00 2019-01-01 00:50:00              3030            3075   \n",
       "\n",
       "  bike_id user_type start_station_name end_station_name  \n",
       "0   06468   Walk-up         2nd & Hill   7th & Broadway  \n",
       "1   12311   Walk-up         2nd & Hill   7th & Broadway  \n",
       "2   05992   Walk-up         Main & 1st   Broadway & 9th  "
      ]
     },
     "execution_count": 3,
     "metadata": {},
     "output_type": "execute_result"
    }
   ],
   "source": [
    "# data overview\n",
    "df_la.head(3)"
   ]
  },
  {
   "cell_type": "code",
   "execution_count": 4,
   "id": "bfe14a97",
   "metadata": {},
   "outputs": [
    {
     "name": "stdout",
     "output_type": "stream",
     "text": [
      "start_time            290342\n",
      "end_time              290342\n",
      "start_station_id      290342\n",
      "end_station_id        290342\n",
      "bike_id               290342\n",
      "user_type             290342\n",
      "start_station_name    290342\n",
      "end_station_name      290342\n",
      "dtype: int64\n",
      "<class 'pandas.core.frame.DataFrame'>\n",
      "RangeIndex: 290342 entries, 0 to 290341\n",
      "Data columns (total 8 columns):\n",
      " #   Column              Non-Null Count   Dtype         \n",
      "---  ------              --------------   -----         \n",
      " 0   start_time          290342 non-null  datetime64[ns]\n",
      " 1   end_time            290342 non-null  datetime64[ns]\n",
      " 2   start_station_id    290342 non-null  int64         \n",
      " 3   end_station_id      290342 non-null  int64         \n",
      " 4   bike_id             290342 non-null  object        \n",
      " 5   user_type           290342 non-null  object        \n",
      " 6   start_station_name  290342 non-null  object        \n",
      " 7   end_station_name    290342 non-null  object        \n",
      "dtypes: datetime64[ns](2), int64(2), object(4)\n",
      "memory usage: 17.7+ MB\n",
      "None\n"
     ]
    }
   ],
   "source": [
    "print(df_la.count())\n",
    "print(df_la.info())"
   ]
  },
  {
   "cell_type": "markdown",
   "id": "91fad06f",
   "metadata": {},
   "source": [
    "The Los Angeles data set includes bike rental data for the period 01/01/2019 to 12/31/2019. The data set has 290.342 entries."
   ]
  },
  {
   "cell_type": "markdown",
   "id": "bdf506da",
   "metadata": {},
   "source": [
    "### Clean the data set"
   ]
  },
  {
   "cell_type": "code",
   "execution_count": 5,
   "id": "e5f0ba96",
   "metadata": {},
   "outputs": [
    {
     "data": {
      "text/plain": [
       "start_time            False\n",
       "end_time              False\n",
       "start_station_id      False\n",
       "end_station_id        False\n",
       "bike_id               False\n",
       "user_type             False\n",
       "start_station_name    False\n",
       "end_station_name      False\n",
       "dtype: bool"
      ]
     },
     "execution_count": 5,
     "metadata": {},
     "output_type": "execute_result"
    }
   ],
   "source": [
    "# check if there are null values\n",
    "df_la.isnull().any()"
   ]
  },
  {
   "cell_type": "code",
   "execution_count": 6,
   "id": "eea83651",
   "metadata": {},
   "outputs": [],
   "source": [
    "# drop rows which contain missing values\n",
    "df_la.dropna(axis=0, inplace=True)"
   ]
  },
  {
   "cell_type": "code",
   "execution_count": 7,
   "id": "e79c7482",
   "metadata": {},
   "outputs": [
    {
     "data": {
      "text/plain": [
       "290342"
      ]
     },
     "execution_count": 7,
     "metadata": {},
     "output_type": "execute_result"
    }
   ],
   "source": [
    "df_la[\"bike_id\"].size"
   ]
  },
  {
   "cell_type": "code",
   "execution_count": 8,
   "id": "39a37855",
   "metadata": {},
   "outputs": [],
   "source": [
    "# add the duration of the trip\n",
    "df_la[\"duration\"] = (df_la[\"end_time\"] - df_la[\"start_time\"]).astype(\"timedelta64[m]\")"
   ]
  },
  {
   "cell_type": "code",
   "execution_count": 9,
   "id": "7beafdbf",
   "metadata": {},
   "outputs": [],
   "source": [
    "# remove data with same start and end station, that are shorter or equal to one minute\n",
    "df_la = df_la[~((df_la[\"start_station_name\"] == df_la[\"end_station_name\"]) & (df_la[\"duration\"] <= 1.0))]"
   ]
  },
  {
   "cell_type": "code",
   "execution_count": 10,
   "id": "6de80d11",
   "metadata": {},
   "outputs": [
    {
     "data": {
      "text/plain": [
       "284417"
      ]
     },
     "execution_count": 10,
     "metadata": {},
     "output_type": "execute_result"
    }
   ],
   "source": [
    "df_la[\"bike_id\"].size"
   ]
  },
  {
   "cell_type": "code",
   "execution_count": 11,
   "id": "7651bf2c",
   "metadata": {},
   "outputs": [],
   "source": [
    "# remove trips that are longer or equal to 24h\n",
    "df_la = df_la[ ~ (df_la[\"duration\"] >= 1440.0) ]"
   ]
  },
  {
   "cell_type": "code",
   "execution_count": 12,
   "id": "a4afbd7c",
   "metadata": {},
   "outputs": [
    {
     "data": {
      "text/plain": [
       "283135"
      ]
     },
     "execution_count": 12,
     "metadata": {},
     "output_type": "execute_result"
    }
   ],
   "source": [
    "df_la[\"bike_id\"].size"
   ]
  },
  {
   "cell_type": "code",
   "execution_count": 13,
   "id": "0f0bd4ee",
   "metadata": {},
   "outputs": [
    {
     "data": {
      "text/html": [
       "<div>\n",
       "<style scoped>\n",
       "    .dataframe tbody tr th:only-of-type {\n",
       "        vertical-align: middle;\n",
       "    }\n",
       "\n",
       "    .dataframe tbody tr th {\n",
       "        vertical-align: top;\n",
       "    }\n",
       "\n",
       "    .dataframe thead th {\n",
       "        text-align: right;\n",
       "    }\n",
       "</style>\n",
       "<table border=\"1\" class=\"dataframe\">\n",
       "  <thead>\n",
       "    <tr style=\"text-align: right;\">\n",
       "      <th></th>\n",
       "      <th>start_time</th>\n",
       "      <th>end_time</th>\n",
       "      <th>start_station_id</th>\n",
       "      <th>end_station_id</th>\n",
       "      <th>bike_id</th>\n",
       "      <th>user_type</th>\n",
       "      <th>start_station_name</th>\n",
       "      <th>end_station_name</th>\n",
       "      <th>duration</th>\n",
       "    </tr>\n",
       "  </thead>\n",
       "  <tbody>\n",
       "    <tr>\n",
       "      <th>0</th>\n",
       "      <td>2019-01-01 00:07:00</td>\n",
       "      <td>2019-01-01 00:14:00</td>\n",
       "      <td>3046</td>\n",
       "      <td>3051</td>\n",
       "      <td>06468</td>\n",
       "      <td>Walk-up</td>\n",
       "      <td>2nd &amp; Hill</td>\n",
       "      <td>7th &amp; Broadway</td>\n",
       "      <td>7.0</td>\n",
       "    </tr>\n",
       "    <tr>\n",
       "      <th>1</th>\n",
       "      <td>2019-01-01 00:08:00</td>\n",
       "      <td>2019-01-01 00:14:00</td>\n",
       "      <td>3046</td>\n",
       "      <td>3051</td>\n",
       "      <td>12311</td>\n",
       "      <td>Walk-up</td>\n",
       "      <td>2nd &amp; Hill</td>\n",
       "      <td>7th &amp; Broadway</td>\n",
       "      <td>6.0</td>\n",
       "    </tr>\n",
       "    <tr>\n",
       "      <th>2</th>\n",
       "      <td>2019-01-01 00:18:00</td>\n",
       "      <td>2019-01-01 00:50:00</td>\n",
       "      <td>3030</td>\n",
       "      <td>3075</td>\n",
       "      <td>05992</td>\n",
       "      <td>Walk-up</td>\n",
       "      <td>Main &amp; 1st</td>\n",
       "      <td>Broadway &amp; 9th</td>\n",
       "      <td>32.0</td>\n",
       "    </tr>\n",
       "    <tr>\n",
       "      <th>3</th>\n",
       "      <td>2019-01-01 00:20:00</td>\n",
       "      <td>2019-01-01 00:50:00</td>\n",
       "      <td>3030</td>\n",
       "      <td>3075</td>\n",
       "      <td>05860</td>\n",
       "      <td>Walk-up</td>\n",
       "      <td>Main &amp; 1st</td>\n",
       "      <td>Broadway &amp; 9th</td>\n",
       "      <td>30.0</td>\n",
       "    </tr>\n",
       "    <tr>\n",
       "      <th>4</th>\n",
       "      <td>2019-01-01 00:22:00</td>\n",
       "      <td>2019-01-01 00:50:00</td>\n",
       "      <td>3030</td>\n",
       "      <td>3075</td>\n",
       "      <td>06006</td>\n",
       "      <td>Walk-up</td>\n",
       "      <td>Main &amp; 1st</td>\n",
       "      <td>Broadway &amp; 9th</td>\n",
       "      <td>28.0</td>\n",
       "    </tr>\n",
       "    <tr>\n",
       "      <th>...</th>\n",
       "      <td>...</td>\n",
       "      <td>...</td>\n",
       "      <td>...</td>\n",
       "      <td>...</td>\n",
       "      <td>...</td>\n",
       "      <td>...</td>\n",
       "      <td>...</td>\n",
       "      <td>...</td>\n",
       "      <td>...</td>\n",
       "    </tr>\n",
       "    <tr>\n",
       "      <th>290336</th>\n",
       "      <td>2019-12-31 23:34:46</td>\n",
       "      <td>2019-12-31 23:42:28</td>\n",
       "      <td>3063</td>\n",
       "      <td>3069</td>\n",
       "      <td>12019</td>\n",
       "      <td>Walk-up</td>\n",
       "      <td>Pershing Square</td>\n",
       "      <td>Broadway &amp; 3rd</td>\n",
       "      <td>7.0</td>\n",
       "    </tr>\n",
       "    <tr>\n",
       "      <th>290338</th>\n",
       "      <td>2019-12-31 23:41:52</td>\n",
       "      <td>2019-12-31 23:50:58</td>\n",
       "      <td>4491</td>\n",
       "      <td>3022</td>\n",
       "      <td>18912</td>\n",
       "      <td>Monthly Pass</td>\n",
       "      <td>Main &amp; Winston</td>\n",
       "      <td>3rd &amp; Santa Fe</td>\n",
       "      <td>9.0</td>\n",
       "    </tr>\n",
       "    <tr>\n",
       "      <th>290339</th>\n",
       "      <td>2019-12-31 23:43:19</td>\n",
       "      <td>2019-12-31 23:47:41</td>\n",
       "      <td>3051</td>\n",
       "      <td>3064</td>\n",
       "      <td>12298</td>\n",
       "      <td>Annual Pass</td>\n",
       "      <td>7th &amp; Broadway</td>\n",
       "      <td>Grand &amp; 8th</td>\n",
       "      <td>4.0</td>\n",
       "    </tr>\n",
       "    <tr>\n",
       "      <th>290340</th>\n",
       "      <td>2019-12-31 23:48:17</td>\n",
       "      <td>2019-12-31 23:53:55</td>\n",
       "      <td>3064</td>\n",
       "      <td>3074</td>\n",
       "      <td>19053</td>\n",
       "      <td>Annual Pass</td>\n",
       "      <td>Grand &amp; 8th</td>\n",
       "      <td>Hope &amp; Olympic</td>\n",
       "      <td>5.0</td>\n",
       "    </tr>\n",
       "    <tr>\n",
       "      <th>290341</th>\n",
       "      <td>2019-12-31 23:58:52</td>\n",
       "      <td>2020-01-01 00:25:27</td>\n",
       "      <td>3074</td>\n",
       "      <td>3049</td>\n",
       "      <td>19053</td>\n",
       "      <td>Annual Pass</td>\n",
       "      <td>Hope &amp; Olympic</td>\n",
       "      <td>2nd &amp; Figueroa</td>\n",
       "      <td>26.0</td>\n",
       "    </tr>\n",
       "  </tbody>\n",
       "</table>\n",
       "<p>282835 rows × 9 columns</p>\n",
       "</div>"
      ],
      "text/plain": [
       "                start_time            end_time  start_station_id  \\\n",
       "0      2019-01-01 00:07:00 2019-01-01 00:14:00              3046   \n",
       "1      2019-01-01 00:08:00 2019-01-01 00:14:00              3046   \n",
       "2      2019-01-01 00:18:00 2019-01-01 00:50:00              3030   \n",
       "3      2019-01-01 00:20:00 2019-01-01 00:50:00              3030   \n",
       "4      2019-01-01 00:22:00 2019-01-01 00:50:00              3030   \n",
       "...                    ...                 ...               ...   \n",
       "290336 2019-12-31 23:34:46 2019-12-31 23:42:28              3063   \n",
       "290338 2019-12-31 23:41:52 2019-12-31 23:50:58              4491   \n",
       "290339 2019-12-31 23:43:19 2019-12-31 23:47:41              3051   \n",
       "290340 2019-12-31 23:48:17 2019-12-31 23:53:55              3064   \n",
       "290341 2019-12-31 23:58:52 2020-01-01 00:25:27              3074   \n",
       "\n",
       "        end_station_id bike_id     user_type start_station_name  \\\n",
       "0                 3051   06468       Walk-up         2nd & Hill   \n",
       "1                 3051   12311       Walk-up         2nd & Hill   \n",
       "2                 3075   05992       Walk-up         Main & 1st   \n",
       "3                 3075   05860       Walk-up         Main & 1st   \n",
       "4                 3075   06006       Walk-up         Main & 1st   \n",
       "...                ...     ...           ...                ...   \n",
       "290336            3069   12019       Walk-up    Pershing Square   \n",
       "290338            3022   18912  Monthly Pass     Main & Winston   \n",
       "290339            3064   12298   Annual Pass     7th & Broadway   \n",
       "290340            3074   19053   Annual Pass        Grand & 8th   \n",
       "290341            3049   19053   Annual Pass     Hope & Olympic   \n",
       "\n",
       "       end_station_name  duration  \n",
       "0        7th & Broadway       7.0  \n",
       "1        7th & Broadway       6.0  \n",
       "2        Broadway & 9th      32.0  \n",
       "3        Broadway & 9th      30.0  \n",
       "4        Broadway & 9th      28.0  \n",
       "...                 ...       ...  \n",
       "290336   Broadway & 3rd       7.0  \n",
       "290338   3rd & Santa Fe       9.0  \n",
       "290339      Grand & 8th       4.0  \n",
       "290340   Hope & Olympic       5.0  \n",
       "290341   2nd & Figueroa      26.0  \n",
       "\n",
       "[282835 rows x 9 columns]"
      ]
     },
     "execution_count": 13,
     "metadata": {},
     "output_type": "execute_result"
    }
   ],
   "source": [
    "df_la.drop_duplicates()"
   ]
  },
  {
   "cell_type": "code",
   "execution_count": 14,
   "id": "1678f9a4",
   "metadata": {},
   "outputs": [
    {
     "data": {
      "text/plain": [
       "283135"
      ]
     },
     "execution_count": 14,
     "metadata": {},
     "output_type": "execute_result"
    }
   ],
   "source": [
    "df_la[\"bike_id\"].size"
   ]
  },
  {
   "cell_type": "code",
   "execution_count": 15,
   "id": "3db4d2c7",
   "metadata": {},
   "outputs": [],
   "source": [
    "# unnecessary as we use start/end_station_name\n",
    "df_la = df_la.drop([\"start_station_id\"], axis=1)\n",
    "df_la = df_la.drop([\"end_station_id\"], axis=1)"
   ]
  },
  {
   "cell_type": "markdown",
   "id": "a5ef6ad8",
   "metadata": {},
   "source": [
    "### Adding useful columns"
   ]
  },
  {
   "cell_type": "code",
   "execution_count": 16,
   "id": "db0d7d46",
   "metadata": {},
   "outputs": [
    {
     "data": {
      "text/html": [
       "<div>\n",
       "<style scoped>\n",
       "    .dataframe tbody tr th:only-of-type {\n",
       "        vertical-align: middle;\n",
       "    }\n",
       "\n",
       "    .dataframe tbody tr th {\n",
       "        vertical-align: top;\n",
       "    }\n",
       "\n",
       "    .dataframe thead th {\n",
       "        text-align: right;\n",
       "    }\n",
       "</style>\n",
       "<table border=\"1\" class=\"dataframe\">\n",
       "  <thead>\n",
       "    <tr style=\"text-align: right;\">\n",
       "      <th></th>\n",
       "      <th>start_time</th>\n",
       "      <th>end_time</th>\n",
       "      <th>bike_id</th>\n",
       "      <th>user_type</th>\n",
       "      <th>start_station_name</th>\n",
       "      <th>end_station_name</th>\n",
       "      <th>duration</th>\n",
       "      <th>date</th>\n",
       "      <th>month</th>\n",
       "      <th>weekday</th>\n",
       "      <th>day</th>\n",
       "      <th>hour</th>\n",
       "    </tr>\n",
       "  </thead>\n",
       "  <tbody>\n",
       "    <tr>\n",
       "      <th>0</th>\n",
       "      <td>2019-01-01 00:07:00</td>\n",
       "      <td>2019-01-01 00:14:00</td>\n",
       "      <td>06468</td>\n",
       "      <td>Walk-up</td>\n",
       "      <td>2nd &amp; Hill</td>\n",
       "      <td>7th &amp; Broadway</td>\n",
       "      <td>7.0</td>\n",
       "      <td>2019-01-01</td>\n",
       "      <td>1</td>\n",
       "      <td>1</td>\n",
       "      <td>1</td>\n",
       "      <td>0</td>\n",
       "    </tr>\n",
       "    <tr>\n",
       "      <th>1</th>\n",
       "      <td>2019-01-01 00:08:00</td>\n",
       "      <td>2019-01-01 00:14:00</td>\n",
       "      <td>12311</td>\n",
       "      <td>Walk-up</td>\n",
       "      <td>2nd &amp; Hill</td>\n",
       "      <td>7th &amp; Broadway</td>\n",
       "      <td>6.0</td>\n",
       "      <td>2019-01-01</td>\n",
       "      <td>1</td>\n",
       "      <td>1</td>\n",
       "      <td>1</td>\n",
       "      <td>0</td>\n",
       "    </tr>\n",
       "    <tr>\n",
       "      <th>2</th>\n",
       "      <td>2019-01-01 00:18:00</td>\n",
       "      <td>2019-01-01 00:50:00</td>\n",
       "      <td>05992</td>\n",
       "      <td>Walk-up</td>\n",
       "      <td>Main &amp; 1st</td>\n",
       "      <td>Broadway &amp; 9th</td>\n",
       "      <td>32.0</td>\n",
       "      <td>2019-01-01</td>\n",
       "      <td>1</td>\n",
       "      <td>1</td>\n",
       "      <td>1</td>\n",
       "      <td>0</td>\n",
       "    </tr>\n",
       "  </tbody>\n",
       "</table>\n",
       "</div>"
      ],
      "text/plain": [
       "           start_time            end_time bike_id user_type  \\\n",
       "0 2019-01-01 00:07:00 2019-01-01 00:14:00   06468   Walk-up   \n",
       "1 2019-01-01 00:08:00 2019-01-01 00:14:00   12311   Walk-up   \n",
       "2 2019-01-01 00:18:00 2019-01-01 00:50:00   05992   Walk-up   \n",
       "\n",
       "  start_station_name end_station_name  duration        date  month  weekday  \\\n",
       "0         2nd & Hill   7th & Broadway       7.0  2019-01-01      1        1   \n",
       "1         2nd & Hill   7th & Broadway       6.0  2019-01-01      1        1   \n",
       "2         Main & 1st   Broadway & 9th      32.0  2019-01-01      1        1   \n",
       "\n",
       "   day  hour  \n",
       "0    1     0  \n",
       "1    1     0  \n",
       "2    1     0  "
      ]
     },
     "execution_count": 16,
     "metadata": {},
     "output_type": "execute_result"
    }
   ],
   "source": [
    "# new columns \n",
    "df_la[\"date\"] = df_la[\"start_time\"].apply(lambda x: x.date())\n",
    "df_la['month']= df_la[\"start_time\"].apply(lambda x: x.month)\n",
    "df_la[\"weekday\"]= df_la[\"start_time\"].apply(lambda x: x.weekday())\n",
    "df_la[\"day\"] = df_la[\"start_time\"].apply(lambda x: x.day)\n",
    "df_la[\"hour\"]= df_la[\"start_time\"].apply(lambda x: x.hour)\n",
    "df_la.head(3)"
   ]
  },
  {
   "cell_type": "code",
   "execution_count": 17,
   "id": "606ba5e5",
   "metadata": {},
   "outputs": [],
   "source": [
    "# saving data set\n",
    "df_la.to_csv(\"prepared_data.csv\")"
   ]
  },
  {
   "cell_type": "markdown",
   "id": "3ef90563",
   "metadata": {},
   "source": [
    "## Weather Data "
   ]
  },
  {
   "cell_type": "code",
   "execution_count": 18,
   "id": "b99144b4",
   "metadata": {},
   "outputs": [
    {
     "data": {
      "text/html": [
       "<div>\n",
       "<style scoped>\n",
       "    .dataframe tbody tr th:only-of-type {\n",
       "        vertical-align: middle;\n",
       "    }\n",
       "\n",
       "    .dataframe tbody tr th {\n",
       "        vertical-align: top;\n",
       "    }\n",
       "\n",
       "    .dataframe thead th {\n",
       "        text-align: right;\n",
       "    }\n",
       "</style>\n",
       "<table border=\"1\" class=\"dataframe\">\n",
       "  <thead>\n",
       "    <tr style=\"text-align: right;\">\n",
       "      <th></th>\n",
       "      <th>date_time</th>\n",
       "      <th>max_temp</th>\n",
       "      <th>min_temp</th>\n",
       "      <th>precip</th>\n",
       "    </tr>\n",
       "  </thead>\n",
       "  <tbody>\n",
       "    <tr>\n",
       "      <th>0</th>\n",
       "      <td>2015-01-02 01:00:00</td>\n",
       "      <td>11.7</td>\n",
       "      <td>11.7</td>\n",
       "      <td>0.0</td>\n",
       "    </tr>\n",
       "    <tr>\n",
       "      <th>1</th>\n",
       "      <td>2015-01-02 02:00:00</td>\n",
       "      <td>11.1</td>\n",
       "      <td>11.1</td>\n",
       "      <td>0.0</td>\n",
       "    </tr>\n",
       "    <tr>\n",
       "      <th>2</th>\n",
       "      <td>2015-01-02 03:00:00</td>\n",
       "      <td>11.1</td>\n",
       "      <td>11.1</td>\n",
       "      <td>0.0</td>\n",
       "    </tr>\n",
       "  </tbody>\n",
       "</table>\n",
       "</div>"
      ],
      "text/plain": [
       "            date_time  max_temp  min_temp  precip\n",
       "0 2015-01-02 01:00:00      11.7      11.7     0.0\n",
       "1 2015-01-02 02:00:00      11.1      11.1     0.0\n",
       "2 2015-01-02 03:00:00      11.1      11.1     0.0"
      ]
     },
     "execution_count": 18,
     "metadata": {},
     "output_type": "execute_result"
    }
   ],
   "source": [
    "df_weather = pd.read_csv(\"weather_hourly_la.csv\" ,parse_dates=[\"date_time\"])\n",
    "df_weather.head(3)"
   ]
  },
  {
   "cell_type": "code",
   "execution_count": 19,
   "id": "a5fe3be4",
   "metadata": {},
   "outputs": [
    {
     "name": "stdout",
     "output_type": "stream",
     "text": [
      "<class 'pandas.core.frame.DataFrame'>\n",
      "RangeIndex: 43848 entries, 0 to 43847\n",
      "Data columns (total 4 columns):\n",
      " #   Column     Non-Null Count  Dtype         \n",
      "---  ------     --------------  -----         \n",
      " 0   date_time  43756 non-null  datetime64[ns]\n",
      " 1   max_temp   43756 non-null  float64       \n",
      " 2   min_temp   43756 non-null  float64       \n",
      " 3   precip     43758 non-null  float64       \n",
      "dtypes: datetime64[ns](1), float64(3)\n",
      "memory usage: 1.3 MB\n"
     ]
    }
   ],
   "source": [
    "df_weather.info()"
   ]
  },
  {
   "cell_type": "code",
   "execution_count": 20,
   "id": "d89d372b",
   "metadata": {},
   "outputs": [
    {
     "data": {
      "text/html": [
       "<div>\n",
       "<style scoped>\n",
       "    .dataframe tbody tr th:only-of-type {\n",
       "        vertical-align: middle;\n",
       "    }\n",
       "\n",
       "    .dataframe tbody tr th {\n",
       "        vertical-align: top;\n",
       "    }\n",
       "\n",
       "    .dataframe thead th {\n",
       "        text-align: right;\n",
       "    }\n",
       "</style>\n",
       "<table border=\"1\" class=\"dataframe\">\n",
       "  <thead>\n",
       "    <tr style=\"text-align: right;\">\n",
       "      <th></th>\n",
       "      <th>date_time</th>\n",
       "      <th>max_temp</th>\n",
       "      <th>min_temp</th>\n",
       "      <th>precip</th>\n",
       "    </tr>\n",
       "  </thead>\n",
       "  <tbody>\n",
       "    <tr>\n",
       "      <th>35040</th>\n",
       "      <td>2019-01-01 01:00:00</td>\n",
       "      <td>15.6</td>\n",
       "      <td>15.6</td>\n",
       "      <td>0.0</td>\n",
       "    </tr>\n",
       "    <tr>\n",
       "      <th>35041</th>\n",
       "      <td>2019-01-01 02:00:00</td>\n",
       "      <td>15.0</td>\n",
       "      <td>15.0</td>\n",
       "      <td>0.0</td>\n",
       "    </tr>\n",
       "    <tr>\n",
       "      <th>35042</th>\n",
       "      <td>2019-01-01 03:00:00</td>\n",
       "      <td>15.0</td>\n",
       "      <td>15.0</td>\n",
       "      <td>0.0</td>\n",
       "    </tr>\n",
       "  </tbody>\n",
       "</table>\n",
       "</div>"
      ],
      "text/plain": [
       "                date_time  max_temp  min_temp  precip\n",
       "35040 2019-01-01 01:00:00      15.6      15.6     0.0\n",
       "35041 2019-01-01 02:00:00      15.0      15.0     0.0\n",
       "35042 2019-01-01 03:00:00      15.0      15.0     0.0"
      ]
     },
     "execution_count": 20,
     "metadata": {},
     "output_type": "execute_result"
    }
   ],
   "source": [
    "# keep only data from 2019\n",
    "df_weather = df_weather[df_weather[\"date_time\"].apply(lambda x: x.year == 2019)]\n",
    "df_weather = df_weather.dropna()\n",
    "df_weather.head(3)"
   ]
  },
  {
   "cell_type": "code",
   "execution_count": 21,
   "id": "db3b7db2",
   "metadata": {},
   "outputs": [
    {
     "data": {
      "text/plain": [
       "8732"
      ]
     },
     "execution_count": 21,
     "metadata": {},
     "output_type": "execute_result"
    }
   ],
   "source": [
    "df_weather[\"date_time\"].size"
   ]
  },
  {
   "cell_type": "code",
   "execution_count": 22,
   "id": "9a956bed",
   "metadata": {},
   "outputs": [],
   "source": [
    "df_weather.isnull().any()\n",
    "df_weather.dropna(axis=0, inplace=True)"
   ]
  },
  {
   "cell_type": "code",
   "execution_count": 23,
   "id": "f74d3487",
   "metadata": {},
   "outputs": [
    {
     "data": {
      "text/plain": [
       "8732"
      ]
     },
     "execution_count": 23,
     "metadata": {},
     "output_type": "execute_result"
    }
   ],
   "source": [
    "df_weather[\"date_time\"].size"
   ]
  },
  {
   "cell_type": "code",
   "execution_count": 24,
   "id": "95e60626",
   "metadata": {},
   "outputs": [
    {
     "data": {
      "text/html": [
       "<div>\n",
       "<style scoped>\n",
       "    .dataframe tbody tr th:only-of-type {\n",
       "        vertical-align: middle;\n",
       "    }\n",
       "\n",
       "    .dataframe tbody tr th {\n",
       "        vertical-align: top;\n",
       "    }\n",
       "\n",
       "    .dataframe thead th {\n",
       "        text-align: right;\n",
       "    }\n",
       "</style>\n",
       "<table border=\"1\" class=\"dataframe\">\n",
       "  <thead>\n",
       "    <tr style=\"text-align: right;\">\n",
       "      <th></th>\n",
       "      <th>date_time</th>\n",
       "      <th>max_temp</th>\n",
       "      <th>min_temp</th>\n",
       "      <th>precip</th>\n",
       "    </tr>\n",
       "  </thead>\n",
       "  <tbody>\n",
       "    <tr>\n",
       "      <th>35040</th>\n",
       "      <td>2019-01-01 01:00:00</td>\n",
       "      <td>15.6</td>\n",
       "      <td>15.6</td>\n",
       "      <td>0.0</td>\n",
       "    </tr>\n",
       "    <tr>\n",
       "      <th>35041</th>\n",
       "      <td>2019-01-01 02:00:00</td>\n",
       "      <td>15.0</td>\n",
       "      <td>15.0</td>\n",
       "      <td>0.0</td>\n",
       "    </tr>\n",
       "    <tr>\n",
       "      <th>35042</th>\n",
       "      <td>2019-01-01 03:00:00</td>\n",
       "      <td>15.0</td>\n",
       "      <td>15.0</td>\n",
       "      <td>0.0</td>\n",
       "    </tr>\n",
       "    <tr>\n",
       "      <th>35043</th>\n",
       "      <td>2019-01-01 04:00:00</td>\n",
       "      <td>13.9</td>\n",
       "      <td>13.9</td>\n",
       "      <td>0.0</td>\n",
       "    </tr>\n",
       "    <tr>\n",
       "      <th>35044</th>\n",
       "      <td>2019-01-01 05:00:00</td>\n",
       "      <td>12.2</td>\n",
       "      <td>12.2</td>\n",
       "      <td>0.0</td>\n",
       "    </tr>\n",
       "    <tr>\n",
       "      <th>...</th>\n",
       "      <td>...</td>\n",
       "      <td>...</td>\n",
       "      <td>...</td>\n",
       "      <td>...</td>\n",
       "    </tr>\n",
       "    <tr>\n",
       "      <th>43818</th>\n",
       "      <td>2019-12-31 19:00:00</td>\n",
       "      <td>20.0</td>\n",
       "      <td>20.0</td>\n",
       "      <td>0.0</td>\n",
       "    </tr>\n",
       "    <tr>\n",
       "      <th>43819</th>\n",
       "      <td>2019-12-31 20:00:00</td>\n",
       "      <td>20.6</td>\n",
       "      <td>20.6</td>\n",
       "      <td>0.0</td>\n",
       "    </tr>\n",
       "    <tr>\n",
       "      <th>43820</th>\n",
       "      <td>2019-12-31 21:00:00</td>\n",
       "      <td>21.1</td>\n",
       "      <td>21.1</td>\n",
       "      <td>0.0</td>\n",
       "    </tr>\n",
       "    <tr>\n",
       "      <th>43821</th>\n",
       "      <td>2019-12-31 22:00:00</td>\n",
       "      <td>21.7</td>\n",
       "      <td>21.7</td>\n",
       "      <td>0.0</td>\n",
       "    </tr>\n",
       "    <tr>\n",
       "      <th>43822</th>\n",
       "      <td>2019-12-31 23:00:00</td>\n",
       "      <td>22.8</td>\n",
       "      <td>22.8</td>\n",
       "      <td>0.0</td>\n",
       "    </tr>\n",
       "  </tbody>\n",
       "</table>\n",
       "<p>8639 rows × 4 columns</p>\n",
       "</div>"
      ],
      "text/plain": [
       "                date_time  max_temp  min_temp  precip\n",
       "35040 2019-01-01 01:00:00      15.6      15.6     0.0\n",
       "35041 2019-01-01 02:00:00      15.0      15.0     0.0\n",
       "35042 2019-01-01 03:00:00      15.0      15.0     0.0\n",
       "35043 2019-01-01 04:00:00      13.9      13.9     0.0\n",
       "35044 2019-01-01 05:00:00      12.2      12.2     0.0\n",
       "...                   ...       ...       ...     ...\n",
       "43818 2019-12-31 19:00:00      20.0      20.0     0.0\n",
       "43819 2019-12-31 20:00:00      20.6      20.6     0.0\n",
       "43820 2019-12-31 21:00:00      21.1      21.1     0.0\n",
       "43821 2019-12-31 22:00:00      21.7      21.7     0.0\n",
       "43822 2019-12-31 23:00:00      22.8      22.8     0.0\n",
       "\n",
       "[8639 rows x 4 columns]"
      ]
     },
     "execution_count": 24,
     "metadata": {},
     "output_type": "execute_result"
    }
   ],
   "source": [
    "df_weather.drop_duplicates()"
   ]
  },
  {
   "cell_type": "code",
   "execution_count": 25,
   "id": "d8a37bc3",
   "metadata": {},
   "outputs": [
    {
     "data": {
      "text/plain": [
       "8732"
      ]
     },
     "execution_count": 25,
     "metadata": {},
     "output_type": "execute_result"
    }
   ],
   "source": [
    "df_weather[\"date_time\"].size"
   ]
  },
  {
   "cell_type": "code",
   "execution_count": 26,
   "id": "fd171e7d",
   "metadata": {},
   "outputs": [],
   "source": [
    "df_weather = df_weather.drop([\"min_temp\"], axis=1)"
   ]
  },
  {
   "cell_type": "code",
   "execution_count": 27,
   "id": "d02cb11b",
   "metadata": {},
   "outputs": [
    {
     "data": {
      "text/plain": [
       "0.0    8476\n",
       "1.0     256\n",
       "Name: precip, dtype: int64"
      ]
     },
     "execution_count": 27,
     "metadata": {},
     "output_type": "execute_result"
    }
   ],
   "source": [
    "df_weather[\"precip\"].value_counts()"
   ]
  },
  {
   "cell_type": "code",
   "execution_count": 28,
   "id": "329534a8",
   "metadata": {},
   "outputs": [
    {
     "data": {
      "text/html": [
       "<div>\n",
       "<style scoped>\n",
       "    .dataframe tbody tr th:only-of-type {\n",
       "        vertical-align: middle;\n",
       "    }\n",
       "\n",
       "    .dataframe tbody tr th {\n",
       "        vertical-align: top;\n",
       "    }\n",
       "\n",
       "    .dataframe thead th {\n",
       "        text-align: right;\n",
       "    }\n",
       "</style>\n",
       "<table border=\"1\" class=\"dataframe\">\n",
       "  <thead>\n",
       "    <tr style=\"text-align: right;\">\n",
       "      <th></th>\n",
       "      <th>date_time</th>\n",
       "      <th>max_temp</th>\n",
       "      <th>precip</th>\n",
       "      <th>date</th>\n",
       "      <th>month</th>\n",
       "      <th>day</th>\n",
       "      <th>hour</th>\n",
       "    </tr>\n",
       "  </thead>\n",
       "  <tbody>\n",
       "    <tr>\n",
       "      <th>35040</th>\n",
       "      <td>2019-01-01 01:00:00</td>\n",
       "      <td>15.6</td>\n",
       "      <td>0.0</td>\n",
       "      <td>2019-01-01</td>\n",
       "      <td>1</td>\n",
       "      <td>1</td>\n",
       "      <td>1</td>\n",
       "    </tr>\n",
       "  </tbody>\n",
       "</table>\n",
       "</div>"
      ],
      "text/plain": [
       "                date_time  max_temp  precip        date  month  day  hour\n",
       "35040 2019-01-01 01:00:00      15.6     0.0  2019-01-01      1    1     1"
      ]
     },
     "execution_count": 28,
     "metadata": {},
     "output_type": "execute_result"
    }
   ],
   "source": [
    "# add date, month, day, hour\n",
    "df_weather[\"date\"] = df_weather[\"date_time\"].apply(lambda x:x.date())\n",
    "df_weather[\"month\"] = df_weather[\"date_time\"].apply(lambda x:x.month)\n",
    "df_weather[\"day\"] = df_weather[\"date_time\"].apply(lambda x:x.day)\n",
    "df_weather[\"hour\"] = df_weather[\"date_time\"].apply(lambda x:x.hour)\n",
    "df_weather.sort_values(by=\"date_time\")\n",
    "df_weather.head(1)"
   ]
  },
  {
   "cell_type": "code",
   "execution_count": 29,
   "id": "41f1da7b",
   "metadata": {},
   "outputs": [],
   "source": [
    "# saving data set\n",
    "df_weather.to_csv(\"prepared_data_weather.csv\")"
   ]
  },
  {
   "cell_type": "code",
   "execution_count": 30,
   "id": "4de44830",
   "metadata": {},
   "outputs": [
    {
     "data": {
      "text/html": [
       "<div>\n",
       "<style scoped>\n",
       "    .dataframe tbody tr th:only-of-type {\n",
       "        vertical-align: middle;\n",
       "    }\n",
       "\n",
       "    .dataframe tbody tr th {\n",
       "        vertical-align: top;\n",
       "    }\n",
       "\n",
       "    .dataframe thead th {\n",
       "        text-align: right;\n",
       "    }\n",
       "</style>\n",
       "<table border=\"1\" class=\"dataframe\">\n",
       "  <thead>\n",
       "    <tr style=\"text-align: right;\">\n",
       "      <th></th>\n",
       "      <th>start_time</th>\n",
       "      <th>end_time</th>\n",
       "      <th>bike_id</th>\n",
       "      <th>user_type</th>\n",
       "      <th>start_station_name</th>\n",
       "      <th>end_station_name</th>\n",
       "      <th>duration</th>\n",
       "      <th>date</th>\n",
       "      <th>month</th>\n",
       "      <th>weekday</th>\n",
       "      <th>day</th>\n",
       "      <th>hour</th>\n",
       "      <th>max_temp</th>\n",
       "      <th>precip</th>\n",
       "    </tr>\n",
       "  </thead>\n",
       "  <tbody>\n",
       "    <tr>\n",
       "      <th>0</th>\n",
       "      <td>2019-01-01 00:07:00</td>\n",
       "      <td>2019-01-01 00:14:00</td>\n",
       "      <td>06468</td>\n",
       "      <td>Walk-up</td>\n",
       "      <td>2nd &amp; Hill</td>\n",
       "      <td>7th &amp; Broadway</td>\n",
       "      <td>7.0</td>\n",
       "      <td>2019-01-01</td>\n",
       "      <td>1</td>\n",
       "      <td>1</td>\n",
       "      <td>1</td>\n",
       "      <td>0</td>\n",
       "      <td>15.6</td>\n",
       "      <td>0.0</td>\n",
       "    </tr>\n",
       "  </tbody>\n",
       "</table>\n",
       "</div>"
      ],
      "text/plain": [
       "           start_time            end_time bike_id user_type  \\\n",
       "0 2019-01-01 00:07:00 2019-01-01 00:14:00   06468   Walk-up   \n",
       "\n",
       "  start_station_name end_station_name  duration        date  month  weekday  \\\n",
       "0         2nd & Hill   7th & Broadway       7.0  2019-01-01      1        1   \n",
       "\n",
       "   day  hour  max_temp  precip  \n",
       "0    1     0      15.6     0.0  "
      ]
     },
     "execution_count": 30,
     "metadata": {},
     "output_type": "execute_result"
    }
   ],
   "source": [
    "# merge weather and bikesharing data\n",
    "merged_data = df_la.merge(df_weather[[\"max_temp\",\"precip\",\"date\",\"month\",\"day\",\"hour\"]],left_on=[\"date\",\"month\",\"day\",\"hour\"],right_on=[\"date\",\"month\",\"day\",\"hour\"])\n",
    "merged_data.head(1)"
   ]
  },
  {
   "cell_type": "code",
   "execution_count": 31,
   "id": "b3c072aa",
   "metadata": {},
   "outputs": [],
   "source": [
    "# saving data set\n",
    "merged_data.to_csv(\"merged_data.csv\")"
   ]
  },
  {
   "cell_type": "markdown",
   "id": "386414f4",
   "metadata": {},
   "source": [
    "## Dataset for modelling"
   ]
  },
  {
   "cell_type": "markdown",
   "id": "836e134e",
   "metadata": {},
   "source": [
    "Possible features:\n",
    "1. Month/Season\n",
    "2. Day\n",
    "3. Hour\n",
    "4. Duration\n",
    "5. Temperature\n",
    "6. Precipitation\n",
    "7. Weekday/Weekend"
   ]
  },
  {
   "cell_type": "code",
   "execution_count": 32,
   "id": "eed10d6a",
   "metadata": {},
   "outputs": [
    {
     "data": {
      "text/html": [
       "<div>\n",
       "<style scoped>\n",
       "    .dataframe tbody tr th:only-of-type {\n",
       "        vertical-align: middle;\n",
       "    }\n",
       "\n",
       "    .dataframe tbody tr th {\n",
       "        vertical-align: top;\n",
       "    }\n",
       "\n",
       "    .dataframe thead th {\n",
       "        text-align: right;\n",
       "    }\n",
       "</style>\n",
       "<table border=\"1\" class=\"dataframe\">\n",
       "  <thead>\n",
       "    <tr style=\"text-align: right;\">\n",
       "      <th></th>\n",
       "      <th>start_time</th>\n",
       "      <th>month</th>\n",
       "      <th>day</th>\n",
       "      <th>hour</th>\n",
       "      <th>duration</th>\n",
       "      <th>max_temp</th>\n",
       "      <th>precip</th>\n",
       "      <th>bike_id</th>\n",
       "    </tr>\n",
       "  </thead>\n",
       "  <tbody>\n",
       "    <tr>\n",
       "      <th>0</th>\n",
       "      <td>2019-01-01 00:07:00</td>\n",
       "      <td>1</td>\n",
       "      <td>1</td>\n",
       "      <td>0</td>\n",
       "      <td>7.0</td>\n",
       "      <td>15.6</td>\n",
       "      <td>0.0</td>\n",
       "      <td>06468</td>\n",
       "    </tr>\n",
       "  </tbody>\n",
       "</table>\n",
       "</div>"
      ],
      "text/plain": [
       "           start_time  month  day  hour  duration  max_temp  precip bike_id\n",
       "0 2019-01-01 00:07:00      1    1     0       7.0      15.6     0.0   06468"
      ]
     },
     "execution_count": 32,
     "metadata": {},
     "output_type": "execute_result"
    }
   ],
   "source": [
    "# pick feature relevant columns\n",
    "feature_data = merged_data[[\"start_time\",\"month\",\"day\",\"hour\",\"duration\",\"max_temp\",\"precip\",\"bike_id\"]]\n",
    "feature_data.sort_values(by=\"start_time\").head(1)"
   ]
  },
  {
   "cell_type": "code",
   "execution_count": 33,
   "id": "995b30c5",
   "metadata": {},
   "outputs": [
    {
     "data": {
      "text/html": [
       "<div>\n",
       "<style scoped>\n",
       "    .dataframe tbody tr th:only-of-type {\n",
       "        vertical-align: middle;\n",
       "    }\n",
       "\n",
       "    .dataframe tbody tr th {\n",
       "        vertical-align: top;\n",
       "    }\n",
       "\n",
       "    .dataframe thead th {\n",
       "        text-align: right;\n",
       "    }\n",
       "</style>\n",
       "<table border=\"1\" class=\"dataframe\">\n",
       "  <thead>\n",
       "    <tr style=\"text-align: right;\">\n",
       "      <th></th>\n",
       "      <th>month</th>\n",
       "      <th>day</th>\n",
       "      <th>hour</th>\n",
       "      <th>mean_duration</th>\n",
       "      <th>max_temp</th>\n",
       "      <th>precip</th>\n",
       "      <th>trips</th>\n",
       "    </tr>\n",
       "    <tr>\n",
       "      <th>start_time</th>\n",
       "      <th></th>\n",
       "      <th></th>\n",
       "      <th></th>\n",
       "      <th></th>\n",
       "      <th></th>\n",
       "      <th></th>\n",
       "      <th></th>\n",
       "    </tr>\n",
       "  </thead>\n",
       "  <tbody>\n",
       "    <tr>\n",
       "      <th>2019-01-01 00:00:00</th>\n",
       "      <td>1.0</td>\n",
       "      <td>1.0</td>\n",
       "      <td>0.0</td>\n",
       "      <td>15.736842</td>\n",
       "      <td>15.6</td>\n",
       "      <td>0.0</td>\n",
       "      <td>19</td>\n",
       "    </tr>\n",
       "    <tr>\n",
       "      <th>2019-01-01 01:00:00</th>\n",
       "      <td>1.0</td>\n",
       "      <td>1.0</td>\n",
       "      <td>1.0</td>\n",
       "      <td>34.625000</td>\n",
       "      <td>15.6</td>\n",
       "      <td>0.0</td>\n",
       "      <td>8</td>\n",
       "    </tr>\n",
       "    <tr>\n",
       "      <th>2019-01-01 02:00:00</th>\n",
       "      <td>1.0</td>\n",
       "      <td>1.0</td>\n",
       "      <td>2.0</td>\n",
       "      <td>45.812500</td>\n",
       "      <td>15.0</td>\n",
       "      <td>0.0</td>\n",
       "      <td>16</td>\n",
       "    </tr>\n",
       "    <tr>\n",
       "      <th>2019-01-01 03:00:00</th>\n",
       "      <td>1.0</td>\n",
       "      <td>1.0</td>\n",
       "      <td>3.0</td>\n",
       "      <td>30.000000</td>\n",
       "      <td>15.0</td>\n",
       "      <td>0.0</td>\n",
       "      <td>2</td>\n",
       "    </tr>\n",
       "    <tr>\n",
       "      <th>2019-01-01 04:00:00</th>\n",
       "      <td>1.0</td>\n",
       "      <td>1.0</td>\n",
       "      <td>4.0</td>\n",
       "      <td>30.000000</td>\n",
       "      <td>15.0</td>\n",
       "      <td>0.0</td>\n",
       "      <td>0</td>\n",
       "    </tr>\n",
       "  </tbody>\n",
       "</table>\n",
       "</div>"
      ],
      "text/plain": [
       "                     month  day  hour  mean_duration  max_temp  precip  trips\n",
       "start_time                                                                   \n",
       "2019-01-01 00:00:00    1.0  1.0   0.0      15.736842      15.6     0.0     19\n",
       "2019-01-01 01:00:00    1.0  1.0   1.0      34.625000      15.6     0.0      8\n",
       "2019-01-01 02:00:00    1.0  1.0   2.0      45.812500      15.0     0.0     16\n",
       "2019-01-01 03:00:00    1.0  1.0   3.0      30.000000      15.0     0.0      2\n",
       "2019-01-01 04:00:00    1.0  1.0   4.0      30.000000      15.0     0.0      0"
      ]
     },
     "execution_count": 33,
     "metadata": {},
     "output_type": "execute_result"
    }
   ],
   "source": [
    "# aggregate the samples into hourly chunks\n",
    "feature_data = feature_data.groupby(pd.Grouper(key='start_time',freq='1H')).agg({\"month\":\"mean\",\"day\":\"mean\",\"hour\":\"mean\",\"duration\":\"mean\",\"max_temp\":\"mean\",\"precip\":\"mean\",\"bike_id\":\"count\"})\n",
    "feature_data.rename(columns={\"duration\":\"mean_duration\",\"bike_id\":\"trips\"}, inplace=True)\n",
    "# deal with null values\n",
    "feature_data.loc[feature_data[\"month\"].isna(),\"month\"] = feature_data.index.to_series().apply(lambda x: x.month)\n",
    "feature_data.loc[feature_data[\"day\"].isna(),\"day\"] = feature_data.index.to_series().apply(lambda x: x.day)\n",
    "feature_data.loc[feature_data[\"hour\"].isna(),\"hour\"] = feature_data.index.to_series().apply(lambda x: x.hour)\n",
    "feature_data = feature_data.fillna(method=\"ffill\")\n",
    "feature_data.head()"
   ]
  },
  {
   "cell_type": "code",
   "execution_count": 34,
   "id": "34d0d0a6",
   "metadata": {},
   "outputs": [
    {
     "data": {
      "text/html": [
       "<div>\n",
       "<style scoped>\n",
       "    .dataframe tbody tr th:only-of-type {\n",
       "        vertical-align: middle;\n",
       "    }\n",
       "\n",
       "    .dataframe tbody tr th {\n",
       "        vertical-align: top;\n",
       "    }\n",
       "\n",
       "    .dataframe thead th {\n",
       "        text-align: right;\n",
       "    }\n",
       "</style>\n",
       "<table border=\"1\" class=\"dataframe\">\n",
       "  <thead>\n",
       "    <tr style=\"text-align: right;\">\n",
       "      <th></th>\n",
       "      <th>month</th>\n",
       "      <th>day</th>\n",
       "      <th>hour</th>\n",
       "      <th>mean_duration</th>\n",
       "      <th>max_temp</th>\n",
       "      <th>precip</th>\n",
       "      <th>trips</th>\n",
       "      <th>isWeekday</th>\n",
       "    </tr>\n",
       "    <tr>\n",
       "      <th>start_time</th>\n",
       "      <th></th>\n",
       "      <th></th>\n",
       "      <th></th>\n",
       "      <th></th>\n",
       "      <th></th>\n",
       "      <th></th>\n",
       "      <th></th>\n",
       "      <th></th>\n",
       "    </tr>\n",
       "  </thead>\n",
       "  <tbody>\n",
       "    <tr>\n",
       "      <th>2019-01-01 00:00:00</th>\n",
       "      <td>1.0</td>\n",
       "      <td>1.0</td>\n",
       "      <td>0.0</td>\n",
       "      <td>15.736842</td>\n",
       "      <td>15.6</td>\n",
       "      <td>0.0</td>\n",
       "      <td>19</td>\n",
       "      <td>0</td>\n",
       "    </tr>\n",
       "    <tr>\n",
       "      <th>2019-01-01 01:00:00</th>\n",
       "      <td>1.0</td>\n",
       "      <td>1.0</td>\n",
       "      <td>1.0</td>\n",
       "      <td>34.625000</td>\n",
       "      <td>15.6</td>\n",
       "      <td>0.0</td>\n",
       "      <td>8</td>\n",
       "      <td>0</td>\n",
       "    </tr>\n",
       "    <tr>\n",
       "      <th>2019-01-01 02:00:00</th>\n",
       "      <td>1.0</td>\n",
       "      <td>1.0</td>\n",
       "      <td>2.0</td>\n",
       "      <td>45.812500</td>\n",
       "      <td>15.0</td>\n",
       "      <td>0.0</td>\n",
       "      <td>16</td>\n",
       "      <td>0</td>\n",
       "    </tr>\n",
       "    <tr>\n",
       "      <th>2019-01-01 03:00:00</th>\n",
       "      <td>1.0</td>\n",
       "      <td>1.0</td>\n",
       "      <td>3.0</td>\n",
       "      <td>30.000000</td>\n",
       "      <td>15.0</td>\n",
       "      <td>0.0</td>\n",
       "      <td>2</td>\n",
       "      <td>0</td>\n",
       "    </tr>\n",
       "    <tr>\n",
       "      <th>2019-01-01 04:00:00</th>\n",
       "      <td>1.0</td>\n",
       "      <td>1.0</td>\n",
       "      <td>4.0</td>\n",
       "      <td>30.000000</td>\n",
       "      <td>15.0</td>\n",
       "      <td>0.0</td>\n",
       "      <td>0</td>\n",
       "      <td>0</td>\n",
       "    </tr>\n",
       "  </tbody>\n",
       "</table>\n",
       "</div>"
      ],
      "text/plain": [
       "                     month  day  hour  mean_duration  max_temp  precip  trips  \\\n",
       "start_time                                                                      \n",
       "2019-01-01 00:00:00    1.0  1.0   0.0      15.736842      15.6     0.0     19   \n",
       "2019-01-01 01:00:00    1.0  1.0   1.0      34.625000      15.6     0.0      8   \n",
       "2019-01-01 02:00:00    1.0  1.0   2.0      45.812500      15.0     0.0     16   \n",
       "2019-01-01 03:00:00    1.0  1.0   3.0      30.000000      15.0     0.0      2   \n",
       "2019-01-01 04:00:00    1.0  1.0   4.0      30.000000      15.0     0.0      0   \n",
       "\n",
       "                     isWeekday  \n",
       "start_time                      \n",
       "2019-01-01 00:00:00          0  \n",
       "2019-01-01 01:00:00          0  \n",
       "2019-01-01 02:00:00          0  \n",
       "2019-01-01 03:00:00          0  \n",
       "2019-01-01 04:00:00          0  "
      ]
     },
     "execution_count": 34,
     "metadata": {},
     "output_type": "execute_result"
    }
   ],
   "source": [
    "# add weekday feature\n",
    "feature_data[\"isWeekday\"] = feature_data.index.to_series().apply(lambda x: 1 if x.dayofweek in [5,6] else 0)\n",
    "feature_data.head()"
   ]
  },
  {
   "cell_type": "code",
   "execution_count": 35,
   "id": "a161a255",
   "metadata": {},
   "outputs": [],
   "source": [
    "#convert to csv\n",
    "feature_data.to_csv('prediction_data.csv')"
   ]
  }
 ],
 "metadata": {
  "kernelspec": {
   "display_name": "Python 3",
   "language": "python",
   "name": "python3"
  },
  "language_info": {
   "codemirror_mode": {
    "name": "ipython",
    "version": 3
   },
   "file_extension": ".py",
   "mimetype": "text/x-python",
   "name": "python",
   "nbconvert_exporter": "python",
   "pygments_lexer": "ipython3",
   "version": "3.8.8"
  }
 },
 "nbformat": 4,
 "nbformat_minor": 5
}

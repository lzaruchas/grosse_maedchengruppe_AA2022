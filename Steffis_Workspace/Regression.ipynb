{
 "cells": [
  {
   "cell_type": "code",
   "execution_count": 1,
   "id": "d96785f4",
   "metadata": {},
   "outputs": [],
   "source": [
    "from sklearn.linear_model import Lasso, ElasticNet, Ridge, SGDRegressor\n",
    "from sklearn.svm import SVR, NuSVR\n",
    "from sklearn.ensemble import BaggingRegressor, RandomForestRegressor\n",
    "from sklearn.neighbors import KNeighborsClassifier\n",
    "from sklearn.cluster import KMeans\n",
    "from sklearn.linear_model import LinearRegression\n",
    "from sklearn.metrics import mean_squared_error\n",
    "from sklearn.metrics import mean_absolute_error\n",
    "from sklearn.metrics import r2_score\n",
    "from sklearn.tree import DecisionTreeRegressor\n",
    "import pandas as pd\n",
    "import matplotlib.pyplot as plt\n",
    "from prettytable import PrettyTable\n",
    "from sklearn.ensemble import RandomForestClassifier\n",
    "from sklearn.ensemble import GradientBoostingClassifier"
   ]
  },
  {
   "cell_type": "code",
   "execution_count": 2,
   "id": "2162edc6",
   "metadata": {},
   "outputs": [],
   "source": [
    "table = PrettyTable()\n",
    "table.field_names = [\"Model\", \"Mean Squared Error\", \"R² score\",\"Mean Absolute Error\"]\n",
    "models = [LinearRegression(),\n",
    "DecisionTreeRegressor(random_state = 0),\n",
    "RandomForestRegressor( random_state=0, n_estimators=300),\n",
    "SGDRegressor(max_iter=1000, tol=1e-3),\n",
    "Lasso(alpha=0.1),\n",
    "ElasticNet(random_state=0),\n",
    "Ridge(alpha=.5),\n",
    "BaggingRegressor(),\n",
    "BaggingRegressor(KNeighborsClassifier(), max_samples=0.5, max_features=0.5),\n",
    "]"
   ]
  },
  {
   "cell_type": "code",
   "execution_count": 23,
   "id": "6bf0fb56",
   "metadata": {},
   "outputs": [],
   "source": [
    "# load prediction dataset\n",
    "feature_data = pd.read_csv(\"prediction_data.csv\",parse_dates=[\"start_time\"], low_memory=False)"
   ]
  },
  {
   "cell_type": "code",
   "execution_count": 27,
   "id": "19801a18",
   "metadata": {},
   "outputs": [],
   "source": [
    "#Splitting the dataset\n",
    "from sklearn.model_selection import train_test_split\n",
    "x = feature_data.drop([\"trips\",\"start_time\",\"precip\",\"day\",\"month\",\"mean_duration\",\"isWeekday\"],axis=1)\n",
    "y = feature_data[\"trips\"]\n",
    "# Normalizing the data\n",
    "from sklearn import preprocessing\n",
    "# x = preprocessing.normalize(x)\n",
    "x_train, x_test, y_train, y_test = train_test_split(x, y, test_size = 0.3, random_state = 0)"
   ]
  },
  {
   "cell_type": "code",
   "execution_count": 28,
   "id": "321ab444",
   "metadata": {},
   "outputs": [
    {
     "name": "stdout",
     "output_type": "stream",
     "text": [
      "<class 'pandas.core.frame.DataFrame'>\n",
      "Int64Index: 6132 entries, 5316 to 2732\n",
      "Data columns (total 2 columns):\n",
      " #   Column    Non-Null Count  Dtype  \n",
      "---  ------    --------------  -----  \n",
      " 0   hour      6132 non-null   float64\n",
      " 1   max_temp  6132 non-null   float64\n",
      "dtypes: float64(2)\n",
      "memory usage: 143.7 KB\n"
     ]
    }
   ],
   "source": [
    "x_train.info()"
   ]
  },
  {
   "cell_type": "code",
   "execution_count": 29,
   "id": "da346c2d",
   "metadata": {},
   "outputs": [
    {
     "name": "stdout",
     "output_type": "stream",
     "text": [
      "+-----------------------+--------------------------+------------------------+---------------------+\n",
      "|         Model         |    Mean Squared Error    |        R² score        | Mean Absolute Error |\n",
      "+-----------------------+--------------------------+------------------------+---------------------+\n",
      "|    LinearRegression   |          751.91          |          0.17          |        20.65        |\n",
      "| DecisionTreeRegressor |          612.74          |          0.32          |        14.11        |\n",
      "| RandomForestRegressor |          379.70          |          0.58          |        10.59        |\n",
      "|      SGDRegressor     | 579013432517664374784.00 | -642009269362929792.00 |    11192682172.74   |\n",
      "|         Lasso         |          751.80          |          0.17          |        20.66        |\n",
      "|       ElasticNet      |          758.94          |          0.16          |        20.90        |\n",
      "|         Ridge         |          751.90          |          0.17          |        20.65        |\n",
      "|    BaggingRegressor   |          408.68          |          0.55          |        11.31        |\n",
      "|    BaggingRegressor   |          898.78          |          0.00          |        20.77        |\n",
      "|    LinearRegression   |          776.01          |          0.14          |        21.25        |\n",
      "| DecisionTreeRegressor |          506.78          |          0.44          |        12.90        |\n",
      "| RandomForestRegressor |          457.76          |          0.49          |        12.62        |\n",
      "|      SGDRegressor     |          844.15          |          0.06          |        20.98        |\n",
      "|         Lasso         |          775.99          |          0.14          |        21.25        |\n",
      "|       ElasticNet      |          775.86          |          0.14          |        21.28        |\n",
      "|         Ridge         |          776.01          |          0.14          |        21.25        |\n",
      "|    BaggingRegressor   |          466.77          |          0.48          |        12.74        |\n",
      "|    BaggingRegressor   |         1093.61          |         -0.21          |        22.62        |\n",
      "+-----------------------+--------------------------+------------------------+---------------------+\n"
     ]
    }
   ],
   "source": [
    "for model in models:\n",
    "    model.fit(x_train, y_train)\n",
    "    y_res = model.predict(x_test)\n",
    "    mse = mean_squared_error(y_test, y_res)\n",
    "    score = model.score(x_test, y_test)\n",
    "    mae = mean_absolute_error(y_test,y_res)\n",
    "    table.add_row([type(model).__name__, format(mse, '.2f'), format(score, '.2f'),format(mae, '.2f')])\n",
    "    \n",
    "print(table)"
   ]
  }
 ],
 "metadata": {
  "kernelspec": {
   "display_name": "Python 3 (ipykernel)",
   "language": "python",
   "name": "python3"
  },
  "language_info": {
   "codemirror_mode": {
    "name": "ipython",
    "version": 3
   },
   "file_extension": ".py",
   "mimetype": "text/x-python",
   "name": "python",
   "nbconvert_exporter": "python",
   "pygments_lexer": "ipython3",
   "version": "3.9.12"
  }
 },
 "nbformat": 4,
 "nbformat_minor": 5
}
